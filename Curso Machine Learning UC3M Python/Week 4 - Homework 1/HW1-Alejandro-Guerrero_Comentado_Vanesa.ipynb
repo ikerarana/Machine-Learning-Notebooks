{
 "cells": [
  {
   "cell_type": "markdown",
   "metadata": {
    "colab_type": "text",
    "id": "7-jkWR1LhNMh"
   },
   "source": [
    "# Week 4: Homework 1 \n",
    "\n",
    "----------------------------------------------------\n",
    "Machine Learning                      \n",
    "\n",
    "Year 2019/2020\n",
    "\n",
    "*Vanessa Gómez Verdejo vanessa@tsc.uc3m.es* \n",
    "\n",
    "----------------------------------------------------"
   ]
  },
  {
   "cell_type": "markdown",
   "metadata": {},
   "source": [
    "<span style=\"color:red\">\n",
    "NOTEBOOK GRADE: 9 <br>\n",
    "EXAM GRADE: 7.5  <br> \n",
    "OVERALL GRADE: 8.25\n",
    "</span>"
   ]
  },
  {
   "cell_type": "markdown",
   "metadata": {
    "colab_type": "text",
    "id": "xfXCi3qshchx"
   },
   "source": [
    "The goal of this practice is to analyze the performance of different estimators on the Diabetes problem and we will analyze, by means of different approximations, which input features are more relevant to solve this problem. \n",
    "\n",
    "Note that previous week we already worked on Diabetes database, but we only used one of the input variable (BMI) to construct the regression model; in this practice we will use all the input features jointly.\n",
    "\n",
    "To solve these notebook, complete the following sections implementing the solution that you consider most appropriate and showing the results that you find most interesting. For the evaluation of this notebook,  we will take into account the methodology used, the solution adopted, the presentation of the results and the conclusions obtained at the light of the results.\n"
   ]
  },
  {
   "cell_type": "markdown",
   "metadata": {
    "colab_type": "text",
    "id": "nCXU4m2YmB2y"
   },
   "source": [
    "## 1. Data loading and preprocessing\n",
    "\n",
    "Following the ML pipeline, start loading the data, creating the partitions that you consider necessary and carrying out the preprocessing that yu need.\n",
    "\n",
    "Keep in mind that there is no single valid solution, and different reasons can lead you to make different data partitions or apply different normalizations. So **please justify the steps you are taking**."
   ]
  },
  {
   "cell_type": "code",
   "execution_count": 0,
   "metadata": {
    "colab": {},
    "colab_type": "code",
    "id": "-7fqumVhhJAl"
   },
   "outputs": [],
   "source": [
    "import matplotlib.pyplot as plt\n",
    "import numpy as np\n",
    "from sklearn.datasets import load_diabetes\n",
    "from sklearn.model_selection import train_test_split\n",
    "from sklearn.preprocessing import StandardScaler\n",
    "\n",
    "%matplotlib inline\n",
    "\n",
    "## Cogemos en la X las features y en Y las salidas, nos guardamos los feature_names por si en algún momento\n",
    "## queremos plotear algo con los títulos de las columnas de X.\n",
    "diabetes = load_diabetes()\n",
    "X = diabetes.data\n",
    "Y = diabetes.target\n",
    "feature_names = diabetes.feature_names\n",
    "\n",
    "# Hacemos la partición, el test_size tiene que ser mayor que el train para que tengamos datos con los que\n",
    "# testear que con los que entrenar. Así, al tener más para testear será más difícil que se memorice los datos de entrenamiento\n",
    "# porque habrá más para testear.\n",
    "X_train, X_test, Y_train, Y_test = train_test_split(X, Y, test_size=0.4, random_state=0)\n",
    "\n",
    "\n",
    "# Data normalization: normalizamos tanto train como test para poder trabajar con ellos.\n",
    "transformer = StandardScaler().fit(X_train)  \n",
    "X_train_norm = transformer.transform(X_train) \n",
    "X_test_norm =  transformer.transform(X_test)\n",
    "\n"
   ]
  },
  {
   "cell_type": "markdown",
   "metadata": {
    "colab_type": "text",
    "id": "fe7_QAXDmatm"
   },
   "source": [
    "## 2. Performance evaluation \n",
    "\n",
    "Now, analyze the performance of different estimators to predict the diabetes progression from all the available features. \n",
    "\n",
    "As possible estimators to be included in this study, we will consider those studied so far: K-NN, linear regressor, polynomial regressor and their regularized versions. Please, in case these methods have any free hiperparameter, **clearly justify** the selection of their optimal values.\n",
    "\n",
    "As you know, for the performance evaluation, we have seen several metrics. So, here, you can use one or several of them. But, regardless of the used metric, don't forget to include a final analysis comparing the performance of different methods and trying to justify the obtained results."
   ]
  },
  {
   "cell_type": "markdown",
   "metadata": {
    "colab_type": "text",
    "id": "R1212w6mf4Wd"
   },
   "source": [
    "## 2.1 KNN\n"
   ]
  },
  {
   "cell_type": "code",
   "execution_count": 0,
   "metadata": {
    "colab": {
     "base_uri": "https://localhost:8080/",
     "height": 34
    },
    "colab_type": "code",
    "id": "EnOY0K4Fo62S",
    "outputId": "0b2054da-123d-436c-d7da-1955f73e3f58"
   },
   "outputs": [
    {
     "name": "stdout",
     "output_type": "stream",
     "text": [
      "R2 score of KNN: 0.41\n"
     ]
    }
   ],
   "source": [
    "from sklearn.model_selection import GridSearchCV\n",
    "from sklearn.neighbors import KNeighborsRegressor\n",
    "from sklearn.metrics import r2_score\n",
    "\n",
    "#Definimos el KNN\n",
    "knn2 = KNeighborsRegressor()\n",
    "#Para encontrar la K óptima, usamos la función GridSearchCV para que nos compare las posibles K y nos devuelva el mejro parámetro\n",
    "#Vamos de 1 a 40 para asegurarnos de tener una gran variabilidad.\n",
    "rang_K = np.arange(1,40,1)\n",
    "parameters = {\"n_neighbors\": rang_K}\n",
    "#definimos el GSCV con el mean_squared negativo porque nos da una visión (si quisieramos plotear) más entendible de encontrar el valor óptimo puesto que será el más alto\n",
    "#los K-folds realmente hacen referencia a las particiones que vamos a hacer del training y validation para hacer cross-validation.\n",
    "#su valor no puede ser igual al número\n",
    "clf = GridSearchCV(knn2, parameters, cv=10,scoring=\"neg_mean_squared_error\",iid=False)\n",
    "\n",
    "\n",
    "clf.fit(X_train, Y_train)\n",
    "clf.best_estimator_\n",
    "y_pred = clf.predict(X_test)\n",
    "MSE_test = np.mean((Y_test-y_pred)**2)\n",
    "\n",
    "r2_score_KNN = r2_score(Y_test, y_pred)\n",
    "\n",
    "print(\"R2 score of KNN: %.2f\" % r2_score_KNN)"
   ]
  },
  {
   "cell_type": "markdown",
   "metadata": {
    "colab_type": "text",
    "id": "oSEA2vpIdQCp"
   },
   "source": [
    " We define KNN. To find the OptK we use GridSearchCV to do a cross-validation with a 40 possibles values of K.\n",
    "\n",
    "Then, we use the best K to fit our training data and predic our score, giving us a 0.41 score."
   ]
  },
  {
   "cell_type": "markdown",
   "metadata": {
    "colab_type": "text",
    "id": "KsfaNjuep2A4"
   },
   "source": [
    "## 2.2 Linear Regression\n"
   ]
  },
  {
   "cell_type": "code",
   "execution_count": 0,
   "metadata": {
    "colab": {
     "base_uri": "https://localhost:8080/",
     "height": 34
    },
    "colab_type": "code",
    "id": "zuBy3hbQqCc8",
    "outputId": "92a6f31a-b15d-4080-dd6b-f37a188990b8"
   },
   "outputs": [
    {
     "name": "stdout",
     "output_type": "stream",
     "text": [
      "R2 score of LR without regularization: 0.39\n"
     ]
    }
   ],
   "source": [
    "from sklearn.linear_model import LinearRegression\n",
    "\n",
    "lr = LinearRegression().fit(X_train, Y_train)\n",
    "\n",
    "y_pred_LR = lr.predict(X_test)\n",
    "\n",
    "r2_score_LR = r2_score(Y_test, y_pred_LR)\n",
    "print('R2 score of LR without regularization: %.2f' % r2_score_LR)\n",
    "\n",
    "\n"
   ]
  },
  {
   "cell_type": "markdown",
   "metadata": {
    "colab_type": "text",
    "id": "N0R1O_Rid2gP"
   },
   "source": [
    "On the linear regression method there isn't any value to estimate or select as optimal. So we define a linear regression, fit the trainer and try to predict our final score. As we can see, is worse than the another method (0.39)."
   ]
  },
  {
   "cell_type": "markdown",
   "metadata": {
    "colab_type": "text",
    "id": "Syk4t3T4mTw4"
   },
   "source": [
    "### 2.2.2 Linear Regression with LASSO (L1)"
   ]
  },
  {
   "cell_type": "code",
   "execution_count": 6,
   "metadata": {
    "colab": {
     "base_uri": "https://localhost:8080/",
     "height": 255
    },
    "colab_type": "code",
    "id": "c-Q7B4AqmXFU",
    "outputId": "d7a3ce22-619e-4c3f-dc4f-72089a745ac7"
   },
   "outputs": [
    {
     "name": "stdout",
     "output_type": "stream",
     "text": [
      "Best alpha: \n",
      " 0.07106306306306306\n",
      "R2 score of Lasso: 0.40\n",
      "number of features used: 8\n",
      "number of features erased 2\n",
      "Features used:\n",
      "age\n",
      "sex\n",
      "bmi\n",
      "bp\n",
      "s1\n",
      "s3\n",
      "s5\n",
      "s6\n"
     ]
    }
   ],
   "source": [
    "from sklearn.linear_model import LassoCV\n",
    "\n",
    "alphas = np.linspace(0.001,10,1000)\n",
    "\n",
    "lasso = LassoCV(cv=5,alphas=alphas, random_state=0)\n",
    "\n",
    "# Train the model using the training sets\n",
    "lasso.fit(X_train, Y_train)\n",
    "\n",
    "# Make predictions using the testing set\n",
    "y_pred_Lasso = lasso.predict(X_test)\n",
    "\n",
    "# The coefficients\n",
    "print('Best alpha: \\n', lasso.alpha_)\n",
    "\n",
    "r2_score_lasso = r2_score(Y_test, y_pred_Lasso) \n",
    "# Explained variance score: 1 is perfect prediction\n",
    "print('R2 score of Lasso: %.2f' % r2_score_lasso)\n",
    "\n",
    "coeff_used = np.sum(lasso.coef_!=0)\n",
    "coeff_no = X_train.shape[1]-coeff_used\n",
    "print (\"number of features used:\", coeff_used)\n",
    "print (\"number of features erased\", coeff_no )\n",
    "\n",
    "print(\"Features used:\")\n",
    "for index,element in enumerate(lasso.coef_):\n",
    "  if element != 0:\n",
    "    print(feature_names[index])\n"
   ]
  },
  {
   "cell_type": "markdown",
   "metadata": {
    "colab_type": "text",
    "id": "wF0Q2-aEeC56"
   },
   "source": [
    "In this case, we improve the LR adding a regularization method. In this case we use L1 (LASSO) that can erase features not used. On this method we have to decide the value of alpha. In order to do this, we crossvalidate using 5 cv and an array of possible alphas. As it is shown, the Lasso regularization erase 2 features and only uses 8 of them (age, sex, bmi, bp, s1, s3, s5 and s6). Therefore, the CV method gives us the best alpha asociated with the best estimator."
   ]
  },
  {
   "cell_type": "markdown",
   "metadata": {
    "colab_type": "text",
    "id": "YUmOz_zpcaTp"
   },
   "source": [
    "### 2.2.3 Linear Regression Ridge (L2)"
   ]
  },
  {
   "cell_type": "code",
   "execution_count": 9,
   "metadata": {
    "colab": {
     "base_uri": "https://localhost:8080/",
     "height": 238
    },
    "colab_type": "code",
    "id": "XbUPLlj0cfTE",
    "outputId": "1494bd21-ea62-4a7e-98f6-db5009951e92"
   },
   "outputs": [
    {
     "name": "stdout",
     "output_type": "stream",
     "text": [
      "Best alpha: \n",
      " 0.04103603603603604\n",
      "R2 score of Ridge: 0.39\n",
      "Score: 552.6256556415602 name: s5\n",
      "Score: 537.7535013869982 name: bmi\n",
      "Score: 335.2246727323783 name: bp\n",
      "Score: -221.49209594163028 name: s3\n",
      "Score: -211.97264921910033 name: sex\n",
      "Score: -120.45496259967037 name: s1\n",
      "Score: -104.22225624532072 name: s2\n",
      "Score: 68.941035988502 name: s4\n",
      "Score: -60.728034253074384 name: age\n",
      "Score: 56.12123157030079 name: s6\n"
     ]
    }
   ],
   "source": [
    "from sklearn.linear_model import RidgeCV\n",
    "\n",
    "maybe_alphas = np.linspace(0.001,10,1000)\n",
    "\n",
    "ridge = RidgeCV(cv=5,alphas=maybe_alphas)\n",
    "\n",
    "ridge_model = ridge.fit(X_train, Y_train)\n",
    "\n",
    "y_pred_ridge = ridge.predict(X_test)\n",
    "\n",
    "print('Best alpha: \\n', ridge_model.alpha_)\n",
    "\n",
    "r2_score_ridge = r2_score(Y_test, y_pred_ridge) \n",
    "\n",
    "print('R2 score of Ridge: %.2f' % r2_score_ridge)\n",
    "\n",
    "ridge_model.coef_\n",
    "\n",
    "for elements in (-abs(ridge_model.coef_)).argsort():\n",
    "  print(\"Score: \"+str(ridge_model.coef_[elements])+ \" name: \"+str(feature_names[elements]))\n",
    "\n"
   ]
  },
  {
   "cell_type": "markdown",
   "metadata": {
    "colab_type": "text",
    "id": "X-LE-MYglbBL"
   },
   "source": [
    "The linear regresssion ridge uses the L2 regularization method. In that case, our model doesn't erase features but weight them returning us the importances of them. As we can see, the most important features are: s5 and bmi. In this model we also have chosen the best alpha using cross-validation of 5 folders."
   ]
  },
  {
   "cell_type": "markdown",
   "metadata": {
    "colab_type": "text",
    "id": "i_Frb0Ro7tZZ"
   },
   "source": [
    "### 2.2.3.1 Elastic-Net"
   ]
  },
  {
   "cell_type": "code",
   "execution_count": 10,
   "metadata": {
    "colab": {
     "base_uri": "https://localhost:8080/",
     "height": 34
    },
    "colab_type": "code",
    "id": "j5gkVFwT7wK5",
    "outputId": "30c8a9a0-eb61-4a59-ebd1-ef50800d3d99"
   },
   "outputs": [
    {
     "name": "stdout",
     "output_type": "stream",
     "text": [
      "0.011009009009009009\n"
     ]
    }
   ],
   "source": [
    "from sklearn.linear_model import ElasticNetCV\n",
    "\n",
    "\n",
    "\n",
    "regr = ElasticNetCV(cv=5, alphas=alphas, random_state=0, l1_ratio=np.arange(0.01, 1.0, 0.01), n_jobs=-1)\n",
    "\n",
    "regr.fit(X_train, Y_train)\n",
    "\n",
    "print(regr.alpha_)\n",
    "\n"
   ]
  },
  {
   "cell_type": "code",
   "execution_count": 11,
   "metadata": {
    "colab": {
     "base_uri": "https://localhost:8080/",
     "height": 221
    },
    "colab_type": "code",
    "id": "LlMQ2Ssb-pyJ",
    "outputId": "b1478ed9-b2a0-4f66-cddf-dc5295dd522e"
   },
   "outputs": [
    {
     "name": "stdout",
     "output_type": "stream",
     "text": [
      "Best score:\n",
      "0.40037021491805924\n",
      "Score: 527.4045620217665 name: s5\n",
      "Score: 524.7545253706722 name: bmi\n",
      "Score: 323.0975306972214 name: bp\n",
      "Score: -229.5950232633456 name: s3\n",
      "Score: -197.32128484501166 name: sex\n",
      "Score: -110.63067730648952 name: s2\n",
      "Score: -87.80161106637735 name: s1\n",
      "Score: 60.4273282243968 name: s4\n",
      "Score: 58.362875929700046 name: s6\n",
      "Score: -49.98153777288919 name: age\n"
     ]
    }
   ],
   "source": [
    "\n",
    "print(\"Best score:\")\n",
    "print(regr.score(X_test,Y_test))\n",
    "for elements in (-abs(regr.coef_)).argsort():\n",
    "  print(\"Score: \"+str(regr.coef_[elements])+ \" name: \"+str(feature_names[elements]))"
   ]
  },
  {
   "cell_type": "markdown",
   "metadata": {
    "colab_type": "text",
    "id": "8quUXoDp8eHa"
   },
   "source": [
    "Using the Elastic-Net we can observe that we got aproximatelly the same results as using L2 regularization method. In fact, the most valuables features are just the same as before with nearly values.\n",
    "On this model we have usen also CV to validate both alpha and l1_ratio. The l1_ratio is the ratio between the power given to L1 or L2 regularization."
   ]
  },
  {
   "cell_type": "markdown",
   "metadata": {
    "colab_type": "text",
    "id": "jTm9x5Eth6r5"
   },
   "source": [
    "### 2.2.4 Poly Regression"
   ]
  },
  {
   "cell_type": "code",
   "execution_count": 13,
   "metadata": {
    "colab": {
     "base_uri": "https://localhost:8080/",
     "height": 68
    },
    "colab_type": "code",
    "id": "Mvw9Jm8Mh-A6",
    "outputId": "6d0c937e-e037-4f6c-b022-146331c976b9"
   },
   "outputs": [
    {
     "name": "stdout",
     "output_type": "stream",
     "text": [
      "Best params: \n",
      " {'poly__degree': 1}\n",
      "R2 score of normal: 0.39\n"
     ]
    }
   ],
   "source": [
    "from sklearn.pipeline import Pipeline\n",
    "from sklearn.preprocessing import PolynomialFeatures\n",
    "\n",
    "\n",
    "steps = [('poly', PolynomialFeatures()), ('normalize', StandardScaler()), ('clf',LinearRegression())]\n",
    "pipe = Pipeline(steps)\n",
    "\n",
    "pipe.set_params(poly__include_bias=False)\n",
    "pipe.set_params(clf__fit_intercept=True)\n",
    "nfold=5\n",
    "\n",
    "param_grid = dict(poly__degree=[1, 2, 3, 4])\n",
    "pipe_grid_search = GridSearchCV(pipe, param_grid=param_grid, cv=nfold, iid= False, scoring='r2')\n",
    "pipe_grid_search.fit(X_train, Y_train)\n",
    "\n",
    "y_pred_pol = pipe_grid_search.predict(X_test)\n",
    "\n",
    "print('Best params: \\n', pipe_grid_search.best_params_)\n",
    "\n",
    "r2_score_pol = r2_score(Y_test, y_pred_pol) \n",
    "\n",
    "print('R2 score of normal: %.2f' % r2_score_pol)"
   ]
  },
  {
   "cell_type": "markdown",
   "metadata": {
    "colab_type": "text",
    "id": "Vd1jYVH58i9o"
   },
   "source": [
    "On polynomial regression we use pipeline to go step by step in order to cross-validate all the params needed. First of all we have to cross-validate the best degree to perform our data. AS it is shown the best degree is the 1, so the best result is using a linear method because larger degrees may cause overfit."
   ]
  },
  {
   "cell_type": "markdown",
   "metadata": {
    "colab_type": "text",
    "id": "5kUim7cXIpKC"
   },
   "source": [
    "### 2.2.5 Poly Regression Lasso\n"
   ]
  },
  {
   "cell_type": "code",
   "execution_count": 18,
   "metadata": {
    "colab": {
     "base_uri": "https://localhost:8080/",
     "height": 428
    },
    "colab_type": "code",
    "id": "J6h1NRKPIxTg",
    "outputId": "e1698dee-1e24-4c1f-c891-c4e605c473ca"
   },
   "outputs": [
    {
     "name": "stderr",
     "output_type": "stream",
     "text": [
      "/usr/local/lib/python3.6/dist-packages/sklearn/linear_model/coordinate_descent.py:475: ConvergenceWarning: Objective did not converge. You might want to increase the number of iterations. Duality gap: 275.9676635515789, tolerance: 135.39487311320755\n",
      "  positive)\n",
      "/usr/local/lib/python3.6/dist-packages/sklearn/linear_model/coordinate_descent.py:475: ConvergenceWarning: Objective did not converge. You might want to increase the number of iterations. Duality gap: 2539.166798708975, tolerance: 135.71348820754716\n",
      "  positive)\n",
      "/usr/local/lib/python3.6/dist-packages/sklearn/linear_model/coordinate_descent.py:475: ConvergenceWarning: Objective did not converge. You might want to increase the number of iterations. Duality gap: 4976.103937343229, tolerance: 137.51342783018868\n",
      "  positive)\n",
      "/usr/local/lib/python3.6/dist-packages/sklearn/linear_model/coordinate_descent.py:475: ConvergenceWarning: Objective did not converge. You might want to increase the number of iterations. Duality gap: 2806.507196128732, tolerance: 134.40579386792456\n",
      "  positive)\n",
      "/usr/local/lib/python3.6/dist-packages/sklearn/linear_model/coordinate_descent.py:475: ConvergenceWarning: Objective did not converge. You might want to increase the number of iterations. Duality gap: 3793.7460284451663, tolerance: 131.87301886792457\n",
      "  positive)\n",
      "/usr/local/lib/python3.6/dist-packages/sklearn/linear_model/coordinate_descent.py:475: ConvergenceWarning: Objective did not converge. You might want to increase the number of iterations. Duality gap: 2080.8529833066495, tolerance: 135.39487311320755\n",
      "  positive)\n",
      "/usr/local/lib/python3.6/dist-packages/sklearn/linear_model/coordinate_descent.py:475: ConvergenceWarning: Objective did not converge. You might want to increase the number of iterations. Duality gap: 1424.6815943701113, tolerance: 135.71348820754716\n",
      "  positive)\n",
      "/usr/local/lib/python3.6/dist-packages/sklearn/linear_model/coordinate_descent.py:475: ConvergenceWarning: Objective did not converge. You might want to increase the number of iterations. Duality gap: 2414.201552140861, tolerance: 137.51342783018868\n",
      "  positive)\n",
      "/usr/local/lib/python3.6/dist-packages/sklearn/linear_model/coordinate_descent.py:475: ConvergenceWarning: Objective did not converge. You might want to increase the number of iterations. Duality gap: 1534.812498158928, tolerance: 134.40579386792456\n",
      "  positive)\n",
      "/usr/local/lib/python3.6/dist-packages/sklearn/linear_model/coordinate_descent.py:475: ConvergenceWarning: Objective did not converge. You might want to increase the number of iterations. Duality gap: 1280.5680618081242, tolerance: 131.87301886792457\n",
      "  positive)\n"
     ]
    },
    {
     "name": "stdout",
     "output_type": "stream",
     "text": [
      "Best params: \n",
      " {'clf__alpha': 5, 'poly__degree': 2}\n",
      "R2 score of lasso: 0.40\n"
     ]
    }
   ],
   "source": [
    "from sklearn import linear_model\n",
    "\n",
    "steps = [('poly', PolynomialFeatures()), ('normalize', StandardScaler()), ('clf',linear_model.Lasso(max_iter=5000))]\n",
    "pipe = Pipeline(steps)\n",
    "\n",
    "pipe.set_params(poly__include_bias=False)\n",
    "pipe.set_params(clf__fit_intercept=True)\n",
    "nfold=5\n",
    "\n",
    "param_grid = dict(poly__degree=[1, 2, 3, 4], clf__alpha=[0.1, 1, 5, 10, 50, 100])\n",
    "pipe_grid_search = GridSearchCV(pipe, param_grid=param_grid, cv=nfold, iid= False, scoring='r2')\n",
    "pipe_grid_search.fit(X_train, Y_train)\n",
    "\n",
    "y_pred_lass = pipe_grid_search.predict(X_test)\n",
    "\n",
    "print('Best params: \\n', pipe_grid_search.best_params_)\n",
    "\n",
    "r2_score_pollass = r2_score(Y_test, y_pred_lass) \n",
    "\n",
    "print('R2 score of lasso: %.2f' % r2_score_pollass)"
   ]
  },
  {
   "cell_type": "markdown",
   "metadata": {
    "colab_type": "text",
    "id": "EdbDbPmu9jTv"
   },
   "source": [
    "Using Lasso we need to cross-validate alphas and poly degree. In that case it gives a warning that our object not converge, so its not the best method to perform. Otherwise, it gives us that the best degree is 2."
   ]
  },
  {
   "cell_type": "markdown",
   "metadata": {
    "colab_type": "text",
    "id": "hDrsAQUxIxbH"
   },
   "source": [
    "### 2.2.6 Poly Regression Ridge"
   ]
  },
  {
   "cell_type": "code",
   "execution_count": 20,
   "metadata": {
    "colab": {
     "base_uri": "https://localhost:8080/",
     "height": 68
    },
    "colab_type": "code",
    "id": "1MK4inmJI03o",
    "outputId": "d2f43921-aa22-4f69-a7ec-4e3d358c0c88"
   },
   "outputs": [
    {
     "name": "stdout",
     "output_type": "stream",
     "text": [
      "Best params: \n",
      " {'clf__alpha': 10, 'poly__degree': 1}\n",
      "R2 score of Ridge: 0.39\n"
     ]
    }
   ],
   "source": [
    "from sklearn.linear_model import Ridge\n",
    "steps = [('poly', PolynomialFeatures()), ('normalize', StandardScaler()), ('clf',Ridge())]\n",
    "pipe = Pipeline(steps)\n",
    "\n",
    "pipe.set_params(poly__include_bias=False)\n",
    "pipe.set_params(clf__fit_intercept=True)\n",
    "nfold=5\n",
    "\n",
    "param_grid = dict(poly__degree=[1, 2, 3, 4], clf__alpha=[0.1, 1, 5, 10, 50, 100])\n",
    "pipe_grid_search = GridSearchCV(pipe, param_grid=param_grid, cv=nfold, iid= False, scoring='neg_mean_squared_error')\n",
    "pipe_grid_search.fit(X_train, Y_train)\n",
    "\n",
    "y_pred_ridge = pipe_grid_search.predict(X_test)\n",
    "\n",
    "print('Best params: \\n', pipe_grid_search.best_params_)\n",
    "\n",
    "r2_score_polridge = r2_score(Y_test, y_pred_ridge) \n",
    "\n",
    "print('R2 score of Ridge: %.2f' % r2_score_polridge)"
   ]
  },
  {
   "cell_type": "markdown",
   "metadata": {
    "colab_type": "text",
    "id": "5-iagcLc97kG"
   },
   "source": [
    "Meanwhile, using Ridge it converges quickly and gives us the same result as not using regularization. so we return to our conclusion that the best degree is 1, so the best model is the linear one."
   ]
  },
  {
   "cell_type": "markdown",
   "metadata": {
    "colab_type": "text",
    "id": "vuiUv33tI1Bn"
   },
   "source": [
    "### 2.2.7 Poly Regression Elastic-Net"
   ]
  },
  {
   "cell_type": "code",
   "execution_count": 33,
   "metadata": {
    "colab": {
     "base_uri": "https://localhost:8080/",
     "height": 428
    },
    "colab_type": "code",
    "id": "rpvctcMFI6T2",
    "outputId": "f4d12277-dc60-49db-cbec-006839ecda13"
   },
   "outputs": [
    {
     "name": "stderr",
     "output_type": "stream",
     "text": [
      "/usr/local/lib/python3.6/dist-packages/sklearn/linear_model/coordinate_descent.py:475: ConvergenceWarning: Objective did not converge. You might want to increase the number of iterations. Duality gap: 11047.835657251067, tolerance: 135.39487311320755\n",
      "  positive)\n",
      "/usr/local/lib/python3.6/dist-packages/sklearn/linear_model/coordinate_descent.py:475: ConvergenceWarning: Objective did not converge. You might want to increase the number of iterations. Duality gap: 5834.942792104994, tolerance: 135.71348820754716\n",
      "  positive)\n",
      "/usr/local/lib/python3.6/dist-packages/sklearn/linear_model/coordinate_descent.py:475: ConvergenceWarning: Objective did not converge. You might want to increase the number of iterations. Duality gap: 3497.156841904565, tolerance: 137.51342783018868\n",
      "  positive)\n",
      "/usr/local/lib/python3.6/dist-packages/sklearn/linear_model/coordinate_descent.py:475: ConvergenceWarning: Objective did not converge. You might want to increase the number of iterations. Duality gap: 6497.717578221607, tolerance: 134.40579386792456\n",
      "  positive)\n",
      "/usr/local/lib/python3.6/dist-packages/sklearn/linear_model/coordinate_descent.py:475: ConvergenceWarning: Objective did not converge. You might want to increase the number of iterations. Duality gap: 2758.8077728284115, tolerance: 131.87301886792457\n",
      "  positive)\n",
      "/usr/local/lib/python3.6/dist-packages/sklearn/linear_model/coordinate_descent.py:475: ConvergenceWarning: Objective did not converge. You might want to increase the number of iterations. Duality gap: 42260.64893442553, tolerance: 135.39487311320755\n",
      "  positive)\n",
      "/usr/local/lib/python3.6/dist-packages/sklearn/linear_model/coordinate_descent.py:475: ConvergenceWarning: Objective did not converge. You might want to increase the number of iterations. Duality gap: 33581.254716366995, tolerance: 135.71348820754716\n",
      "  positive)\n",
      "/usr/local/lib/python3.6/dist-packages/sklearn/linear_model/coordinate_descent.py:475: ConvergenceWarning: Objective did not converge. You might want to increase the number of iterations. Duality gap: 41409.62652957086, tolerance: 137.51342783018868\n",
      "  positive)\n",
      "/usr/local/lib/python3.6/dist-packages/sklearn/linear_model/coordinate_descent.py:475: ConvergenceWarning: Objective did not converge. You might want to increase the number of iterations. Duality gap: 51792.08368563023, tolerance: 134.40579386792456\n",
      "  positive)\n",
      "/usr/local/lib/python3.6/dist-packages/sklearn/linear_model/coordinate_descent.py:475: ConvergenceWarning: Objective did not converge. You might want to increase the number of iterations. Duality gap: 46294.26693124179, tolerance: 131.87301886792457\n",
      "  positive)\n"
     ]
    },
    {
     "name": "stdout",
     "output_type": "stream",
     "text": [
      "Best params: \n",
      " {'clf__alpha': 0.1, 'poly__degree': 1}\n",
      "R2 score of Elastic-net: 0.39\n"
     ]
    }
   ],
   "source": [
    "\n",
    "\n",
    "\n",
    "steps = [('poly', PolynomialFeatures()), ('normalize', StandardScaler()), ('clf',linear_model.ElasticNet())]\n",
    "pipe = Pipeline(steps)\n",
    "\n",
    "pipe.set_params(poly__include_bias=False)\n",
    "pipe.set_params(clf__fit_intercept=True)\n",
    "nfold=5\n",
    "\n",
    "param_grid = dict(poly__degree=[1, 2, 3, 4], clf__alpha=[0.1, 1, 5, 10, 50, 100])\n",
    "pipe_grid_search = GridSearchCV(pipe, param_grid=param_grid, cv=nfold, iid= False, scoring='neg_mean_squared_error')\n",
    "pipe_grid_search.fit(X_train, Y_train)\n",
    "\n",
    "y_pred_ridge = pipe_grid_search.predict(X_test)\n",
    "print('Best params: \\n', pipe_grid_search.best_params_)\n",
    "\n",
    "r2_score_en = r2_score(Y_test, y_pred_en) \n",
    "\n",
    "print('R2 score of Elastic-net: %.2f' % r2_score_en)"
   ]
  },
  {
   "cell_type": "markdown",
   "metadata": {},
   "source": [
    "<span style=\"color:red\">\n",
    "Be careful, the selected value of alpha is in the extreme of the explored range. If you extend your range to 0.01, 000.1, ...., it's possible that you get better performance. Besides, elatic net has two parameters and you only explore one. I think that the other parameter is set by deafult to the lasso case...\n",
    "</span>"
   ]
  },
  {
   "cell_type": "markdown",
   "metadata": {
    "colab_type": "text",
    "id": "93SbtnmG-JjW"
   },
   "source": [
    "With elastic-net we are using a mixture between L1 and L2 and it returns us the same warning as using L1. It return us the same result as Ridge, that the poly_degree is 1."
   ]
  },
  {
   "cell_type": "markdown",
   "metadata": {},
   "source": [
    "<span style=\"color:red\">\n",
    "You can adjust the tolerance parameter of the lasso and elastic net methods to avoid these warnings and improve the method performance <br>\n",
    "I miss any conclusions and/ or comparitve analysis of these results. Which approach is the best? Linear or no-linear methods?   <br>\n",
    "Polynomial ridge regression uses a degree of 1 and polynomial lasso regression uses a degree of 2. Any idea?\n",
    "</span>"
   ]
  },
  {
   "cell_type": "markdown",
   "metadata": {
    "colab_type": "text",
    "id": "VHWjw1eAo_9V"
   },
   "source": [
    "## 3. Study of feature relevance and feature selection\n",
    "\n",
    "In this last section, using different criteria, you have to analyze the relevance of the input features. Thus, you will have to find a subset with the $D'$ most relevant features and, using this subset of features, analyze the final performance of a regressor (for the sake of simplicity, consider a linear ridge regressor as final regressor).\n",
    "\n",
    "To analyze the feature importances or relevances, you can use the following criteria:\n",
    "\n",
    "1. **Relevance ranking based on the validation error**: if there were $D$ input features, we could try to train $D$ regressors where each regressor uses one (and only one) different input feature. According to the final perfomance of each regressor (evaluated on a validation set or with a CV proccess), we could rank the features (the most relevant feature is the one providing the lowest error). Using this ranking, we can select the $D'$ most relevant features as the $D'$ top-ranked ones. Note that this scheme only analyzes the isolated relevance of each feature to predict the output; so, it is said that this approach is *univariate*.\n",
    "\n",
    " <img src=\"http://www.tsc.uc3m.es/~vanessa/Figs_notebooks/ML/Regression/FeatureRanking.png\" width=\"90%\" > \n",
    "\n",
    "\n",
    "2. **Greedy search based on the validation error**: approach (1) has the disadvantage of not taking into account relationships between features. For instance, method (1) would not realize that two features can be rendundant or that a feature, that is useless by itself, can be very useful combined with another feature. To overcome this drawback, we should have to analyze subsets of features; however, exploring all possible subsets  is usually computationally unflexible (there are $2^D$ combinations!!!!); so a greedy search (fordward or backward) is usually prefered:\n",
    "\n",
    "  2.1 *Fordward search*: It starts with an empty set and, iteratively, adds new features according to a relevance criterion (in this case, minimum validation MSE).\n",
    "\n",
    "  <img src=\"http://www.tsc.uc3m.es/~vanessa/Figs_notebooks/ML/Regression/Fig_Forward_search.png\" width=\"48%\" > \n",
    "\n",
    "  2.2 *Backward search*: It starts considering all the features and, iteratively, removes features according to a relevance criterion (in this case, minimum validation MSE).\n",
    "\n",
    "  <img src=\"http://www.tsc.uc3m.es/~vanessa/Figs_notebooks/ML/Regression/Fig_Backward_search.png\" width=\"48%\" > \n",
    "\n",
    "3. **Ridge linear regression with a prunning**: We know that the L2 regularization limits the magnitude of the weight vector to avoid overfitting problems, but these weigths do not become to null. However, in a linear model, *the weight magnitude can be an indicative of the feature relevance* and, unlike approach (1), all features are analyzed at the same time (*multivariate approach*). Use the weigth magnitude to generate a ranking of features and, later, use this ranking to select the $D'$ most relevant features.\n",
    "\n",
    "4. **Lasso linear regression**: In this case, the L1 penalty allows us to directly eliminate some of the input features. Explore different values of the regularization parameter $\\lambda$ to get a sequence of selected feature sets (from a single feature to all features).\n",
    "\n",
    "\n",
    "5. **Elastic-net linear regression**: This last approach combines L1 and L2 regularizations, thus including the advantages of both methods. Varying adequately their regularization parameters, create a sequence of feature selection subsets. \n",
    "\n"
   ]
  },
  {
   "cell_type": "markdown",
   "metadata": {
    "colab_type": "text",
    "id": "qMIaGE0kmSdt"
   },
   "source": []
  },
  {
   "cell_type": "markdown",
   "metadata": {
    "colab_type": "text",
    "id": "fe2uvnVP0-AZ"
   },
   "source": [
    "Final comments:\n",
    "\n",
    "* Due to part of the feature selection process involves selecting the optimum number of features, to avoid additional complexity (having to validate this number), you can analyze the different methods by exploring the curves of MSE vs. number of selected features ($D'$).\n",
    "\n",
    "* It is not necessary to apply all these methods to complete this notebook (you can choose, at least, three of them). In fact, the implementation of greedy search approaches require an advanced knowledge of Python; so take this into account when you design your notebook solution.\n",
    "\n",
    "* **Please, analyze in detail the different results, pointing out the advantages/disadvantages of each feature selection scheme**. Think about the behaviour of the different criteria in cases where a feature is irrelevant or there are redundant features. Additional experiments helping you to support any of your conclusions will be welcome."
   ]
  },
  {
   "cell_type": "markdown",
   "metadata": {
    "colab_type": "text",
    "id": "vh_m15DSJhio"
   },
   "source": [
    "## 3.1 Ranking based on MSE\n"
   ]
  },
  {
   "cell_type": "code",
   "execution_count": 34,
   "metadata": {
    "colab": {
     "base_uri": "https://localhost:8080/",
     "height": 136
    },
    "colab_type": "code",
    "id": "6O0729twJmux",
    "outputId": "1287c2ed-115c-444e-e762-73e7dc1ffb15"
   },
   "outputs": [
    {
     "name": "stdout",
     "output_type": "stream",
     "text": [
      "Features in order of relevancy based on MSE:\n",
      "[5047.38954437 5269.47848288 3786.39417761 4718.72343274 5117.16333904\n",
      " 5159.86391871 4734.69531437 4373.96974114 4148.06402569 4627.62285166]\n",
      "['bmi', 's5', 's4', 's6', 'bp', 's3', 'age', 's1', 's2', 'sex']\n",
      "R2 score using only the 4th most relevant features based on MSE: 0.37\n",
      "Versus\n",
      "R2 score using all the features: 0.39\n"
     ]
    }
   ],
   "source": [
    "MSE_ranking = []\n",
    "n = X.shape[1]\n",
    "maybe_alphas = np.linspace(0.001,10,1000)\n",
    "ridge = RidgeCV(alphas=maybe_alphas)\n",
    "for i in range(n):\n",
    "  \n",
    "  ridge_model2 = ridge.fit(X_train[:,i][:,np.newaxis], Y_train)\n",
    "\n",
    "  y_pred_ridge2 = ridge.predict(X_test[:,i][:,np.newaxis])\n",
    "  \n",
    "  MSE_ranking.append(np.mean((Y_test-y_pred_ridge2)**2))\n",
    "  \n",
    "MSE_ranking = np.asarray(MSE_ranking)\n",
    "\n",
    "print(\"Features in order of relevancy based on MSE:\")\n",
    "print(MSE_ranking)\n",
    "feat_rel_MSE = []\n",
    "for index, elements in enumerate(MSE_ranking.argsort()):\n",
    "  feat_rel_MSE.append(feature_names[elements])\n",
    "\n",
    "  \n",
    "print(feat_rel_MSE)\n",
    "\n",
    "\n",
    "X_train_red = X_train[:, MSE_ranking.argsort()[:4]]\n",
    "X_test_red = X_test[:, MSE_ranking.argsort()[:4]]\n",
    "\n",
    "\n",
    "ridge_final_mse =ridge.fit(X_train_red, Y_train)\n",
    "\n",
    "y_pred_final_ridge = ridge.predict(X_test_red)\n",
    "\n",
    "\n",
    "print('R2 score using only the 4th most relevant features based on MSE: %.2f' % r2_score(Y_test, y_pred_final_ridge) )\n",
    "print('Versus')\n",
    "print('R2 score using all the features: %.2f' %  r2_score_ridge)\n",
    "\n",
    "\n"
   ]
  },
  {
   "cell_type": "markdown",
   "metadata": {
    "colab_type": "text",
    "id": "-bqXTdaGG6oY"
   },
   "source": [
    "As we can see, if we use the MSE ranking to evaluate the relevancy of each feature we obtain a score. In fact, what we are testing is the relevancy of each feature working alone. We are not taking into account the combination of them working together, that can be the fact that gives us worse prediction.\n"
   ]
  },
  {
   "cell_type": "markdown",
   "metadata": {},
   "source": [
    "<span style=\"color:red\">\n",
    "It's a bit strange that you rank your features with MSE, but you use R2 to evaluate the method performance. It's better to be coherent using the same measurement for both ranking and evaluate. <br>\n",
    "Besides, you rank your features with the test error. I'm asking you a relevance ranking based on the validation error!!!! <br>\n",
    "Why are you getting the final performance with 4 features???\n",
    "</span>"
   ]
  },
  {
   "cell_type": "markdown",
   "metadata": {
    "colab_type": "text",
    "id": "iOmigoAJP48S"
   },
   "source": [
    "## 3.2 Greedy search based on the validation error"
   ]
  },
  {
   "cell_type": "markdown",
   "metadata": {
    "colab_type": "text",
    "id": "o3Ddb2bQSxn4"
   },
   "source": [
    "### Forward selection"
   ]
  },
  {
   "cell_type": "markdown",
   "metadata": {
    "colab_type": "text",
    "id": "WmXBqk7-I1On"
   },
   "source": [
    "In this case we uses MLXTend SequentialFeatureSelector that implements the forward greedy search. In fact, we are going to train for all posible subset sizes. If we have 10 features, we are going to use a for going from 1 to 10 trying all the subsets of features. Also, we are doing cross-validation with a 5 folder CV to prove different types of subsets randomly. Then, we append each score to compare which subset of features gives us the best score."
   ]
  },
  {
   "cell_type": "code",
   "execution_count": 35,
   "metadata": {
    "colab": {
     "base_uri": "https://localhost:8080/",
     "height": 190
    },
    "colab_type": "code",
    "id": "AHymd5rmP5G8",
    "outputId": "51b0bc00-c55f-46f6-b516-629ccbb75417"
   },
   "outputs": [
    {
     "name": "stderr",
     "output_type": "stream",
     "text": [
      "/usr/local/lib/python3.6/dist-packages/sklearn/externals/joblib/__init__.py:15: DeprecationWarning: sklearn.externals.joblib is deprecated in 0.21 and will be removed in 0.23. Please import this functionality directly from joblib, which can be installed with: pip install joblib. If this warning is raised when loading pickled models, you may need to re-serialize those models with scikit-learn 0.21+.\n",
      "  warnings.warn(msg, category=DeprecationWarning)\n"
     ]
    },
    {
     "name": "stdout",
     "output_type": "stream",
     "text": [
      "Scores (R2) using diferent k_features input, from 1 to 10:\n",
      "[0.3670936150334024, 0.499802752587447, 0.5179771716570686, 0.5381629358946187, 0.5417332604078625, 0.5502416448735754, 0.5487351983595299, 0.5449278932364505, 0.539698037320315, 0.5371596190647546]\n",
      "Maximum score (R2) obtained:\n",
      "0.5502416448735754\n",
      "Obtained used k_subset of size:\n",
      "6\n",
      "['sex', 'bmi', 'bp', 's1', 's2', 's5']\n"
     ]
    }
   ],
   "source": [
    "from sklearn.ensemble import RandomForestClassifier\n",
    "from mlxtend.feature_selection import SequentialFeatureSelector as sfs\n",
    "from sklearn.metrics import SCORERS\n",
    "\n",
    "\n",
    "\n",
    "# Build step forward feature selection\n",
    "scorer_k = []\n",
    "feat_sel_forward = []\n",
    "for k in range(X_train.shape[1]):\n",
    "  sfs1 = sfs(ridge,\n",
    "             k_features=k+1,\n",
    "             forward=True,\n",
    "             floating=False,\n",
    "             verbose=0,\n",
    "             scoring='r2',\n",
    "             cv=5)\n",
    "  sfs1 = sfs1.fit(X_train, Y_train)\n",
    "  scorer_k.append(sfs1.k_score_)\n",
    "  feat_sel_forward.append(sfs1.k_feature_idx_)\n",
    "  \n",
    "\n",
    "\n",
    "print(\"Scores (R2) using diferent k_features input, from 1 to 10:\")\n",
    "print(scorer_k)\n",
    "print(\"Maximum score (R2) obtained:\")\n",
    "print(np.amax(np.asarray(scorer_k)))\n",
    "print(\"Obtained used k_subset of size:\")\n",
    "print(np.argmax(np.asarray(scorer_k))+1)\n",
    "\n",
    "feat_rel_fw = []\n",
    "for elements in feat_sel_forward[np.argmax(np.asarray(scorer_k))]:\n",
    "  feat_rel_fw.append(feature_names[elements])\n",
    "\n",
    "print(feat_rel_fw)"
   ]
  },
  {
   "cell_type": "markdown",
   "metadata": {
    "colab_type": "text",
    "id": "1ghDw1nGIjgs"
   },
   "source": [
    "Using a forward selection, it returns us that the best subset of features is using 6 features and using the ones mentioned in the array before. Lets try it."
   ]
  },
  {
   "cell_type": "code",
   "execution_count": 38,
   "metadata": {
    "colab": {
     "base_uri": "https://localhost:8080/",
     "height": 136
    },
    "colab_type": "code",
    "id": "hhwlFc43Itwm",
    "outputId": "4b25ce14-7f61-4e58-f892-9fefc2bc0d0f"
   },
   "outputs": [
    {
     "name": "stdout",
     "output_type": "stream",
     "text": [
      "Features used:\n",
      "(1, 2, 3, 4, 5, 8)\n",
      "Size of our X_train to verify that we are using the correct number of features\n",
      "(265, 6)\n",
      "R2 score using only the 6th most relevant features based on forward selection: 0.390040998439935\n",
      "Versus\n",
      "R2 score using all the features: 0.39\n"
     ]
    }
   ],
   "source": [
    "X_train_red = X_train[:, feat_sel_forward[np.argmax(np.asarray(scorer_k))][:]]\n",
    "X_test_red = X_test[:, feat_sel_forward[np.argmax(np.asarray(scorer_k))][:]]\n",
    "\n",
    "print(\"Features used:\")\n",
    "print(feat_sel_forward[np.argmax(np.asarray(scorer_k))][:])\n",
    "print(\"Size of our X_train to verify that we are using the correct number of features\")\n",
    "print(X_train_red.shape)\n",
    "\n",
    "ridge = ridge.fit(X_train_red, Y_train)\n",
    "\n",
    "y_pred_final_ridge = ridge.predict(X_test_red)\n",
    "\n",
    "fw = str(r2_score(Y_test, y_pred_final_ridge))\n",
    "print('R2 score using only the 6th most relevant features based on forward selection: ' + fw )\n",
    "print('Versus')\n",
    "print('R2 score using all the features: %.2f' %  r2_score_ridge)"
   ]
  },
  {
   "cell_type": "markdown",
   "metadata": {
    "colab_type": "text",
    "id": "oWz59f9lJ2DE"
   },
   "source": [
    "As it is shown, we obtained the same prediction accuracy (based on R2) using only 6 features. It shows that the 4 features didn't used are not usefull and we can only focus on using that 6 features."
   ]
  },
  {
   "cell_type": "markdown",
   "metadata": {},
   "source": [
    "<span style=\"color:red\">\n",
    "Good work and good conclusions! <br>\n",
    "I didn't know the MLXTend SequentialFeatureSelector toolbox. Interesting!!!!\n",
    "</span>"
   ]
  },
  {
   "cell_type": "markdown",
   "metadata": {
    "colab_type": "text",
    "id": "Yg3DTEoOiR9U"
   },
   "source": [
    "### Backward selector"
   ]
  },
  {
   "cell_type": "code",
   "execution_count": 39,
   "metadata": {
    "colab": {
     "base_uri": "https://localhost:8080/",
     "height": 136
    },
    "colab_type": "code",
    "id": "UdURvABuQLnD",
    "outputId": "0ac2e746-c4e1-4f04-ad84-db119266a897"
   },
   "outputs": [
    {
     "name": "stdout",
     "output_type": "stream",
     "text": [
      "Scores (R2) using diferent k_features input, from 1 to 10:\n",
      "[0.3670936150334024, 0.499802752587447, 0.5179771716570686, 0.5381629358946209, 0.5417332604078625, 0.5502416448735754, 0.5487351983595299, 0.5436935172290537, 0.5408888926695636, 0]\n",
      "Maximum score (R2) obtained:\n",
      "0.5502416448735754\n",
      "Obtained used k_subset of size:\n",
      "6\n",
      "['sex', 'bmi', 'bp', 's1', 's2', 's5']\n"
     ]
    }
   ],
   "source": [
    "# Build step forward feature selection\n",
    "scorer_k2 = []\n",
    "feat_sel_backward = []\n",
    "for k in range(X_train.shape[1]):\n",
    "  sfs2 = sfs(ridge,\n",
    "             k_features=k+1,\n",
    "             forward=False,\n",
    "             floating=False,\n",
    "             verbose=0,\n",
    "             scoring='r2',\n",
    "             cv=5)\n",
    "  sfs2 = sfs2.fit(X_train, Y_train)\n",
    "  scorer_k2.append(sfs2.k_score_)\n",
    "  feat_sel_backward.append(sfs2.k_feature_idx_)\n",
    "  \n",
    "\n",
    "\n",
    "print(\"Scores (R2) using diferent k_features input, from 1 to 10:\")\n",
    "print(scorer_k2)\n",
    "print(\"Maximum score (R2) obtained:\")\n",
    "print(np.amax(np.asarray(scorer_k2)))\n",
    "print(\"Obtained used k_subset of size:\")\n",
    "print(np.argmax(np.asarray(scorer_k2))+1)\n",
    "\n",
    "feat_rel_bw = []\n",
    "for elements in feat_sel_backward[np.argmax(np.asarray(scorer_k2))]:\n",
    "  feat_rel_bw.append(feature_names[elements])\n",
    "\n",
    "print(feat_rel_bw)"
   ]
  },
  {
   "cell_type": "markdown",
   "metadata": {
    "colab_type": "text",
    "id": "jygk6i_YH9gD"
   },
   "source": [
    "Using the backward selector it gives us that the best subset of parameters to use is 6. Let's now train our model with that 6 features."
   ]
  },
  {
   "cell_type": "code",
   "execution_count": 40,
   "metadata": {
    "colab": {
     "base_uri": "https://localhost:8080/",
     "height": 136
    },
    "colab_type": "code",
    "id": "JQzWxntWISvp",
    "outputId": "374b5b04-fa4b-49b3-f737-9d166229b125"
   },
   "outputs": [
    {
     "name": "stdout",
     "output_type": "stream",
     "text": [
      "Features used:\n",
      "(1, 2, 3, 4, 5, 8)\n",
      "Size of our X_train to verify that we are using the correct number of features\n",
      "(265, 6)\n",
      "R2 score using only the 6th most relevant features based on backward selection:0.390040998439935\n",
      "Versus\n",
      "R2 score using all the features: 0.39\n"
     ]
    }
   ],
   "source": [
    "X_train_red = X_train[:, feat_sel_backward[np.argmax(np.asarray(scorer_k2))][:]]\n",
    "X_test_red = X_test[:, feat_sel_backward[np.argmax(np.asarray(scorer_k2))][:]]\n",
    "\n",
    "print(\"Features used:\")\n",
    "print(feat_sel_backward[np.argmax(np.asarray(scorer_k2))][:])\n",
    "print(\"Size of our X_train to verify that we are using the correct number of features\")\n",
    "print(X_train_red.shape)\n",
    "\n",
    "ridge.fit(X_train_red, Y_train)\n",
    "\n",
    "y_pred_final_ridge = ridge.predict(X_test_red)\n",
    "\n",
    "bw = str(r2_score(Y_test, y_pred_final_ridge))\n",
    "print('R2 score using only the 6th most relevant features based on backward selection:' +bw )\n",
    "print('Versus')\n",
    "print('R2 score using all the features: %.2f' %  r2_score_ridge)\n"
   ]
  },
  {
   "cell_type": "markdown",
   "metadata": {
    "colab_type": "text",
    "id": "Jo3wLc3uJesj"
   },
   "source": [
    "As it is shown, we obtained the same prediction accuracy (based on R2) using only 6 features. It shows that the 4 features didn't used are not usefull and we can only focus on using that 6 features. Also, it gives us the same result as using forward selector. It confirms us the good result of both methods."
   ]
  },
  {
   "cell_type": "markdown",
   "metadata": {},
   "source": [
    "<span style=\"color:red\">\n",
    "Great!!!!\n",
    "</span>"
   ]
  },
  {
   "cell_type": "markdown",
   "metadata": {
    "colab_type": "text",
    "id": "wROzbk8cQL0x"
   },
   "source": [
    "## 3.4 Ridge linear regression with a prunning"
   ]
  },
  {
   "cell_type": "code",
   "execution_count": 57,
   "metadata": {
    "colab": {
     "base_uri": "https://localhost:8080/",
     "height": 422
    },
    "colab_type": "code",
    "id": "HcvnFuiEQL7g",
    "outputId": "0d4e6e97-098b-41b0-8a28-98e96cfd2bcb"
   },
   "outputs": [
    {
     "name": "stdout",
     "output_type": "stream",
     "text": [
      "Features weighted before ordering:\n",
      "[ 60.72803425 211.97264922 537.75350139 335.22467273 120.4549626\n",
      " 104.22225625 221.49209594  68.94103599 552.62565564  56.12123157]\n",
      "Features in order of relevancy based on Ridge regularization:\n",
      "['s5', 'bmi', 'bp', 's3', 'sex', 's1', 's2', 's4', 'age', 's6']\n",
      "Mean of weights: 226.95360955785358\n"
     ]
    },
    {
     "data": {
      "image/png": "[encoded data removed]",
      "text/plain": [
       "<Figure size 432x288 with 1 Axes>"
      ]
     },
     "metadata": {
      "tags": []
     },
     "output_type": "display_data"
    },
    {
     "name": "stdout",
     "output_type": "stream",
     "text": [
      "Features above mean: \n",
      "[8, 2, 3]\n",
      "['s5', 'bmi', 'bp']\n"
     ]
    }
   ],
   "source": [
    "\n",
    "weights_ridge_abs = abs(ridge_model.coef_)\n",
    "weights_ridge_pos = (-weights_ridge_abs).argsort()[:n]\n",
    "print(\"Features weighted before ordering:\")\n",
    "print(weights_ridge_abs)\n",
    "print(\"Features in order of relevancy based on Ridge regularization:\")\n",
    "\n",
    "feat_rel_ridge = []\n",
    "feat_above_mean = []\n",
    "for elements in weights_ridge_pos:\n",
    "  feat_rel_ridge.append(feature_names[elements])\n",
    "  \n",
    "  if weights_ridge_abs[elements] > np.mean(weights_ridge_abs):\n",
    "    feat_above_mean.append(elements)\n",
    "  \n",
    "print(feat_rel_ridge)\n",
    "\n",
    "print(\"Mean of weights: \" + str(np.mean(weights_ridge_abs)))\n",
    "\n",
    "plt.bar(feature_names,weights_ridge_abs)\n",
    "plt.axhline(y=np.mean(weights_ridge_abs))\n",
    "plt.show()\n",
    "\n",
    "print(\"Features above mean: \")\n",
    "print(feat_above_mean)\n",
    "feat_above_mean2=[]\n",
    "for elements in feat_above_mean:\n",
    "  feat_above_mean2.append(feature_names[elements])\n",
    "\n",
    "print(feat_above_mean2)"
   ]
  },
  {
   "cell_type": "markdown",
   "metadata": {
    "colab_type": "text",
    "id": "N5IP-As4KZus"
   },
   "source": [
    "That method gives us a weighted view of our features. Lets train a ridge model using only the features that are above the mean. As can be shown below, the score obtained is the same as using all the features. So we have prunned which features are really interesting to our model."
   ]
  },
  {
   "cell_type": "markdown",
   "metadata": {},
   "source": [
    "<span style=\"color:red\">\n",
    "Great!!!! Using the mean to set a threshold is a nice criterium.\n",
    "</span>"
   ]
  },
  {
   "cell_type": "code",
   "execution_count": 59,
   "metadata": {
    "colab": {
     "base_uri": "https://localhost:8080/",
     "height": 136
    },
    "colab_type": "code",
    "id": "K593goLrR6cX",
    "outputId": "c6274466-3e9d-466d-c781-3f20e73373a8"
   },
   "outputs": [
    {
     "name": "stdout",
     "output_type": "stream",
     "text": [
      "Features used:\n",
      "[8, 2, 3]\n",
      "Size of our X_train to verify that we are using the correct number of features\n",
      "(265, 3)\n",
      "R2 score using only the features above the mean most relevant features based on Ridge prunning: 0.38786380847366697\n",
      "Versus\n",
      "R2 score using all the features: 0.39\n"
     ]
    }
   ],
   "source": [
    "X_train_red = X_train[:, feat_above_mean[:]]\n",
    "X_test_red = X_test[:, feat_above_mean[:]]\n",
    "\n",
    "print(\"Features used:\")\n",
    "print(feat_above_mean[:])\n",
    "print(\"Size of our X_train to verify that we are using the correct number of features\")\n",
    "print(X_train_red.shape)\n",
    "\n",
    "ridge.fit(X_train_red, Y_train)\n",
    "\n",
    "y_pred_final_ridge = ridge.predict(X_test_red)\n",
    "\n",
    "l2 = str(r2_score(Y_test, y_pred_final_ridge))\n",
    "print('R2 score using only the features above the mean most relevant features based on Ridge prunning: ' +l2 )\n",
    "print('Versus')\n",
    "print('R2 score using all the features: %.2f' %  r2_score_ridge)\n"
   ]
  },
  {
   "cell_type": "markdown",
   "metadata": {
    "colab_type": "text",
    "id": "DpvbNc7CkYaT"
   },
   "source": [
    "## 3.5 Lasso regularization method"
   ]
  },
  {
   "cell_type": "code",
   "execution_count": 61,
   "metadata": {
    "colab": {
     "base_uri": "https://localhost:8080/",
     "height": 354
    },
    "colab_type": "code",
    "id": "UPY0vBn_kcuC",
    "outputId": "f37deffd-5480-4e7b-853a-64998b860666"
   },
   "outputs": [
    {
     "name": "stdout",
     "output_type": "stream",
     "text": [
      "Using Lasso regularization we have erased 2 features\n",
      "Features erased: \n",
      "['s2', 's4']\n",
      "Features in order of relevancy: \n",
      "['s5', 'bmi', 'bp', 's3', 'sex', 's1', 'age', 's6', 's2', 's4']\n"
     ]
    },
    {
     "data": {
      "image/png": "[encoded data removed]",
      "text/plain": [
       "<Figure size 432x288 with 1 Axes>"
      ]
     },
     "metadata": {
      "tags": []
     },
     "output_type": "display_data"
    }
   ],
   "source": [
    "\n",
    "coeff_used = np.sum(lasso.coef_!=0)\n",
    "coeff_erased = X.shape[1] - coeff_used\n",
    "\n",
    "w_lasso_abs = abs(lasso.coef_)\n",
    "w_lasso_pos = (-w_lasso_abs).argsort()[:n]\n",
    "\n",
    "print(\"Using Lasso regularization we have erased \"+str(coeff_erased)+\" features\")\n",
    "\n",
    "erased_features = []\n",
    "\n",
    "for index,element in enumerate(w_lasso_abs):\n",
    "  if element == 0:\n",
    "    erased_features.append(feature_names[index])\n",
    "\n",
    "feat_rel_lasso = []\n",
    "for element in w_lasso_pos:\n",
    "  feat_rel_lasso.append(feature_names[element])\n",
    "  \n",
    "\n",
    "    \n",
    "print(\"Features erased: \")\n",
    "print(erased_features)\n",
    "print(\"Features in order of relevancy: \")\n",
    "print(feat_rel_lasso)\n",
    "\n",
    "plt.bar(feature_names,abs(lasso.coef_))\n",
    "plt.axhline(y=np.mean(weights_ridge_abs))\n",
    "plt.show()"
   ]
  },
  {
   "cell_type": "markdown",
   "metadata": {
    "colab_type": "text",
    "id": "Osqs8EGzT7K8"
   },
   "source": [
    "Using Lasso we figure out that two variables are useless to our model. In fact, it can be shown that the features more relevants are the same as using Ridge. Lets try to fit our model using the 8 features that are not equal to 0.\n",
    "\n",
    "As shown below, we archieve the same result."
   ]
  },
  {
   "cell_type": "code",
   "execution_count": 62,
   "metadata": {
    "colab": {
     "base_uri": "https://localhost:8080/",
     "height": 136
    },
    "colab_type": "code",
    "id": "joJnK6C0UN_k",
    "outputId": "963bc183-0072-413a-caa2-e1a62d9b8415"
   },
   "outputs": [
    {
     "name": "stdout",
     "output_type": "stream",
     "text": [
      "Features used:\n",
      "[8 2 3 6 1 4 0 9]\n",
      "Size of our X_train to verify that we are using the correct number of features\n",
      "(265, 8)\n",
      "R2 score using only the features above the mean most relevant features based on Lasso method: 0.39315651098116455\n",
      "Versus\n",
      "R2 score using all the features: 0.39\n"
     ]
    }
   ],
   "source": [
    "X_train_red = X_train[:, w_lasso_pos[:8]]\n",
    "X_test_red = X_test[:, w_lasso_pos[:8]]\n",
    "\n",
    "print(\"Features used:\")\n",
    "print(w_lasso_pos[:8])\n",
    "print(\"Size of our X_train to verify that we are using the correct number of features\")\n",
    "print(X_train_red.shape)\n",
    "\n",
    "ridge = ridge.fit(X_train_red, Y_train)\n",
    "\n",
    "y_pred_final_ridge = ridge.predict(X_test_red)\n",
    "\n",
    "l1 = str(r2_score(Y_test, y_pred_final_ridge))\n",
    "print('R2 score using only the features above the mean most relevant features based on Lasso method: ' + l1)\n",
    "print('Versus')\n",
    "print('R2 score using all the features: %.2f' %  r2_score_ridge)"
   ]
  },
  {
   "cell_type": "markdown",
   "metadata": {
    "colab_type": "text",
    "id": "AFlOfTheoLk6"
   },
   "source": [
    "## 3.6 Elastic-Net reg method"
   ]
  },
  {
   "cell_type": "code",
   "execution_count": 64,
   "metadata": {
    "colab": {
     "base_uri": "https://localhost:8080/",
     "height": 422
    },
    "colab_type": "code",
    "id": "bUFPhd6ZoL9S",
    "outputId": "a886751a-ca12-44f6-d29c-b3fdb96bac68"
   },
   "outputs": [
    {
     "name": "stdout",
     "output_type": "stream",
     "text": [
      "Features weighted before ordering:\n",
      "[ 49.98153777 197.32128485 524.75452537 323.0975307   87.80161107\n",
      " 110.63067731 229.59502326  60.42732822 527.40456202  58.36287593]\n",
      "Features in order of relevancy based on Ridge regularization:\n",
      "['s5', 'bmi', 'bp', 's3', 'sex', 's2', 's1', 's4', 's6', 'age']\n"
     ]
    },
    {
     "data": {
      "image/png": "[encoded data removed]",
      "text/plain": [
       "<Figure size 432x288 with 1 Axes>"
      ]
     },
     "metadata": {
      "tags": []
     },
     "output_type": "display_data"
    },
    {
     "name": "stdout",
     "output_type": "stream",
     "text": [
      "Mean of weights: 216.93769564978703\n",
      "Features above mean: \n",
      "[8, 2, 3, 6]\n",
      "['s5', 'bmi', 'bp', 's3']\n"
     ]
    }
   ],
   "source": [
    "\n",
    "\n",
    "weights_en_abs = abs(regr.coef_)\n",
    "weights_en_pos = (-weights_en_abs).argsort()\n",
    "print(\"Features weighted before ordering:\")\n",
    "print(weights_en_abs)\n",
    "print(\"Features in order of relevancy based on Ridge regularization:\")\n",
    "\n",
    "feat_rel_en = []\n",
    "feat_above_mean = []\n",
    "for elements in weights_en_pos:\n",
    "  feat_rel_en.append(feature_names[elements])\n",
    "  \n",
    "  if weights_en_abs[elements] > np.mean(weights_en_abs):\n",
    "    feat_above_mean.append(elements)\n",
    "  \n",
    "print(feat_rel_en)\n",
    "\n",
    "\n",
    "plt.bar(feature_names,weights_en_abs)\n",
    "plt.axhline(y=np.mean(weights_ridge_abs))\n",
    "plt.show()\n",
    "\n",
    "print(\"Mean of weights: \" + str(np.mean(weights_en_abs)))\n",
    "print(\"Features above mean: \")\n",
    "print(feat_above_mean)\n",
    "feat_above_mean2=[]\n",
    "for elements in feat_above_mean:\n",
    "  feat_above_mean2.append(feature_names[elements])\n",
    "\n",
    "print(feat_above_mean2)"
   ]
  },
  {
   "cell_type": "markdown",
   "metadata": {
    "colab_type": "text",
    "id": "lhWWqLpaVhut"
   },
   "source": [
    "As shown in the two last methods, our Elastic-Net regulirazation model has chosen the same features as before as the most relevant (8, 2 and 3). Also, it has chosen the feature 6 as relevant because is above the mean of weights. In that case, lets try to train with this 4 features."
   ]
  },
  {
   "cell_type": "code",
   "execution_count": 65,
   "metadata": {
    "colab": {
     "base_uri": "https://localhost:8080/",
     "height": 136
    },
    "colab_type": "code",
    "id": "-wrsqsPzV1Ma",
    "outputId": "c8458c59-a500-4496-dafa-c1df196f52f6"
   },
   "outputs": [
    {
     "name": "stdout",
     "output_type": "stream",
     "text": [
      "Features used:\n",
      "[8, 2, 3, 6]\n",
      "Size of our X_train to verify that we are using the correct number of features\n",
      "(265, 4)\n",
      "R2 score using only the features above the mean most relevant features based on Elastic-Net prunning: 0.39377055739195754\n",
      "Versus\n",
      "R2 score using all the features: 0.39\n"
     ]
    }
   ],
   "source": [
    "X_train_red = X_train[:, feat_above_mean[:]]\n",
    "X_test_red = X_test[:, feat_above_mean[:]]\n",
    "\n",
    "print(\"Features used:\")\n",
    "print(feat_above_mean[:])\n",
    "print(\"Size of our X_train to verify that we are using the correct number of features\")\n",
    "print(X_train_red.shape)\n",
    "\n",
    "ridge.fit(X_train_red, Y_train)\n",
    "\n",
    "y_pred_final_ridge = ridge.predict(X_test_red)\n",
    "\n",
    "en = str(r2_score(Y_test, y_pred_final_ridge))\n",
    "print('R2 score using only the features above the mean most relevant features based on Elastic-Net prunning: ' + en )\n",
    "print('Versus')\n",
    "print('R2 score using all the features: %.2f' %  r2_score_ridge)"
   ]
  },
  {
   "cell_type": "markdown",
   "metadata": {
    "colab_type": "text",
    "id": "CvSTEOMloQVs"
   },
   "source": [
    "# 4. CONCLUSIONS\n"
   ]
  },
  {
   "cell_type": "code",
   "execution_count": 76,
   "metadata": {
    "colab": {
     "base_uri": "https://localhost:8080/",
     "height": 173
    },
    "colab_type": "code",
    "id": "vYwUtzvioTXZ",
    "outputId": "cba44ff1-9808-4e07-ba9f-616fab43a080"
   },
   "outputs": [
    {
     "name": "stdout",
     "output_type": "stream",
     "text": [
      "--------------------Model 0: all features without feature selecion---------------------\n",
      "R2 score: 0.39463297771427264\n",
      "--------------------Rest of models: r2 scores based on features selected by each model-----------------\n",
      "{'Lasso': '0.39315651098116455', 'Ridge': '0.38786380847366697', 'Elastic-Net': '0.39377055739195754', 'Backward': '0.390040998439935', 'Forward': '0.390040998439935'}\n",
      "As it is shown,  we can archieve similar results using only some features for that model. That means that there are some features that are not relevant or gives us no-information. On that case, we can erase them to make our model easily to compute.\n",
      "The best perform has been given by:\n",
      "0.39377055739195754\n",
      "And it has been given by the Elastic-Net model.\n"
     ]
    }
   ],
   "source": [
    "\n",
    "\n",
    "\n",
    "\n",
    "print(\"--------------------Model 0: all features without feature selecion---------------------\")\n",
    "print(\"R2 score: \" +str(r2_score_ridge))\n",
    "\n",
    "print(\"--------------------Rest of models: r2 scores based on features selected by each model-----------------\")\n",
    "r2_dict = {\n",
    "  \"Lasso\": l1,\n",
    "  \"Ridge\": l2,\n",
    "  \"Elastic-Net\": en,\n",
    "  \"Backward\": bw,\n",
    "  \"Forward\": fw,\n",
    "}\n",
    "print(r2_dict)\n",
    "print(\"As it is shown,  we can archieve similar results using only some features for that model. That means that there are some features that are not relevant or gives us no-information. On that case, we can erase them to make our model easily to compute.\")\n",
    "print(\"The best perform has been given by:\")\n",
    "values = np.array(list(r2_dict.values()))\n",
    "print(max(values))\n",
    "print(\"And it has been given by the \"+ np.array(list(r2_dict.keys()))[np.argmax(values)]  +\" model.\") "
   ]
  }
 ],
 "metadata": {
  "colab": {
   "collapsed_sections": [],
   "name": "Homework1.ipynb",
   "provenance": []
  },
  "kernelspec": {
   "display_name": "Python 3",
   "language": "python",
   "name": "python3"
  },
  "language_info": {
   "codemirror_mode": {
    "name": "ipython",
    "version": 3
   },
   "file_extension": ".py",
   "mimetype": "text/x-python",
   "name": "python",
   "nbconvert_exporter": "python",
   "pygments_lexer": "ipython3",
   "version": "3.6.4"
  }
 },
 "nbformat": 4,
 "nbformat_minor": 1
}

