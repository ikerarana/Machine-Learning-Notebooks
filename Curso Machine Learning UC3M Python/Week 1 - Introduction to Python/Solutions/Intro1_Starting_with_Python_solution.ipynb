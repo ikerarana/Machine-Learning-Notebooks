{
 "cells": [
  {
   "cell_type": "markdown",
   "metadata": {
    "colab_type": "text",
    "id": "m6ZCShOpJpWT"
   },
   "source": [
    "# A brief tutorial of basic python\n",
    "\n",
    "Notebook version: \n",
    "   * 1.0 (Sep 3, 2018) - Adapted to TMDE\n",
    "\n",
    "Authors: Jerónimo Arenas García (jeronimo.arenas@uc3m.es), Jesús Cid Sueiro (jcid@tsc.uc3m.es), Vanessa Gómez Verdejo (vanessa@tsc.uc3m.es), Óscar García Hinde (oghinnde@tsc.uc3m.es), Simón Roca Sotelo (sroca@tsc.uc3m.es)\n",
    "\n",
    "Pending: adding dictionaries"
   ]
  },
  {
   "cell_type": "code",
   "execution_count": null,
   "metadata": {
    "colab": {},
    "colab_type": "code",
    "id": "5lCpZjqLKuYP"
   },
   "outputs": [],
   "source": []
  },
  {
   "cell_type": "markdown",
   "metadata": {
    "colab_type": "text",
    "id": "_U4XTaBiJpWW"
   },
   "source": [
    "From wikipedia: \"Python is a widely used general-purpose, high-level programming language. Its design philosophy emphasizes code readability, and its syntax allows programmers to express concepts in fewer lines of code than would be possible in languages such as C++ or Java. The language provides constructs intended to enable clear programs on both a small and large scale.\"\n",
    "\n",
    "To easily work with Python from any computer we can use [Google Colaboratory tool](https://colab.research.google.com/notebooks/welcome.ipynb), which provides a free envoriment to run Python Jupyter notebooks.  \n",
    "\n",
    "Throughout this tutorial, students will learn some basic characteristics of the Python programming language, as well as the main characteristics of the Python notebooks."
   ]
  },
  {
   "cell_type": "markdown",
   "metadata": {
    "colab_type": "text",
    "id": "bwEJEbp8MBZn"
   },
   "source": [
    "# A Python Jupyter Notebook \n",
    "\n",
    "A python noteboook is an interactive web page made up of cells where each cell can contain text (like this one) or executable code. For instance, the next cell cotains excutable code:"
   ]
  },
  {
   "cell_type": "code",
   "execution_count": null,
   "metadata": {
    "colab": {
     "base_uri": "https://localhost:8080/",
     "height": 34
    },
    "colab_type": "code",
    "id": "gmjVmN16OCuD",
    "outputId": "afe060d3-3e5f-470f-d7f8-6d3dc184b58a"
   },
   "outputs": [],
   "source": [
    "a = 'house'\n",
    "print(a)"
   ]
  },
  {
   "cell_type": "markdown",
   "metadata": {
    "colab_type": "text",
    "id": "MH70i6FHOGZp"
   },
   "source": [
    "To run this code and check its output, you firstly have to be conected to a Python  runtime server (check the top right pannel) and then you can:\n",
    "* Select the cell to be run and click the Play button (on the left)\n",
    "* Select the cell to be run and type Cmd/Ctrl+Enter \n",
    "* Select the cell to be run and Type Shift+Enter to run the cell. In this case, you additionaly will be moved to the next cell.\n",
    "\n",
    "Besides, you can use the options of the Runtime (on the top menu) to run several cells at the same time or stop a execution."
   ]
  },
  {
   "cell_type": "markdown",
   "metadata": {
    "colab_type": "text",
    "id": "rcdx7N5bJpWY"
   },
   "source": [
    "# Introduction to Python\n",
    "\n",
    "## 1. Introduction to Strings"
   ]
  },
  {
   "cell_type": "markdown",
   "metadata": {
    "colab_type": "text",
    "id": "YFuxC8zVJpWb"
   },
   "source": [
    "Among the different native python types, we will focus on strings, since they will be the core type that we will recur to represent text. Essentially, a string is just a concatenation of characters."
   ]
  },
  {
   "cell_type": "code",
   "execution_count": null,
   "metadata": {
    "colab": {},
    "colab_type": "code",
    "id": "KANFMqSqJpWe"
   },
   "outputs": [],
   "source": [
    "str1 = '\"Hola\" is how we say \"hello\" in Spanish.'\n",
    "str2 = \"Strings can also be defined with quotes; try to be sistematic and consistent.\""
   ]
  },
  {
   "cell_type": "markdown",
   "metadata": {
    "colab_type": "text",
    "id": "5yarHqiMJpWm"
   },
   "source": [
    "It is easy to check the type of a variable with the type() command:"
   ]
  },
  {
   "cell_type": "code",
   "execution_count": null,
   "metadata": {
    "colab": {
     "base_uri": "https://localhost:8080/",
     "height": 85
    },
    "colab_type": "code",
    "id": "dRfBaiDCJpWn",
    "outputId": "3398240d-dc8b-440a-e8e1-1c445a17e9a9"
   },
   "outputs": [],
   "source": [
    "print(str1)\n",
    "print(type(str1))\n",
    "print(type(3))\n",
    "print(type(3.))"
   ]
  },
  {
   "cell_type": "markdown",
   "metadata": {
    "colab_type": "text",
    "id": "x-94okxWJpWu"
   },
   "source": [
    "The following commands implement some common operations with strings in Python. Take a look at them, and try to deduce what the result of each operation will be. Then, execute the commands and check what the actual results are."
   ]
  },
  {
   "cell_type": "code",
   "execution_count": null,
   "metadata": {
    "colab": {
     "base_uri": "https://localhost:8080/",
     "height": 34
    },
    "colab_type": "code",
    "id": "gna869bGJpWw",
    "outputId": "4a5b7701-a341-44e1-9832-674153e69032"
   },
   "outputs": [],
   "source": [
    "print(str1[0:5])"
   ]
  },
  {
   "cell_type": "code",
   "execution_count": null,
   "metadata": {
    "colab": {
     "base_uri": "https://localhost:8080/",
     "height": 34
    },
    "colab_type": "code",
    "id": "kGjVP3QmJpW2",
    "outputId": "724909d3-461f-4ca9-b2ff-1611887b8d1a"
   },
   "outputs": [],
   "source": [
    "print(str1 + str2)"
   ]
  },
  {
   "cell_type": "code",
   "execution_count": null,
   "metadata": {
    "colab": {
     "base_uri": "https://localhost:8080/",
     "height": 34
    },
    "colab_type": "code",
    "id": "pEv5Lj8hJpW8",
    "outputId": "156585e2-85c1-4e52-b83b-5ecfc99cfadc"
   },
   "outputs": [],
   "source": [
    "print(str1.lower())"
   ]
  },
  {
   "cell_type": "code",
   "execution_count": null,
   "metadata": {
    "colab": {
     "base_uri": "https://localhost:8080/",
     "height": 34
    },
    "colab_type": "code",
    "id": "-txasR63JpXC",
    "outputId": "8f6fd1eb-be73-4057-8fb5-99f9ebe575b8"
   },
   "outputs": [],
   "source": [
    "print(str1.upper())"
   ]
  },
  {
   "cell_type": "code",
   "execution_count": null,
   "metadata": {
    "colab": {
     "base_uri": "https://localhost:8080/",
     "height": 34
    },
    "colab_type": "code",
    "id": "iSTDsJ5FJpXJ",
    "outputId": "f636a046-8956-40f6-ca4d-2a80811b81c6"
   },
   "outputs": [],
   "source": [
    "print(len(str1))"
   ]
  },
  {
   "cell_type": "code",
   "execution_count": null,
   "metadata": {
    "colab": {
     "base_uri": "https://localhost:8080/",
     "height": 34
    },
    "colab_type": "code",
    "id": "CR5ve9tGJpXO",
    "outputId": "64af2422-3b1d-4013-80e9-f3f48def5488"
   },
   "outputs": [],
   "source": [
    "print(str1.replace('h','H'))"
   ]
  },
  {
   "cell_type": "code",
   "execution_count": null,
   "metadata": {
    "colab": {
     "base_uri": "https://localhost:8080/",
     "height": 34
    },
    "colab_type": "code",
    "id": "EE4lK_ATJpXU",
    "outputId": "fbef5695-e993-479f-81c9-8b49792a44a2"
   },
   "outputs": [],
   "source": [
    "str3= 'This is a question'\n",
    "str3=str3.replace('i', 'o')\n",
    "str3=str3.lower()\n",
    "print(str3[0:3])"
   ]
  },
  {
   "cell_type": "markdown",
   "metadata": {
    "colab_type": "text",
    "id": "mxEQ1qsJJpXc"
   },
   "source": [
    "It is interesting to notice the difference in the use of commands 'lower' and 'len'. Python is an object-oriented language, and str1 is an instance of the Python class 'string'. Then, str1.lower() invokes the method lower() of the class string to which object str1 belongs, while len(str1) or type(str1) imply the use of external methods, not belonging to the class string. In any case, we will not pay (much) attention to these issues during the session."
   ]
  },
  {
   "cell_type": "markdown",
   "metadata": {
    "colab_type": "text",
    "id": "Fo0VZsxBJpXe"
   },
   "source": [
    "Finally, we remark that there exist special characters that require special consideration. Apart from language-oriented characters or special symbols (e.g., \\euro), the following characters are commonly used to denote carriage return and the start of new lines"
   ]
  },
  {
   "cell_type": "code",
   "execution_count": null,
   "metadata": {
    "colab": {
     "base_uri": "https://localhost:8080/",
     "height": 34
    },
    "colab_type": "code",
    "id": "6cm_3NYNJpXf",
    "outputId": "05c673ee-cb2d-4832-8410-5b68283f3e14"
   },
   "outputs": [],
   "source": [
    "print('This is just a carriage return symbol.\\r Second line will start on top of the first line.')"
   ]
  },
  {
   "cell_type": "code",
   "execution_count": null,
   "metadata": {
    "colab": {
     "base_uri": "https://localhost:8080/",
     "height": 51
    },
    "colab_type": "code",
    "id": "-909Wto_JpXk",
    "outputId": "9e6e8c61-cd2a-4f11-8ed8-d44c027e4bd2"
   },
   "outputs": [],
   "source": [
    "print('If you wish to start a new line,\\r\\nthe line feed character should also be used.')"
   ]
  },
  {
   "cell_type": "code",
   "execution_count": null,
   "metadata": {
    "colab": {
     "base_uri": "https://localhost:8080/",
     "height": 51
    },
    "colab_type": "code",
    "id": "dk_FvJt_JpXq",
    "outputId": "1b9dcc88-6c04-40ea-e465-871bff4e5e68"
   },
   "outputs": [],
   "source": [
    "print('But note that most applications are tolerant\\nto the use of \\'line feed\\' only.')"
   ]
  },
  {
   "cell_type": "markdown",
   "metadata": {
    "colab_type": "text",
    "id": "GiGMYWtcJpXv"
   },
   "source": [
    "## 2. Working with Python lists"
   ]
  },
  {
   "cell_type": "markdown",
   "metadata": {
    "colab_type": "text",
    "id": "ZXaL2Q1EJpXw"
   },
   "source": [
    "Python lists are containers that hold a number of other objects, in a given order. To create a list, just put different comma-separated values between square brackets"
   ]
  },
  {
   "cell_type": "code",
   "execution_count": null,
   "metadata": {
    "colab": {
     "base_uri": "https://localhost:8080/",
     "height": 68
    },
    "colab_type": "code",
    "id": "G0cjZ6YZJpXw",
    "outputId": "20d8f887-ab63-4299-a5cf-1d7d28b3a862"
   },
   "outputs": [],
   "source": [
    "list1 = ['student', 'teacher', 1997, 2000]\n",
    "print(list1)\n",
    "list2 = [1, 2, 3, 4, 5]\n",
    "print(list2)\n",
    "list3 = ['a', 'b', 'c', 'd']\n",
    "print(list3)"
   ]
  },
  {
   "cell_type": "markdown",
   "metadata": {
    "colab_type": "text",
    "id": "UKuwrT6HJpX0"
   },
   "source": [
    "To check the value of a list element, indicate between brackets the index (or indices) to obtain the value (or values) at that position (positions).\n",
    "\n",
    "Run the code fragment below, and try to guess what the output of each command will be.\n",
    "\n",
    "Note: Python indexing starts from 0!!!!"
   ]
  },
  {
   "cell_type": "code",
   "execution_count": null,
   "metadata": {
    "colab": {
     "base_uri": "https://localhost:8080/",
     "height": 68
    },
    "colab_type": "code",
    "id": "GgkZdOBEJpX1",
    "outputId": "0816e731-adc0-46d6-f865-68bc4e92949c"
   },
   "outputs": [],
   "source": [
    "print(list1[0])\n",
    "print(list2[2:4])\n",
    "print(list3[-1])"
   ]
  },
  {
   "cell_type": "markdown",
   "metadata": {
    "colab_type": "text",
    "id": "tbWWs6xUJpX9"
   },
   "source": [
    "To add elements in a list you can use the method append() and to remove them the method remove()"
   ]
  },
  {
   "cell_type": "code",
   "execution_count": null,
   "metadata": {
    "colab": {
     "base_uri": "https://localhost:8080/",
     "height": 51
    },
    "colab_type": "code",
    "id": "nBOhUazuJpX_",
    "outputId": "037a1a07-3d28-4505-c4ec-2137d6e805a4"
   },
   "outputs": [],
   "source": [
    "list1 = ['student', 'teacher', 1997, 2000]\n",
    "list1.append(3)\n",
    "print(list1)\n",
    "list1.remove('teacher')\n",
    "print(list1)"
   ]
  },
  {
   "cell_type": "markdown",
   "metadata": {
    "colab_type": "text",
    "id": "PVlcdWQSJpYK"
   },
   "source": [
    "Other useful functions are:\n",
    "   \n",
    "    len(list): Gives the number of elements in a list.    \n",
    "    max(list): Returns item from the list with max value.  \n",
    "    min(list): Returns item from the list with min value."
   ]
  },
  {
   "cell_type": "code",
   "execution_count": null,
   "metadata": {
    "colab": {
     "base_uri": "https://localhost:8080/",
     "height": 68
    },
    "colab_type": "code",
    "id": "YIe7kcuVJpYM",
    "outputId": "372b2c56-03d1-4f61-b7f8-30b30aa75bba"
   },
   "outputs": [],
   "source": [
    "list2 = [1, 2, 3, 4, 5]\n",
    "print(len(list2))\n",
    "print(max(list2))\n",
    "print(min(list2))"
   ]
  },
  {
   "cell_type": "markdown",
   "metadata": {
    "colab_type": "text",
    "id": "B6hBxARxJpYS"
   },
   "source": [
    "## 3. Flow control (with 'for' and 'if')"
   ]
  },
  {
   "cell_type": "markdown",
   "metadata": {
    "colab_type": "text",
    "id": "cAgs0aYWJpYT"
   },
   "source": [
    "As in other programming languages, python offers mechanisms to loop through a piece of code several times, or for conditionally executing a code fragment when certain conditions are satisfied. \n",
    "\n",
    "For conditional execution, you can we use the 'if', 'elif' and 'else' statements.\n",
    "\n",
    "Try to play with the following example:"
   ]
  },
  {
   "cell_type": "code",
   "execution_count": null,
   "metadata": {
    "colab": {
     "base_uri": "https://localhost:8080/",
     "height": 51
    },
    "colab_type": "code",
    "id": "SFfp-TGAJpYV",
    "outputId": "471cbd7f-2499-47bb-97ca-bcc6dcdcd3ae"
   },
   "outputs": [],
   "source": [
    "x = int(input('Please enter an integer: '))\n",
    "if x < 0:\n",
    "    x = 0\n",
    "    print('Negative changed to zero')\n",
    "elif x == 0:\n",
    "    print('Zero')\n",
    "elif x == 1:\n",
    "    print('Single')\n",
    "else:\n",
    "    print('More')"
   ]
  },
  {
   "cell_type": "markdown",
   "metadata": {
    "colab_type": "text",
    "id": "W6CuGBpEJpYb"
   },
   "source": [
    "The above fragment, allows us also to discuss some important characteristics of the Python language syntaxis:\n",
    "\n",
    "* Unlike other languages, Python does not require to use the 'end' keyword to indicate that a given code fragment finishes. Instead, Python recurs to indentation\n",
    "\n",
    "* Indentation in Python is mandatory, and consists of 4 spaces (for first level indentation)\n",
    "\n",
    "* The condition lines conclude with ':', which are then followed by the indented blocks that will be executed only when the indicated conditions are satisfied.\n",
    "   \n",
    "\n",
    "\n",
    "The statement 'for' lets you iterate over the items of any sequence (a list or a string), in the order that they appear in the sequence"
   ]
  },
  {
   "cell_type": "code",
   "execution_count": null,
   "metadata": {
    "colab": {
     "base_uri": "https://localhost:8080/",
     "height": 68
    },
    "colab_type": "code",
    "id": "0qNG65aMJpYc",
    "outputId": "8c01027d-0b4a-494d-cf62-2de886487fe9"
   },
   "outputs": [],
   "source": [
    "words = ['cat', 'window', 'open-course']\n",
    "for w in words:\n",
    "     print (w, len(w))"
   ]
  },
  {
   "cell_type": "markdown",
   "metadata": {
    "colab_type": "text",
    "id": "j6frMLSzJpYh"
   },
   "source": [
    "In combination with enumerate(), you can iterate over the elements of the sequence and have a counter over them"
   ]
  },
  {
   "cell_type": "code",
   "execution_count": null,
   "metadata": {
    "colab": {
     "base_uri": "https://localhost:8080/",
     "height": 69
    },
    "colab_type": "code",
    "id": "m8rpqZd3JpYl",
    "outputId": "7193875a-76ae-48b3-9f0d-9e54173428cc"
   },
   "outputs": [],
   "source": [
    "words = ['cat', 'window', 'open-course']\n",
    "for (i, w) in enumerate(words):\n",
    "     print ('element ' + str(i) + ' is ' + w)"
   ]
  },
  {
   "cell_type": "markdown",
   "metadata": {
    "colab_type": "text",
    "id": "tWf5ct4k3CDz"
   },
   "source": [
    "Python is very expressive and flexible when it comes to list creation and manipulation. Check out this interesting block of code and try to figure out what it's doing:"
   ]
  },
  {
   "cell_type": "code",
   "execution_count": null,
   "metadata": {
    "colab": {
     "base_uri": "https://localhost:8080/",
     "height": 51
    },
    "colab_type": "code",
    "id": "lIWDact03HHX",
    "outputId": "fca2e053-ccd2-4fd1-fb68-a6ba2fbbadfa"
   },
   "outputs": [],
   "source": [
    "# Python one-liners are great:\n",
    "x = [1, 2, 3, 4, 5]\n",
    "y = [i**2 for i in x]\n",
    "print('x = ', x, '\\ny = ', y)"
   ]
  },
  {
   "cell_type": "markdown",
   "metadata": {
    "colab_type": "text",
    "id": "JuTYztq7JpYo"
   },
   "source": [
    "## 4. File input and output operations"
   ]
  },
  {
   "cell_type": "markdown",
   "metadata": {
    "colab_type": "text",
    "id": "3-gsOU4FJpYp"
   },
   "source": [
    "First of all, you need to open a file with the open() function (if the file does not exist, the open() function will create it). "
   ]
  },
  {
   "cell_type": "code",
   "execution_count": null,
   "metadata": {
    "colab": {},
    "colab_type": "code",
    "id": "a5KvqplXJpYq"
   },
   "outputs": [],
   "source": [
    "f = open('workfile', 'w')"
   ]
  },
  {
   "cell_type": "markdown",
   "metadata": {
    "colab_type": "text",
    "id": "qu6CxTgbJpYw"
   },
   "source": [
    "The first argument is a string containing the filename. The second argument defines the mode in which the file will be used:\n",
    "\n",
    "    'r' : only to be read,\n",
    "    'w' : for only writing (an existing file with the same name would be erased),\n",
    "    'a' : the file is opened for appending; any data written to the file is automatically appended to the end. \n",
    "    'r+': opens the file for both reading and writing. \n",
    "\n",
    "If the mode argument is not included, 'r' will be assumed."
   ]
  },
  {
   "cell_type": "markdown",
   "metadata": {
    "colab_type": "text",
    "id": "g3EsbVk2JpYw"
   },
   "source": [
    "Use f.write(string) to write  the contents of a string to the file.  When you are done, do not forget to close the file:"
   ]
  },
  {
   "cell_type": "code",
   "execution_count": null,
   "metadata": {
    "colab": {},
    "colab_type": "code",
    "id": "Kd2R3qQZJpYy"
   },
   "outputs": [],
   "source": [
    "f.write('This is a test\\n with 2 lines')\n",
    "f.close()"
   ]
  },
  {
   "cell_type": "markdown",
   "metadata": {
    "colab_type": "text",
    "id": "YuqJ05c-JpY4"
   },
   "source": [
    "To read the content of a file, use the function f.read():"
   ]
  },
  {
   "cell_type": "code",
   "execution_count": null,
   "metadata": {
    "colab": {
     "base_uri": "https://localhost:8080/",
     "height": 51
    },
    "colab_type": "code",
    "id": "UIKH9WZIJpY4",
    "outputId": "656cb5c4-a4cf-4f19-d871-7cfbd180b960"
   },
   "outputs": [],
   "source": [
    "f2 = open('workfile', 'r')\n",
    "text = f2.read()\n",
    "f2.close()\n",
    "print(text)"
   ]
  },
  {
   "cell_type": "markdown",
   "metadata": {
    "colab_type": "text",
    "id": "x6k7eYGtJpY7"
   },
   "source": [
    "You can also read line by line from the file identifier"
   ]
  },
  {
   "cell_type": "code",
   "execution_count": null,
   "metadata": {
    "colab": {
     "base_uri": "https://localhost:8080/",
     "height": 68
    },
    "colab_type": "code",
    "id": "4NWi8fRGJpY8",
    "outputId": "2d4d38d0-c073-432f-acbd-16b397e09a7c"
   },
   "outputs": [],
   "source": [
    "f2 = open('workfile', 'r')\n",
    "for line in f2:\n",
    "    print(line)\n",
    "\n",
    "f2.close()"
   ]
  },
  {
   "cell_type": "markdown",
   "metadata": {
    "colab_type": "text",
    "id": "ezs1cI4UJpY-"
   },
   "source": [
    "## 5. Importing modules"
   ]
  },
  {
   "cell_type": "markdown",
   "metadata": {
    "colab_type": "text",
    "id": "JcZJr_Z-JpY_"
   },
   "source": [
    "Python lets you define modules which are files consisting of Python code. A module can define functions, classes and variables.\n",
    "\n",
    "Most Python distributions already include the most popular modules with predefined libraries which make our programmer lives easier. Some well-known libraries are: time, sys, os, numpy, etc.\n",
    "    \n",
    "There are several ways to import a library:"
   ]
  },
  {
   "cell_type": "markdown",
   "metadata": {
    "colab_type": "text",
    "id": "f0oqiJfgJpZA"
   },
   "source": [
    "1) Import all the contents of the library: import lib_name\n",
    "\n",
    "Note: You have to call these methods as part of the library"
   ]
  },
  {
   "cell_type": "code",
   "execution_count": null,
   "metadata": {
    "colab": {
     "base_uri": "https://localhost:8080/",
     "height": 51
    },
    "colab_type": "code",
    "id": "MOeihKoGJpZB",
    "outputId": "67605874-8cab-4ec2-ccb4-7a8fd193c7d7"
   },
   "outputs": [],
   "source": [
    "import time\n",
    "print(time.time())  # returns the current processor time in seconds\n",
    "time.sleep(2) # suspends execution for the given number of seconds\n",
    "print(time.time()) # returns the current processor time in seconds again!!!"
   ]
  },
  {
   "cell_type": "markdown",
   "metadata": {
    "colab_type": "text",
    "id": "wiMG-7eeJpZE"
   },
   "source": [
    "2) Define a short name to use the library: import lib_name as lib\n"
   ]
  },
  {
   "cell_type": "code",
   "execution_count": null,
   "metadata": {
    "colab": {
     "base_uri": "https://localhost:8080/",
     "height": 34
    },
    "colab_type": "code",
    "id": "VznvoUmiJpZH",
    "outputId": "94aaae66-ebed-452a-ec24-d2271b7737bb"
   },
   "outputs": [],
   "source": [
    "import time as t\n",
    "print(t.time())"
   ]
  },
  {
   "cell_type": "markdown",
   "metadata": {
    "colab_type": "text",
    "id": "eA5Sn_7CJpZJ"
   },
   "source": [
    "3) Import only some elements of the library \n",
    "\n",
    "Note: now you have to use the methods directly"
   ]
  },
  {
   "cell_type": "code",
   "execution_count": null,
   "metadata": {
    "colab": {
     "base_uri": "https://localhost:8080/",
     "height": 51
    },
    "colab_type": "code",
    "id": "j1RhwBmwJpZK",
    "outputId": "ac5f0a83-7e30-493e-9344-63f295d24e93"
   },
   "outputs": [],
   "source": [
    "from time import time, sleep\n",
    "print(time())\n",
    "sleep(2)\n",
    "print(time())"
   ]
  },
  {
   "cell_type": "markdown",
   "metadata": {
    "colab_type": "text",
    "id": "ibvKIbQIu_Ca"
   },
   "source": [
    "## 6. User defined functions"
   ]
  },
  {
   "cell_type": "markdown",
   "metadata": {
    "colab_type": "text",
    "id": "x3RpGkZLvFs3"
   },
   "source": [
    "A function is a block of organized, reusable code that is used to perform a single, related action. Functions provide better modularity and a high degree of code reusing.\n",
    "\n",
    "As we have seen, Python gives us many built-in functions like print(), etc. but you can also create your own functions.\n",
    "\n",
    "### Defining a function:\n",
    "\n",
    "-  Function blocks begin with the keyword `def` followed by the function name and parentheses ( ( ) ).\n",
    "\n",
    "-  Any input parameters or arguments should be placed within these parentheses. You can also define parameters inside these parentheses.\n",
    "\n",
    "-  The first statement of a function can be an optional statement - the documentation string of the function or docstring. Docstring blocks start and ed with triple quotes (`\"\"\"`).\n",
    "\n",
    "-  The code block within every function starts with a colon (`:`) and is indented.\n",
    "\n",
    "-  The statement `return [expression]` exits a function, optionally passing back an expression to the caller. A return statement with no arguments is the same as `return None`."
   ]
  },
  {
   "cell_type": "code",
   "execution_count": null,
   "metadata": {
    "colab": {
     "base_uri": "https://localhost:8080/",
     "height": 68
    },
    "colab_type": "code",
    "id": "nNQ408lXw6Pg",
    "outputId": "e0980249-3789-426d-d0f0-fd49c096b795"
   },
   "outputs": [],
   "source": [
    "# Example of a function:\n",
    "\n",
    "def add_five(a):\n",
    "  \"\"\"This function adds the number five to its input argument.\"\"\"\n",
    "  return a + 5\n",
    "\n",
    "# Let's try it out!\n",
    "x = int(input('Please enter an integer: '))\n",
    "print('Our add_five function is super effective at adding fives:')\n",
    "print(x, '+ 5 =', add_five(x))"
   ]
  },
  {
   "cell_type": "markdown",
   "metadata": {
    "colab_type": "text",
    "id": "h7ndVcC7fpns"
   },
   "source": [
    "Now try it yourself! Write a function called my_factorial that computes the fatorial of a given number. If you're feeling brave today, you can try writing it recursively since Python obviously supports recursion. Remember that the factorial of 0 is 1 and the factorial of a negative number is undefined."
   ]
  },
  {
   "cell_type": "code",
   "execution_count": null,
   "metadata": {
    "colab": {
     "base_uri": "https://localhost:8080/",
     "height": 68
    },
    "colab_type": "code",
    "id": "MNWzDaxkfo5Y",
    "outputId": "3df688c5-b769-4ba2-cfa2-885154f9a2a5"
   },
   "outputs": [],
   "source": [
    "# Write a function that computes the factorial of a given number.\n",
    "\n",
    "# <FILL IN>\n",
    "def my_factorial(n):\n",
    "    if n > 1:\n",
    "        return n * my_factorial(n - 1)\n",
    "    else:\n",
    "        return 1\n",
    " \n",
    "# Let's try it out!\n",
    "from math import factorial\n",
    "x = int(input('Please enter an integer: '))\n",
    "if my_factorial(x) == factorial(x):\n",
    "  print(x, '! = ', my_factorial(x))\n",
    "  print('It works!')\n",
    "else:\n",
    "  print(\"Something's not working...\" )"
   ]
  }
 ],
 "metadata": {
  "colab": {
   "collapsed_sections": [],
   "name": "Intro1_Starting_with_Python.ipynb",
   "provenance": [],
   "version": "0.3.2"
  },
  "kernelspec": {
   "display_name": "Python 2",
   "language": "python",
   "name": "python2"
  },
  "language_info": {
   "codemirror_mode": {
    "name": "ipython",
    "version": 2
   },
   "file_extension": ".py",
   "mimetype": "text/x-python",
   "name": "python",
   "nbconvert_exporter": "python",
   "pygments_lexer": "ipython2",
   "version": "2.7.12"
  }
 },
 "nbformat": 4,
 "nbformat_minor": 1
}
