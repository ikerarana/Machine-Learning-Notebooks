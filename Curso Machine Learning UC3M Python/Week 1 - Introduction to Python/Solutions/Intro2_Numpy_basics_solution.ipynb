{
 "cells": [
  {
   "cell_type": "markdown",
   "metadata": {
    "colab_type": "text",
    "id": "JNaOGgkt9n9v",
    "slideshow": {
     "slide_type": "slide"
    }
   },
   "source": [
    "\n",
    "# Exercises about Numpy \n",
    "Notebook version: \n",
    "   * 1.0 (Mar 15, 2016) - First version - UTAD version\n",
    "   * 1.1 (Sep 12, 2017) - Python3 compatible\n",
    "   * 1.2 (Sep 3, 2018) - Adapted to TMDE (only numpy exercises)\n",
    "   * 1.3 (Sep 14, 2018) - Minor fixes.\n",
    "\n",
    "Authors: Jerónimo Arenas García (jeronimo.arenas@uc3m.es), Jesús Cid Sueiro (jcid@tsc.uc3m.es), Vanessa Gómez Verdejo (vanessa@tsc.uc3m.es), Óscar García Hinde (oghinde@tsc.uc3m.es), Simón Roca Sotelo (sroca@tsc.uc3m.es)\n",
    "\n",
    "Pending changes: More exercises about numpy and add other libraries: scipy, math, ....\n"
   ]
  },
  {
   "cell_type": "markdown",
   "metadata": {
    "colab_type": "text",
    "id": "FiLmmt369n-D",
    "slideshow": {
     "slide_type": "skip"
    }
   },
   "source": [
    "This notebook reviews Numpy arrays and matrices, and some of the common operations which are needed when working with these data structures."
   ]
  },
  {
   "cell_type": "markdown",
   "metadata": {
    "colab_type": "text",
    "id": "k5idaAwG90iS"
   },
   "source": [
    "# 1. Importing numpy"
   ]
  },
  {
   "cell_type": "code",
   "execution_count": 0,
   "metadata": {
    "colab": {},
    "colab_type": "code",
    "collapsed": true,
    "id": "48OgrbjVxBE2"
   },
   "outputs": [],
   "source": [
    "# Import numpy library\n",
    "\n",
    "import numpy as np"
   ]
  },
  {
   "cell_type": "markdown",
   "metadata": {
    "colab_type": "text",
    "id": "Y33M-qyx9n-G",
    "slideshow": {
     "slide_type": "skip"
    }
   },
   "source": [
    "# 2. Numpy exercises\n",
    "\n",
    "## 2.1. Create numpy arrays \n",
    "\n",
    "The following code fragment defines variable `x` as a list of 4 integers, you can check that by printing the type of any element of `x`. "
   ]
  },
  {
   "cell_type": "code",
   "execution_count": 4,
   "metadata": {
    "colab": {
     "base_uri": "https://localhost:8080/",
     "height": 34
    },
    "colab_type": "code",
    "collapsed": false,
    "id": "knpY11S-9n-J",
    "outputId": "23b93c10-3827-46e6-9a6b-b092655749d3",
    "slideshow": {
     "slide_type": "skip"
    }
   },
   "outputs": [
    {
     "name": "stdout",
     "output_type": "stream",
     "text": [
      "<class 'int'>\n"
     ]
    }
   ],
   "source": [
    "x = [5, 4, 3, 4]\n",
    "print(type(x[0]))\n"
   ]
  },
  {
   "cell_type": "markdown",
   "metadata": {
    "colab_type": "text",
    "id": "uvdon6es1tgG"
   },
   "source": [
    "If you want to apply a transformation over each element of this list you have to build a loop and operate over each element. Complete the following code to create a new list with the same elements as x, but where each element of the list is a float (you can use the float() function)."
   ]
  },
  {
   "cell_type": "code",
   "execution_count": 5,
   "metadata": {
    "colab": {
     "base_uri": "https://localhost:8080/",
     "height": 51
    },
    "colab_type": "code",
    "collapsed": false,
    "id": "ANjEN9iK2Hu3",
    "outputId": "a706ab80-a3d3-4a98-fab2-7235f31a07f7"
   },
   "outputs": [
    {
     "name": "stdout",
     "output_type": "stream",
     "text": [
      "[5.0, 4.0, 3.0, 4.0]\n",
      "<class 'float'>\n"
     ]
    }
   ],
   "source": [
    "# Create a list of floats containing the same elements as in x\n",
    "\n",
    "x_f = []\n",
    "for element in x:\n",
    "  #<FILL IN>\n",
    "  x_f.append(float(element))\n",
    "  \n",
    "print(x_f)\n",
    "print(type(x_f[0]))"
   ]
  },
  {
   "cell_type": "markdown",
   "metadata": {
    "colab_type": "text",
    "id": "x3JD1Xx93Meu"
   },
   "source": [
    "The output should be:\n",
    "```\n",
    "[5.0, 4.0, 3.0, 4.0]\n",
    "<class 'float'>\n",
    "```\n",
    "\n"
   ]
  },
  {
   "cell_type": "markdown",
   "metadata": {
    "colab_type": "text",
    "id": "pTxKU3g89n-b",
    "slideshow": {
     "slide_type": "skip"
    }
   },
   "source": [
    "Numpy is a python library that lets you work with data vectors and matrices (we will call them numpy arrays) and directly apply operations over these arrays without the need to operate element by element.\n",
    "\n",
    "Numpy arrays can be defined directly using methods such as `np.arange()`, `np.ones()`, `np.zeros()`, `np.eye()`, as well as random number generators. Alternatively, you can easily generate them from python lists (or lists of lists) containing elements of a numerical type by using `np.array(my_list)`.\n",
    "\n",
    "You can easily check the shape of any numpy array with the property `.shape`."
   ]
  },
  {
   "cell_type": "code",
   "execution_count": 8,
   "metadata": {
    "colab": {
     "base_uri": "https://localhost:8080/",
     "height": 204
    },
    "colab_type": "code",
    "collapsed": false,
    "id": "4ysbTHA19n-d",
    "outputId": "d61d31e3-b96f-45c1-e036-188c63aebf48",
    "slideshow": {
     "slide_type": "skip"
    }
   },
   "outputs": [
    {
     "name": "stdout",
     "output_type": "stream",
     "text": [
      "A vector that goes from 2 to 8 in steps of 2:  [2 4 6 8]\n",
      "\n",
      "A vector of length 5 that spans from 0 to 1 in constant increments:\n",
      " [0.   0.25 0.5  0.75 1.  ]\n",
      "\n",
      "The type of variable x_f is  <class 'list'>\n",
      "The type of variable x is  <class 'numpy.ndarray'>\n",
      "\n",
      "The variable x has shape  (4,)\n",
      "The variable y has shape  (8,)\n",
      "The variable z has shape  (2, 2)\n"
     ]
    }
   ],
   "source": [
    "# Numpy arrays can be created from numeric lists or using different numpy methods\n",
    "y = np.arange(8) + 1\n",
    "x = np.array(x_f)\n",
    "z = np.array([[1, 2], [2, 1]])\n",
    "\n",
    "# The arange() function generates vectors of equally spaced numbers. We can \n",
    "# specify start and stop positions as well as the step length (the steps don't \n",
    "# need to be integers!):\n",
    "print('A vector that goes from 2 to 8 in steps of 2: ', np.arange(2, 9, 2))\n",
    "\n",
    "# Numpy also has a linspace() function that works exactly like its Matlab \n",
    "# counterpart:\n",
    "print('\\nA vector of length 5 that spans from 0 to 1 in constant increments:\\n', \n",
    "      np.linspace(0, 1, 5))\n",
    "\n",
    "# Check the different data types involved\n",
    "print('\\nThe type of variable x_f is ', type(x_f))\n",
    "print('The type of variable x is ', type(x))\n",
    "\n",
    "# Print the shapes of the numpy arrays\n",
    "print('\\nThe variable x has shape ', x.shape)\n",
    "print('The variable y has shape ', y.shape)\n",
    "print('The variable z has shape ', z.shape)"
   ]
  },
  {
   "cell_type": "markdown",
   "metadata": {
    "colab_type": "text",
    "id": "B9jUsGDV8mGu"
   },
   "source": [
    "Note: Compare the shape of x and y with the shape of z and note the difference between 1-D and N-D numpy arrays (`ndarrays`). We will later review this issue in detail...."
   ]
  },
  {
   "cell_type": "markdown",
   "metadata": {
    "colab_type": "text",
    "id": "h2C1DLO5yt6g"
   },
   "source": [
    "We can also convert a numpy array or matrix into a python list with the method `np.tolist()`."
   ]
  },
  {
   "cell_type": "code",
   "execution_count": 12,
   "metadata": {
    "colab": {
     "base_uri": "https://localhost:8080/",
     "height": 136
    },
    "colab_type": "code",
    "collapsed": false,
    "id": "ZYkijKLfy2eU",
    "outputId": "fd4e228e-9617-4a16-bf5c-576f0e7e97e2"
   },
   "outputs": [
    {
     "name": "stdout",
     "output_type": "stream",
     "text": [
      "[[0 1 2]\n",
      " [3 4 5]\n",
      " [6 7 8]]\n",
      "the type is:  <class 'numpy.ndarray'>\n",
      "\n",
      " [[0, 1, 2], [3, 4, 5], [6, 7, 8]]\n",
      "the type is:  <class 'list'>\n"
     ]
    }
   ],
   "source": [
    "my_array = np.arange(9).reshape((3, 3))\n",
    "print(my_array)\n",
    "print('the type is: ', type(my_array))\n",
    "\n",
    "# Convert my_array to list\n",
    "\n",
    "my_array_list =  my_array.tolist()\n",
    "print('\\n', my_array_list)\n",
    "print('the type is: ',type(my_array_list))"
   ]
  },
  {
   "cell_type": "markdown",
   "metadata": {
    "colab_type": "text",
    "id": "muEkQES76Umz"
   },
   "source": [
    "Complete the following exercises:"
   ]
  },
  {
   "cell_type": "code",
   "execution_count": 5,
   "metadata": {
    "colab": {
     "base_uri": "https://localhost:8080/",
     "height": 357
    },
    "colab_type": "code",
    "collapsed": false,
    "id": "wB8snyVZ7GTt",
    "outputId": "c2166c54-7d11-4469-de11-9b6c4a4e9b8f"
   },
   "outputs": [
    {
     "name": "stdout",
     "output_type": "stream",
     "text": [
      "[[1 2 3]\n",
      " [4 5 6]]\n",
      "Its shape is:  (2, 3)\n",
      "A 3x4 vector of zeros:\n",
      "[[0. 0. 0. 0.]\n",
      " [0. 0. 0. 0.]\n",
      " [0. 0. 0. 0.]]\n",
      "A 4x2 vector of ones:\n",
      "[[1. 1.]\n",
      " [1. 1.]\n",
      " [1. 1.]\n",
      " [1. 1.]]\n",
      "A 2x4 vector of ones:\n",
      "[[1. 1. 1. 1.]\n",
      " [1. 1. 1. 1.]]\n",
      "A 4x4 identity vector:\n",
      "[[1. 0. 0. 0.]\n",
      " [0. 1. 0. 0.]\n",
      " [0. 0. 1. 0.]\n",
      " [0. 0. 0. 1.]]\n"
     ]
    }
   ],
   "source": [
    "# 1. Define a new 2x3 array named my_array with [1, 2, 3] in the first row and \n",
    "# [4, 5, 6] in the second. Check the dimension of the array.\n",
    "my_array = np.array([[1, 2, 3],[4, 5, 6]])\n",
    "#my_array = <FILL IN>\n",
    "print(my_array)\n",
    "print('Its shape is: ', np.shape(my_array))\n",
    "\n",
    "#2. Define a new 3x4 array named my_zeros with all its elements to zero\n",
    "my_zeros = np.zeros((3,4))\n",
    "#my_zeros = <FILL IN>\n",
    "print('A 3x4 vector of zeros:') \n",
    "print(my_zeros)\n",
    "\n",
    "#3. Define a new 4x2 array named my_ones with all its elements to one\n",
    "my_ones = np.ones((4,2))\n",
    "#my_ones = <FILL IN>\n",
    "print('A 4x2 vector of ones:') \n",
    "print(my_ones)\n",
    "\n",
    "#4. Modify the dimensions of my_ones to a 2x4 array using command np.reshape()\n",
    "my_ones2 = my_ones.reshape((2,4))\n",
    "#my_ones2 = <FILL IN>\n",
    "print('A 2x4 vector of ones:') \n",
    "print(my_ones2)\n",
    "\n",
    "#5. Define a new 4x4 identity array named my_eye \n",
    "my_ones2 = np.eye((4))\n",
    "#my_ones2 = <FILL IN>\n",
    "print('A 4x4 identity vector:') \n",
    "print(my_ones2)"
   ]
  },
  {
   "cell_type": "markdown",
   "metadata": {
    "colab_type": "text",
    "id": "RTDRlKCrSU2_"
   },
   "source": [
    "The output should be:\n",
    "```\n",
    "[[1 2 3]\n",
    " [4 5 6]]\n",
    "Its shape is:  (2, 3)\n",
    "\n",
    "A 3x4 vector of zeros:\n",
    "[[0. 0. 0. 0.]\n",
    " [0. 0. 0. 0.]\n",
    " [0. 0. 0. 0.]]\n",
    "A 4x2 vector of ones:\n",
    "[[1. 1.]\n",
    " [1. 1.]\n",
    " [1. 1.]\n",
    " [1. 1.]]\n",
    "A 2x4 vector of ones:\n",
    "[[1. 1. 1. 1.]\n",
    " [1. 1. 1. 1.]]\n",
    "```"
   ]
  },
  {
   "cell_type": "markdown",
   "metadata": {
    "colab_type": "text",
    "id": "aowqd4X9YtpC"
   },
   "source": [
    "## 2.2 Numpy operations"
   ]
  },
  {
   "cell_type": "markdown",
   "metadata": {
    "colab_type": "text",
    "id": "EQD1XlRribiu"
   },
   "source": [
    "We can perform all the usual numerical and matrix operations with numpy. In the case of matrix addition and subtraction, we can use the common ''`+`'' or ''`-`'' operators:"
   ]
  },
  {
   "cell_type": "code",
   "execution_count": 24,
   "metadata": {
    "colab": {
     "base_uri": "https://localhost:8080/",
     "height": 255
    },
    "colab_type": "code",
    "collapsed": false,
    "id": "UYeFor2L7orM",
    "outputId": "62e07842-e2f7-4037-ad42-efb4ffc179ee"
   },
   "outputs": [
    {
     "name": "stdout",
     "output_type": "stream",
     "text": [
      "x1:\n",
      " [[0 1 2]\n",
      " [3 4 5]\n",
      " [6 7 8]] \n",
      "\n",
      "x2:\n",
      " [[1. 1. 1.]\n",
      " [1. 1. 1.]\n",
      " [1. 1. 1.]]\n",
      "\n",
      "Addition of x1 and x2 using the + operator:\n",
      " [[1. 2. 3.]\n",
      " [4. 5. 6.]\n",
      " [7. 8. 9.]]\n"
     ]
    }
   ],
   "source": [
    "x1 = np.arange(9).reshape((3, 3))\n",
    "x2 = np.ones((3, 3))\n",
    "result = x1 + x2\n",
    "print('x1:\\n', x1, '\\n\\nx2:\\n', x2)\n",
    "print('\\nAddition of x1 and x2 using the + operator:\\n', result)"
   ]
  },
  {
   "cell_type": "markdown",
   "metadata": {
    "colab_type": "text",
    "id": "MPK3XDzm75vD"
   },
   "source": [
    "However, numpy provides us with built-in functions that guarantee that any errors and exceptions are handled properly:"
   ]
  },
  {
   "cell_type": "code",
   "execution_count": 25,
   "metadata": {
    "colab": {
     "base_uri": "https://localhost:8080/",
     "height": 340
    },
    "colab_type": "code",
    "collapsed": false,
    "id": "MU8ZWvzrYhB8",
    "outputId": "29f33bcf-c52d-41a4-8752-62c1eee89339"
   },
   "outputs": [
    {
     "name": "stdout",
     "output_type": "stream",
     "text": [
      "x1:\n",
      " [[0 1 2]\n",
      " [3 4 5]\n",
      " [6 7 8]] \n",
      "\n",
      "x2:\n",
      " [[1. 1. 1.]\n",
      " [1. 1. 1.]\n",
      " [1. 1. 1.]]\n",
      "\n",
      "Addition of x1 and x2 using built-in functions:\n",
      " [[1. 2. 3.]\n",
      " [4. 5. 6.]\n",
      " [7. 8. 9.]]\n",
      "\n",
      "Subtraction of x1 and x2 using built-in functions:\n",
      " [[-1.  0.  1.]\n",
      " [ 2.  3.  4.]\n",
      " [ 5.  6.  7.]]\n"
     ]
    }
   ],
   "source": [
    "# We can add two arrays:\n",
    "x1 = np.arange(9).reshape((3, 3))\n",
    "x2 = np.ones((3, 3))\n",
    "result = np.add(x1, x2)\n",
    "print('x1:\\n', x1, '\\n\\nx2:\\n', x2)\n",
    "print('\\nAddition of x1 and x2 using built-in functions:\\n', result)\n",
    "\n",
    "# Or compute the difference:\n",
    "result = np.subtract(x1, x2)\n",
    "print('\\nSubtraction of x1 and x2 using built-in functions:\\n', result)"
   ]
  },
  {
   "cell_type": "markdown",
   "metadata": {
    "colab_type": "text",
    "id": "WV742YUi8ULx"
   },
   "source": [
    "Whether you use the basic operators or the built-in functions will depend on the situation.\n",
    "\n",
    "We can also add or subtract column or row vectors from arrays. Again, both the basic operators and the built in functions will perform the same operations. Unlike in Matlab, where this operation will raise an error, Python will automatically execute it row by row or column by column as appropriate:"
   ]
  },
  {
   "cell_type": "code",
   "execution_count": 26,
   "metadata": {
    "colab": {
     "base_uri": "https://localhost:8080/",
     "height": 391
    },
    "colab_type": "code",
    "collapsed": false,
    "id": "KHQ9zZgq8TPN",
    "outputId": "ce78a93f-8dad-4bed-9d2b-2e484974b0ab"
   },
   "outputs": [
    {
     "name": "stdout",
     "output_type": "stream",
     "text": [
      "x1:\n",
      " [[0 1 2]\n",
      " [3 4 5]\n",
      " [6 7 8]] \n",
      "\n",
      "row_vect:\n",
      " [[1. 1. 1.]] \n",
      "\n",
      "col_vect:\n",
      " [[1.]\n",
      " [1.]\n",
      " [1.]]\n",
      "\n",
      "Addition of a row vector:\n",
      " [[1. 2. 3.]\n",
      " [4. 5. 6.]\n",
      " [7. 8. 9.]]\n",
      "\n",
      "Addition of a column vector:\n",
      " [[1. 2. 3.]\n",
      " [4. 5. 6.]\n",
      " [7. 8. 9.]]\n"
     ]
    }
   ],
   "source": [
    "# We can add or subtract row and column vectors:\n",
    "row_vect = np.ones((1, 3))\n",
    "col_vect = np.ones((3, 1))\n",
    "result = np.add(x1, row_vect)\n",
    "print('x1:\\n', x1, '\\n\\nrow_vect:\\n', row_vect, '\\n\\ncol_vect:\\n', col_vect)\n",
    "print('\\nAddition of a row vector:\\n', result)\n",
    "result = np.add(x1, col_vect)\n",
    "print('\\nAddition of a column vector:\\n', result)"
   ]
  },
  {
   "cell_type": "markdown",
   "metadata": {
    "colab_type": "text",
    "id": "yyvsXDJX8uNh"
   },
   "source": [
    "Another key difference with Matlab is that the ''`*`'' operator won't give us matrix multiplication. It will instead compute an element-wise multiplication. Again, numpy has a built-in function for this purpose that will guarantee propper handling of errors:"
   ]
  },
  {
   "cell_type": "code",
   "execution_count": 27,
   "metadata": {
    "colab": {
     "base_uri": "https://localhost:8080/",
     "height": 340
    },
    "colab_type": "code",
    "collapsed": false,
    "id": "eNmOdlU2peHo",
    "outputId": "a7dd2b5f-bc1d-47a1-83d8-eb1ecc552680"
   },
   "outputs": [
    {
     "name": "stdout",
     "output_type": "stream",
     "text": [
      "x1:\n",
      " [[0 1 2]\n",
      " [3 4 5]\n",
      " [6 7 8]] \n",
      "\n",
      "x2:\n",
      " [[2. 2. 2.]\n",
      " [2. 2. 2.]\n",
      " [2. 2. 2.]]\n",
      "\n",
      "Element-wise multiplication of x1 and x2 using the * operator:\n",
      " [[ 0.  2.  4.]\n",
      " [ 6.  8. 10.]\n",
      " [12. 14. 16.]]\n",
      "\n",
      "Element-wise multiplication of x1 and x2 using built-in functions:\n",
      " [[ 0.  2.  4.]\n",
      " [ 6.  8. 10.]\n",
      " [12. 14. 16.]]\n"
     ]
    }
   ],
   "source": [
    "# We can perform element-wise multiplication by using the * operator:\n",
    "x1 = np.arange(9).reshape((3, 3))\n",
    "x2 = np.ones((3, 3)) * 2 # a 3x3 array with 2s in every cell\n",
    "result = x1 * x2\n",
    "print('x1:\\n', x1, '\\n\\nx2:\\n', x2)\n",
    "print('\\nElement-wise multiplication of x1 and x2 using the * operator:\\n', result)\n",
    "\n",
    "# or by using the built-in numpy function:\n",
    "result = np.multiply(x1, x2)\n",
    "print('\\nElement-wise multiplication of x1 and x2 using built-in functions:\\n', result)\n",
    "\n"
   ]
  },
  {
   "cell_type": "markdown",
   "metadata": {
    "colab_type": "text",
    "id": "WaC-PS8j9Y8N"
   },
   "source": [
    "Numpy also gives us funtions to perform matrix multiplications and dot products."
   ]
  },
  {
   "cell_type": "code",
   "execution_count": 28,
   "metadata": {
    "colab": {
     "base_uri": "https://localhost:8080/",
     "height": 408
    },
    "colab_type": "code",
    "collapsed": false,
    "id": "0FHbClEM9ZOM",
    "outputId": "34ff986e-01cf-4dc2-baa5-6a8841647be2"
   },
   "outputs": [
    {
     "name": "stdout",
     "output_type": "stream",
     "text": [
      "x1:\n",
      " [[0 1 2]\n",
      " [3 4 5]\n",
      " [6 7 8]] \n",
      "\n",
      "x2:\n",
      " [[2. 2. 2.]\n",
      " [2. 2. 2.]\n",
      " [2. 2. 2.]]\n",
      "\n",
      "Product of x1 and x2:\n",
      " [[ 6.  6.  6.]\n",
      " [24. 24. 24.]\n",
      " [42. 42. 42.]]\n",
      "\n",
      "v1:\n",
      " [0 1 2 3] \n",
      "\n",
      "v2:\n",
      " [3 4 5 6]\n",
      "\n",
      "Dot product of v1 and v2:\n",
      " 32\n"
     ]
    }
   ],
   "source": [
    "# We can perform matrix multiplication:\n",
    "x1 = np.arange(9).reshape((3, 3))\n",
    "x2 = np.ones((3, 3)) * 2 # a 3x3 array with 2s in every cell\n",
    "result = np.matmul(x1, x2)\n",
    "print('x1:\\n', x1, '\\n\\nx2:\\n', x2)\n",
    "print('\\nProduct of x1 and x2:\\n', result)\n",
    "\n",
    "# Or the dot product between vectors:\n",
    "v1 = np.arange(4)\n",
    "v2 = np.arange(3, 7)\n",
    "result = np.dot(v1, v2)\n",
    "print('\\nv1:\\n', v1, '\\n\\nv2:\\n', v2)\n",
    "print('\\nDot product of v1 and v2:\\n', result)"
   ]
  },
  {
   "cell_type": "markdown",
   "metadata": {
    "colab_type": "text",
    "id": "OCQ6p7aQ9k2S"
   },
   "source": [
    "Note that the `np.dot()` function is very powerful and can perform a number of different operations depending on the nature of the input arguments. For example, if we give it a pair of matrices of adequate dimensions, it will perform the same operation as `np.matmul()`."
   ]
  },
  {
   "cell_type": "code",
   "execution_count": 29,
   "metadata": {
    "colab": {
     "base_uri": "https://localhost:8080/",
     "height": 1785
    },
    "colab_type": "code",
    "collapsed": false,
    "id": "Bqq_7toes2bw",
    "outputId": "c1268071-77f9-4c0a-cbe8-ec9a70f9e915"
   },
   "outputs": [
    {
     "name": "stdout",
     "output_type": "stream",
     "text": [
      "x1:\n",
      " [[0 1 2]\n",
      " [3 4 5]\n",
      " [6 7 8]] \n",
      "\n",
      "x2:\n",
      " [[2. 2. 2.]\n",
      " [2. 2. 2.]\n",
      " [2. 2. 2.]]\n",
      "\n",
      "Product of x1 and x2 using np.matmul():\n",
      " [[ 6.  6.  6.]\n",
      " [24. 24. 24.]\n",
      " [42. 42. 42.]]\n",
      "\n",
      "Product of x1 and x2 using np.dot():\n",
      " [[ 6.  6.  6.]\n",
      " [24. 24. 24.]\n",
      " [42. 42. 42.]] \n",
      "\n",
      "Help on built-in function dot in module numpy.core.multiarray:\n",
      "\n",
      "dot(...)\n",
      "    dot(a, b, out=None)\n",
      "    \n",
      "    Dot product of two arrays. Specifically,\n",
      "    \n",
      "    - If both `a` and `b` are 1-D arrays, it is inner product of vectors\n",
      "      (without complex conjugation).\n",
      "    \n",
      "    - If both `a` and `b` are 2-D arrays, it is matrix multiplication,\n",
      "      but using :func:`matmul` or ``a @ b`` is preferred.\n",
      "    \n",
      "    - If either `a` or `b` is 0-D (scalar), it is equivalent to :func:`multiply`\n",
      "      and using ``numpy.multiply(a, b)`` or ``a * b`` is preferred.\n",
      "    \n",
      "    - If `a` is an N-D array and `b` is a 1-D array, it is a sum product over\n",
      "      the last axis of `a` and `b`.\n",
      "    \n",
      "    - If `a` is an N-D array and `b` is an M-D array (where ``M>=2``), it is a\n",
      "      sum product over the last axis of `a` and the second-to-last axis of `b`::\n",
      "    \n",
      "        dot(a, b)[i,j,k,m] = sum(a[i,j,:] * b[k,:,m])\n",
      "    \n",
      "    Parameters\n",
      "    ----------\n",
      "    a : array_like\n",
      "        First argument.\n",
      "    b : array_like\n",
      "        Second argument.\n",
      "    out : ndarray, optional\n",
      "        Output argument. This must have the exact kind that would be returned\n",
      "        if it was not used. In particular, it must have the right type, must be\n",
      "        C-contiguous, and its dtype must be the dtype that would be returned\n",
      "        for `dot(a,b)`. This is a performance feature. Therefore, if these\n",
      "        conditions are not met, an exception is raised, instead of attempting\n",
      "        to be flexible.\n",
      "    \n",
      "    Returns\n",
      "    -------\n",
      "    output : ndarray\n",
      "        Returns the dot product of `a` and `b`.  If `a` and `b` are both\n",
      "        scalars or both 1-D arrays then a scalar is returned; otherwise\n",
      "        an array is returned.\n",
      "        If `out` is given, then it is returned.\n",
      "    \n",
      "    Raises\n",
      "    ------\n",
      "    ValueError\n",
      "        If the last dimension of `a` is not the same size as\n",
      "        the second-to-last dimension of `b`.\n",
      "    \n",
      "    See Also\n",
      "    --------\n",
      "    vdot : Complex-conjugating dot product.\n",
      "    tensordot : Sum products over arbitrary axes.\n",
      "    einsum : Einstein summation convention.\n",
      "    matmul : '@' operator as method with out parameter.\n",
      "    \n",
      "    Examples\n",
      "    --------\n",
      "    >>> np.dot(3, 4)\n",
      "    12\n",
      "    \n",
      "    Neither argument is complex-conjugated:\n",
      "    \n",
      "    >>> np.dot([2j, 3j], [2j, 3j])\n",
      "    (-13+0j)\n",
      "    \n",
      "    For 2-D arrays it is the matrix product:\n",
      "    \n",
      "    >>> a = [[1, 0], [0, 1]]\n",
      "    >>> b = [[4, 1], [2, 2]]\n",
      "    >>> np.dot(a, b)\n",
      "    array([[4, 1],\n",
      "           [2, 2]])\n",
      "    \n",
      "    >>> a = np.arange(3*4*5*6).reshape((3,4,5,6))\n",
      "    >>> b = np.arange(3*4*5*6)[::-1].reshape((5,4,6,3))\n",
      "    >>> np.dot(a, b)[2,3,2,1,2,2]\n",
      "    499128\n",
      "    >>> sum(a[2,3,2,:] * b[1,2,:,2])\n",
      "    499128\n",
      "\n"
     ]
    }
   ],
   "source": [
    "x1 = np.arange(9).reshape((3, 3))\n",
    "x2 = np.ones((3, 3)) * 2 # a 3x3 array with 2s in every cell\n",
    "result = np.matmul(x1, x2)\n",
    "print('x1:\\n', x1, '\\n\\nx2:\\n', x2)\n",
    "print('\\nProduct of x1 and x2 using np.matmul():\\n', result)\n",
    "\n",
    "result = np.dot(x1, x2)\n",
    "print('\\nProduct of x1 and x2 using np.dot():\\n', result, '\\n')\n",
    "\n",
    "# Read the np.dot() documentation for more information:\n",
    "help(np.dot)"
   ]
  },
  {
   "cell_type": "markdown",
   "metadata": {
    "colab_type": "text",
    "id": "U9zeMAbV-xKJ"
   },
   "source": [
    "We can also compute typical numerical operations, which will be applied element-wise:"
   ]
  },
  {
   "cell_type": "code",
   "execution_count": 30,
   "metadata": {
    "colab": {
     "base_uri": "https://localhost:8080/",
     "height": 340
    },
    "colab_type": "code",
    "collapsed": false,
    "id": "RJmEVIK5pkSM",
    "outputId": "c57f619d-d42a-4c74-e115-4c235feb25a5"
   },
   "outputs": [
    {
     "name": "stdout",
     "output_type": "stream",
     "text": [
      "x1:\n",
      " [[1 2 3]\n",
      " [4 5 6]\n",
      " [7 8 9]]\n",
      "\n",
      "Exponentiation of x1:\n",
      " [[2.71828183e+00 7.38905610e+00 2.00855369e+01]\n",
      " [5.45981500e+01 1.48413159e+02 4.03428793e+02]\n",
      " [1.09663316e+03 2.98095799e+03 8.10308393e+03]]\n",
      "\n",
      "Logarithm of x1:\n",
      " [[0.         0.69314718 1.09861229]\n",
      " [1.38629436 1.60943791 1.79175947]\n",
      " [1.94591015 2.07944154 2.19722458]]\n",
      "\n",
      "Square root of x1:\n",
      " [[1.         1.41421356 1.73205081]\n",
      " [2.         2.23606798 2.44948974]\n",
      " [2.64575131 2.82842712 3.        ]]\n"
     ]
    }
   ],
   "source": [
    "# Examples of element-wise numerical operations:\n",
    "x1 = np.arange(9).reshape((3, 3)) + 1\n",
    "print('x1:\\n', x1)\n",
    "print('\\nExponentiation of x1:\\n', np.exp(x1))\n",
    "print('\\nLogarithm of x1:\\n', np.log(x1))\n",
    "print('\\nSquare root of x1:\\n', np.sqrt(x1))"
   ]
  },
  {
   "cell_type": "markdown",
   "metadata": {
    "colab_type": "text",
    "id": "cNwbrx_T_lBv"
   },
   "source": [
    "Element-wise division between matrices is performed using the ''`/`'' operator or the  `divide()` built-in function:"
   ]
  },
  {
   "cell_type": "code",
   "execution_count": 31,
   "metadata": {
    "colab": {
     "base_uri": "https://localhost:8080/",
     "height": 255
    },
    "colab_type": "code",
    "collapsed": false,
    "id": "rPZm4ADc_tfa",
    "outputId": "7648c1be-f4e5-4bbc-e928-cb51d52a9e4a"
   },
   "outputs": [
    {
     "name": "stdout",
     "output_type": "stream",
     "text": [
      "x1:\n",
      " [[ 0  3  6]\n",
      " [ 9 12 15]\n",
      " [18 21 24]] \n",
      "\n",
      "x2:\n",
      " [[3. 3. 3.]\n",
      " [3. 3. 3.]\n",
      " [3. 3. 3.]]\n",
      "\n",
      "Element-wise division of x1 and x2:\n",
      " [[0. 1. 2.]\n",
      " [3. 4. 5.]\n",
      " [6. 7. 8.]]\n"
     ]
    }
   ],
   "source": [
    "# Element-wise division of two matrices:\n",
    "x1 = np.arange(9).reshape((3, 3)) * 3\n",
    "x2 = np.ones((3, 3)) * 3\n",
    "result = np.divide(x1, x2)\n",
    "print('x1:\\n', x1, '\\n\\nx2:\\n', x2)\n",
    "print('\\nElement-wise division of x1 and x2:\\n', result)"
   ]
  },
  {
   "cell_type": "markdown",
   "metadata": {
    "colab_type": "text",
    "id": "JeGYxgmjAqNV"
   },
   "source": [
    "We can use the ''`**`'' operator or the `power()` built-in function to raise elements from a matrix to a given power, or to raise elements of one matrix to positionally-corresponding powers in another matrix:"
   ]
  },
  {
   "cell_type": "code",
   "execution_count": 32,
   "metadata": {
    "colab": {
     "base_uri": "https://localhost:8080/",
     "height": 425
    },
    "colab_type": "code",
    "collapsed": false,
    "id": "yPxUlY0DBG_Z",
    "outputId": "1ce8de79-30cf-41c5-c6bc-1d8d358e8f02"
   },
   "outputs": [
    {
     "name": "stdout",
     "output_type": "stream",
     "text": [
      "x1:\n",
      " [[0 1 2]\n",
      " [3 4 5]\n",
      " [6 7 8]]\n",
      "\n",
      "Raising all elements in x1 to the power of 2 using the ** operator:\n",
      " [[ 0  1  4]\n",
      " [ 9 16 25]\n",
      " [36 49 64]]\n",
      "\n",
      "Raising all elements in x1 to themselves using the ** operator:\n",
      " [[       1        1        4]\n",
      " [      27      256     3125]\n",
      " [   46656   823543 16777216]]\n",
      "\n",
      "Raising all elements in x1 to the power of 2 using the power() function:\n",
      " [[ 0  1  4]\n",
      " [ 9 16 25]\n",
      " [36 49 64]]\n",
      "\n",
      "Raising all elements in x1 to themselves using the power() function:\n",
      " [[       1        1        4]\n",
      " [      27      256     3125]\n",
      " [   46656   823543 16777216]]\n"
     ]
    }
   ],
   "source": [
    "# Performing power operations with the ** operator:\n",
    "x1 = np.arange(9).reshape((3, 3))\n",
    "result = x1**2\n",
    "print('x1:\\n', x1)\n",
    "print('\\nRaising all elements in x1 to the power of 2 using the ** operator:\\n', result)\n",
    "\n",
    "result = x1**x1\n",
    "print('\\nRaising all elements in x1 to themselves using the ** operator:\\n', result)\n",
    "\n",
    "# Performing power operations with the power() function:\n",
    "result = np.power(x1, 2)\n",
    "print('\\nRaising all elements in x1 to the power of 2 using the power() function:\\n', result)\n",
    "\n",
    "result = np.power(x1, x1)\n",
    "print('\\nRaising all elements in x1 to themselves using the power() function:\\n', result)"
   ]
  },
  {
   "cell_type": "markdown",
   "metadata": {
    "colab_type": "text",
    "id": "sH82AQaVC5Zy"
   },
   "source": [
    "Finally, we can transpose a matrix by using the `numpy.transpose()` function, the `ndarray.transpose()` method or its abbreviated version, `ndarray.T`. We usually use the abbreviated version, but the other forms have their place in certain contexts. Check their documentations to see what options they offer:"
   ]
  },
  {
   "cell_type": "code",
   "execution_count": 35,
   "metadata": {
    "colab": {
     "base_uri": "https://localhost:8080/",
     "height": 374
    },
    "colab_type": "code",
    "collapsed": false,
    "id": "_68OA2zTDb3t",
    "outputId": "2222a00c-8c6b-470e-846d-f97ba4856576"
   },
   "outputs": [
    {
     "name": "stdout",
     "output_type": "stream",
     "text": [
      "x1:\n",
      " [[0 1 2]\n",
      " [3 4 5]\n",
      " [6 7 8]]\n",
      "\n",
      "Transpose of x1 using the numpy function:\n",
      " [[0 3 6]\n",
      " [1 4 7]\n",
      " [2 5 8]]\n",
      "\n",
      "Transpose of x1 using the ndarray method:\n",
      " [[0 3 6]\n",
      " [1 4 7]\n",
      " [2 5 8]]\n",
      "\n",
      "Transpose of x1 using the abbreviated form:\n",
      " [[0 3 6]\n",
      " [1 4 7]\n",
      " [2 5 8]]\n",
      "\n",
      "Oddly enough, the three methods produce the same result!\n"
     ]
    }
   ],
   "source": [
    "# Three different ways of transposing a matrix:\n",
    "x1 = np.arange(9).reshape((3, 3))\n",
    "print('x1:\\n', x1)\n",
    "print('\\nTranspose of x1 using the numpy function:\\n', np.transpose(x1))\n",
    "print('\\nTranspose of x1 using the ndarray method:\\n', x1.transpose())\n",
    "print('\\nTranspose of x1 using the abbreviated form:\\n', x1.T)\n",
    "print('\\nOddly enough, the three methods produce the same result!')"
   ]
  },
  {
   "cell_type": "markdown",
   "metadata": {
    "colab_type": "text",
    "id": "hNTqfzKIyLpR"
   },
   "source": [
    "In the next cell you'll find a few exercises for you to practice these operations."
   ]
  },
  {
   "cell_type": "code",
   "execution_count": 0,
   "metadata": {
    "colab": {},
    "colab_type": "code",
    "collapsed": true,
    "id": "92KZQrP55Jmn"
   },
   "outputs": [],
   "source": [
    "# Complete the following exercises. Print the partial results to visualize them.\n",
    "\n",
    "# Create a 3x4 array called `y`. It's up to you to decide what it contains.\n",
    "y = np.arange(12).reshape((3, 4))\n",
    "#y = <FILL IN>\n",
    "\n",
    "# Create a column vector of length 3 called `x_col`. \n",
    "x_col = np.ones((3, 1)) * 2\n",
    "#x_col = <FILL IN>\n",
    "\n",
    "# Multiply the 2-D array `y` by 2\n",
    "y_by2 = y * 2\n",
    "#y_by2 = <FILL IN>\n",
    "\n",
    "# Multiply each of the columns in `y` by the column vector `x_col`\n",
    "z = x_col * y\n",
    "#z = <FILL IN>\n",
    "\n",
    "# Obtain the matrix product of the transpose of x_col and y\n",
    "x_by_y = x_col.T.dot(y)\n",
    "#x_by_y = <FILL IN>\n",
    "\n",
    "# Compute the sine of a vector that spans from -5 to 5 in increments of 0.5\n",
    "x = np.arange(-5, 5.5, 0.5)\n",
    "x_sin = np.sin(x)\n",
    "#x = <FILL IN>\n",
    "#x_sin = <FILL IN>"
   ]
  },
  {
   "cell_type": "markdown",
   "metadata": {
    "colab_type": "text",
    "id": "4m4wN5a_5sul"
   },
   "source": [
    "\n",
    "## 2.2. N-D numpy arrays\n",
    "\n",
    "To correctly operate with numpy arrays we have to be aware of their dimensions. Are these two arrays  equal?"
   ]
  },
  {
   "cell_type": "code",
   "execution_count": 51,
   "metadata": {
    "colab": {
     "base_uri": "https://localhost:8080/",
     "height": 136
    },
    "colab_type": "code",
    "collapsed": false,
    "id": "7mISW1N0T3hD",
    "outputId": "847f01bf-cb39-4d5b-da9f-74ad9688fbfa"
   },
   "outputs": [
    {
     "name": "stdout",
     "output_type": "stream",
     "text": [
      "array1:\n",
      " [1 1 1]\n",
      "\n",
      "array2:\n",
      " [[1.]\n",
      " [1.]\n",
      " [1.]]\n"
     ]
    }
   ],
   "source": [
    "array1 = np.array([1,1,1])\n",
    "print('array1:\\n', array1)\n",
    "\n",
    "array2 = np.ones((3,1))\n",
    "print('\\narray2:\\n', array2)"
   ]
  },
  {
   "cell_type": "markdown",
   "metadata": {
    "colab_type": "text",
    "id": "9cLN45kwXCdy"
   },
   "source": [
    "The answer is **no**. We can clearly check this, examining their shapes and dimensions:"
   ]
  },
  {
   "cell_type": "code",
   "execution_count": 24,
   "metadata": {
    "colab": {
     "base_uri": "https://localhost:8080/",
     "height": 86
    },
    "colab_type": "code",
    "collapsed": false,
    "id": "kKW_PVMLW9ND",
    "outputId": "4aad7bf4-3f13-46fa-b9a9-7bd71e2ce404"
   },
   "outputs": [
    {
     "name": "stdout",
     "output_type": "stream",
     "text": [
      "Shape of array1 : (3,)\n",
      "Dimension of array1 : 1\n",
      "Shape of array2 : (3, 1)\n",
      "Dimension of array2 : 2\n"
     ]
    }
   ],
   "source": [
    "print('Shape of array1 :',array1.shape)\n",
    "print('Number of dimensions of array1 :',array1.ndim)\n",
    "print('Shape of array2 :',array2.shape)\n",
    "print('Number of dimensions of array2 :',array2.ndim)"
   ]
  },
  {
   "cell_type": "markdown",
   "metadata": {
    "colab_type": "text",
    "id": "HxJ5UXBHXUra"
   },
   "source": [
    "Effectively, `array1` is a 1D array, whereas `array2` is a 2D  array.  There are some methods that will let you modify the array dimensions (or shape). Check the result of the following code (you can use the help function to check the funcionalities of each method):"
   ]
  },
  {
   "cell_type": "markdown",
   "metadata": {
    "colab_type": "text",
    "id": "9w2AT6763Bye"
   },
   "source": [
    "To go from a 2-D to 1-D array we have the methods `flatten()`, `ravel()` and `reshape()`."
   ]
  },
  {
   "cell_type": "code",
   "execution_count": 59,
   "metadata": {
    "colab": {
     "base_uri": "https://localhost:8080/",
     "height": 527
    },
    "colab_type": "code",
    "collapsed": false,
    "id": "RjzX2fOZZ2NB",
    "outputId": "770ba40e-51cc-4e6e-a983-77b6a22a877e"
   },
   "outputs": [
    {
     "name": "stdout",
     "output_type": "stream",
     "text": [
      "x1:\n",
      " [[0 1 2]\n",
      " [3 4 5]\n",
      " [6 7 8]]\n",
      "Its shape is:  (3, 3)\n",
      "\n",
      " Use the method flaten:\n",
      "x1.flatten():  [0 1 2 3 4 5 6 7 8]\n",
      "Its shape is:  (9,)\n",
      "\n",
      " Use the method ravel:\n",
      "x1.ravel():  [0 1 2 3 4 5 6 7 8]\n",
      "Its shape is: (9,)\n",
      "\n",
      " Use the method shape:\n",
      "x1.reshape(-1):  [0 1 2 3 4 5 6 7 8]\n",
      "Its shape is:  (9,)\n",
      "\n",
      " A more common use of reshape():\n",
      "x1:\n",
      " [[ 0  1  2]\n",
      " [ 3  4  5]\n",
      " [ 6  7  8]\n",
      " [ 9 10 11]]\n",
      "Its shape is:  (4, 3)\n",
      "\n",
      "x1.reshape((2,6)):\n",
      " [[ 0  1  2  3  4  5]\n",
      " [ 6  7  8  9 10 11]]\n",
      "Its shape is:  (2, 6)\n"
     ]
    }
   ],
   "source": [
    "x1 = np.arange(9).reshape((3, 3))\n",
    "print('x1:\\n', x1)\n",
    "print('Its shape is: ', x1.shape)\n",
    "\n",
    "print('\\n Use the method flaten:')\n",
    "print('x1.flatten(): ', x1.flatten())\n",
    "print('Its shape is: ', x1.flatten().shape)\n",
    "\n",
    "print('\\n Use the method ravel:')\n",
    "print('x1.ravel(): ', x1.ravel())\n",
    "print('Its shape is:', x1.ravel().shape)\n",
    "\n",
    "print('\\n Use the method shape:')\n",
    "print('x1.reshape(-1): ', x1.reshape(-1))\n",
    "print('Its shape is: ', x1.reshape(-1).shape)\n",
    "\n",
    "\n",
    "# Note that here the method shape is used to reorganize the array into a 1-D \n",
    "# array. A more common use of reshape() is to simply redimension an array from \n",
    "# shape (i, j) to shape (i', j') satisfying the condition i*j = i'*j'.\n",
    "# For example:\n",
    "print('\\n A more common use of reshape():')\n",
    "x1 = np.arange(12).reshape((4, 3))\n",
    "print('x1:\\n', x1)\n",
    "print('Its shape is: ', x1.shape)\n",
    "\n",
    "print('\\nx1.reshape((2,6)):\\n', x1.reshape((2,6)))\n",
    "print('Its shape is: ', x1.reshape((2,6)).shape)"
   ]
  },
  {
   "cell_type": "markdown",
   "metadata": {
    "colab_type": "text",
    "id": "OON5LiQR1Dqo"
   },
   "source": [
    "Note: `flatten()` always returns a copy of the original vector, whereas `ravel()` and `shape()` returns a view of the original array whenever possible. "
   ]
  },
  {
   "cell_type": "markdown",
   "metadata": {
    "colab_type": "text",
    "id": "7oNRBH933Gb2"
   },
   "source": [
    "Sometimes we need to add a new dimension to an array, for example to turn a  1-D array into a 2-D column vector. For this we use `np.newaxis`."
   ]
  },
  {
   "cell_type": "code",
   "execution_count": 7,
   "metadata": {
    "colab": {
     "base_uri": "https://localhost:8080/",
     "height": 238
    },
    "colab_type": "code",
    "collapsed": false,
    "id": "symecWXg3GKW",
    "outputId": "849e4728-e943-4873-a043-5fbd587b4248"
   },
   "outputs": [
    {
     "name": "stdout",
     "output_type": "stream",
     "text": [
      "1D array:\n",
      " [1 1 1]\n",
      "Its shape is:  (3,)\n",
      "\n",
      "2D array:\n",
      " [[1]\n",
      " [1]\n",
      " [1]]\n",
      "Its shape is:  (3, 1)\n",
      "\n",
      "2D array:\n",
      " [[1 1 1]]\n",
      "Its shape is:  (1, 3)\n"
     ]
    }
   ],
   "source": [
    "# Let's start with a 1-D array:\n",
    "array1 = np.array([1,1,1])\n",
    "print('1D array:\\n',array1)\n",
    "print('Its shape is: ', array1.shape)\n",
    "\n",
    "# Let's turn it into a column vector (2-D array with dimension 1x3):\n",
    "array2 = array1[:,np.newaxis]\n",
    "print('\\n2D array:\\n',array2)\n",
    "print('Its shape is: ', array2.shape)\n",
    "\n",
    "# Let's turn it into a row vector (2-D array with dimension 3x1):\n",
    "array3 = array1[np.newaxis,:]\n",
    "print('\\n2D array:\\n',array3)\n",
    "print('Its shape is: ', array3.shape)"
   ]
  },
  {
   "cell_type": "markdown",
   "metadata": {
    "colab_type": "text",
    "id": "XHEwx6g_x4ax"
   },
   "source": [
    "We might also need to remove empty or unused dimensions. For this we have `np.squeeze()`:"
   ]
  },
  {
   "cell_type": "code",
   "execution_count": 63,
   "metadata": {
    "colab": {
     "base_uri": "https://localhost:8080/",
     "height": 204
    },
    "colab_type": "code",
    "collapsed": false,
    "id": "0YKyOUgZx3xp",
    "outputId": "1f2be7a3-7214-4383-9b26-494bc1daaa0a"
   },
   "outputs": [
    {
     "name": "stdout",
     "output_type": "stream",
     "text": [
      "1D array:\n",
      " [1 1 1]\n",
      "Its shape is:  (3,)\n",
      "\n",
      "1D array:\n",
      " [1 1 1]\n",
      "Its shape is:  (3,)\n",
      "\n",
      "1D array:\n",
      " [1 1 1]\n",
      "Its shape is:  (3,)\n"
     ]
    }
   ],
   "source": [
    "array1_1D = np.squeeze(array1)\n",
    "print('1D array:\\n',array1_1D)\n",
    "print('Its shape is: ', array1_1D.shape)\n",
    "\n",
    "array2_1D = np.squeeze(array2)\n",
    "print('\\n1D array:\\n',array2_1D)\n",
    "print('Its shape is: ', array2_1D.shape)\n",
    "\n",
    "array3_1D = np.squeeze(array3)\n",
    "print('\\n1D array:\\n',array3_1D)\n",
    "print('Its shape is: ', array3_1D.shape)"
   ]
  },
  {
   "cell_type": "markdown",
   "metadata": {
    "colab_type": "text",
    "id": "dH2XmqDfAlVA"
   },
   "source": [
    "Complete the following excersise:"
   ]
  },
  {
   "cell_type": "code",
   "execution_count": 19,
   "metadata": {
    "colab": {
     "base_uri": "https://localhost:8080/",
     "height": 34
    },
    "colab_type": "code",
    "collapsed": false,
    "id": "zvjxpu8WAr2a",
    "outputId": "6b590e49-06f6-4e0c-ad3b-b26c1de5fca5"
   },
   "outputs": [
    {
     "name": "stdout",
     "output_type": "stream",
     "text": [
      "[15 18 21]\n"
     ]
    }
   ],
   "source": [
    "# Given the following matrix and vector:\n",
    "vect = np.arange(3)[:, np.newaxis]\n",
    "mat = np.arange(9).reshape((3, 3))\n",
    "\n",
    "# Apply the necessary transformation to vect so that you can perform the matrix\n",
    "# multiplication np.matmul(vect, mat)\n",
    "\n",
    "# <FILL IN>\n",
    "vect = np.squeeze(vect)\n",
    "print(np.matmul(vect, mat))"
   ]
  },
  {
   "cell_type": "markdown",
   "metadata": {
    "colab_type": "text",
    "id": "rhnnan9MCRoB"
   },
   "source": [
    "The output should be:\n",
    "\n",
    "````\n",
    "[15 18 21]\n",
    "```"
   ]
  },
  {
   "cell_type": "markdown",
   "metadata": {
    "colab_type": "text",
    "id": "1cNCkKsw9n_Z",
    "slideshow": {
     "slide_type": "skip"
    }
   },
   "source": [
    "## 2.3. Numpy methods that can be carried out along different dimensions\n",
    "\n",
    "Compare the result of the following commands:"
   ]
  },
  {
   "cell_type": "code",
   "execution_count": 64,
   "metadata": {
    "colab": {
     "base_uri": "https://localhost:8080/",
     "height": 85
    },
    "colab_type": "code",
    "collapsed": false,
    "id": "lgT3v3ZF9n_b",
    "outputId": "004c702a-5a79-4e8e-a936-1d052cd2458d",
    "slideshow": {
     "slide_type": "skip"
    }
   },
   "outputs": [
    {
     "name": "stdout",
     "output_type": "stream",
     "text": [
      "(8, 3)\n",
      "11.5\n",
      "[10.5 11.5 12.5]\n",
      "[ 1.  4.  7. 10. 13. 16. 19. 22.]\n"
     ]
    }
   ],
   "source": [
    "x1 = np.arange(24).reshape((8, 3))\n",
    "\n",
    "print(x1.shape)\n",
    "print(np.mean(x1))\n",
    "print(np.mean(x1,axis=0))\n",
    "print(np.mean(x1,axis=1))\n"
   ]
  },
  {
   "cell_type": "markdown",
   "metadata": {
    "colab_type": "text",
    "id": "kWMzmSAL9n_u",
    "slideshow": {
     "slide_type": "skip"
    }
   },
   "source": [
    "Other numpy methods where you can specify the axis along with a certain operation should be carried out are:\n",
    "\n",
    "  - `np.median()`\n",
    "  - `np.std()`\n",
    "  - `np.var()`\n",
    "  - `np.percentile()`\n",
    "  - `np.sort()`\n",
    "  - `np.argsort()`\n",
    "  \n",
    "If the axis argument is not provided, the array is flattened before carriying out the corresponding operation."
   ]
  },
  {
   "cell_type": "markdown",
   "metadata": {
    "colab_type": "text",
    "id": "hcRr-84rJgHW"
   },
   "source": [
    "Complete the following exercises:"
   ]
  },
  {
   "cell_type": "code",
   "execution_count": 13,
   "metadata": {
    "colab": {
     "base_uri": "https://localhost:8080/",
     "height": 425
    },
    "colab_type": "code",
    "collapsed": false,
    "id": "iicoySCyJjz-",
    "outputId": "92e49fd9-b5a6-4f95-ecdf-c93166d1ec7d"
   },
   "outputs": [
    {
     "name": "stdout",
     "output_type": "stream",
     "text": [
      "h_array: \n",
      " [[1.6  1.85 1.68 1.9  1.78]\n",
      " [1.58 1.62 1.6  1.7  1.56]]\n",
      "Its shape is: \n",
      " (2, 5)\n",
      "\n",
      "Mean of each column: \n",
      " [1.59  1.735 1.64  1.8   1.67 ]\n",
      "Its shape is (it must coincide with number of columns):\n",
      " (5,)\n",
      "\n",
      "Mean of each row: \n",
      " [1.762 1.612]\n",
      "Its shape is (it must coincide with number of rows):\n",
      " (2,)\n",
      "\n",
      "New array: \n",
      " [[2.80158 2.56308]\n",
      " [3.05707 2.79682]\n",
      " [2.88968 2.64368]\n",
      " [3.1716  2.9016 ]\n",
      " [2.94254 2.69204]]\n",
      "New array shape: \n",
      " (5, 2)\n"
     ]
    }
   ],
   "source": [
    "# Given the following list of heights: \n",
    "heights = [1.60, 1.85, 1.68, 1.90, 1.78, 1.58, 1.62, 1.60, 1.70, 1.56]\n",
    "\n",
    "# 1. Obtain a 2x5 array, called `h_array`, using the methods you learnt above.\n",
    "\n",
    "h_array = np.array(heights).reshape((2,5))\n",
    "# h_array = <FILL IN>\n",
    "print('h_array: \\n',h_array)\n",
    "print('Its shape is: \\n', h_array.shape)\n",
    "\n",
    "# 2. Use method mean() to get the mean of each column, and the mean of each row.\n",
    "# Store them in two vectors, named `mean_column` and `mean_row` respectively.\n",
    "\n",
    "mean_column = np.mean(h_array,axis=0)\n",
    "mean_row = np.mean(h_array,axis=1)\n",
    "#mean_column = <FILL IN>\n",
    "#mean_row = <FILL IN>\n",
    "\n",
    "print('\\nMean of each column: \\n',mean_column)\n",
    "print('Its shape is (it must coincide with number of columns):\\n', mean_column.shape)\n",
    "\n",
    "print('\\nMean of each row: \\n',mean_row)\n",
    "print('Its shape is (it must coincide with number of rows):\\n', mean_row.shape)\n",
    "\n",
    "# 3. Obtain a 5x2 array by multiplying the mean vectors. You may need to create a \n",
    "# new axis. The array name should be `new_array`\n",
    "\n",
    "new_array = mean_column[:,np.newaxis].dot(mean_row[:,np.newaxis].T)\n",
    "#new_array = <FILL IN>\n",
    "print('\\nNew array: \\n',new_array)\n",
    "print('New array shape: \\n', new_array.shape)\n"
   ]
  },
  {
   "cell_type": "markdown",
   "metadata": {
    "colab_type": "text",
    "id": "_CWOltVg-9Uh"
   },
   "source": [
    "The output should be:\n",
    "```\n",
    "h_array: \n",
    " [[1.6  1.85 1.68 1.9  1.78]\n",
    " [1.58 1.62 1.6  1.7  1.56]]\n",
    "Its shape is: \n",
    " (2, 5)\n",
    "\n",
    "Mean of each column: \n",
    " [1.59  1.735 1.64  1.8   1.67 ]\n",
    "Its shape is (it must coincide with number of columns):\n",
    " (5,)\n",
    "\n",
    "Mean of each row: \n",
    " [1.762 1.612]\n",
    "Its shape is (it must coincide with number of rows):\n",
    " (2,)\n",
    "\n",
    "New array: \n",
    " [[2.80158 2.56308]\n",
    " [3.05707 2.79682]\n",
    " [2.88968 2.64368]\n",
    " [3.1716  2.9016 ]\n",
    " [2.94254 2.69204]]\n",
    "New array shape: \n",
    " (5, 2)```\n"
   ]
  },
  {
   "cell_type": "markdown",
   "metadata": {
    "colab_type": "text",
    "id": "l723Disq9n_w",
    "slideshow": {
     "slide_type": "skip"
    }
   },
   "source": [
    "## 2.4. Concatenating arrays\n",
    "\n",
    "Provided that the necessary dimensions fit, horizontal and vertical stacking of matrices can be carried out with methods `np.hstack()` and `np.vstack()`.\n",
    "\n",
    "Complete the following exercises to practice with matrix concatenation:"
   ]
  },
  {
   "cell_type": "code",
   "execution_count": 0,
   "metadata": {
    "colab": {},
    "colab_type": "code",
    "collapsed": true,
    "id": "viZ66PpI9n_x",
    "slideshow": {
     "slide_type": "skip"
    }
   },
   "outputs": [],
   "source": [
    "my_array = np.array([[1, -1, 3, 3],[2, 2, 4, 6]])\n",
    "print('Array 1:')\n",
    "print(my_array)\n",
    "print(my_array.shape)\n",
    "\n",
    "my_array2 = np.ones((2,3))\n",
    "print('Array 2:')\n",
    "print(my_array2)\n",
    "print(my_array2.shape)\n",
    "\n",
    "\n",
    "# Vertically stack matrix my_array with itself\n",
    "ex1_res = np.vstack((my_array,my_array))\n",
    "#ex1_res = <FILL IN>\n",
    "print('Vertically stack:')\n",
    "print(ex1_res)\n",
    "\n",
    "# Horizontally stack matrix my_array and my_array2\n",
    "ex2_res = np.hstack((my_array,my_array2))\n",
    "#ex2_res = <FILL IN>\n",
    "print('Horizontally stack:')\n",
    "print(ex2_res)\n",
    "\n",
    "# Transpose the vector `my_array`, and then stack a ones vector\n",
    "# as the first column. Alternatively, you can stack a row, and then transpose. \n",
    "# Just make sure that the final shape is (4,3). Name it `expanded`:\n",
    "\n",
    "ones_v = np.ones((4,1))\n",
    "expanded = np.hstack((ones_v,my_array.T))\n",
    "#ones_v = <FILL_IN>\n",
    "#expanded = <FILL IN>\n",
    "\n",
    "print('Expanded array: \\n',expanded)\n",
    "print('Its shape is: \\n', expanded.shape)"
   ]
  },
  {
   "cell_type": "markdown",
   "metadata": {
    "colab_type": "text",
    "id": "Tj7ukf7xAnEG"
   },
   "source": [
    "The output should be:\n",
    "\n",
    "```\n",
    "Array 1:\n",
    "[[ 1 -1  3  3]\n",
    " [ 2  2  4  6]]\n",
    "(2, 4)\n",
    "Array 2:\n",
    "[[1. 1. 1.]\n",
    " [1. 1. 1.]]\n",
    "(2, 3)\n",
    "Vertically stack:\n",
    "[[ 1 -1  3  3]\n",
    " [ 2  2  4  6]\n",
    " [ 1 -1  3  3]\n",
    " [ 2  2  4  6]]\n",
    "Horizontally stack:\n",
    "[[ 1. -1.  3.  3.  1.  1.  1.]\n",
    " [ 2.  2.  4.  6.  1.  1.  1.]]\n",
    "Expanded array: \n",
    " [[ 1.  1.  2.]\n",
    " [ 1. -1.  2.]\n",
    " [ 1.  3.  4.]\n",
    " [ 1.  3.  6.]]\n",
    "Its shape is: \n",
    " (4, 3)\n",
    " ```"
   ]
  },
  {
   "cell_type": "markdown",
   "metadata": {
    "colab_type": "text",
    "id": "uRrSF9IO9oAI",
    "slideshow": {
     "slide_type": "skip"
    }
   },
   "source": [
    "## 2.5. Slicing\n",
    "\n",
    "In numpy, slicing means selecting and/or accessing specific array rows and columns.\n",
    "\n",
    "Particular elements of numpy arrays (both unidimensional and multidimensional) can be accessed using standard python slicing. When working with multidimensional arrays, slicing can be carried out along the different dimensions at once.\n",
    "\n",
    "Let's look at some examples:"
   ]
  },
  {
   "cell_type": "code",
   "execution_count": 10,
   "metadata": {
    "colab": {
     "base_uri": "https://localhost:8080/",
     "height": 289
    },
    "colab_type": "code",
    "collapsed": false,
    "id": "cYnLlBNDDMCz",
    "outputId": "0cd15668-f8c5-42fe-b654-cbdaddb73ad3"
   },
   "outputs": [
    {
     "name": "stdout",
     "output_type": "stream",
     "text": [
      "vect:\n",
      " [ 4  5  6  7  8  9 10 11 12 13]\n",
      "\n",
      "Selecting specific elements:\n",
      " [ 5  7 11]\n",
      "\n",
      "Selecting a range of elements:\n",
      " [ 7  8  9 10]\n",
      "\n",
      "Array:\n",
      " [[ 0  1  2  3]\n",
      " [ 4  5  6  7]\n",
      " [ 8  9 10 11]]\n",
      "\n",
      "Selecting a subarray:\n",
      " [10 11]\n"
     ]
    }
   ],
   "source": [
    "# Selecting specific elements from a vector:\n",
    "vect = np.arange(10)+4\n",
    "new_vect = vect[[1, 3, 7]] # remember that in python arrays start at 0\n",
    "print('vect:\\n', vect)\n",
    "print('\\nSelecting specific elements:\\n', new_vect)\n",
    "\n",
    "# Selecting a range of elements from a vector:\n",
    "new_vect = vect[3:7]\n",
    "print('\\nSelecting a range of elements:\\n', new_vect)\n",
    "\n",
    "# Selecting a subarray from an array:\n",
    "array = np.arange(12).reshape((3, 4))\n",
    "new_array = array[2, 2:4]\n",
    "print('\\nArray:\\n', array)\n",
    "print('\\nSelecting a subarray:\\n', new_array)"
   ]
  },
  {
   "cell_type": "markdown",
   "metadata": {
    "colab_type": "text",
    "id": "utGtSlFsFfUi"
   },
   "source": [
    "Try completing the following excersises:"
   ]
  },
  {
   "cell_type": "code",
   "execution_count": 12,
   "metadata": {
    "colab": {
     "base_uri": "https://localhost:8080/",
     "height": 544
    },
    "colab_type": "code",
    "collapsed": false,
    "id": "-uIzgvfz9oAK",
    "outputId": "c0387aa1-05ae-4b54-e070-7ce8ffc861fd",
    "slideshow": {
     "slide_type": "skip"
    }
   },
   "outputs": [
    {
     "name": "stdout",
     "output_type": "stream",
     "text": [
      "X:\n",
      " [[ 0  1  2  3  4]\n",
      " [ 5  6  7  8  9]\n",
      " [10 11 12 13 14]\n",
      " [15 16 17 18 19]\n",
      " [20 21 22 23 24]]\n",
      "\n",
      "X_sub1: \n",
      " [20 21 22 23 24]\n",
      "\n",
      "X_sub2: \n",
      " [ 0  5 10]\n",
      "\n",
      "X_sub3: \n",
      " [[ 0  1]\n",
      " [ 5  6]\n",
      " [10 11]]\n",
      "\n",
      "X_sub4: \n",
      " [[20 21 22 23 24]\n",
      " [15 16 17 18 19]\n",
      " [10 11 12 13 14]\n",
      " [ 5  6  7  8  9]\n",
      " [ 0  1  2  3  4]]\n",
      "\n",
      "X_sub5: \n",
      " [[ 0  2  4]\n",
      " [ 5  7  9]\n",
      " [10 12 14]\n",
      " [15 17 19]\n",
      " [20 22 24]]\n"
     ]
    }
   ],
   "source": [
    "\n",
    "X = np.arange(0,25).reshape((5,5))\n",
    "print('X:\\n',X)\n",
    "\n",
    "# 1. Keep last row of matrix X\n",
    "X_sub1 = X[-1,]\n",
    "#X_sub1 = <FILL IN>\n",
    "print('\\nX_sub1: \\n',X_sub1)\n",
    "\n",
    "\n",
    "# 2. Keep first column of the three first rows of X\n",
    "X_sub2 = X[:3,0]\n",
    "#X_sub2 = <FILL IN>\n",
    "print('\\nX_sub2: \\n',X_sub2)\n",
    "\n",
    "\n",
    "# 3. Keep first two columns of the three first rows of X\n",
    "X_sub3 = X[:3,:2]\n",
    "print('\\nX_sub3: \\n',X_sub3)\n",
    "#X_sub3 = <FILL IN>\n",
    "\n",
    "# 4. Invert the order of the rows of X\n",
    "X_sub4 = X[::-1,:]\n",
    "#X_sub4 = <FILL IN>\n",
    "print('\\nX_sub4: \\n',X_sub4)\n",
    "\n",
    "# 5. Keep odd columns (first, third...) of X\n",
    "X_sub5 = X[:,::2] \n",
    "#X_sub5 = <FILL IN>\n",
    "print('\\nX_sub5: \\n',X_sub5)"
   ]
  },
  {
   "cell_type": "markdown",
   "metadata": {
    "colab_type": "text",
    "id": "LLE0XnzQF_wA"
   },
   "source": [
    "The output should be:\n",
    "```\n",
    "X:\n",
    " [[ 0  1  2  3  4]\n",
    " [ 5  6  7  8  9]\n",
    " [10 11 12 13 14]\n",
    " [15 16 17 18 19]\n",
    " [20 21 22 23 24]]\n",
    "\n",
    "X_sub1: \n",
    " [20 21 22 23 24]\n",
    "\n",
    "X_sub2: \n",
    " [ 0  5 10]\n",
    "\n",
    "X_sub3: \n",
    " [[ 0  1]\n",
    " [ 5  6]\n",
    " [10 11]]\n",
    "\n",
    "X_sub4: \n",
    " [[20 21 22 23 24]\n",
    " [15 16 17 18 19]\n",
    " [10 11 12 13 14]\n",
    " [ 5  6  7  8  9]\n",
    " [ 0  1  2  3  4]]\n",
    "\n",
    "X_sub5: \n",
    " [[ 0  2  4]\n",
    " [ 5  7  9]\n",
    " [10 12 14]\n",
    " [15 17 19]\n",
    " [20 22 24]]\n",
    " ```"
   ]
  },
  {
   "cell_type": "markdown",
   "metadata": {
    "colab_type": "text",
    "id": "clPZcwtG8IeM"
   },
   "source": [
    "We have seen how slicing let us index over the different dimensions of arrays. In the previous examples we learned how to select the rows and columns we're interested in, but... How can we select the elements of an array that meet a specific condition?\n",
    "\n",
    "Numpy provides us ```np.where(condition)```. A common way of using this function is by setting a condition involving an array (e.g., x > 5). If so, the result will be the indexes in which x contains numbers higher than 5. "
   ]
  },
  {
   "cell_type": "code",
   "execution_count": 15,
   "metadata": {
    "colab": {
     "base_uri": "https://localhost:8080/",
     "height": 102
    },
    "colab_type": "code",
    "collapsed": false,
    "id": "09Yzwpn3Ni0I",
    "outputId": "a7fc7776-4ac1-4897-9d66-2fd314c78023"
   },
   "outputs": [
    {
     "name": "stdout",
     "output_type": "stream",
     "text": [
      "Before conditioning: \n",
      " [-3 -2 -1  0  1  2  3]\n",
      "\n",
      "After conditioning: \n",
      " [-3  0  0  0  0  0  3]\n"
     ]
    }
   ],
   "source": [
    "x = np.array([-3,-2,-1,0,1,2,3])\n",
    "\n",
    "# Create a new vector `y` with the elements of x, but replacing by 0 each number whose\n",
    "# absolute value is 2 or less.\n",
    "\n",
    "y = np.copy(x) # CAUTION! Doing y = x will create two pointers to the same array.\n",
    "condition = np.abs(x)<=2 \n",
    "y[np.where(condition)[0]]=0\n",
    "# Note that np.where() returns a tuple. In this case the second element of the \n",
    "# tuple is empty. Read the np.where() docstring for more info.\n",
    "\n",
    "print('Before conditioning: \\n',x)\n",
    "print('\\nAfter conditioning: \\n',y)"
   ]
  },
  {
   "cell_type": "markdown",
   "metadata": {
    "colab_type": "text",
    "id": "q_NYXr-PIheX"
   },
   "source": [
    "Try solving the following excersise:"
   ]
  },
  {
   "cell_type": "code",
   "execution_count": 20,
   "metadata": {
    "colab": {
     "base_uri": "https://localhost:8080/",
     "height": 68
    },
    "colab_type": "code",
    "collapsed": false,
    "id": "zltnBMFA8kEi",
    "outputId": "dee45731-3ae9-46ef-ffb1-fe07d435afaf"
   },
   "outputs": [
    {
     "name": "stdout",
     "output_type": "stream",
     "text": [
      "[[ 2  3]\n",
      " [ 6  7]\n",
      " [10 11]]\n"
     ]
    }
   ],
   "source": [
    "# Given array x, select the subarray formed by the columns of x that add more \n",
    "# than 16.\n",
    "\n",
    "x = np.arange(12).reshape((3, 4))\n",
    "# <FILL IN>\n",
    "idx = np.where(np.sum(x, axis=0) > 16)[0]\n",
    "x_new = x[:, idx]\n",
    "print(x_new)"
   ]
  },
  {
   "cell_type": "markdown",
   "metadata": {
    "colab_type": "text",
    "id": "Yk5lRRX2Jpjo"
   },
   "source": [
    "The output should be:\n",
    "```\n",
    "[[ 2  3]\n",
    " [ 6  7]\n",
    " [10 11]]\n",
    " ```"
   ]
  }
 ],
 "metadata": {
  "colab": {
   "collapsed_sections": [],
   "name": "Intro2_Numpy_basics.ipynb",
   "provenance": [],
   "version": "0.3.2"
  },
  "kernelspec": {
   "display_name": "Python 3",
   "language": "python",
   "name": "python3"
  },
  "language_info": {
   "codemirror_mode": {
    "name": "ipython",
    "version": 3
   },
   "file_extension": ".py",
   "mimetype": "text/x-python",
   "name": "python",
   "nbconvert_exporter": "python",
   "pygments_lexer": "ipython3",
   "version": "3.6.5"
  }
 },
 "nbformat": 4,
 "nbformat_minor": 0
}
