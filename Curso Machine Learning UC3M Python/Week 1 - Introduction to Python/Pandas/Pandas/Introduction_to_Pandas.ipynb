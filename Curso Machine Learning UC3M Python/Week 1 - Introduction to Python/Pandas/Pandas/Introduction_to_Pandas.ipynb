{
  "nbformat": 4,
  "nbformat_minor": 0,
  "metadata": {
    "kernelspec": {
      "display_name": "Python 3",
      "language": "python",
      "name": "python3"
    },
    "language_info": {
      "codemirror_mode": {
        "name": "ipython",
        "version": 3
      },
      "file_extension": ".py",
      "mimetype": "text/x-python",
      "name": "python",
      "nbconvert_exporter": "python",
      "pygments_lexer": "ipython3",
      "version": "3.6.5"
    },
    "colab": {
      "name": "Introduction_to_Pandas.ipynb",
      "version": "0.3.2",
      "provenance": [],
      "collapsed_sections": []
    }
  },
  "cells": [
    {
      "cell_type": "markdown",
      "metadata": {
        "id": "43B4q0_DR_O3",
        "colab_type": "text"
      },
      "source": [
        "# An introduction to Pandas\n",
        "\n",
        "------------------------------------------------------\n",
        "Machine Learning Year 2019/2020\n",
        "\n",
        "*Pablo M. Olmos olmos@tsc.uc3m.es*  and *Vanessa Gómez Verdejo vanessa@tsc.uc3m.es*\n",
        "\n",
        "------------------------------------------------------\n",
        "\n",
        "When dealing with numeric matrices and vectors in Python, Numerical Python ([Numpy](https://docs.scipy.org/doc/numpy-dev/user/quickstart.html NumPy)) makes life a lot easier. Doing data analysis directly with NumPy can be problematic, as many different data types have to jointly managed.\n",
        "\n",
        "Fortunately, some nice folks have written the **[Python Data Analysis Library](https://pandas.pydata.org/)** (a.k.a. pandas). Pandas is an open sourcelibrary providing high-performance, easy-to-use data structures and data analysis tools for the Python programming language\n",
        "\n",
        "In this tutorial, we'll go through the basics of pandas using a database of house prices provided by [Kaggle](https://www.kaggle.com/). Pandas has a lot of functionality, so we'll only be able to cover a small fraction of what you can do. Check out the (very readable) [pandas docs](http://pandas.pydata.org/pandas-docs/stable/) if you want to learn more.\n",
        "\n",
        "### Acknowledgment:\n",
        "\n",
        "I have compiled this tutorial by putting together a few very nice blogs and posts I found on the web. All credit goes to them:\n",
        "- [An introduction to Pandas](http://synesthesiam.com/posts/an-introduction-to-pandas.html#handing-missing-values)\n",
        "- [Using iloc, loc, & ix to select rows and columns in Pandas DataFrames](https://www.shanelynn.ie/select-pandas-dataframe-rows-and-columns-using-iloc-loc-and-ix/)\n"
      ]
    },
    {
      "cell_type": "markdown",
      "metadata": {
        "id": "fr2ayWccR_O9",
        "colab_type": "text"
      },
      "source": [
        "## Getting Started\n",
        "\n",
        "Let's import the libray and check the current installed version"
      ]
    },
    {
      "cell_type": "code",
      "metadata": {
        "id": "ygGxwYjjR_PB",
        "colab_type": "code",
        "colab": {}
      },
      "source": [
        "import pandas as pd\n",
        "import matplotlib.pyplot as plt\n",
        "#The following is required to print the plots inside the notebooks\n",
        "%matplotlib inline "
      ],
      "execution_count": 0,
      "outputs": []
    },
    {
      "cell_type": "code",
      "metadata": {
        "id": "l4zxW5XHR_PP",
        "colab_type": "code",
        "colab": {}
      },
      "source": [
        "pd.__version__"
      ],
      "execution_count": 0,
      "outputs": []
    },
    {
      "cell_type": "markdown",
      "metadata": {
        "id": "CT3IaHvNR_PZ",
        "colab_type": "text"
      },
      "source": [
        "If you are using Anaconda and you want to update pandas to the latest version, you can use either the [package manager](https://docs.anaconda.com/anaconda/navigator/tutorials/manage-packages) in Anaconda Navigator, or type in a terminal window\n",
        "```\n",
        "> conda update pandas\n",
        "```\n"
      ]
    },
    {
      "cell_type": "markdown",
      "metadata": {
        "id": "4zzZwkErR_Pc",
        "colab_type": "text"
      },
      "source": [
        "Next lets read the housing price database, which is described [here](https://www.kaggle.com/c/house-prices-advanced-regression-techniques/data). Because it's in a CSV file, we can use pandas' `read_csv` function to pull it directly into the basic data structure in pandas: a **DataFrame**.\n",
        "\n",
        "You need to place this csv file in your local working directory ( where you have this notebook). In case you are using Google Colab, go to left pannel (click on left arrow) and select Files->UPLOAD (upload the file to the default folder)."
      ]
    },
    {
      "cell_type": "code",
      "metadata": {
        "id": "yYAISwW5R_Pe",
        "colab_type": "code",
        "colab": {}
      },
      "source": [
        "data = pd.read_csv(\"house_prices_train.csv\")"
      ],
      "execution_count": 0,
      "outputs": []
    },
    {
      "cell_type": "markdown",
      "metadata": {
        "id": "UXqdskSgR_Pk",
        "colab_type": "text"
      },
      "source": [
        "We can visualize the first rows of the Dataframe `data`"
      ]
    },
    {
      "cell_type": "code",
      "metadata": {
        "id": "IZ9ZC6DkR_Pl",
        "colab_type": "code",
        "colab": {}
      },
      "source": [
        "data.head()"
      ],
      "execution_count": 0,
      "outputs": []
    },
    {
      "cell_type": "markdown",
      "metadata": {
        "id": "q23VoUeBR_Ps",
        "colab_type": "text"
      },
      "source": [
        "You have a description of all fields in the [data description file](./data_description.txt).\n"
      ]
    },
    {
      "cell_type": "markdown",
      "metadata": {
        "id": "vGQsDmSXR_Pu",
        "colab_type": "text"
      },
      "source": [
        "You can check the size of the Dataframe and get a list of the column labels as follows:"
      ]
    },
    {
      "cell_type": "code",
      "metadata": {
        "id": "5_F0WqbHR_Pw",
        "colab_type": "code",
        "colab": {}
      },
      "source": [
        "print(\"The dataframe has %d entries, and %d attributes (columns)\\n\" %(data.shape[0],data.shape[1]))\n",
        "\n",
        "print(\"The labels associated to each of the %d attributes are:\\n \" %(data.shape[1]))\n",
        "label_list = list(data.columns)\n",
        "\n",
        "print(label_list)"
      ],
      "execution_count": 0,
      "outputs": []
    },
    {
      "cell_type": "markdown",
      "metadata": {
        "id": "-Ihc9zngR_P2",
        "colab_type": "text"
      },
      "source": [
        "Columns can be accessed in two ways. The first is using the DataFrame like a dictionary with string keys:"
      ]
    },
    {
      "cell_type": "code",
      "metadata": {
        "id": "YkKdVXuVR_P4",
        "colab_type": "code",
        "colab": {}
      },
      "source": [
        "data[['SalePrice']].head(10)   #This shows the first 10 entries in the column 'SalePrice'"
      ],
      "execution_count": 0,
      "outputs": []
    },
    {
      "cell_type": "markdown",
      "metadata": {
        "id": "OGmV2pjlR_P-",
        "colab_type": "text"
      },
      "source": [
        "You can get multiple columns out at the same time by passing in a list of strings."
      ]
    },
    {
      "cell_type": "code",
      "metadata": {
        "id": "kmfnbq8UR_QA",
        "colab_type": "code",
        "colab": {}
      },
      "source": [
        "simple_data = data[['LotArea','1stFlrSF','2ndFlrSF','SalePrice']]   \n",
        "#Subpart of the dataframe. \n",
        "# Watch out! This is not a different copy!\n",
        "\n",
        "simple_data.tail(10) #.tail() shows the last 10 entries"
      ],
      "execution_count": 0,
      "outputs": []
    },
    {
      "cell_type": "markdown",
      "metadata": {
        "id": "2xsiku95R_QG",
        "colab_type": "text"
      },
      "source": [
        "## Operations with columns"
      ]
    },
    {
      "cell_type": "markdown",
      "metadata": {
        "id": "8sxJBFPoR_QI",
        "colab_type": "text"
      },
      "source": [
        "We can easily [change the name](https://pandas.pydata.org/pandas-docs/stable/generated/pandas.DataFrame.rename.html) of the columns"
      ]
    },
    {
      "cell_type": "code",
      "metadata": {
        "id": "HpUe4YXHR_QK",
        "colab_type": "code",
        "colab": {}
      },
      "source": [
        "data.rename(index=str,columns={\"LotArea\":\"Area\"}, inplace=True)"
      ],
      "execution_count": 0,
      "outputs": []
    },
    {
      "cell_type": "markdown",
      "metadata": {
        "id": "XFLbHWcdR_QQ",
        "colab_type": "text"
      },
      "source": [
        "Try to rename the column name directly in `simple.data`, what do you get?\n",
        "\n",
        "\n",
        "There are a lot of useful methods that can be applied over columns. Most of pandas' methods will happily ignore missing values like `NaN`. We will talk about **missing data** later.\n",
        "\n",
        "First, since we rename one column name, lets recompute the short (referenced) data-frame `simple_data``\n"
      ]
    },
    {
      "cell_type": "code",
      "metadata": {
        "id": "bqpeUl76R_QS",
        "colab_type": "code",
        "colab": {}
      },
      "source": [
        "simple_data = data[['Area','1stFlrSF','2ndFlrSF','SalePrice']]   \n",
        "print(simple_data.head(5))\n",
        "\n",
        "print(simple_data['Area'].mean())\n",
        "print(simple_data['Area'].std())"
      ],
      "execution_count": 0,
      "outputs": []
    },
    {
      "cell_type": "markdown",
      "metadata": {
        "id": "13vgIDskR_QX",
        "colab_type": "text"
      },
      "source": [
        "Some methods, like plot() and hist() produce plots using [matplotlib](https://matplotlib.org/). We'll go over plotting in more detail later."
      ]
    },
    {
      "cell_type": "code",
      "metadata": {
        "id": "K6Wf3NS2R_QZ",
        "colab_type": "code",
        "colab": {}
      },
      "source": [
        "simple_data[['Area']][:100].plot()"
      ],
      "execution_count": 0,
      "outputs": []
    },
    {
      "cell_type": "code",
      "metadata": {
        "id": "w0I6fFXDR_Qe",
        "colab_type": "code",
        "colab": {}
      },
      "source": [
        "simple_data[['Area']].hist()"
      ],
      "execution_count": 0,
      "outputs": []
    },
    {
      "cell_type": "markdown",
      "metadata": {
        "id": "I20Da6TKR_Qi",
        "colab_type": "text"
      },
      "source": [
        "## Operations with `apply()`"
      ]
    },
    {
      "cell_type": "markdown",
      "metadata": {
        "id": "7LvFFeQ_R_Qk",
        "colab_type": "text"
      },
      "source": [
        "Methods like `sum()` and `std()` work on entire columns. We can run our own functions across all values in a column (or row) using `apply()`.\n",
        "\n",
        "To get an idea about how this works, assume we want to convert the variable ['Area'] into squared meters instead of square foots. First, we create a conversion function."
      ]
    },
    {
      "cell_type": "code",
      "metadata": {
        "id": "YHCZ6SiKR_Ql",
        "colab_type": "code",
        "colab": {}
      },
      "source": [
        "def sfoot_to_smeter(x):\n",
        "    \"Funtion to convert square foots into squared meters\"\n",
        "    return (x * 0.092903)"
      ],
      "execution_count": 0,
      "outputs": []
    },
    {
      "cell_type": "code",
      "metadata": {
        "id": "sd4nNYKuR_Qq",
        "colab_type": "code",
        "colab": {}
      },
      "source": [
        "sfoot_to_smeter(1) #just checking everything is correct"
      ],
      "execution_count": 0,
      "outputs": []
    },
    {
      "cell_type": "markdown",
      "metadata": {
        "id": "4SHiOrjqR_Qu",
        "colab_type": "text"
      },
      "source": [
        "Using the `apply()` method, which takes an [anonymous function](https://docs.python.org/2/reference/expressions.html#lambda), we can apply `sfoot_to_smeter` to each value in the column. We can now either overwrite the data in the column 'Area' or create a new one. We'll do the latter in this case."
      ]
    },
    {
      "cell_type": "code",
      "metadata": {
        "id": "zsIEGcdmR_Qv",
        "colab_type": "code",
        "colab": {}
      },
      "source": [
        "# Recall! data['Area'] is not a DataFrame, but a Pandas Series (another data object with different attributes). In order\n",
        "# to index a DataFrame with a single column, you should use double [[]], i.e., data[['Area']]\n",
        "\n",
        "data['Area_m2'] = data[['Area']].apply(lambda d: sfoot_to_smeter(d))"
      ],
      "execution_count": 0,
      "outputs": []
    },
    {
      "cell_type": "code",
      "metadata": {
        "id": "Op93euXDR_Q3",
        "colab_type": "code",
        "colab": {}
      },
      "source": [
        "simple_data = data[['Area','Area_m2', '1stFlrSF','2ndFlrSF','SalePrice']]     \n",
        "\n",
        "simple_data.head()"
      ],
      "execution_count": 0,
      "outputs": []
    },
    {
      "cell_type": "markdown",
      "metadata": {
        "id": "xIgYMJgiR_Q9",
        "colab_type": "text"
      },
      "source": [
        "What do you get if you try to apply the transformation directly over `simple_data`? What do you think the problem is?"
      ]
    },
    {
      "cell_type": "markdown",
      "metadata": {
        "collapsed": true,
        "id": "Tkw8Wx8bR_Q-",
        "colab_type": "text"
      },
      "source": [
        "Now, we do not even need the column `Area`(in square foot), lets remove it."
      ]
    },
    {
      "cell_type": "code",
      "metadata": {
        "id": "m-gr0vzLR_Q_",
        "colab_type": "code",
        "colab": {}
      },
      "source": [
        "data.drop('Area',axis=1,inplace=True)\n",
        "\n",
        "data.head(5) "
      ],
      "execution_count": 0,
      "outputs": []
    },
    {
      "cell_type": "markdown",
      "metadata": {
        "id": "JT4Zi8eTR_RF",
        "colab_type": "text"
      },
      "source": [
        "# Indexing, iloc, loc"
      ]
    },
    {
      "cell_type": "markdown",
      "metadata": {
        "id": "H7l1xpJYR_RH",
        "colab_type": "text"
      },
      "source": [
        "There are [multiple ways](http://pandas.pydata.org/pandas-docs/stable/indexing.html#different-choices-for-indexing) to select and index rows and columns from Pandas DataFrames. \n",
        "\n",
        "There’s three main options to achieve the selection and indexing activities in Pandas, which can be confusing. The three selection cases and methods covered in this post are:\n",
        "\n",
        "- Selecting data by row numbers (.iloc)\n",
        "- Selecting data by label or by a conditional statment (.loc)\n",
        "- Selecting in a hybrid approach (.ix) (now Deprecated in Pandas 0.20.1)\n",
        "\n",
        "We will cover the first two"
      ]
    },
    {
      "cell_type": "markdown",
      "metadata": {
        "id": "T--gNJutR_RH",
        "colab_type": "text"
      },
      "source": [
        "### Selecting rows using `iloc()`\n",
        "\n",
        "The [`iloc`](http://pandas.pydata.org/pandas-docs/version/0.17.0/generated/pandas.DataFrame.iloc.html) indexer for Pandas Dataframe is used for integer-location based indexing / selection by position.\n",
        "\n",
        "The iloc indexer syntax is `data.iloc[<row selection>, <column selection>]`. “iloc” in pandas is used to select rows and columns by number, **in the order that they appear in the data frame**. You can imagine that each row has a row number from 0 to the total rows (data.shape[0])  and iloc[] allows selections based on these numbers. The same applies for columns (ranging from 0 to data.shape[1] )"
      ]
    },
    {
      "cell_type": "code",
      "metadata": {
        "id": "9elEQcbWR_RL",
        "colab_type": "code",
        "colab": {}
      },
      "source": [
        "simple_data.iloc[[3,4],0:3]"
      ],
      "execution_count": 0,
      "outputs": []
    },
    {
      "cell_type": "markdown",
      "metadata": {
        "id": "qRuEOol-R_RT",
        "colab_type": "text"
      },
      "source": [
        "Note that `.iloc` returns a Pandas Series when one row is selected, and a Pandas DataFrame when multiple rows are selected, or if any column in full is selected. To counter this, pass a single-valued list if you require DataFrame output. "
      ]
    },
    {
      "cell_type": "code",
      "metadata": {
        "id": "XKQWc9DNR_RU",
        "colab_type": "code",
        "colab": {}
      },
      "source": [
        "print(type(simple_data.iloc[:,0]))  #PandaSeries\n",
        "\n",
        "\n",
        "print(type(simple_data.iloc[:,[0]])) #DataFrame\n",
        "\n",
        "# To avoid confusion, work always with DataFrames!"
      ],
      "execution_count": 0,
      "outputs": []
    },
    {
      "cell_type": "markdown",
      "metadata": {
        "id": "gnSkCgQNR_RZ",
        "colab_type": "text"
      },
      "source": [
        "When selecting multiple columns or multiple rows in this manner, remember that in your selection e.g.[1:5], the rows/columns selected will run from the first number to one minus the second number. e.g. [1:5] will go 1,2,3,4., [x,y] goes from x to y-1.\n",
        "\n",
        "\n",
        "In practice, `iloc()` is sheldom used. 'loc()' is way more handly."
      ]
    },
    {
      "cell_type": "markdown",
      "metadata": {
        "id": "4yLaDYppR_RZ",
        "colab_type": "text"
      },
      "source": [
        "### Selecting rows using `loc()`\n",
        "\n",
        "The Pandas `loc()` indexer can be used with DataFrames for two different use cases:\n",
        "\n",
        "- Selecting rows by label/index\n",
        "- Selecting rows with a boolean / conditional lookup\n",
        "\n",
        "#### Selecting rows by label/index\n",
        "\n",
        "*Important* Selections using the `loc()` method are based on the index of the data frame (if any). Where the index is set on a DataFrame, using <code>df.set_index()</code>, the `loc()` method directly selects based on index values of any rows. For example, setting the index of our test data frame to the column 'OverallQual' (Rates the overall material and finish of the house):"
      ]
    },
    {
      "cell_type": "code",
      "metadata": {
        "id": "EDTuC-jfR_Rb",
        "colab_type": "code",
        "colab": {}
      },
      "source": [
        "data.set_index('OverallQual',inplace=True)"
      ],
      "execution_count": 0,
      "outputs": []
    },
    {
      "cell_type": "code",
      "metadata": {
        "id": "kzmHza7HR_Rm",
        "colab_type": "code",
        "colab": {}
      },
      "source": [
        "data.head(5) "
      ],
      "execution_count": 0,
      "outputs": []
    },
    {
      "cell_type": "markdown",
      "metadata": {
        "id": "quGNx1NAR_Rr",
        "colab_type": "text"
      },
      "source": [
        "Using `.loc()` we can search for rows with a specific index value"
      ]
    },
    {
      "cell_type": "code",
      "metadata": {
        "id": "aDlI_td9R_Rt",
        "colab_type": "code",
        "colab": {}
      },
      "source": [
        "good_houses = data.loc[[8,9,10]]  #List all houses with rating above 8\n",
        "\n",
        "good_houses.head(10)"
      ],
      "execution_count": 0,
      "outputs": []
    },
    {
      "cell_type": "markdown",
      "metadata": {
        "id": "wC5qsxZHR_Rx",
        "colab_type": "text"
      },
      "source": [
        "We can sort the dataframe according to index"
      ]
    },
    {
      "cell_type": "code",
      "metadata": {
        "id": "sNofZY-pR_Rx",
        "colab_type": "code",
        "colab": {}
      },
      "source": [
        "data.sort_index(inplace=True,ascending=False) #Again, what is what you get if soft Dataframe good_houses directly? \n",
        "good_houses.head(10)"
      ],
      "execution_count": 0,
      "outputs": []
    },
    {
      "cell_type": "markdown",
      "metadata": {
        "id": "kUv8K8NWR_R0",
        "colab_type": "text"
      },
      "source": [
        "#### Boolean / Logical indexing using .loc"
      ]
    },
    {
      "cell_type": "markdown",
      "metadata": {
        "id": "5pxS8l7pR_R1",
        "colab_type": "text"
      },
      "source": [
        "[Conditional selections](http://pandas.pydata.org/pandas-docs/stable/indexing.html#boolean-indexing) with boolean arrays using `data.loc[<selection>]` is a common method with Pandas DataFrames. With boolean indexing or logical selection, you pass an array or Series of `True/False` values to the `.loc` indexer to select the rows where your Series has True values.\n",
        "\n",
        "For example, the statement data[‘first_name’] == ‘Antonio’] produces a Pandas Series with a True/False value for every row in the ‘data’ DataFrame, where there are “True” values for the rows where the first_name is “Antonio”. These type of boolean arrays can be passed directly to the .loc indexer as so:"
      ]
    },
    {
      "cell_type": "code",
      "metadata": {
        "id": "vehgfGUiR_R2",
        "colab_type": "code",
        "colab": {}
      },
      "source": [
        "good_houses.loc[good_houses['PoolArea']>0] #How many houses with quality above or equal to 8 have a Pool"
      ],
      "execution_count": 0,
      "outputs": []
    },
    {
      "cell_type": "markdown",
      "metadata": {
        "id": "GBhRB2gXR_R5",
        "colab_type": "text"
      },
      "source": [
        "As before, a second argument can be passed to .loc to select particular columns out of the data frame."
      ]
    },
    {
      "cell_type": "code",
      "metadata": {
        "id": "NuIvervVR_R6",
        "colab_type": "code",
        "colab": {}
      },
      "source": [
        "good_houses.loc[good_houses['PoolArea']>0,['GarageArea','GarageCars']] #Among those above, we focus on the area of the\n",
        "# garage and how many cars can fit within"
      ],
      "execution_count": 0,
      "outputs": []
    },
    {
      "cell_type": "markdown",
      "metadata": {
        "id": "dL-PLDIQR_R8",
        "colab_type": "text"
      },
      "source": [
        "Even an anonymous function with the `.apply()` method can be used to generate the series of True/False indexes. For instance, select good houses with less than 10 years."
      ]
    },
    {
      "cell_type": "code",
      "metadata": {
        "id": "Dy41Iz9DR_R8",
        "colab_type": "code",
        "colab": {}
      },
      "source": [
        "def check_date(current_year,year_built,threshold):\n",
        "    \n",
        "    return (current_year-year_built) <= threshold"
      ],
      "execution_count": 0,
      "outputs": []
    },
    {
      "cell_type": "code",
      "metadata": {
        "id": "V_r7WiTsR_R_",
        "colab_type": "code",
        "colab": {}
      },
      "source": [
        "good_houses.loc[good_houses['YearBuilt'].apply(lambda d: check_date(2018, d,10))]"
      ],
      "execution_count": 0,
      "outputs": []
    },
    {
      "cell_type": "markdown",
      "metadata": {
        "id": "_qL1qlYsR_SC",
        "colab_type": "text"
      },
      "source": [
        "Using the above filtering, we can add our own column to the DataFrame to create an index that is 1 for houses that have swimming pool and less than 30 years."
      ]
    },
    {
      "cell_type": "code",
      "metadata": {
        "id": "asl8Vf2aR_SC",
        "colab_type": "code",
        "colab": {}
      },
      "source": [
        "data['My_index'] = 0 # We create new column with default vale\n",
        "\n",
        "data.loc[(data['YearBuilt'].apply(lambda d: check_date(2018, d,30))) & (data['PoolArea']>0),'My_index'] = 1\n",
        "\n",
        "data.loc[data['My_index'] == 1]"
      ],
      "execution_count": 0,
      "outputs": []
    },
    {
      "cell_type": "markdown",
      "metadata": {
        "id": "eAS-ObbbR_SF",
        "colab_type": "text"
      },
      "source": [
        "## Handling Missing Data\n",
        "\n",
        "Pandas considers values like `NaN` and `None` to represent missing data. The `pandas.isnull` function can be used to tell whether or not a value is missing.\n",
        "\n",
        "Let's use `apply()` across all of the columns in our DataFrame to figure out which values are missing."
      ]
    },
    {
      "cell_type": "code",
      "metadata": {
        "id": "IB-k49idR_SF",
        "colab_type": "code",
        "colab": {}
      },
      "source": [
        "empty = data.apply(lambda col: pd.isnull(col))\n",
        "\n",
        "empty.head(5) #We get back a boolean Dataframe with 'True' whenever we have a missing data (either Nan or None)"
      ],
      "execution_count": 0,
      "outputs": []
    },
    {
      "cell_type": "markdown",
      "metadata": {
        "id": "RpoAyCuER_SJ",
        "colab_type": "text"
      },
      "source": [
        "There are multiple ways of handling missing data, we will talk about this during the course. Pandas provides handly functions to easily work with missing data, check [this post](https://chrisalbon.com/python/data_wrangling/pandas_missing_data/) for examples."
      ]
    },
    {
      "cell_type": "markdown",
      "metadata": {
        "id": "RiuRTn9CR_SK",
        "colab_type": "text"
      },
      "source": [
        "## More about plotting with `matplotlib()` library\n",
        "\n",
        "\n",
        "You should consult [matplotlib documentation](https://matplotlib.org/index.html) for tons of examples and options."
      ]
    },
    {
      "cell_type": "code",
      "metadata": {
        "id": "NT0guGL2R_SK",
        "colab_type": "code",
        "colab": {}
      },
      "source": [
        "plt.plot(data['Area_m2'],data['SalePrice'],'ro')\n",
        "plt.plot(good_houses['Area_m2'],good_houses['SalePrice'],'*')\n",
        "plt.legend(['SalePrice (all data)','SalePrince (good houses)'])\n",
        "plt.xlabel('Area_m2')\n",
        "plt.grid(True)\n",
        "plt.xlim([0,7500])"
      ],
      "execution_count": 0,
      "outputs": []
    },
    {
      "cell_type": "code",
      "metadata": {
        "id": "-H67g6aMR_SN",
        "colab_type": "code",
        "colab": {}
      },
      "source": [
        "data.sort_values(['SalePrice'],ascending=True,inplace=True) #We order the data according to SalePrice\n",
        "\n",
        "# Create axes\n",
        "fig, ax = plt.subplots()\n",
        "ax2 = ax.twinx()\n",
        "ax.loglog(data['SalePrice'], data['Area_m2'], color='blue',marker='o')\n",
        "ax.set_xlabel('SalePrice (logscale)')\n",
        "ax.set_ylabel('Area_m2 (logscale)')\n",
        "ax2.semilogx(data['SalePrice'],data[['GarageArea']].apply(lambda d: sfoot_to_smeter(d)), color='red',marker='+',linewidth=0)\n",
        "ax2.set_ylabel('Garage Area (logscale)')\n",
        "\n",
        "ax.set_title('A plot with two scales')"
      ],
      "execution_count": 0,
      "outputs": []
    },
    {
      "cell_type": "markdown",
      "metadata": {
        "id": "81OGCBwVR_SP",
        "colab_type": "text"
      },
      "source": [
        "## Getting data out"
      ]
    },
    {
      "cell_type": "markdown",
      "metadata": {
        "id": "BNXbNCnSR_SQ",
        "colab_type": "text"
      },
      "source": [
        "Writing data out in pandas is as easy as getting data in. To save our DataFrame out to a new csv file, we can just do this:"
      ]
    },
    {
      "cell_type": "code",
      "metadata": {
        "id": "SXg_DOB8R_SQ",
        "colab_type": "code",
        "colab": {}
      },
      "source": [
        "data.to_csv(\"modified_data.csv\")"
      ],
      "execution_count": 0,
      "outputs": []
    },
    {
      "cell_type": "markdown",
      "metadata": {
        "id": "QyrYycsdR_SS",
        "colab_type": "text"
      },
      "source": [
        "There's also support for reading and writing [Excel files](http://pandas.pydata.org/pandas-docs/stable/io.html#excel-files), if you need it.\n",
        "\n",
        "Also, creating a Numpy array is straightforward:"
      ]
    },
    {
      "cell_type": "code",
      "metadata": {
        "id": "r31d4zQPR_ST",
        "colab_type": "code",
        "colab": {}
      },
      "source": [
        "import numpy as np"
      ],
      "execution_count": 0,
      "outputs": []
    },
    {
      "cell_type": "code",
      "metadata": {
        "id": "Xt5mT2DjR_SX",
        "colab_type": "code",
        "colab": {}
      },
      "source": [
        "data_array = np.array(good_houses)\n",
        "\n",
        "print(data_array.shape)"
      ],
      "execution_count": 0,
      "outputs": []
    },
    {
      "cell_type": "markdown",
      "metadata": {
        "id": "Jl_YyuYmamDH",
        "colab_type": "text"
      },
      "source": [
        "## Some exercises"
      ]
    },
    {
      "cell_type": "markdown",
      "metadata": {
        "id": "di1S_G7Ca5Zq",
        "colab_type": "text"
      },
      "source": [
        "1. We will work with a reduced database, create a **copy** of the original Dataframe called `rdata` (not a reference!, use the [`pd.DataFrame.copy()`](https://pandas.pydata.org/pandas-docs/stable/generated/pandas.DataFrame.copy.html) method) that only contains the columns\n",
        "\n",
        "- Area (in square meters!)\n",
        "- GarageArea (in square meters!)\n",
        "- YrSold \n",
        "- MoSold\n",
        "- CentralAir\n",
        "- YearBuilt\n",
        "- OverallCond\n",
        "- SalePrice\n",
        "\n",
        "Check that you are working with a copy and not with a reference of the original dataframe. To do so, check this by renaming a column of the new dataframe."
      ]
    },
    {
      "cell_type": "code",
      "metadata": {
        "id": "yy9aWKFRR_Sa",
        "colab_type": "code",
        "colab": {}
      },
      "source": [
        "#Your code here"
      ],
      "execution_count": 0,
      "outputs": []
    },
    {
      "cell_type": "markdown",
      "metadata": {
        "id": "_XwyyIwbbEn1",
        "colab_type": "text"
      },
      "source": [
        "2. Using the `.apply()` method, create a new column corresponding to the age of the house in months."
      ]
    },
    {
      "cell_type": "code",
      "metadata": {
        "id": "d6IJtXx_a_p-",
        "colab_type": "code",
        "colab": {}
      },
      "source": [
        "#Your code here"
      ],
      "execution_count": 0,
      "outputs": []
    },
    {
      "cell_type": "markdown",
      "metadata": {
        "id": "IFPsYNsBbJgK",
        "colab_type": "text"
      },
      "source": [
        "3. It is crucial to understand and visualize each attribute. Using a foor loop that iterates over the columns of `reduced_database`, plot both the histogram of each column with 10 bins and the value of each entry with respect to 'SalePrice'. To do so, use [`plt.subplots()`](https://matplotlib.org/api/_as_gen/matplotlib.pyplot.subplots.html) to create a figure with two plots. You have examples [here](https://matplotlib.org/gallery/subplots_axes_and_figures/subplots_demo.html)."
      ]
    },
    {
      "cell_type": "code",
      "metadata": {
        "id": "qDRYIVAkbYwM",
        "colab_type": "code",
        "colab": {}
      },
      "source": [
        "#Complete the following code\n",
        "   \n",
        "for c in rdata: #check what c is!\n",
        "    \n",
        "    f, ax = plt.subplots(2,1,figsize=(8, 8))\n",
        "    ax[0].hist(XX)     #Your code here!\n",
        "    ax[1].loglog(rdata['SalePrice'],XX,'*') #Your code here!\n",
        "    ax[0].set_xlabel('SalePrice')\n",
        "    ax[1].set_xlabel('SalePrice')\n",
        "    ax[0].set_title('Column: ' + c )"
      ],
      "execution_count": 0,
      "outputs": []
    },
    {
      "cell_type": "markdown",
      "metadata": {
        "id": "ozzdbzkfbVFv",
        "colab_type": "text"
      },
      "source": [
        "3. Compute the mean and variance of each column in `rdata`. Repeat by considering only those houses with central air conditioning, which entry seems to be more correlated with the fact that a house has central air conditioning?"
      ]
    },
    {
      "cell_type": "code",
      "metadata": {
        "id": "_2uIsbanbDnI",
        "colab_type": "code",
        "colab": {}
      },
      "source": [
        "#Your code here"
      ],
      "execution_count": 0,
      "outputs": []
    },
    {
      "cell_type": "markdown",
      "metadata": {
        "id": "f6N5mgz7b_SG",
        "colab_type": "text"
      },
      "source": [
        "4. Replace missing data in each column by a representative value. For instance, it can be the mean in real-valued variables, or the most common category in categorical variables (like central air conditioning)."
      ]
    },
    {
      "cell_type": "code",
      "metadata": {
        "id": "it5-uFJTb_3R",
        "colab_type": "code",
        "colab": {}
      },
      "source": [
        "#Your code here"
      ],
      "execution_count": 0,
      "outputs": []
    },
    {
      "cell_type": "markdown",
      "metadata": {
        "id": "y4Z90IWfcDqR",
        "colab_type": "text"
      },
      "source": [
        "5. Save the results in a cvs file named `Reduced_database_with_missing_inputation.csv``"
      ]
    },
    {
      "cell_type": "code",
      "metadata": {
        "id": "Rs2X7xU3cEgh",
        "colab_type": "code",
        "colab": {}
      },
      "source": [
        "#Your code here"
      ],
      "execution_count": 0,
      "outputs": []
    }
  ]
}