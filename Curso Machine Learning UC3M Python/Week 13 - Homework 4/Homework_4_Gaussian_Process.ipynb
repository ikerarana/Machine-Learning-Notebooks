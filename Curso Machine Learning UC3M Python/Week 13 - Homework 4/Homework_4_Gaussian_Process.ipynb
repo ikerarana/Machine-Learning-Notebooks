{
  "nbformat": 4,
  "nbformat_minor": 0,
  "metadata": {
    "kernelspec": {
      "display_name": "Python 3",
      "language": "python",
      "name": "python3"
    },
    "language_info": {
      "codemirror_mode": {
        "name": "ipython",
        "version": 3
      },
      "file_extension": ".py",
      "mimetype": "text/x-python",
      "name": "python",
      "nbconvert_exporter": "python",
      "pygments_lexer": "ipython3",
      "version": "3.7.3"
    },
    "colab": {
      "name": "Homework_4_Gaussian Process.ipynb",
      "provenance": [],
      "collapsed_sections": [
        "y87iBugKY8wo",
        "yuBvdi1rfMTV",
        "RXbbHViFoNLr",
        "67riDVBtY8wu",
        "Qoqs7YY-Ng7T"
      ]
    }
  },
  "cells": [
    {
      "cell_type": "markdown",
      "metadata": {
        "id": "K9E8w3z6Y8wn",
        "colab_type": "text"
      },
      "source": [
        "# Homework 4: Regression with Gaussian Processes\n",
        "\n",
        "------------------------------------------------------\n",
        "*Machine Learning, Master in Information Health Engineering, 2019-2020*\n",
        "\n",
        "*Pablo M. Olmos olmos@tsc.uc3m.es*\n",
        "\n",
        "------------------------------------------------------\n",
        "\n",
        "The aim of this homework is to solve a real data problem using the Gaussian Process implementation of GPy. The documentation of GPy is avaialable from the [SheffieldML github page](https://github.com/SheffieldML/GPy) or from [this page](http://gpy.readthedocs.org/en/latest/). \n",
        "\n",
        "The problem is the prediction of both the heating load (HL) and cooling load (CL) of residential buildings. We consider eight input variables for each building: relative compactness, surface area, wall area, roof area, overall height, orientation, glazing area, glazing area distribution.\n",
        "\n",
        "In this [paper](https://www.sciencedirect.com/science/article/pii/S037877881200151X) you can find a detailed description of the problem and a solution based on linear regression [(iteratively reweighted least squares (IRLS) algorithm)](https://www.google.com/url?sa=t&rct=j&q=&esrc=s&source=web&cd=10&ved=2ahUKEwjZuoLY2OjgAhUs3uAKHUZ7BVcQFjAJegQIAhAC&url=https%3A%2F%2Fpdfs.semanticscholar.org%2F9b92%2F18e7233f4d0b491e1582c893c9a099470a73.pdf&usg=AOvVaw3YDwqZh1xyF626VqfnCM2k) and random forests. Using GPs, our goal is not only estimate accurately both HL and CL, but also get a measure of uncertainty in our predictions.\n",
        "\n",
        "The data set can be downloaded from the [UCI repository](https://archive.ics.uci.edu/ml/datasets/Energy+efficiency#)."
      ]
    },
    {
      "cell_type": "markdown",
      "metadata": {
        "id": "pLTX1CeRce64",
        "colab_type": "text"
      },
      "source": [
        "\n",
        "\n",
        "> DUDAS PARA PREGUNTAR:\n",
        "\n",
        "\n",
        "1.   KERNELS distintos para cada modelo?\n",
        "2.   Optimización de restart o a secas\n",
        "3.   Fijar constraints? (priors)\n",
        "4.   MSE y MAE con todos los datos?\n",
        "\n",
        "\n",
        "\n",
        "\n"
      ]
    },
    {
      "cell_type": "markdown",
      "metadata": {
        "id": "y87iBugKY8wo",
        "colab_type": "text"
      },
      "source": [
        "### 1. Loading and preparing the data\n",
        "\n",
        "* Download the dataset\n",
        "* Divide at random the dataset into train (80%) and test (20%) datasets \n",
        "* Normalize data if needed"
      ]
    },
    {
      "cell_type": "code",
      "metadata": {
        "id": "5v0I0oqDbN9x",
        "colab_type": "code",
        "colab": {}
      },
      "source": [
        "from google.colab import files\n",
        "import pandas as pd\n",
        "import io\n",
        "import numpy as np\n",
        "from sklearn.model_selection import train_test_split\n",
        "from sklearn.preprocessing import StandardScaler\n",
        "from sklearn import preprocessing\n",
        "import matplotlib.pyplot as plt\n",
        "import warnings\n",
        "from IPython.display import display\n",
        "import sklearn.metrics as metrics\n",
        "\n",
        "warnings.filterwarnings('ignore')\n"
      ],
      "execution_count": 0,
      "outputs": []
    },
    {
      "cell_type": "code",
      "metadata": {
        "id": "6h9JyfPJb_tl",
        "colab_type": "code",
        "outputId": "f9280693-e2d9-4d22-8c17-f17aea6e59a7",
        "colab": {
          "resources": {
            "http://localhost:8080/nbextensions/google.colab/files.js": {
              "data": "Ly8gQ29weXJpZ2h0IDIwMTcgR29vZ2xlIExMQwovLwovLyBMaWNlbnNlZCB1bmRlciB0aGUgQXBhY2hlIExpY2Vuc2UsIFZlcnNpb24gMi4wICh0aGUgIkxpY2Vuc2UiKTsKLy8geW91IG1heSBub3QgdXNlIHRoaXMgZmlsZSBleGNlcHQgaW4gY29tcGxpYW5jZSB3aXRoIHRoZSBMaWNlbnNlLgovLyBZb3UgbWF5IG9idGFpbiBhIGNvcHkgb2YgdGhlIExpY2Vuc2UgYXQKLy8KLy8gICAgICBodHRwOi8vd3d3LmFwYWNoZS5vcmcvbGljZW5zZXMvTElDRU5TRS0yLjAKLy8KLy8gVW5sZXNzIHJlcXVpcmVkIGJ5IGFwcGxpY2FibGUgbGF3IG9yIGFncmVlZCB0byBpbiB3cml0aW5nLCBzb2Z0d2FyZQovLyBkaXN0cmlidXRlZCB1bmRlciB0aGUgTGljZW5zZSBpcyBkaXN0cmlidXRlZCBvbiBhbiAiQVMgSVMiIEJBU0lTLAovLyBXSVRIT1VUIFdBUlJBTlRJRVMgT1IgQ09ORElUSU9OUyBPRiBBTlkgS0lORCwgZWl0aGVyIGV4cHJlc3Mgb3IgaW1wbGllZC4KLy8gU2VlIHRoZSBMaWNlbnNlIGZvciB0aGUgc3BlY2lmaWMgbGFuZ3VhZ2UgZ292ZXJuaW5nIHBlcm1pc3Npb25zIGFuZAovLyBsaW1pdGF0aW9ucyB1bmRlciB0aGUgTGljZW5zZS4KCi8qKgogKiBAZmlsZW92ZXJ2aWV3IEhlbHBlcnMgZm9yIGdvb2dsZS5jb2xhYiBQeXRob24gbW9kdWxlLgogKi8KKGZ1bmN0aW9uKHNjb3BlKSB7CmZ1bmN0aW9uIHNwYW4odGV4dCwgc3R5bGVBdHRyaWJ1dGVzID0ge30pIHsKICBjb25zdCBlbGVtZW50ID0gZG9jdW1lbnQuY3JlYXRlRWxlbWVudCgnc3BhbicpOwogIGVsZW1lbnQudGV4dENvbnRlbnQgPSB0ZXh0OwogIGZvciAoY29uc3Qga2V5IG9mIE9iamVjdC5rZXlzKHN0eWxlQXR0cmlidXRlcykpIHsKICAgIGVsZW1lbnQuc3R5bGVba2V5XSA9IHN0eWxlQXR0cmlidXRlc1trZXldOwogIH0KICByZXR1cm4gZWxlbWVudDsKfQoKLy8gTWF4IG51bWJlciBvZiBieXRlcyB3aGljaCB3aWxsIGJlIHVwbG9hZGVkIGF0IGEgdGltZS4KY29uc3QgTUFYX1BBWUxPQURfU0laRSA9IDEwMCAqIDEwMjQ7Ci8vIE1heCBhbW91bnQgb2YgdGltZSB0byBibG9jayB3YWl0aW5nIGZvciB0aGUgdXNlci4KY29uc3QgRklMRV9DSEFOR0VfVElNRU9VVF9NUyA9IDMwICogMTAwMDsKCmZ1bmN0aW9uIF91cGxvYWRGaWxlcyhpbnB1dElkLCBvdXRwdXRJZCkgewogIGNvbnN0IHN0ZXBzID0gdXBsb2FkRmlsZXNTdGVwKGlucHV0SWQsIG91dHB1dElkKTsKICBjb25zdCBvdXRwdXRFbGVtZW50ID0gZG9jdW1lbnQuZ2V0RWxlbWVudEJ5SWQob3V0cHV0SWQpOwogIC8vIENhY2hlIHN0ZXBzIG9uIHRoZSBvdXRwdXRFbGVtZW50IHRvIG1ha2UgaXQgYXZhaWxhYmxlIGZvciB0aGUgbmV4dCBjYWxsCiAgLy8gdG8gdXBsb2FkRmlsZXNDb250aW51ZSBmcm9tIFB5dGhvbi4KICBvdXRwdXRFbGVtZW50LnN0ZXBzID0gc3RlcHM7CgogIHJldHVybiBfdXBsb2FkRmlsZXNDb250aW51ZShvdXRwdXRJZCk7Cn0KCi8vIFRoaXMgaXMgcm91Z2hseSBhbiBhc3luYyBnZW5lcmF0b3IgKG5vdCBzdXBwb3J0ZWQgaW4gdGhlIGJyb3dzZXIgeWV0KSwKLy8gd2hlcmUgdGhlcmUgYXJlIG11bHRpcGxlIGFzeW5jaHJvbm91cyBzdGVwcyBhbmQgdGhlIFB5dGhvbiBzaWRlIGlzIGdvaW5nCi8vIHRvIHBvbGwgZm9yIGNvbXBsZXRpb24gb2YgZWFjaCBzdGVwLgovLyBUaGlzIHVzZXMgYSBQcm9taXNlIHRvIGJsb2NrIHRoZSBweXRob24gc2lkZSBvbiBjb21wbGV0aW9uIG9mIGVhY2ggc3RlcCwKLy8gdGhlbiBwYXNzZXMgdGhlIHJlc3VsdCBvZiB0aGUgcHJldmlvdXMgc3RlcCBhcyB0aGUgaW5wdXQgdG8gdGhlIG5leHQgc3RlcC4KZnVuY3Rpb24gX3VwbG9hZEZpbGVzQ29udGludWUob3V0cHV0SWQpIHsKICBjb25zdCBvdXRwdXRFbGVtZW50ID0gZG9jdW1lbnQuZ2V0RWxlbWVudEJ5SWQob3V0cHV0SWQpOwogIGNvbnN0IHN0ZXBzID0gb3V0cHV0RWxlbWVudC5zdGVwczsKCiAgY29uc3QgbmV4dCA9IHN0ZXBzLm5leHQob3V0cHV0RWxlbWVudC5sYXN0UHJvbWlzZVZhbHVlKTsKICByZXR1cm4gUHJvbWlzZS5yZXNvbHZlKG5leHQudmFsdWUucHJvbWlzZSkudGhlbigodmFsdWUpID0+IHsKICAgIC8vIENhY2hlIHRoZSBsYXN0IHByb21pc2UgdmFsdWUgdG8gbWFrZSBpdCBhdmFpbGFibGUgdG8gdGhlIG5leHQKICAgIC8vIHN0ZXAgb2YgdGhlIGdlbmVyYXRvci4KICAgIG91dHB1dEVsZW1lbnQubGFzdFByb21pc2VWYWx1ZSA9IHZhbHVlOwogICAgcmV0dXJuIG5leHQudmFsdWUucmVzcG9uc2U7CiAgfSk7Cn0KCi8qKgogKiBHZW5lcmF0b3IgZnVuY3Rpb24gd2hpY2ggaXMgY2FsbGVkIGJldHdlZW4gZWFjaCBhc3luYyBzdGVwIG9mIHRoZSB1cGxvYWQKICogcHJvY2Vzcy4KICogQHBhcmFtIHtzdHJpbmd9IGlucHV0SWQgRWxlbWVudCBJRCBvZiB0aGUgaW5wdXQgZmlsZSBwaWNrZXIgZWxlbWVudC4KICogQHBhcmFtIHtzdHJpbmd9IG91dHB1dElkIEVsZW1lbnQgSUQgb2YgdGhlIG91dHB1dCBkaXNwbGF5LgogKiBAcmV0dXJuIHshSXRlcmFibGU8IU9iamVjdD59IEl0ZXJhYmxlIG9mIG5leHQgc3RlcHMuCiAqLwpmdW5jdGlvbiogdXBsb2FkRmlsZXNTdGVwKGlucHV0SWQsIG91dHB1dElkKSB7CiAgY29uc3QgaW5wdXRFbGVtZW50ID0gZG9jdW1lbnQuZ2V0RWxlbWVudEJ5SWQoaW5wdXRJZCk7CiAgaW5wdXRFbGVtZW50LmRpc2FibGVkID0gZmFsc2U7CgogIGNvbnN0IG91dHB1dEVsZW1lbnQgPSBkb2N1bWVudC5nZXRFbGVtZW50QnlJZChvdXRwdXRJZCk7CiAgb3V0cHV0RWxlbWVudC5pbm5lckhUTUwgPSAnJzsKCiAgY29uc3QgcGlja2VkUHJvbWlzZSA9IG5ldyBQcm9taXNlKChyZXNvbHZlKSA9PiB7CiAgICBpbnB1dEVsZW1lbnQuYWRkRXZlbnRMaXN0ZW5lcignY2hhbmdlJywgKGUpID0+IHsKICAgICAgcmVzb2x2ZShlLnRhcmdldC5maWxlcyk7CiAgICB9KTsKICB9KTsKCiAgY29uc3QgY2FuY2VsID0gZG9jdW1lbnQuY3JlYXRlRWxlbWVudCgnYnV0dG9uJyk7CiAgaW5wdXRFbGVtZW50LnBhcmVudEVsZW1lbnQuYXBwZW5kQ2hpbGQoY2FuY2VsKTsKICBjYW5jZWwudGV4dENvbnRlbnQgPSAnQ2FuY2VsIHVwbG9hZCc7CiAgY29uc3QgY2FuY2VsUHJvbWlzZSA9IG5ldyBQcm9taXNlKChyZXNvbHZlKSA9PiB7CiAgICBjYW5jZWwub25jbGljayA9ICgpID0+IHsKICAgICAgcmVzb2x2ZShudWxsKTsKICAgIH07CiAgfSk7CgogIC8vIENhbmNlbCB1cGxvYWQgaWYgdXNlciBoYXNuJ3QgcGlja2VkIGFueXRoaW5nIGluIHRpbWVvdXQuCiAgY29uc3QgdGltZW91dFByb21pc2UgPSBuZXcgUHJvbWlzZSgocmVzb2x2ZSkgPT4gewogICAgc2V0VGltZW91dCgoKSA9PiB7CiAgICAgIHJlc29sdmUobnVsbCk7CiAgICB9LCBGSUxFX0NIQU5HRV9USU1FT1VUX01TKTsKICB9KTsKCiAgLy8gV2FpdCBmb3IgdGhlIHVzZXIgdG8gcGljayB0aGUgZmlsZXMuCiAgY29uc3QgZmlsZXMgPSB5aWVsZCB7CiAgICBwcm9taXNlOiBQcm9taXNlLnJhY2UoW3BpY2tlZFByb21pc2UsIHRpbWVvdXRQcm9taXNlLCBjYW5jZWxQcm9taXNlXSksCiAgICByZXNwb25zZTogewogICAgICBhY3Rpb246ICdzdGFydGluZycsCiAgICB9CiAgfTsKCiAgaWYgKCFmaWxlcykgewogICAgcmV0dXJuIHsKICAgICAgcmVzcG9uc2U6IHsKICAgICAgICBhY3Rpb246ICdjb21wbGV0ZScsCiAgICAgIH0KICAgIH07CiAgfQoKICBjYW5jZWwucmVtb3ZlKCk7CgogIC8vIERpc2FibGUgdGhlIGlucHV0IGVsZW1lbnQgc2luY2UgZnVydGhlciBwaWNrcyBhcmUgbm90IGFsbG93ZWQuCiAgaW5wdXRFbGVtZW50LmRpc2FibGVkID0gdHJ1ZTsKCiAgZm9yIChjb25zdCBmaWxlIG9mIGZpbGVzKSB7CiAgICBjb25zdCBsaSA9IGRvY3VtZW50LmNyZWF0ZUVsZW1lbnQoJ2xpJyk7CiAgICBsaS5hcHBlbmQoc3BhbihmaWxlLm5hbWUsIHtmb250V2VpZ2h0OiAnYm9sZCd9KSk7CiAgICBsaS5hcHBlbmQoc3BhbigKICAgICAgICBgKCR7ZmlsZS50eXBlIHx8ICduL2EnfSkgLSAke2ZpbGUuc2l6ZX0gYnl0ZXMsIGAgKwogICAgICAgIGBsYXN0IG1vZGlmaWVkOiAkewogICAgICAgICAgICBmaWxlLmxhc3RNb2RpZmllZERhdGUgPyBmaWxlLmxhc3RNb2RpZmllZERhdGUudG9Mb2NhbGVEYXRlU3RyaW5nKCkgOgogICAgICAgICAgICAgICAgICAgICAgICAgICAgICAgICAgICAnbi9hJ30gLSBgKSk7CiAgICBjb25zdCBwZXJjZW50ID0gc3BhbignMCUgZG9uZScpOwogICAgbGkuYXBwZW5kQ2hpbGQocGVyY2VudCk7CgogICAgb3V0cHV0RWxlbWVudC5hcHBlbmRDaGlsZChsaSk7CgogICAgY29uc3QgZmlsZURhdGFQcm9taXNlID0gbmV3IFByb21pc2UoKHJlc29sdmUpID0+IHsKICAgICAgY29uc3QgcmVhZGVyID0gbmV3IEZpbGVSZWFkZXIoKTsKICAgICAgcmVhZGVyLm9ubG9hZCA9IChlKSA9PiB7CiAgICAgICAgcmVzb2x2ZShlLnRhcmdldC5yZXN1bHQpOwogICAgICB9OwogICAgICByZWFkZXIucmVhZEFzQXJyYXlCdWZmZXIoZmlsZSk7CiAgICB9KTsKICAgIC8vIFdhaXQgZm9yIHRoZSBkYXRhIHRvIGJlIHJlYWR5LgogICAgbGV0IGZpbGVEYXRhID0geWllbGQgewogICAgICBwcm9taXNlOiBmaWxlRGF0YVByb21pc2UsCiAgICAgIHJlc3BvbnNlOiB7CiAgICAgICAgYWN0aW9uOiAnY29udGludWUnLAogICAgICB9CiAgICB9OwoKICAgIC8vIFVzZSBhIGNodW5rZWQgc2VuZGluZyB0byBhdm9pZCBtZXNzYWdlIHNpemUgbGltaXRzLiBTZWUgYi82MjExNTY2MC4KICAgIGxldCBwb3NpdGlvbiA9IDA7CiAgICB3aGlsZSAocG9zaXRpb24gPCBmaWxlRGF0YS5ieXRlTGVuZ3RoKSB7CiAgICAgIGNvbnN0IGxlbmd0aCA9IE1hdGgubWluKGZpbGVEYXRhLmJ5dGVMZW5ndGggLSBwb3NpdGlvbiwgTUFYX1BBWUxPQURfU0laRSk7CiAgICAgIGNvbnN0IGNodW5rID0gbmV3IFVpbnQ4QXJyYXkoZmlsZURhdGEsIHBvc2l0aW9uLCBsZW5ndGgpOwogICAgICBwb3NpdGlvbiArPSBsZW5ndGg7CgogICAgICBjb25zdCBiYXNlNjQgPSBidG9hKFN0cmluZy5mcm9tQ2hhckNvZGUuYXBwbHkobnVsbCwgY2h1bmspKTsKICAgICAgeWllbGQgewogICAgICAgIHJlc3BvbnNlOiB7CiAgICAgICAgICBhY3Rpb246ICdhcHBlbmQnLAogICAgICAgICAgZmlsZTogZmlsZS5uYW1lLAogICAgICAgICAgZGF0YTogYmFzZTY0LAogICAgICAgIH0sCiAgICAgIH07CiAgICAgIHBlcmNlbnQudGV4dENvbnRlbnQgPQogICAgICAgICAgYCR7TWF0aC5yb3VuZCgocG9zaXRpb24gLyBmaWxlRGF0YS5ieXRlTGVuZ3RoKSAqIDEwMCl9JSBkb25lYDsKICAgIH0KICB9CgogIC8vIEFsbCBkb25lLgogIHlpZWxkIHsKICAgIHJlc3BvbnNlOiB7CiAgICAgIGFjdGlvbjogJ2NvbXBsZXRlJywKICAgIH0KICB9Owp9CgpzY29wZS5nb29nbGUgPSBzY29wZS5nb29nbGUgfHwge307CnNjb3BlLmdvb2dsZS5jb2xhYiA9IHNjb3BlLmdvb2dsZS5jb2xhYiB8fCB7fTsKc2NvcGUuZ29vZ2xlLmNvbGFiLl9maWxlcyA9IHsKICBfdXBsb2FkRmlsZXMsCiAgX3VwbG9hZEZpbGVzQ29udGludWUsCn07Cn0pKHNlbGYpOwo=",
              "ok": true,
              "headers": [
                [
                  "content-type",
                  "application/javascript"
                ]
              ],
              "status": 200,
              "status_text": ""
            }
          },
          "base_uri": "https://localhost:8080/",
          "height": 329
        }
      },
      "source": [
        "uploaded = files.upload()\n",
        "\n",
        "# lo cargamos en un dataframe de pandas\n",
        "df = pd.read_csv(io.BytesIO(uploaded['HW4_data_csv.csv']))\n",
        "\n",
        "# borramos las dos ultimas columnas\n",
        "df.__delitem__('Unnamed: 10')\n",
        "df.__delitem__('Unnamed: 11')\n",
        "print(df)\n",
        "\n",
        "\"\"\"\n",
        "Specifically:\n",
        "X1 Relative Compactness\n",
        "X2 Surface Area\n",
        "X3 Wall Area\n",
        "X4 Roof Area\n",
        "X5 Overall Height\n",
        "X6 Orientation\n",
        "X7 Glazing Area\n",
        "X8 Glazing Area Distribution\n",
        "y1 Heating Load\n",
        "y2 Cooling Load\n",
        "\n",
        "\"\"\"\n"
      ],
      "execution_count": 2,
      "outputs": [
        {
          "output_type": "display_data",
          "data": {
            "text/html": [
              "\n",
              "     <input type=\"file\" id=\"files-a1baca6f-dc39-41fb-94f6-9d2d7c66fb7e\" name=\"files[]\" multiple disabled />\n",
              "     <output id=\"result-a1baca6f-dc39-41fb-94f6-9d2d7c66fb7e\">\n",
              "      Upload widget is only available when the cell has been executed in the\n",
              "      current browser session. Please rerun this cell to enable.\n",
              "      </output>\n",
              "      <script src=\"/nbextensions/google.colab/files.js\"></script> "
            ],
            "text/plain": [
              "<IPython.core.display.HTML object>"
            ]
          },
          "metadata": {
            "tags": []
          }
        },
        {
          "output_type": "stream",
          "text": [
            "Saving HW4_data_csv.csv to HW4_data_csv.csv\n",
            "       X1     X2     X3      X4   X5  X6   X7  X8     Y1     Y2\n",
            "0    0.98  514.5  294.0  110.25  7.0   2  0.0   0  15.55  21.33\n",
            "1    0.98  514.5  294.0  110.25  7.0   3  0.0   0  15.55  21.33\n",
            "2    0.98  514.5  294.0  110.25  7.0   4  0.0   0  15.55  21.33\n",
            "3    0.98  514.5  294.0  110.25  7.0   5  0.0   0  15.55  21.33\n",
            "4    0.90  563.5  318.5  122.50  7.0   2  0.0   0  20.84  28.28\n",
            "..    ...    ...    ...     ...  ...  ..  ...  ..    ...    ...\n",
            "763  0.64  784.0  343.0  220.50  3.5   5  0.4   5  17.88  21.40\n",
            "764  0.62  808.5  367.5  220.50  3.5   2  0.4   5  16.54  16.88\n",
            "765  0.62  808.5  367.5  220.50  3.5   3  0.4   5  16.44  17.11\n",
            "766  0.62  808.5  367.5  220.50  3.5   4  0.4   5  16.48  16.61\n",
            "767  0.62  808.5  367.5  220.50  3.5   5  0.4   5  16.64  16.03\n",
            "\n",
            "[768 rows x 10 columns]\n"
          ],
          "name": "stdout"
        },
        {
          "output_type": "execute_result",
          "data": {
            "text/plain": [
              "'\\nSpecifically:\\nX1 Relative Compactness\\nX2 Surface Area\\nX3 Wall Area\\nX4 Roof Area\\nX5 Overall Height\\nX6 Orientation\\nX7 Glazing Area\\nX8 Glazing Area Distribution\\ny1 Heating Load\\ny2 Cooling Load\\n\\n'"
            ]
          },
          "metadata": {
            "tags": []
          },
          "execution_count": 2
        }
      ]
    },
    {
      "cell_type": "code",
      "metadata": {
        "id": "cLAxitRIhGvS",
        "colab_type": "code",
        "outputId": "62e343f2-14a6-45e1-8352-8b5b81bca585",
        "colab": {
          "base_uri": "https://localhost:8080/",
          "height": 68
        }
      },
      "source": [
        "# convertimos a array de numpy\n",
        "data = pd.DataFrame(df).to_numpy()\n",
        "print(f\"\\n Tamanio datos: \\n{data.shape}\")\n",
        "#print(data)"
      ],
      "execution_count": 3,
      "outputs": [
        {
          "output_type": "stream",
          "text": [
            "\n",
            " Tamanio datos: \n",
            "(768, 10)\n"
          ],
          "name": "stdout"
        }
      ]
    },
    {
      "cell_type": "code",
      "metadata": {
        "id": "XbVlhnVOgdDV",
        "colab_type": "code",
        "outputId": "64585273-0f6d-41a1-c399-0e7995908885",
        "colab": {
          "base_uri": "https://localhost:8080/",
          "height": 238
        }
      },
      "source": [
        "# dividimos el dataset\n",
        "\n",
        "X = data[:,0:8]\n",
        "Y = data[:,8:10]\n",
        "\n",
        "X_train, X_test, Y_train, y_test = train_test_split(X, Y, test_size = 0.2, random_state = 0)\n",
        "print(f\"\\n Tamanio datos test: \\n{y_test.shape}\")\n",
        "\n",
        "# Normalizar datos\n",
        "scaler = StandardScaler()\n",
        "X_train = scaler.fit_transform(X_train)\n",
        "X_test = scaler.transform(X_test)\n",
        "\n",
        "print(f\"\\n Transformador de datos con media 0 y varianza 1: \\n{scaler}\")\n",
        "\n",
        "print(f\"\\n Datos normalizados media: \\n {X_train.mean(axis=0)}\")\n",
        "print(f\"\\n Datos normalizados varianza: \\n {X_train.std(axis=0)}\")"
      ],
      "execution_count": 4,
      "outputs": [
        {
          "output_type": "stream",
          "text": [
            "\n",
            " Tamanio datos test: \n",
            "(154, 2)\n",
            "\n",
            " Transformador de datos con media 0 y varianza 1: \n",
            "StandardScaler(copy=True, with_mean=True, with_std=True)\n",
            "\n",
            " Datos normalizados media: \n",
            " [-2.58407121e-15 -1.71415542e-16 -6.16864419e-16  2.82980299e-16\n",
            " -5.06290630e-18 -1.92390439e-16 -3.08837284e-16 -5.27988800e-17]\n",
            "\n",
            " Datos normalizados varianza: \n",
            " [1. 1. 1. 1. 1. 1. 1. 1.]\n"
          ],
          "name": "stdout"
        }
      ]
    },
    {
      "cell_type": "code",
      "metadata": {
        "id": "xkoKO3LQk9c0",
        "colab_type": "code",
        "colab": {}
      },
      "source": [
        "# # dividimos la variable objetivo en dos\n",
        "# y_train_HL = Y_train[:,0]\n",
        "# y_train_CL = Y_train[:,1]\n",
        "# y_test_HL = y_test[:,0]\n",
        "# y_test_CL = y_test[:,1]"
      ],
      "execution_count": 0,
      "outputs": []
    },
    {
      "cell_type": "code",
      "metadata": {
        "id": "VVobV6k_BBZe",
        "colab_type": "code",
        "colab": {}
      },
      "source": [
        "# # Set up our plotting environment\n",
        "# plt.figure(figsize=(14, 8))\n",
        "\n",
        "# # Plot the training data in blue and the test data in red\n",
        "# plt.plot(X_train[:, 1], Y_train[:, :1], \"b.\", X_test[:, 1], y_test[:, :1], \"r.\")\n",
        "\n",
        "# plt.show()"
      ],
      "execution_count": 0,
      "outputs": []
    },
    {
      "cell_type": "markdown",
      "metadata": {
        "id": "0lTTQtmIY8wr",
        "colab_type": "text"
      },
      "source": [
        "### 2. Setting and optimizing the model\n",
        "\n",
        "You will train two independent GPs, one to estimate HL and one to estimate CL. For each of the two GPs ...\n",
        "\n",
        "**On the training data set:**\n",
        "\n",
        "a) Build a GP regression model based on a RBF kernel with ARD, in which each input dimension is weighted with a different lengthscale, plus some constant noise term. \n",
        "\n",
        "b) Fit the covariance function parameters and noise variance. \n",
        "\n",
        "c) According to the ARD parameters found, what variables are more important for the regression? Compare it to Table 8 in the [paper](https://www.sciencedirect.com/science/article/pii/S037877881200151X) \n",
        "\n",
        "**On the test data set:**\n",
        "\n",
        "d) Compute the test mean absolute error error and the test mean square error (MSE)  using the GP posterior mean and the optimized hyperparameters. Compare your results with Tables 6 and 7 in the [paper](https://www.sciencedirect.com/science/article/pii/S037877881200151X).\n",
        "\n",
        "\n",
        "2) Try to improve your results by using a more complicated kernel, in which you combine various covariance functions. In this [link](http://nbviewer.jupyter.org/github/SheffieldML/notebook/blob/master/GPy/basic_kernels.ipynb) you can see how to define different kernels and combine  them. Comments the results. \n",
        "\n"
      ]
    },
    {
      "cell_type": "code",
      "metadata": {
        "id": "LymjGSdsOV6s",
        "colab_type": "code",
        "outputId": "6eede23d-179e-4318-b7e6-42a6b9b3388d",
        "colab": {
          "base_uri": "https://localhost:8080/",
          "height": 357
        }
      },
      "source": [
        "# You can also install GPy using the following command (Works on Windows!)\n",
        "\n",
        "!pip install GPy "
      ],
      "execution_count": 7,
      "outputs": [
        {
          "output_type": "stream",
          "text": [
            "Collecting GPy\n",
            "\u001b[?25l  Downloading https://files.pythonhosted.org/packages/67/95/976598f98adbfa918a480cb2d643f93fb555ca5b6c5614f76b69678114c1/GPy-1.9.9.tar.gz (995kB)\n",
            "\r\u001b[K     |▎                               | 10kB 14.8MB/s eta 0:00:01\r\u001b[K     |▋                               | 20kB 3.4MB/s eta 0:00:01\r\u001b[K     |█                               | 30kB 4.9MB/s eta 0:00:01\r\u001b[K     |█▎                              | 40kB 3.1MB/s eta 0:00:01\r\u001b[K     |█▋                              | 51kB 3.8MB/s eta 0:00:01\r\u001b[K     |██                              | 61kB 4.6MB/s eta 0:00:01\r\u001b[K     |██▎                             | 71kB 5.2MB/s eta 0:00:01\r\u001b[K     |██▋                             | 81kB 5.9MB/s eta 0:00:01\r\u001b[K     |███                             | 92kB 6.5MB/s eta 0:00:01\r\u001b[K     |███▎                            | 102kB 5.1MB/s eta 0:00:01\r\u001b[K     |███▋                            | 112kB 5.1MB/s eta 0:00:01\r\u001b[K     |████                            | 122kB 5.1MB/s eta 0:00:01\r\u001b[K     |████▎                           | 133kB 5.1MB/s eta 0:00:01\r\u001b[K     |████▋                           | 143kB 5.1MB/s eta 0:00:01\r\u001b[K     |█████                           | 153kB 5.1MB/s eta 0:00:01\r\u001b[K     |█████▎                          | 163kB 5.1MB/s eta 0:00:01\r\u001b[K     |█████▋                          | 174kB 5.1MB/s eta 0:00:01\r\u001b[K     |██████                          | 184kB 5.1MB/s eta 0:00:01\r\u001b[K     |██████▎                         | 194kB 5.1MB/s eta 0:00:01\r\u001b[K     |██████▋                         | 204kB 5.1MB/s eta 0:00:01\r\u001b[K     |███████                         | 215kB 5.1MB/s eta 0:00:01\r\u001b[K     |███████▎                        | 225kB 5.1MB/s eta 0:00:01\r\u001b[K     |███████▋                        | 235kB 5.1MB/s eta 0:00:01\r\u001b[K     |████████                        | 245kB 5.1MB/s eta 0:00:01\r\u001b[K     |████████▎                       | 256kB 5.1MB/s eta 0:00:01\r\u001b[K     |████████▋                       | 266kB 5.1MB/s eta 0:00:01\r\u001b[K     |█████████                       | 276kB 5.1MB/s eta 0:00:01\r\u001b[K     |█████████▏                      | 286kB 5.1MB/s eta 0:00:01\r\u001b[K     |█████████▌                      | 296kB 5.1MB/s eta 0:00:01\r\u001b[K     |█████████▉                      | 307kB 5.1MB/s eta 0:00:01\r\u001b[K     |██████████▏                     | 317kB 5.1MB/s eta 0:00:01\r\u001b[K     |██████████▌                     | 327kB 5.1MB/s eta 0:00:01\r\u001b[K     |██████████▉                     | 337kB 5.1MB/s eta 0:00:01\r\u001b[K     |███████████▏                    | 348kB 5.1MB/s eta 0:00:01\r\u001b[K     |███████████▌                    | 358kB 5.1MB/s eta 0:00:01\r\u001b[K     |███████████▉                    | 368kB 5.1MB/s eta 0:00:01\r\u001b[K     |████████████▏                   | 378kB 5.1MB/s eta 0:00:01\r\u001b[K     |████████████▌                   | 389kB 5.1MB/s eta 0:00:01\r\u001b[K     |████████████▉                   | 399kB 5.1MB/s eta 0:00:01\r\u001b[K     |█████████████▏                  | 409kB 5.1MB/s eta 0:00:01\r\u001b[K     |█████████████▌                  | 419kB 5.1MB/s eta 0:00:01\r\u001b[K     |█████████████▉                  | 430kB 5.1MB/s eta 0:00:01\r\u001b[K     |██████████████▏                 | 440kB 5.1MB/s eta 0:00:01\r\u001b[K     |██████████████▌                 | 450kB 5.1MB/s eta 0:00:01\r\u001b[K     |██████████████▉                 | 460kB 5.1MB/s eta 0:00:01\r\u001b[K     |███████████████▏                | 471kB 5.1MB/s eta 0:00:01\r\u001b[K     |███████████████▌                | 481kB 5.1MB/s eta 0:00:01\r\u001b[K     |███████████████▉                | 491kB 5.1MB/s eta 0:00:01\r\u001b[K     |████████████████▏               | 501kB 5.1MB/s eta 0:00:01\r\u001b[K     |████████████████▌               | 512kB 5.1MB/s eta 0:00:01\r\u001b[K     |████████████████▉               | 522kB 5.1MB/s eta 0:00:01\r\u001b[K     |█████████████████▏              | 532kB 5.1MB/s eta 0:00:01\r\u001b[K     |█████████████████▌              | 542kB 5.1MB/s eta 0:00:01\r\u001b[K     |█████████████████▉              | 552kB 5.1MB/s eta 0:00:01\r\u001b[K     |██████████████████▏             | 563kB 5.1MB/s eta 0:00:01\r\u001b[K     |██████████████████▍             | 573kB 5.1MB/s eta 0:00:01\r\u001b[K     |██████████████████▊             | 583kB 5.1MB/s eta 0:00:01\r\u001b[K     |███████████████████             | 593kB 5.1MB/s eta 0:00:01\r\u001b[K     |███████████████████▍            | 604kB 5.1MB/s eta 0:00:01\r\u001b[K     |███████████████████▊            | 614kB 5.1MB/s eta 0:00:01\r\u001b[K     |████████████████████            | 624kB 5.1MB/s eta 0:00:01\r\u001b[K     |████████████████████▍           | 634kB 5.1MB/s eta 0:00:01\r\u001b[K     |████████████████████▊           | 645kB 5.1MB/s eta 0:00:01\r\u001b[K     |█████████████████████           | 655kB 5.1MB/s eta 0:00:01\r\u001b[K     |█████████████████████▍          | 665kB 5.1MB/s eta 0:00:01\r\u001b[K     |█████████████████████▊          | 675kB 5.1MB/s eta 0:00:01\r\u001b[K     |██████████████████████          | 686kB 5.1MB/s eta 0:00:01\r\u001b[K     |██████████████████████▍         | 696kB 5.1MB/s eta 0:00:01\r\u001b[K     |██████████████████████▊         | 706kB 5.1MB/s eta 0:00:01\r\u001b[K     |███████████████████████         | 716kB 5.1MB/s eta 0:00:01\r\u001b[K     |███████████████████████▍        | 727kB 5.1MB/s eta 0:00:01\r\u001b[K     |███████████████████████▊        | 737kB 5.1MB/s eta 0:00:01\r\u001b[K     |████████████████████████        | 747kB 5.1MB/s eta 0:00:01\r\u001b[K     |████████████████████████▍       | 757kB 5.1MB/s eta 0:00:01\r\u001b[K     |████████████████████████▊       | 768kB 5.1MB/s eta 0:00:01\r\u001b[K     |█████████████████████████       | 778kB 5.1MB/s eta 0:00:01\r\u001b[K     |█████████████████████████▍      | 788kB 5.1MB/s eta 0:00:01\r\u001b[K     |█████████████████████████▊      | 798kB 5.1MB/s eta 0:00:01\r\u001b[K     |██████████████████████████      | 808kB 5.1MB/s eta 0:00:01\r\u001b[K     |██████████████████████████▍     | 819kB 5.1MB/s eta 0:00:01\r\u001b[K     |██████████████████████████▊     | 829kB 5.1MB/s eta 0:00:01\r\u001b[K     |███████████████████████████     | 839kB 5.1MB/s eta 0:00:01\r\u001b[K     |███████████████████████████▎    | 849kB 5.1MB/s eta 0:00:01\r\u001b[K     |███████████████████████████▋    | 860kB 5.1MB/s eta 0:00:01\r\u001b[K     |████████████████████████████    | 870kB 5.1MB/s eta 0:00:01\r\u001b[K     |████████████████████████████▎   | 880kB 5.1MB/s eta 0:00:01\r\u001b[K     |████████████████████████████▋   | 890kB 5.1MB/s eta 0:00:01\r\u001b[K     |█████████████████████████████   | 901kB 5.1MB/s eta 0:00:01\r\u001b[K     |█████████████████████████████▎  | 911kB 5.1MB/s eta 0:00:01\r\u001b[K     |█████████████████████████████▋  | 921kB 5.1MB/s eta 0:00:01\r\u001b[K     |██████████████████████████████  | 931kB 5.1MB/s eta 0:00:01\r\u001b[K     |██████████████████████████████▎ | 942kB 5.1MB/s eta 0:00:01\r\u001b[K     |██████████████████████████████▋ | 952kB 5.1MB/s eta 0:00:01\r\u001b[K     |███████████████████████████████ | 962kB 5.1MB/s eta 0:00:01\r\u001b[K     |███████████████████████████████▎| 972kB 5.1MB/s eta 0:00:01\r\u001b[K     |███████████████████████████████▋| 983kB 5.1MB/s eta 0:00:01\r\u001b[K     |████████████████████████████████| 993kB 5.1MB/s eta 0:00:01\r\u001b[K     |████████████████████████████████| 1.0MB 5.1MB/s \n",
            "\u001b[?25hRequirement already satisfied: numpy>=1.7 in /usr/local/lib/python3.6/dist-packages (from GPy) (1.17.4)\n",
            "Requirement already satisfied: scipy>=0.16 in /usr/local/lib/python3.6/dist-packages (from GPy) (1.3.3)\n",
            "Requirement already satisfied: six in /usr/local/lib/python3.6/dist-packages (from GPy) (1.12.0)\n",
            "Collecting paramz>=0.9.0\n",
            "\u001b[?25l  Downloading https://files.pythonhosted.org/packages/d8/37/4abbeb78d30f20d3402887f46e6e9f3ef32034a9dea65d243654c82c8553/paramz-0.9.5.tar.gz (71kB)\n",
            "\u001b[K     |████████████████████████████████| 71kB 6.0MB/s \n",
            "\u001b[?25hRequirement already satisfied: decorator>=4.0.10 in /usr/local/lib/python3.6/dist-packages (from paramz>=0.9.0->GPy) (4.4.1)\n",
            "Building wheels for collected packages: GPy, paramz\n",
            "  Building wheel for GPy (setup.py) ... \u001b[?25l\u001b[?25hdone\n",
            "  Created wheel for GPy: filename=GPy-1.9.9-cp36-cp36m-linux_x86_64.whl size=2633975 sha256=46ba7d4ff71396e2ca9ee84da9c147bea3eb5ad818ce9f0cc53dc8d5ff568ed8\n",
            "  Stored in directory: /root/.cache/pip/wheels/5d/36/66/2b58860c84c9f2b51615da66bfd6feeddbc4e04d887ff96dfa\n",
            "  Building wheel for paramz (setup.py) ... \u001b[?25l\u001b[?25hdone\n",
            "  Created wheel for paramz: filename=paramz-0.9.5-cp36-none-any.whl size=102551 sha256=252306be4a0f3f7a065a3bdeff0ff29d2b622bef2422db037a4c50f761827f9e\n",
            "  Stored in directory: /root/.cache/pip/wheels/c8/4a/0e/6e0dc85541825f991c431619e25b870d4b812c911214690cf8\n",
            "Successfully built GPy paramz\n",
            "Installing collected packages: paramz, GPy\n",
            "Successfully installed GPy-1.9.9 paramz-0.9.5\n"
          ],
          "name": "stdout"
        }
      ]
    },
    {
      "cell_type": "code",
      "metadata": {
        "id": "WDNwl57LmlTb",
        "colab_type": "code",
        "colab": {}
      },
      "source": [
        "import GPy\n",
        "\n",
        "%matplotlib inline\n",
        "%config InlineBackend.figure_format = 'retina'   ##QUALITY FIGURES!!\n",
        "plt.rcParams[\"figure.figsize\"] = [8,8]"
      ],
      "execution_count": 0,
      "outputs": []
    },
    {
      "cell_type": "markdown",
      "metadata": {
        "id": "m4QZteyQfD8Y",
        "colab_type": "text"
      },
      "source": [
        "# Plot random values"
      ]
    },
    {
      "cell_type": "code",
      "metadata": {
        "id": "hIUXA-ZboAbq",
        "colab_type": "code",
        "colab": {}
      },
      "source": [
        "# seleccionar una serie de puntos aleatorios de X\n",
        "n = 20  \n",
        "index = np.random.choice(X_train.shape[0], n, replace=False) \n",
        "\n",
        "x_random = X[index]\n",
        "y_random = Y[index]\n",
        "\n",
        "# selecionandoo puntos aleatorios de una columna\n",
        "\n",
        "columna = 7\n",
        "X_new=X[:,columna]\n",
        "#print(\"\\n Tamanio X_new: \\n\",X_new.shape)\n",
        "Y_new_HL=Y[:,0]\n",
        "##print(\"\\n Tamanio Y_new_HL: \\n\",Y_new_HL.shape)\n",
        "Y_new_CL=Y[:,1]\n",
        "##print(\"\\n Tamanio Y_new_CL: \\n\",Y_new_CL.shape)\n",
        "\n",
        "#print(\"\\n X: \\n\",X)\n",
        "#print(\"\\n Y_new_HL: \\n\",Y_new_HL)\n",
        "#print(\"\\n Y_new_CL: \\n\",Y_new_CL)\n",
        "\n",
        "X_new = X_new[index]\n",
        "Y_new_HL=Y_new_HL[index]\n",
        "Y_new_CL=Y_new_CL[index]"
      ],
      "execution_count": 0,
      "outputs": []
    },
    {
      "cell_type": "code",
      "metadata": {
        "id": "VlGhex67qcIJ",
        "colab_type": "code",
        "outputId": "b1471096-2338-4028-d747-524ec5bbaf2b",
        "colab": {
          "base_uri": "https://localhost:8080/",
          "height": 513
        }
      },
      "source": [
        "#graficamos los puntos aleatorios\n",
        "plt.figure()\n",
        "plt.plot(X[:,columna],Y[:,0],'rx')\n",
        "plt.plot(X_new,Y_new_HL,'bx',ms=6)\n",
        "plt.legend(['Valores col='+str(columna+1)+' de X','Puntos Aleatorios'])\n",
        "plt.xlabel('$X$')\n",
        "plt.ylabel('$Y$')\n",
        "#plt.xlim([-1,1])"
      ],
      "execution_count": 10,
      "outputs": [
        {
          "output_type": "execute_result",
          "data": {
            "text/plain": [
              "Text(0, 0.5, '$Y$')"
            ]
          },
          "metadata": {
            "tags": []
          },
          "execution_count": 10
        },
        {
          "output_type": "display_data",
          "data": {
            "image/png": "[encoded data removed]",
            "text/plain": [
              "<Figure size 576x576 with 1 Axes>"
            ]
          },
          "metadata": {
            "tags": [],
            "image/png": {
              "width": 494,
              "height": 479
            }
          }
        }
      ]
    },
    {
      "cell_type": "code",
      "metadata": {
        "id": "BT--ebuvEe8C",
        "colab_type": "code",
        "colab": {}
      },
      "source": [
        "# X_train_1 = X_train[:,:2]\n",
        "# Y_train_1 = Y_train[:,:0]\n",
        "\n",
        "#X_train_1 = X_train_1[:, np.newaxis]\n",
        "#Y_train_1 = Y_train_1[:, np.newaxis]\n",
        "\n",
        "#print(X_train_1.shape)\n",
        "#print(Y_train_1.shape)\n",
        "#print(X_train_1)\n",
        "#print(Y_train_1)"
      ],
      "execution_count": 0,
      "outputs": []
    },
    {
      "cell_type": "markdown",
      "metadata": {
        "id": "yuBvdi1rfMTV",
        "colab_type": "text"
      },
      "source": [
        "\n",
        "\n",
        "---\n",
        "\n",
        "\n",
        "\n",
        "\n",
        "We will train **two independent GPs** one to estimate HL and one to estimate CL. \n",
        "\n",
        "# Part 1 - The ''m_HL'' model \n",
        "## 1.1 On the training data set: \n",
        "***First***, built a GP regression model based on a RBF kernel with ARD, in which each input dimension is weighted with a different lengthscale, plus some constant noise term."
      ]
    },
    {
      "cell_type": "markdown",
      "metadata": {
        "id": "HD7fCXf7iFcx",
        "colab_type": "text"
      },
      "source": [
        "**KERNEL**"
      ]
    },
    {
      "cell_type": "code",
      "metadata": {
        "id": "YcOgwCJ6b6yV",
        "colab_type": "code",
        "outputId": "0e15cf05-ef82-4c4f-bcc6-2d6a2dad6613",
        "colab": {
          "base_uri": "https://localhost:8080/",
          "height": 85
        }
      },
      "source": [
        "kernel = GPy.kern.RBF(input_dim=X_train.shape[1], ARD=True) + GPy.kern.White(input_dim=X_train.shape[1])\n",
        "print(kernel)"
      ],
      "execution_count": 12,
      "outputs": [
        {
          "output_type": "stream",
          "text": [
            "  \u001b[1msum.           \u001b[0;0m  |  value  |  constraints  |  priors\n",
            "  \u001b[1mrbf.variance   \u001b[0;0m  |    1.0  |      +ve      |        \n",
            "  \u001b[1mrbf.lengthscale\u001b[0;0m  |   (8,)  |      +ve      |        \n",
            "  \u001b[1mwhite.variance \u001b[0;0m  |    1.0  |      +ve      |        \n"
          ],
          "name": "stdout"
        }
      ]
    },
    {
      "cell_type": "markdown",
      "metadata": {
        "id": "LRAjolUNivbf",
        "colab_type": "text"
      },
      "source": [
        "**Values at the beginning**"
      ]
    },
    {
      "cell_type": "code",
      "metadata": {
        "id": "Lm5tmtxhisVW",
        "colab_type": "code",
        "outputId": "57bd4086-55cf-47c8-efb7-86bb35bd597b",
        "colab": {
          "base_uri": "https://localhost:8080/",
          "height": 221
        }
      },
      "source": [
        "print(f\"\\n Parametros del Kernel: \\n {kernel.parameter_names()}\")\n",
        "print(f\"\\n Valores de la varianza para kernel=RBF: \\n {kernel.rbf.variance.values}\")\n",
        "print(f\"\\n Valores del parametro 'lengthscale' para kernel=RBF: \\n {kernel.rbf.lengthscale.values}\")\n",
        "print(f\"\\n Valores del parametro varianza del ruido blanco: \\n {kernel.white.variance.values}\")"
      ],
      "execution_count": 13,
      "outputs": [
        {
          "output_type": "stream",
          "text": [
            "\n",
            " Parametros del Kernel: \n",
            " ['rbf.variance', 'rbf.lengthscale', 'white.variance']\n",
            "\n",
            " Valores de la varianza para kernel=RBF: \n",
            " [1.]\n",
            "\n",
            " Valores del parametro 'lengthscale' para kernel=RBF: \n",
            " [1. 1. 1. 1. 1. 1. 1. 1.]\n",
            "\n",
            " Valores del parametro varianza del ruido blanco: \n",
            " [1.]\n"
          ],
          "name": "stdout"
        }
      ]
    },
    {
      "cell_type": "markdown",
      "metadata": {
        "id": "f641w9KJcSQF",
        "colab_type": "text"
      },
      "source": [
        "We will have an lenghtscale array with eight elements as we have one possible value per input dimension. At the beginning, we will have the values initialized to 1. After the optimization, the lenghtscale values will adjust to the data."
      ]
    },
    {
      "cell_type": "markdown",
      "metadata": {
        "id": "B26TGm4LkkhY",
        "colab_type": "text"
      },
      "source": [
        "***Secondly***, fit the covariance function (KERNEL) parameters and noise variance."
      ]
    },
    {
      "cell_type": "markdown",
      "metadata": {
        "id": "I1rQtakxd166",
        "colab_type": "text"
      },
      "source": [
        "**MODEL**"
      ]
    },
    {
      "cell_type": "code",
      "metadata": {
        "id": "2QUKqGl4cpeb",
        "colab_type": "code",
        "colab": {}
      },
      "source": [
        "m_HL = GPy.models.GPRegression(X_train,Y_train[:, :1],kernel)"
      ],
      "execution_count": 0,
      "outputs": []
    },
    {
      "cell_type": "markdown",
      "metadata": {
        "id": "VOzuDQ7t2d9h",
        "colab_type": "text"
      },
      "source": [
        "This model is initialized with incorrect lengthscale and variance, so let's optimize it."
      ]
    },
    {
      "cell_type": "markdown",
      "metadata": {
        "id": "TbaL9Cu0xyx5",
        "colab_type": "text"
      },
      "source": [
        "\n",
        "\n",
        "> Due to the lack of information a priori about the data we have, it is not possible to fix any constraints\n",
        "\n"
      ]
    },
    {
      "cell_type": "code",
      "metadata": {
        "id": "zmsU5Uzmls-O",
        "colab_type": "code",
        "colab": {}
      },
      "source": [
        "## EXAMPLES OF POSIBLE CONSTRAINTS, PREGUNTAR!\n",
        "# m_HL.constrain_bounded('rbf_var',1e-3,1e5)\n",
        "# m_HL.constrain_bounded('bias_var',1e-3,1e5)\n",
        "# m_HL.constrain_bounded('rbf_len',.1,200.)\n",
        "# m_HL.constrain_fixed('noise',1e-5)"
      ],
      "execution_count": 0,
      "outputs": []
    },
    {
      "cell_type": "markdown",
      "metadata": {
        "id": "WWBt_VkaibcR",
        "colab_type": "text"
      },
      "source": [
        "**OPTIMIZATION**"
      ]
    },
    {
      "cell_type": "code",
      "metadata": {
        "id": "ujXLE3pHiO6u",
        "colab_type": "code",
        "outputId": "e66df203-436c-4838-e182-ad23ac755cda",
        "colab": {
          "base_uri": "https://localhost:8080/",
          "height": 785
        }
      },
      "source": [
        "# # OPTIMIZE_RESTARTS comienza desde el inicio la optimizacion: puede que en el utlimo restart no haga una buena optimizacion\n",
        "# COGE EL VALOR DE OPTIMIZACION MENOR, no es muy bueno??\n",
        "print('Regression Model before optimization:')\n",
        "print (m_HL)\n",
        "print(\"\")\n",
        "\n",
        "# print(\"\\n Optimizacion para variable de salida HL: \\n\")\n",
        "print(m_HL.optimize_restarts(num_restarts = 15))\n",
        "\n",
        "print(\"\")\n",
        "print('Regression Model after optimization:')\n",
        "print (m_HL)"
      ],
      "execution_count": 16,
      "outputs": [
        {
          "output_type": "stream",
          "text": [
            "Regression Model before optimization:\n",
            "\n",
            "Name : GP regression\n",
            "Objective : 11345.879287055062\n",
            "Number of Parameters : 11\n",
            "Number of Optimization Parameters : 11\n",
            "Updates : True\n",
            "Parameters:\n",
            "  \u001b[1mGP_regression.         \u001b[0;0m  |  value  |  constraints  |  priors\n",
            "  \u001b[1msum.rbf.variance       \u001b[0;0m  |    1.0  |      +ve      |        \n",
            "  \u001b[1msum.rbf.lengthscale    \u001b[0;0m  |   (8,)  |      +ve      |        \n",
            "  \u001b[1msum.white.variance     \u001b[0;0m  |    1.0  |      +ve      |        \n",
            "  \u001b[1mGaussian_noise.variance\u001b[0;0m  |    1.0  |      +ve      |        \n",
            "\n",
            "Optimization restart 1/15, f = 748.2161333374574\n",
            "Optimization restart 2/15, f = 513.4803477452078\n",
            "Optimization restart 3/15, f = 524.8548901942152\n",
            "Optimization restart 4/15, f = 512.5303049394236\n",
            "Optimization restart 5/15, f = 519.0600081506036\n",
            "Optimization restart 6/15, f = 576.7253976427354\n",
            "Optimization restart 7/15, f = 512.1203831578736\n",
            "Optimization restart 8/15, f = 514.203294751075\n",
            "Optimization restart 9/15, f = 515.1903729190124\n",
            "Optimization restart 10/15, f = 711.7215627828756\n",
            "Optimization restart 11/15, f = 512.5090451441328\n",
            "Optimization restart 12/15, f = 523.8521169330269\n",
            "Optimization restart 13/15, f = 644.5378756302129\n",
            "Optimization restart 14/15, f = 512.2190570954982\n",
            "Optimization restart 15/15, f = 609.8294350172871\n",
            "[<paramz.optimization.optimization.opt_lbfgsb object at 0x7fc802c70da0>, <paramz.optimization.optimization.opt_lbfgsb object at 0x7fc803151208>, <paramz.optimization.optimization.opt_lbfgsb object at 0x7fc802cb1fd0>, <paramz.optimization.optimization.opt_lbfgsb object at 0x7fc80313d2e8>, <paramz.optimization.optimization.opt_lbfgsb object at 0x7fc802c70d68>, <paramz.optimization.optimization.opt_lbfgsb object at 0x7fc803122a90>, <paramz.optimization.optimization.opt_lbfgsb object at 0x7fc802c70198>, <paramz.optimization.optimization.opt_lbfgsb object at 0x7fc803122b00>, <paramz.optimization.optimization.opt_lbfgsb object at 0x7fc802c70dd8>, <paramz.optimization.optimization.opt_lbfgsb object at 0x7fc802c70d30>, <paramz.optimization.optimization.opt_lbfgsb object at 0x7fc801bd41d0>, <paramz.optimization.optimization.opt_lbfgsb object at 0x7fc801bd4208>, <paramz.optimization.optimization.opt_lbfgsb object at 0x7fc801bd4278>, <paramz.optimization.optimization.opt_lbfgsb object at 0x7fc801bd40f0>, <paramz.optimization.optimization.opt_lbfgsb object at 0x7fc801bd42b0>]\n",
            "\n",
            "Regression Model after optimization:\n",
            "\n",
            "Name : GP regression\n",
            "Objective : 512.1203831578736\n",
            "Number of Parameters : 11\n",
            "Number of Optimization Parameters : 11\n",
            "Updates : True\n",
            "Parameters:\n",
            "  \u001b[1mGP_regression.         \u001b[0;0m  |                  value  |  constraints  |  priors\n",
            "  \u001b[1msum.rbf.variance       \u001b[0;0m  |      1839.344070110414  |      +ve      |        \n",
            "  \u001b[1msum.rbf.lengthscale    \u001b[0;0m  |                   (8,)  |      +ve      |        \n",
            "  \u001b[1msum.white.variance     \u001b[0;0m  |    0.18487068221327635  |      +ve      |        \n",
            "  \u001b[1mGaussian_noise.variance\u001b[0;0m  |  3.361433770705662e-47  |      +ve      |        \n"
          ],
          "name": "stdout"
        }
      ]
    },
    {
      "cell_type": "code",
      "metadata": {
        "id": "NNjAVKpmLPOi",
        "colab_type": "code",
        "colab": {}
      },
      "source": [
        "# print('Before optimization')\n",
        "# print (m_HL, '\\n')\n",
        "# for i in range(10):\n",
        "#     m_HL.optimize(max_iters=100) #first runs EP (KERNEL) and then optimizes the kernel parameters\n",
        "#     print('Iteration:', i)\n",
        "# print('After optimization')\n",
        "# print (m_HL, '\\n')"
      ],
      "execution_count": 0,
      "outputs": []
    },
    {
      "cell_type": "markdown",
      "metadata": {
        "id": "7VmQqMJQ4EXG",
        "colab_type": "text"
      },
      "source": [
        "Now our parameters have been optimised to the values that give the largest marginal likelihood."
      ]
    },
    {
      "cell_type": "markdown",
      "metadata": {
        "id": "r5LxhgvuioTL",
        "colab_type": "text"
      },
      "source": [
        "**Values at the end**"
      ]
    },
    {
      "cell_type": "code",
      "metadata": {
        "id": "tYN9M7eWiZhh",
        "colab_type": "code",
        "outputId": "5a683662-4c47-4e73-ac71-1305884f6265",
        "colab": {
          "base_uri": "https://localhost:8080/",
          "height": 238
        }
      },
      "source": [
        "print(f\"\\n Parametros del Kernel: \\n {kernel.parameter_names()}\")\n",
        "print(f\"\\n Valores de la varianza para kernel=RBF: \\n {kernel.rbf.variance.values}\")\n",
        "print(f\"\\n Valores del parametro 'lengthscale' para kernel=RBF: \\n {kernel.rbf.lengthscale.values}\")\n",
        "print(f\"\\n Valores del parametro varianza del ruido blanco: \\n {kernel.white.variance.values}\")"
      ],
      "execution_count": 18,
      "outputs": [
        {
          "output_type": "stream",
          "text": [
            "\n",
            " Parametros del Kernel: \n",
            " ['rbf.variance', 'rbf.lengthscale', 'white.variance']\n",
            "\n",
            " Valores de la varianza para kernel=RBF: \n",
            " [1839.34407011]\n",
            "\n",
            " Valores del parametro 'lengthscale' para kernel=RBF: \n",
            " [  1.58899402   0.94893317   4.98446593 745.81549349   2.60200163\n",
            " 902.57909795   3.14026212 306.41417343]\n",
            "\n",
            " Valores del parametro varianza del ruido blanco: \n",
            " [0.18487068]\n"
          ],
          "name": "stdout"
        }
      ]
    },
    {
      "cell_type": "markdown",
      "metadata": {
        "id": "UPyoNDZtjst_",
        "colab_type": "text"
      },
      "source": [
        "***Third***, According to the ARD parameters found, what variables are more important for the regression? Compare it to Table 8 in the paper\n",
        "\n",
        "BUSCADO EN INTERNET: *The length scale merely determines the idea of how close two data points are in a particular input dimension not how useful they are. \n",
        "If you want to figure out an importance of each feature first look at your kernel and decompose it by removing one dimension of x (i.e. remove a feature). Then determine the variance over you prediction space. Repeat for each dimension. **How 'important' a feature is can be see as how much it reduces the variance on predictions**.* \n",
        "**PREGUNTAR A PABLO SI ESTO ES LO QUE QUIERE!**\n",
        "\n",
        "**The lenght scale and the importance of a feature is not directly related.** However, it can be assumed that hyper parameters can tell something about the importance about the feature. If the hyper parameter of a certain feature is small, only a small change in that feature would cause very different output value. Assuming that we take this input feature out from the input vector, the variance of the model would increase (or prediction accuracy decrease a lot). \n"
      ]
    },
    {
      "cell_type": "code",
      "metadata": {
        "id": "Lh5jBU_lgrnu",
        "colab_type": "code",
        "colab": {
          "base_uri": "https://localhost:8080/",
          "height": 170
        },
        "outputId": "1e2f4c15-cf63-48d2-823b-b694cf33d84e"
      },
      "source": [
        "print(kernel.rbf.lengthscale)"
      ],
      "execution_count": 19,
      "outputs": [
        {
          "output_type": "stream",
          "text": [
            "  \u001b[1mindex\u001b[0;0m  |  GP_regression.sum.rbf.lengthscale  |  constraints  |  priors\n",
            "  \u001b[1m[0]  \u001b[0;0m  |                         1.58899402  |      +ve      |        \n",
            "  \u001b[1m[1]  \u001b[0;0m  |                         0.94893317  |      +ve      |        \n",
            "  \u001b[1m[2]  \u001b[0;0m  |                         4.98446593  |      +ve      |        \n",
            "  \u001b[1m[3]  \u001b[0;0m  |                       745.81549349  |      +ve      |        \n",
            "  \u001b[1m[4]  \u001b[0;0m  |                         2.60200163  |      +ve      |        \n",
            "  \u001b[1m[5]  \u001b[0;0m  |                       902.57909795  |      +ve      |        \n",
            "  \u001b[1m[6]  \u001b[0;0m  |                         3.14026212  |      +ve      |        \n",
            "  \u001b[1m[7]  \u001b[0;0m  |                       306.41417343  |      +ve      |        \n"
          ],
          "name": "stdout"
        }
      ]
    },
    {
      "cell_type": "markdown",
      "metadata": {
        "id": "c8G7tEkO_-tl",
        "colab_type": "text"
      },
      "source": [
        "\n",
        "\n",
        "> PAPER - TABLE 8 : *the importance results in Table 8 suggest that X7 (glazing\n",
        "area) is the most important predictor for both HL and CL.*\n",
        "\n"
      ]
    },
    {
      "cell_type": "markdown",
      "metadata": {
        "id": "pKShIgv6nb2M",
        "colab_type": "text"
      },
      "source": [
        "According to what we mentioned, if we look at the table the most relevant features are the following ones: \n",
        "\n",
        "*   X7 Glazing Area\n",
        "*   X1 Relative Compactness\n",
        "*   X3 Wall Area\n"
      ]
    },
    {
      "cell_type": "markdown",
      "metadata": {
        "id": "aKDxPXU1qoTo",
        "colab_type": "text"
      },
      "source": [
        "## 1.2 On the test data set\n",
        "\n",
        "***Firslty***, Compute the test mean absolute error (MAE) and the test mean square error (MSE) using the GP posterior mean and the optimized hyperparameters. Compare your results with Tables 6 and 7 in the paper.\n"
      ]
    },
    {
      "cell_type": "code",
      "metadata": {
        "id": "krO3_NKxtjIB",
        "colab_type": "code",
        "colab": {
          "base_uri": "https://localhost:8080/",
          "height": 51
        },
        "outputId": "92d5ba25-77b0-4ef5-bb50-b914f9ed1ac4"
      },
      "source": [
        "nsamples= X_train.shape[0]\n",
        "\n",
        "## PREDICTION\n",
        "\n",
        "## CON TODOS LOS DATOS\n",
        "# Xnew = np.vstack([X_train, X_test])\n",
        "# Y_pred_mean, Cov= m_HL.predict(Xnew,full_cov=True) #Y_pred_mean is the posterior mean\n",
        "\n",
        "## SOLO CON LOS DATOS DE TEST\n",
        "Y_pred_mean, Cov= m_HL.predict(X_test, full_cov=True)\n",
        "\n",
        "## NO BORRAR -- PREGUNTAR\n",
        "# Samples the posterior GP at the points X_test\n",
        "# posteriorYtest = m_HL.posterior_samples_f(X_test, full_cov=True, size=nsamples)\n",
        "\n",
        "\n",
        "## METRICS\n",
        "\n",
        "## CON TODOS LOS DATOS\n",
        "# Ynew = np.vstack([Y_train[:, :1], y_test[:, :1]])\n",
        "# MSE= metrics.mean_squared_error(Ynew, Y_pred_mean)\n",
        "# MAE= metrics.mean_absolute_error(Ynew, Y_pred_mean)\n",
        "\n",
        "## CON LOS DATOS DE TEST\n",
        "MSE= metrics.mean_squared_error(y_test[:, :1], Y_pred_mean)\n",
        "MAE= metrics.mean_absolute_error(y_test[:, :1], Y_pred_mean)\n",
        "\n",
        "print('The MSE is:', MSE)\n",
        "print('The MAE is:', MAE)"
      ],
      "execution_count": 20,
      "outputs": [
        {
          "output_type": "stream",
          "text": [
            "The MSE is: 0.2786889286198719\n",
            "The MAE is: 0.36282556123387366\n"
          ],
          "name": "stdout"
        }
      ]
    },
    {
      "cell_type": "markdown",
      "metadata": {
        "id": "QsPbskcpGWc3",
        "colab_type": "text"
      },
      "source": [
        "\n",
        "\n",
        "> PAPER -  TABLE 5 and TABLE 5:  \n",
        "\n",
        "*   MSE: 9.87 ± 2.41 (IRIS classifier) 1.03 ± 0.54 (RF classifier)\n",
        "*   MAE: 2.14 ± 0.24 (IRIS classifier) 0.51 ± 0.11 (RF classifier)\n",
        "\n",
        "The results are given in the form mean ± standard deviation.\n",
        "\n"
      ]
    },
    {
      "cell_type": "markdown",
      "metadata": {
        "id": "i139_kQ4rIO7",
        "colab_type": "text"
      },
      "source": [
        "***Secondly***, Try to improve your results by using a more complicated kernel, in which you combine various covariance functions. In this link you can see how to define different kernels and combine them. Comments the results."
      ]
    },
    {
      "cell_type": "markdown",
      "metadata": {
        "id": "3Rh-YK8bOeIh",
        "colab_type": "text"
      },
      "source": [
        "\n",
        "\n",
        "> ESCOGER: he puesto mazo, al fianl podriamos coger solo los dos mejores y los dos peores\n"
      ]
    },
    {
      "cell_type": "code",
      "metadata": {
        "id": "2-jEoDGEMq7r",
        "colab_type": "code",
        "colab": {}
      },
      "source": [
        "## KERNELS\n",
        "k1 = GPy.kern.RBF(input_dim=X_train.shape[1], ARD=True)\n",
        "k2 = GPy.kern.Matern32(input_dim=X_train.shape[1], ARD=True)\n",
        "k3 = GPy.kern.Linear(input_dim=X_train.shape[1], ARD=True) \n",
        "k4 = GPy.kern.ExpQuad(input_dim=X_train.shape[1], ARD=True) \n",
        "\n",
        "## OPERATION OVER KERNELS\n",
        "# Sum of kernels\n",
        "k_add_1 = k1 + k2\n",
        "k_add_2 = k1 + k3\n",
        "k_add_3 = k1 + k4\n",
        "\n",
        "# Product of kernels\n",
        "k_prod_1 = k1 *k2\n",
        "k_prod_2 = k1 *k3\n",
        "k_prod_3 = k1 *k4"
      ],
      "execution_count": 0,
      "outputs": []
    },
    {
      "cell_type": "code",
      "metadata": {
        "id": "_w0zx4rDOB6c",
        "colab_type": "code",
        "colab": {}
      },
      "source": [
        "m_HL_k1 = GPy.models.GPRegression(X_train,Y_train[:, :1],k1)\n",
        "m_HL_k2 = GPy.models.GPRegression(X_train,Y_train[:, :1],k2)\n",
        "m_HL_k3 = GPy.models.GPRegression(X_train,Y_train[:, :1],k3)\n",
        "m_HL_k4 = GPy.models.GPRegression(X_train,Y_train[:, :1],k4)\n",
        "\n",
        "m_HL_k_add_1 = GPy.models.GPRegression(X_train,Y_train[:, :1],k_add_1)\n",
        "m_HL_k_add_2 = GPy.models.GPRegression(X_train,Y_train[:, :1],k_add_2)\n",
        "m_HL_k_add_3 = GPy.models.GPRegression(X_train,Y_train[:, :1],k_add_3)\n",
        "\n",
        "m_HL_k_prod_1 = GPy.models.GPRegression(X_train,Y_train[:, :1],k_prod_1)\n",
        "m_HL_k_prod_2 = GPy.models.GPRegression(X_train,Y_train[:, :1],k_prod_2)\n",
        "m_HL_k_prod_3 = GPy.models.GPRegression(X_train,Y_train[:, :1],k_prod_3)"
      ],
      "execution_count": 0,
      "outputs": []
    },
    {
      "cell_type": "markdown",
      "metadata": {
        "id": "iuhOSVirkTqi",
        "colab_type": "text"
      },
      "source": [
        "\n",
        "\n",
        "> TARDA LA VIDA\n",
        "\n"
      ]
    },
    {
      "cell_type": "code",
      "metadata": {
        "id": "zwC3fekXg6t0",
        "colab_type": "code",
        "colab": {
          "base_uri": "https://localhost:8080/",
          "height": 901
        },
        "outputId": "410a5196-08a4-482f-de6a-78bee6310215"
      },
      "source": [
        "print('Init')\n",
        "\n",
        "m_HL_k1.optimize_restarts(num_restarts = 5)\n",
        "m_HL_k2.optimize_restarts(num_restarts = 5)\n",
        "m_HL_k3.optimize_restarts(num_restarts = 5)\n",
        "m_HL_k4.optimize_restarts(num_restarts = 5)\n",
        "\n",
        "m_HL_k_add_1.optimize_restarts(num_restarts = 5)\n",
        "m_HL_k_add_2.optimize_restarts(num_restarts = 5)\n",
        "m_HL_k_add_3.optimize_restarts(num_restarts = 5)\n",
        "\n",
        "m_HL_k_prod_1.optimize_restarts(num_restarts = 5)\n",
        "m_HL_k_prod_2.optimize_restarts(num_restarts = 5)\n",
        "m_HL_k_prod_3.optimize_restarts(num_restarts = 5)\n",
        "\n",
        "print('End')"
      ],
      "execution_count": 23,
      "outputs": [
        {
          "output_type": "stream",
          "text": [
            "Init\n",
            "Optimization restart 1/5, f = 639.6362262577159\n",
            "Optimization restart 2/5, f = 521.4859296895338\n",
            "Optimization restart 3/5, f = 1064.2055038566468\n",
            "Optimization restart 4/5, f = 514.8208418965967\n",
            "Optimization restart 5/5, f = 706.3840463074579\n",
            "Optimization restart 1/5, f = 511.5019917914012\n",
            "Optimization restart 2/5, f = 511.4982943018597\n",
            "Optimization restart 3/5, f = 511.4957530249909\n",
            "Optimization restart 4/5, f = 511.4989768083944\n",
            "Optimization restart 5/5, f = 505.4069712291832\n",
            "Optimization restart 1/5, f = 2785.108994449356\n",
            "Optimization restart 2/5, f = 2785.108974285052\n",
            "Optimization restart 3/5, f = 2785.1089385654486\n",
            "Optimization restart 4/5, f = 2785.1089786674365\n",
            "Optimization restart 5/5, f = 2785.10896621756\n",
            "Optimization restart 1/5, f = 639.6362262577159\n",
            "Optimization restart 2/5, f = 522.6426573338686\n",
            "Optimization restart 3/5, f = 1194.4768999753614\n",
            "Optimization restart 4/5, f = 560.3218465889834\n",
            "Optimization restart 5/5, f = 621.6372239248002\n",
            "Optimization restart 1/5, f = 410.516958550688\n",
            "Optimization restart 2/5, f = 435.15560946917276\n",
            "Optimization restart 3/5, f = 475.81165147468516\n",
            "Optimization restart 4/5, f = 394.8966078706213\n",
            "Optimization restart 5/5, f = 527.4532640350749\n",
            "Optimization restart 1/5, f = 504.36100913947087\n",
            "Optimization restart 2/5, f = 504.2696252260457\n",
            "Optimization restart 3/5, f = 504.02300561580057\n",
            "Optimization restart 4/5, f = 505.67038055887303\n",
            "Optimization restart 5/5, f = 504.10768385439246\n",
            "Optimization restart 1/5, f = 561.060801897516\n",
            "Optimization restart 2/5, f = 414.10709241680155\n",
            "Optimization restart 3/5, f = 517.324977213682\n",
            "Optimization restart 4/5, f = 520.0642137239067\n",
            "Optimization restart 5/5, f = 572.2807583269284\n",
            "Optimization restart 1/5, f = 492.00505152718335\n",
            "Optimization restart 2/5, f = 501.089415775886\n",
            "Optimization restart 3/5, f = 500.68179226251567\n",
            "Optimization restart 4/5, f = 474.9092466940833\n",
            "Optimization restart 5/5, f = 451.1292072697678\n",
            "Optimization restart 1/5, f = 540.5616813883412\n",
            "Optimization restart 2/5, f = 540.5650289447437\n",
            "Optimization restart 3/5, f = 540.561872694883\n",
            "Optimization restart 4/5, f = 540.7110895926456\n",
            "Optimization restart 5/5, f = 540.7118111920147\n",
            "Optimization restart 1/5, f = 536.147878737996\n",
            "Optimization restart 2/5, f = 536.1481561989851\n",
            "Optimization restart 3/5, f = 504.80500501805886\n",
            "Optimization restart 4/5, f = 536.1481652437321\n",
            "Optimization restart 5/5, f = 542.8252920911491\n",
            "End\n"
          ],
          "name": "stdout"
        }
      ]
    },
    {
      "cell_type": "code",
      "metadata": {
        "colab_type": "code",
        "id": "PE5YXHXqhtCM",
        "colab": {}
      },
      "source": [
        "nsamples= X_train.shape[0]\n",
        "models= [m_HL_k1, m_HL_k2, m_HL_k3, m_HL_k4, m_HL_k_add_1, m_HL_k_add_2, m_HL_k_add_3, m_HL_k_prod_1, m_HL_k_prod_2, m_HL_k_prod_3]\n",
        "\n",
        "MSE= []\n",
        "MAE= []\n",
        "\n",
        "for model in models:\n",
        "    Y_pred_mean, Cov= model.predict(X_test, full_cov=True)\n",
        "    MSE.append(metrics.mean_squared_error(y_test[:, :1], Y_pred_mean))\n",
        "    MAE.append(metrics.mean_absolute_error(y_test[:, :1], Y_pred_mean))"
      ],
      "execution_count": 0,
      "outputs": []
    },
    {
      "cell_type": "markdown",
      "metadata": {
        "id": "FCnhkXxNrQnE",
        "colab_type": "text"
      },
      "source": [
        "\n",
        "\n",
        "> TAMBIEN SERIA UTIL DECIR LOS TRES LENGTHSCALE MAS BAJOS SEGUN CADA KERNEL\n",
        "\n"
      ]
    },
    {
      "cell_type": "code",
      "metadata": {
        "id": "gec1eunNktRW",
        "colab_type": "code",
        "colab": {
          "base_uri": "https://localhost:8080/",
          "height": 359
        },
        "outputId": "333e8b39-5da6-4a57-ec40-503d76dd33ef"
      },
      "source": [
        "models0= ['RBF',' Matern32', 'Linear', 'ExpQuad', 'RBF + Matern32', 'RBF + Linear', 'RBF + ExpQuad', 'RBF x Matern32',' RBF x Linear', 'RBF x ExpQuad']\n",
        "dataframe=pd.DataFrame(models0, columns=['Models'])\n",
        "dataframe['MSE']= np.asarray(MSE).ravel()\n",
        "dataframe['MAE']= np.asarray(MAE).ravel()\n",
        "dataframe.head(10)"
      ],
      "execution_count": 25,
      "outputs": [
        {
          "output_type": "execute_result",
          "data": {
            "text/html": [
              "<div>\n",
              "<style scoped>\n",
              "    .dataframe tbody tr th:only-of-type {\n",
              "        vertical-align: middle;\n",
              "    }\n",
              "\n",
              "    .dataframe tbody tr th {\n",
              "        vertical-align: top;\n",
              "    }\n",
              "\n",
              "    .dataframe thead th {\n",
              "        text-align: right;\n",
              "    }\n",
              "</style>\n",
              "<table border=\"1\" class=\"dataframe\">\n",
              "  <thead>\n",
              "    <tr style=\"text-align: right;\">\n",
              "      <th></th>\n",
              "      <th>Models</th>\n",
              "      <th>MSE</th>\n",
              "      <th>MAE</th>\n",
              "    </tr>\n",
              "  </thead>\n",
              "  <tbody>\n",
              "    <tr>\n",
              "      <th>0</th>\n",
              "      <td>RBF</td>\n",
              "      <td>0.278978</td>\n",
              "      <td>0.362944</td>\n",
              "    </tr>\n",
              "    <tr>\n",
              "      <th>1</th>\n",
              "      <td>Matern32</td>\n",
              "      <td>0.190885</td>\n",
              "      <td>0.277200</td>\n",
              "    </tr>\n",
              "    <tr>\n",
              "      <th>2</th>\n",
              "      <td>Linear</td>\n",
              "      <td>511.337284</td>\n",
              "      <td>22.348718</td>\n",
              "    </tr>\n",
              "    <tr>\n",
              "      <th>3</th>\n",
              "      <td>ExpQuad</td>\n",
              "      <td>0.279355</td>\n",
              "      <td>0.363349</td>\n",
              "    </tr>\n",
              "    <tr>\n",
              "      <th>4</th>\n",
              "      <td>RBF + Matern32</td>\n",
              "      <td>0.216029</td>\n",
              "      <td>0.289943</td>\n",
              "    </tr>\n",
              "    <tr>\n",
              "      <th>5</th>\n",
              "      <td>RBF + Linear</td>\n",
              "      <td>0.278552</td>\n",
              "      <td>0.360822</td>\n",
              "    </tr>\n",
              "    <tr>\n",
              "      <th>6</th>\n",
              "      <td>RBF + ExpQuad</td>\n",
              "      <td>0.188498</td>\n",
              "      <td>0.262135</td>\n",
              "    </tr>\n",
              "    <tr>\n",
              "      <th>7</th>\n",
              "      <td>RBF x Matern32</td>\n",
              "      <td>0.233338</td>\n",
              "      <td>0.308754</td>\n",
              "    </tr>\n",
              "    <tr>\n",
              "      <th>8</th>\n",
              "      <td>RBF x Linear</td>\n",
              "      <td>0.299041</td>\n",
              "      <td>0.365175</td>\n",
              "    </tr>\n",
              "    <tr>\n",
              "      <th>9</th>\n",
              "      <td>RBF x ExpQuad</td>\n",
              "      <td>0.278021</td>\n",
              "      <td>0.359038</td>\n",
              "    </tr>\n",
              "  </tbody>\n",
              "</table>\n",
              "</div>"
            ],
            "text/plain": [
              "           Models         MSE        MAE\n",
              "0             RBF    0.278978   0.362944\n",
              "1        Matern32    0.190885   0.277200\n",
              "2          Linear  511.337284  22.348718\n",
              "3         ExpQuad    0.279355   0.363349\n",
              "4  RBF + Matern32    0.216029   0.289943\n",
              "5    RBF + Linear    0.278552   0.360822\n",
              "6   RBF + ExpQuad    0.188498   0.262135\n",
              "7  RBF x Matern32    0.233338   0.308754\n",
              "8    RBF x Linear    0.299041   0.365175\n",
              "9   RBF x ExpQuad    0.278021   0.359038"
            ]
          },
          "metadata": {
            "tags": []
          },
          "execution_count": 25
        }
      ]
    },
    {
      "cell_type": "markdown",
      "metadata": {
        "colab_type": "text",
        "id": "RXbbHViFoNLr"
      },
      "source": [
        "\n",
        "---\n",
        "\n",
        "# Part 2 - The ''m_CL'' model\n",
        "## 2.1 On the training data set\n",
        "***First***, built a GP regression model based on a RBF kernel with ARD, in which each input dimension is weighted with a different lengthscale, plus some constant noise term."
      ]
    },
    {
      "cell_type": "markdown",
      "metadata": {
        "colab_type": "text",
        "id": "aJlLQbCJoNLx"
      },
      "source": [
        "**KERNEL**"
      ]
    },
    {
      "cell_type": "code",
      "metadata": {
        "colab_type": "code",
        "id": "cPytM6EcoNLy",
        "colab": {
          "base_uri": "https://localhost:8080/",
          "height": 85
        },
        "outputId": "0faaa7ea-290f-4f8d-9f2d-dc961db07a9d"
      },
      "source": [
        "kernel_1 = GPy.kern.RBF(input_dim=X_train.shape[1],ARD=True) + GPy.kern.White(input_dim=X_train.shape[1])\n",
        "print(kernel_1)"
      ],
      "execution_count": 26,
      "outputs": [
        {
          "output_type": "stream",
          "text": [
            "  \u001b[1msum.           \u001b[0;0m  |  value  |  constraints  |  priors\n",
            "  \u001b[1mrbf.variance   \u001b[0;0m  |    1.0  |      +ve      |        \n",
            "  \u001b[1mrbf.lengthscale\u001b[0;0m  |   (8,)  |      +ve      |        \n",
            "  \u001b[1mwhite.variance \u001b[0;0m  |    1.0  |      +ve      |        \n"
          ],
          "name": "stdout"
        }
      ]
    },
    {
      "cell_type": "markdown",
      "metadata": {
        "colab_type": "text",
        "id": "pgvZ8FiOoNL1"
      },
      "source": [
        "**Values at the beginning**"
      ]
    },
    {
      "cell_type": "code",
      "metadata": {
        "colab_type": "code",
        "id": "8LysyN7MoNL2",
        "colab": {
          "base_uri": "https://localhost:8080/",
          "height": 221
        },
        "outputId": "9d966e6d-9fb2-494d-ad71-27a516719a95"
      },
      "source": [
        "print(f\"\\n Parametros del Kernel: \\n {kernel_1.parameter_names()}\")\n",
        "print(f\"\\n Valores de la varianza para kernel=RBF: \\n {kernel_1.rbf.variance.values}\")\n",
        "print(f\"\\n Valores del parametro 'lengthscale' para kernel=RBF: \\n {kernel_1.rbf.lengthscale.values}\")\n",
        "print(f\"\\n Valores del parametro varianza del ruido blanco: \\n {kernel_1.white.variance.values}\")"
      ],
      "execution_count": 27,
      "outputs": [
        {
          "output_type": "stream",
          "text": [
            "\n",
            " Parametros del Kernel: \n",
            " ['rbf.variance', 'rbf.lengthscale', 'white.variance']\n",
            "\n",
            " Valores de la varianza para kernel=RBF: \n",
            " [1.]\n",
            "\n",
            " Valores del parametro 'lengthscale' para kernel=RBF: \n",
            " [1. 1. 1. 1. 1. 1. 1. 1.]\n",
            "\n",
            " Valores del parametro varianza del ruido blanco: \n",
            " [1.]\n"
          ],
          "name": "stdout"
        }
      ]
    },
    {
      "cell_type": "markdown",
      "metadata": {
        "colab_type": "text",
        "id": "qnPww224oNL4"
      },
      "source": [
        "***Secondly***, fit the covariance function parameters and noise variance."
      ]
    },
    {
      "cell_type": "markdown",
      "metadata": {
        "colab_type": "text",
        "id": "i9ou2lM1oNL3"
      },
      "source": [
        "**MODEL**"
      ]
    },
    {
      "cell_type": "code",
      "metadata": {
        "id": "Y1DcpDMAechQ",
        "colab_type": "code",
        "colab": {}
      },
      "source": [
        "m_CL = GPy.models.GPRegression(X_train,Y_train[:, 1:],kernel_1)"
      ],
      "execution_count": 0,
      "outputs": []
    },
    {
      "cell_type": "markdown",
      "metadata": {
        "colab_type": "text",
        "id": "VddDBdI5oNL9"
      },
      "source": [
        "**OPTIMIZATION**"
      ]
    },
    {
      "cell_type": "code",
      "metadata": {
        "colab_type": "code",
        "id": "9tF-qLbIoNL7",
        "colab": {
          "base_uri": "https://localhost:8080/",
          "height": 785
        },
        "outputId": "ea28312f-491d-4089-f9ca-0add119a03d7"
      },
      "source": [
        "# # OPTIMIZE_RESTARTS comienza desde el inicio la optimizacion: puede que en el utlimo restart no haga una buena optimizacion\n",
        "# COGE EL VALOR DE OPTIMIZACION MENOR, no es muy bueno??\n",
        "print('Regression Model before optimization:')\n",
        "print (m_HL)\n",
        "print(\"\")\n",
        "\n",
        "# print(\"\\n Optimizacion para variable de salida HL: \\n\")\n",
        "print(m_HL.optimize_restarts(num_restarts = 15))\n",
        "\n",
        "print(\"\")\n",
        "print('Regression Model after optimization:')\n",
        "print (m_HL)"
      ],
      "execution_count": 29,
      "outputs": [
        {
          "output_type": "stream",
          "text": [
            "Regression Model before optimization:\n",
            "\n",
            "Name : GP regression\n",
            "Objective : 512.1203831578736\n",
            "Number of Parameters : 11\n",
            "Number of Optimization Parameters : 11\n",
            "Updates : True\n",
            "Parameters:\n",
            "  \u001b[1mGP_regression.         \u001b[0;0m  |                  value  |  constraints  |  priors\n",
            "  \u001b[1msum.rbf.variance       \u001b[0;0m  |      1839.344070110414  |      +ve      |        \n",
            "  \u001b[1msum.rbf.lengthscale    \u001b[0;0m  |                   (8,)  |      +ve      |        \n",
            "  \u001b[1msum.white.variance     \u001b[0;0m  |    0.18487068221327635  |      +ve      |        \n",
            "  \u001b[1mGaussian_noise.variance\u001b[0;0m  |  3.361433770705662e-47  |      +ve      |        \n",
            "\n",
            "Optimization restart 1/15, f = 512.1203829058916\n",
            "Optimization restart 2/15, f = 519.0888955885771\n",
            "Optimization restart 3/15, f = 594.0654633128496\n",
            "Optimization restart 4/15, f = 537.856974755741\n",
            "Optimization restart 5/15, f = 506.88194577575933\n",
            "Optimization restart 6/15, f = 521.6219803619601\n",
            "Optimization restart 7/15, f = 512.5074161125958\n",
            "Optimization restart 8/15, f = 521.3390676693846\n",
            "Optimization restart 9/15, f = 530.13840724043\n",
            "Optimization restart 10/15, f = 512.5176526041948\n",
            "Optimization restart 11/15, f = 598.8112905961898\n",
            "Optimization restart 12/15, f = 1038.866608533786\n",
            "Optimization restart 13/15, f = 621.9297187360125\n",
            "Optimization restart 14/15, f = 511.99048729588515\n",
            "Optimization restart 15/15, f = 512.5703753556604\n",
            "[<paramz.optimization.optimization.opt_lbfgsb object at 0x7fc802c70da0>, <paramz.optimization.optimization.opt_lbfgsb object at 0x7fc803151208>, <paramz.optimization.optimization.opt_lbfgsb object at 0x7fc802cb1fd0>, <paramz.optimization.optimization.opt_lbfgsb object at 0x7fc80313d2e8>, <paramz.optimization.optimization.opt_lbfgsb object at 0x7fc802c70d68>, <paramz.optimization.optimization.opt_lbfgsb object at 0x7fc803122a90>, <paramz.optimization.optimization.opt_lbfgsb object at 0x7fc802c70198>, <paramz.optimization.optimization.opt_lbfgsb object at 0x7fc803122b00>, <paramz.optimization.optimization.opt_lbfgsb object at 0x7fc802c70dd8>, <paramz.optimization.optimization.opt_lbfgsb object at 0x7fc802c70d30>, <paramz.optimization.optimization.opt_lbfgsb object at 0x7fc801bd41d0>, <paramz.optimization.optimization.opt_lbfgsb object at 0x7fc801bd4208>, <paramz.optimization.optimization.opt_lbfgsb object at 0x7fc801bd4278>, <paramz.optimization.optimization.opt_lbfgsb object at 0x7fc801bd40f0>, <paramz.optimization.optimization.opt_lbfgsb object at 0x7fc801bd42b0>, <paramz.optimization.optimization.opt_lbfgsb object at 0x7fc802c3eac8>, <paramz.optimization.optimization.opt_lbfgsb object at 0x7fc802c70cc0>, <paramz.optimization.optimization.opt_lbfgsb object at 0x7fc801bd4198>, <paramz.optimization.optimization.opt_lbfgsb object at 0x7fc802cb1a58>, <paramz.optimization.optimization.opt_lbfgsb object at 0x7fc802cb1898>, <paramz.optimization.optimization.opt_lbfgsb object at 0x7fc802c39668>, <paramz.optimization.optimization.opt_lbfgsb object at 0x7fc7fcb8cda0>, <paramz.optimization.optimization.opt_lbfgsb object at 0x7fc7fcb8cb38>, <paramz.optimization.optimization.opt_lbfgsb object at 0x7fc802c39358>, <paramz.optimization.optimization.opt_lbfgsb object at 0x7fc7fcb8cd30>, <paramz.optimization.optimization.opt_lbfgsb object at 0x7fc802cb6828>, <paramz.optimization.optimization.opt_lbfgsb object at 0x7fc7fcb8c9e8>, <paramz.optimization.optimization.opt_lbfgsb object at 0x7fc802cb6cf8>, <paramz.optimization.optimization.opt_lbfgsb object at 0x7fc802cb6940>, <paramz.optimization.optimization.opt_lbfgsb object at 0x7fc802cb6b70>]\n",
            "\n",
            "Regression Model after optimization:\n",
            "\n",
            "Name : GP regression\n",
            "Objective : 506.88194577575933\n",
            "Number of Parameters : 11\n",
            "Number of Optimization Parameters : 11\n",
            "Updates : True\n",
            "Parameters:\n",
            "  \u001b[1mGP_regression.         \u001b[0;0m  |                  value  |  constraints  |  priors\n",
            "  \u001b[1msum.rbf.variance       \u001b[0;0m  |     2212.7882883017633  |      +ve      |        \n",
            "  \u001b[1msum.rbf.lengthscale    \u001b[0;0m  |                   (8,)  |      +ve      |        \n",
            "  \u001b[1msum.white.variance     \u001b[0;0m  |       0.18546772990259  |      +ve      |        \n",
            "  \u001b[1mGaussian_noise.variance\u001b[0;0m  |  5.275156349393928e-63  |      +ve      |        \n"
          ],
          "name": "stdout"
        }
      ]
    },
    {
      "cell_type": "markdown",
      "metadata": {
        "colab_type": "text",
        "id": "4BJwQrPooNL-"
      },
      "source": [
        "**Values at the end**"
      ]
    },
    {
      "cell_type": "code",
      "metadata": {
        "colab_type": "code",
        "id": "j2Y0650SoNL_",
        "colab": {}
      },
      "source": [
        "# print(f\"\\n Parametros del Kernel: \\n {kernel_1.parameter_names()}\")\n",
        "# print(f\"\\n Valores de la varianza para kernel=RBF: \\n {kernel_1.rbf.variance.values}\")\n",
        "# print(f\"\\n Valores del parametro 'lengthscale' para kernel=RBF: \\n {kernel_1.rbf.lengthscale.values}\")\n",
        "# print(f\"\\n Valores del parametro varianza del ruido blanco: \\n {kernel_1.white.variance.values}\")"
      ],
      "execution_count": 0,
      "outputs": []
    },
    {
      "cell_type": "markdown",
      "metadata": {
        "colab_type": "text",
        "id": "92v0mk8YoNMA"
      },
      "source": [
        "***Third***, According to the ARD parameters found, what variables are more important for the regression?\n"
      ]
    },
    {
      "cell_type": "code",
      "metadata": {
        "colab_type": "code",
        "id": "8Q_lp1EvoNMC",
        "colab": {
          "base_uri": "https://localhost:8080/",
          "height": 170
        },
        "outputId": "b3c6f09d-0279-4f5e-cf9c-658c19f7707f"
      },
      "source": [
        "print(kernel_1.rbf.lengthscale)"
      ],
      "execution_count": 31,
      "outputs": [
        {
          "output_type": "stream",
          "text": [
            "  \u001b[1mindex\u001b[0;0m  |  GP_regression.sum.rbf.lengthscale  |  constraints  |  priors\n",
            "  \u001b[1m[0]  \u001b[0;0m  |                         1.00000000  |      +ve      |        \n",
            "  \u001b[1m[1]  \u001b[0;0m  |                         1.00000000  |      +ve      |        \n",
            "  \u001b[1m[2]  \u001b[0;0m  |                         1.00000000  |      +ve      |        \n",
            "  \u001b[1m[3]  \u001b[0;0m  |                         1.00000000  |      +ve      |        \n",
            "  \u001b[1m[4]  \u001b[0;0m  |                         1.00000000  |      +ve      |        \n",
            "  \u001b[1m[5]  \u001b[0;0m  |                         1.00000000  |      +ve      |        \n",
            "  \u001b[1m[6]  \u001b[0;0m  |                         1.00000000  |      +ve      |        \n",
            "  \u001b[1m[7]  \u001b[0;0m  |                         1.00000000  |      +ve      |        \n"
          ],
          "name": "stdout"
        }
      ]
    },
    {
      "cell_type": "markdown",
      "metadata": {
        "colab_type": "text",
        "id": "rPnj7v31MG7n"
      },
      "source": [
        "\n",
        "\n",
        "> PAPER - TABLE 8 : *the importance results in Table 8 suggest that X7 (glazing\n",
        "area) is the most important predictor for both HL and CL.*\n",
        "\n"
      ]
    },
    {
      "cell_type": "markdown",
      "metadata": {
        "colab_type": "text",
        "id": "TzBPnZL8MG7y"
      },
      "source": [
        "According to what we mentioned, if we look at the table the most relevant features are the following ones: \n",
        "\n",
        "*   X1 Relative Compactness\n",
        "*   X3 Wall Area\n"
      ]
    },
    {
      "cell_type": "markdown",
      "metadata": {
        "id": "UR2JAyoEqD_0",
        "colab_type": "text"
      },
      "source": [
        "## 2.2. On the test data set\n",
        "\n",
        "***Firstlty***, Compute the test mean absolute error error and the test mean square error (MSE) using the GP posterior mean and the optimized hyperparameters. Compare your results with Tables 6 and 7 in the paper."
      ]
    },
    {
      "cell_type": "code",
      "metadata": {
        "colab_type": "code",
        "id": "P8_y7UKDK3nY",
        "colab": {
          "base_uri": "https://localhost:8080/",
          "height": 51
        },
        "outputId": "db62a6a5-f3d3-41b5-e7d5-895c6b299710"
      },
      "source": [
        "## PREDICTION\n",
        "nsamples= X_train.shape[0]\n",
        "\n",
        "## CON TODOS LOS DATOS\n",
        "# Xnew = np.vstack([X_train, X_test])\n",
        "# mean, Cov= m_HL.predict(Xnew,full_cov=True) #mean_test is the posterior mean\n",
        "\n",
        "## CON LOS DATOS DE TEST\n",
        "mean, Cov= m_CL.predict(X_test,full_cov=True)\n",
        "\n",
        "## NO BORRAR -- PREGUNTAR\n",
        "# Samples the posterior GP at the points X_test\n",
        "# posteriorYtest = m_HL.posterior_samples_f(X_test, full_cov=True, size=nsamples)\n",
        "\n",
        "## METRICS\n",
        "## CON TODOS LOS DATOS\n",
        "# Ynew = np.vstack([Y_train[:, 1:], y_test[:, 1:]])\n",
        "# MSE= metrics.mean_squared_error(Ynew, mean)\n",
        "# MAE= metrics.mean_absolute_error(Ynew, mean)\n",
        "\n",
        "## CON LOS DATOS DE TEST\n",
        "MSE= metrics.mean_squared_error(y_test[:, 1:], mean)\n",
        "MAE= metrics.mean_absolute_error(y_test[:, 1:], mean)\n",
        "\n",
        "print('The MSE is:', MSE)\n",
        "print('The MAE is:', MAE)"
      ],
      "execution_count": 32,
      "outputs": [
        {
          "output_type": "stream",
          "text": [
            "The MSE is: 32.609890640211965\n",
            "The MAE is: 4.216849114582263\n"
          ],
          "name": "stdout"
        }
      ]
    },
    {
      "cell_type": "markdown",
      "metadata": {
        "colab_type": "text",
        "id": "cLum7tVWK3nh"
      },
      "source": [
        "\n",
        "\n",
        "> PAPER -  TABLE 5 and TABLE 5:  \n",
        "\n",
        "*   MSE: 11.46 ± 3.63 (IRIS classifier) 6.59 ± 1.56 (RF classifier)\n",
        "*   MAE: 2.21 ± 0.28 (IRIS classifier) 1.42 ± 0.25 (RF classifier)\n",
        "\n",
        "The results are given in the form mean ± standard deviation.\n",
        "\n"
      ]
    },
    {
      "cell_type": "markdown",
      "metadata": {
        "id": "_TorwTXnrSRV",
        "colab_type": "text"
      },
      "source": [
        "***Secondly***, Try to improve your results by using a more complicated kernel, in which you combine various covariance functions. In this link you can see how to define different kernels and combine them. Comments the results."
      ]
    },
    {
      "cell_type": "code",
      "metadata": {
        "colab_type": "code",
        "id": "PkWrgggd0goR",
        "colab": {}
      },
      "source": [
        "## KERNELS\n",
        "k1 = GPy.kern.RBF(input_dim=X_train.shape[1], ARD=True)\n",
        "k2 = GPy.kern.Matern32(input_dim=X_train.shape[1], ARD=True)\n",
        "k3 = GPy.kern.Linear(input_dim=X_train.shape[1], ARD=True) \n",
        "k4 = GPy.kern.ExpQuad(input_dim=X_train.shape[1], ARD=True) \n",
        "\n",
        "## OPERATION OVER KERNELS\n",
        "# Sum of kernels\n",
        "k_add_1 = k1 + k2\n",
        "k_add_2 = k1 + k3\n",
        "k_add_3 = k1 + k4\n",
        "\n",
        "# Product of kernels\n",
        "k_prod_1 = k1 *k2\n",
        "k_prod_2 = k1 *k3\n",
        "k_prod_3 = k1 *k4"
      ],
      "execution_count": 0,
      "outputs": []
    },
    {
      "cell_type": "code",
      "metadata": {
        "colab_type": "code",
        "id": "KMlbIvnA0goU",
        "colab": {}
      },
      "source": [
        "m_HL_k1 = GPy.models.GPRegression(X_train,Y_train[:, 1:],k1)\n",
        "m_HL_k2 = GPy.models.GPRegression(X_train,Y_train[:, 1:],k2)\n",
        "m_HL_k3 = GPy.models.GPRegression(X_train,Y_train[:, 1:],k3)\n",
        "m_HL_k4 = GPy.models.GPRegression(X_train,Y_train[:, 1:],k4)\n",
        "\n",
        "m_HL_k_add_1 = GPy.models.GPRegression(X_train,Y_train[:, 1:],k_add_1)\n",
        "m_HL_k_add_2 = GPy.models.GPRegression(X_train,Y_train[:, 1:],k_add_2)\n",
        "m_HL_k_add_3 = GPy.models.GPRegression(X_train,Y_train[:, 1:],k_add_3)\n",
        "\n",
        "m_HL_k_prod_1 = GPy.models.GPRegression(X_train,Y_train[:, 1:],k_prod_1)\n",
        "m_HL_k_prod_2 = GPy.models.GPRegression(X_train,Y_train[:, 1:],k_prod_2)\n",
        "m_HL_k_prod_3 = GPy.models.GPRegression(X_train,Y_train[:, 1:],k_prod_3)"
      ],
      "execution_count": 0,
      "outputs": []
    },
    {
      "cell_type": "code",
      "metadata": {
        "colab_type": "code",
        "id": "5GfK6UHJ0goW",
        "colab": {
          "base_uri": "https://localhost:8080/",
          "height": 901
        },
        "outputId": "73a5dadd-ffef-4fcf-8d16-f55931288421"
      },
      "source": [
        "print('Init')\n",
        "\n",
        "m_HL_k1.optimize_restarts(num_restarts = 5)\n",
        "m_HL_k2.optimize_restarts(num_restarts = 5)\n",
        "m_HL_k3.optimize_restarts(num_restarts = 5)\n",
        "m_HL_k4.optimize_restarts(num_restarts = 5)\n",
        "\n",
        "m_HL_k_add_1.optimize_restarts(num_restarts = 5)\n",
        "m_HL_k_add_2.optimize_restarts(num_restarts = 5)\n",
        "m_HL_k_add_3.optimize_restarts(num_restarts = 5)\n",
        "\n",
        "m_HL_k_prod_1.optimize_restarts(num_restarts = 5)\n",
        "m_HL_k_prod_2.optimize_restarts(num_restarts = 5)\n",
        "m_HL_k_prod_3.optimize_restarts(num_restarts = 5)\n",
        "\n",
        "print('End')"
      ],
      "execution_count": 35,
      "outputs": [
        {
          "output_type": "stream",
          "text": [
            "Init\n",
            "Optimization restart 1/5, f = 1227.8907069411248\n",
            "Optimization restart 2/5, f = 1227.4832753615792\n",
            "Optimization restart 3/5, f = 1231.4268719351467\n",
            "Optimization restart 4/5, f = 1229.4386540687926\n",
            "Optimization restart 5/5, f = 1232.026984055452\n",
            "Optimization restart 1/5, f = 927.4898105520656\n",
            "Optimization restart 2/5, f = 927.4894152475197\n",
            "Optimization restart 3/5, f = 932.0714983578557\n",
            "Optimization restart 4/5, f = 927.4902001671843\n",
            "Optimization restart 5/5, f = 932.0723531057861\n",
            "Optimization restart 1/5, f = 2845.9138794044966\n",
            "Optimization restart 2/5, f = 2846.0918374210178\n",
            "Optimization restart 3/5, f = 2845.9138687321283\n",
            "Optimization restart 4/5, f = 2845.9138779905734\n",
            "Optimization restart 5/5, f = 2846.091827128753\n",
            "Optimization restart 1/5, f = 1227.8907069411248\n",
            "Optimization restart 2/5, f = 1232.3590416953325\n",
            "Optimization restart 3/5, f = 1227.6889800413112\n",
            "Optimization restart 4/5, f = 1228.1762259151049\n",
            "Optimization restart 5/5, f = 1228.1783988989846\n",
            "Optimization restart 1/5, f = 851.3211722272797\n",
            "Optimization restart 2/5, f = 755.4047383913883\n",
            "Optimization restart 3/5, f = 876.1981676809461\n",
            "Optimization restart 4/5, f = 874.3317415607873\n",
            "Optimization restart 5/5, f = 898.0506199748538\n",
            "Optimization restart 1/5, f = 1225.6725681024384\n",
            "Optimization restart 2/5, f = 1226.0560359606302\n",
            "Optimization restart 3/5, f = 1227.1326127902562\n",
            "Optimization restart 4/5, f = 1225.8448246604275\n",
            "Optimization restart 5/5, f = 1227.8495928821046\n",
            "Optimization restart 1/5, f = 1227.0917035712014\n",
            "Optimization restart 2/5, f = 847.5897391657966\n",
            "Optimization restart 3/5, f = 902.8356949948036\n",
            "Optimization restart 4/5, f = 918.9676058705421\n",
            "Optimization restart 5/5, f = 906.5575695458839\n",
            "Optimization restart 1/5, f = 942.0465357078924\n",
            "Optimization restart 2/5, f = 1229.9349537059038\n",
            "Optimization restart 3/5, f = 1060.8698195665224\n",
            "Optimization restart 4/5, f = 907.999937563545\n",
            "Optimization restart 5/5, f = 950.8480654239863\n",
            "Optimization restart 1/5, f = 1054.2110994982083\n",
            "Optimization restart 2/5, f = 1054.040833883354\n",
            "Optimization restart 3/5, f = 1053.108069894199\n",
            "Optimization restart 4/5, f = 1054.7677571983725\n",
            "Optimization restart 5/5, f = 1054.051310733977\n",
            "Optimization restart 1/5, f = 1059.2932969419621\n",
            "Optimization restart 2/5, f = 1063.7835045169659\n",
            "Optimization restart 3/5, f = 1063.7832487016594\n",
            "Optimization restart 4/5, f = 1059.2959109773274\n",
            "Optimization restart 5/5, f = 1059.3035167348212\n",
            "End\n"
          ],
          "name": "stdout"
        }
      ]
    },
    {
      "cell_type": "code",
      "metadata": {
        "colab_type": "code",
        "id": "mkS8zDp-0goZ",
        "colab": {}
      },
      "source": [
        "nsamples= X_train.shape[0]\n",
        "models= [m_HL_k1, m_HL_k2, m_HL_k3, m_HL_k4, m_HL_k_add_1, m_HL_k_add_2, m_HL_k_add_3, m_HL_k_prod_1, m_HL_k_prod_2, m_HL_k_prod_3]\n",
        "\n",
        "MSE= []\n",
        "MAE= []\n",
        "\n",
        "for model in models:\n",
        "    Y_pred_mean, Cov= model.predict(X_test, full_cov=True)\n",
        "    MSE.append(metrics.mean_squared_error(y_test[:, 1:], Y_pred_mean))\n",
        "    MAE.append(metrics.mean_absolute_error(y_test[:, 1:], Y_pred_mean))"
      ],
      "execution_count": 0,
      "outputs": []
    },
    {
      "cell_type": "markdown",
      "metadata": {
        "colab_type": "text",
        "id": "PpKT4ym-0gob"
      },
      "source": [
        "\n",
        "\n",
        "> TAMBIEN SERIA UTIL DECIR LOS TRES LENGTHSCALE MAS BAJOS SEGUN CADA KERNEL\n",
        "\n"
      ]
    },
    {
      "cell_type": "code",
      "metadata": {
        "colab_type": "code",
        "id": "9kvRlc170gob",
        "colab": {
          "base_uri": "https://localhost:8080/",
          "height": 359
        },
        "outputId": "751fd162-610d-4d63-d4df-e89fd42de822"
      },
      "source": [
        "models0= ['RBF',' Matern32', 'Linear', 'ExpQuad', 'RBF + Matern32', 'RBF + Linear', 'RBF + ExpQuad', 'RBF x Matern32',' RBF x Linear', 'RBF x ExpQuad']\n",
        "dataframe=pd.DataFrame(models0, columns=['Models'])\n",
        "dataframe['MSE']= np.asarray(MSE).ravel()\n",
        "dataframe['MAE']= np.asarray(MAE).ravel()\n",
        "dataframe.head(10)"
      ],
      "execution_count": 37,
      "outputs": [
        {
          "output_type": "execute_result",
          "data": {
            "text/html": [
              "<div>\n",
              "<style scoped>\n",
              "    .dataframe tbody tr th:only-of-type {\n",
              "        vertical-align: middle;\n",
              "    }\n",
              "\n",
              "    .dataframe tbody tr th {\n",
              "        vertical-align: top;\n",
              "    }\n",
              "\n",
              "    .dataframe thead th {\n",
              "        text-align: right;\n",
              "    }\n",
              "</style>\n",
              "<table border=\"1\" class=\"dataframe\">\n",
              "  <thead>\n",
              "    <tr style=\"text-align: right;\">\n",
              "      <th></th>\n",
              "      <th>Models</th>\n",
              "      <th>MSE</th>\n",
              "      <th>MAE</th>\n",
              "    </tr>\n",
              "  </thead>\n",
              "  <tbody>\n",
              "    <tr>\n",
              "      <th>0</th>\n",
              "      <td>RBF</td>\n",
              "      <td>3.358964</td>\n",
              "      <td>1.220274</td>\n",
              "    </tr>\n",
              "    <tr>\n",
              "      <th>1</th>\n",
              "      <td>Matern32</td>\n",
              "      <td>0.299490</td>\n",
              "      <td>0.404503</td>\n",
              "    </tr>\n",
              "    <tr>\n",
              "      <th>2</th>\n",
              "      <td>Linear</td>\n",
              "      <td>605.193587</td>\n",
              "      <td>24.346979</td>\n",
              "    </tr>\n",
              "    <tr>\n",
              "      <th>3</th>\n",
              "      <td>ExpQuad</td>\n",
              "      <td>3.378337</td>\n",
              "      <td>1.225102</td>\n",
              "    </tr>\n",
              "    <tr>\n",
              "      <th>4</th>\n",
              "      <td>RBF + Matern32</td>\n",
              "      <td>0.176133</td>\n",
              "      <td>0.251196</td>\n",
              "    </tr>\n",
              "    <tr>\n",
              "      <th>5</th>\n",
              "      <td>RBF + Linear</td>\n",
              "      <td>3.466191</td>\n",
              "      <td>1.247059</td>\n",
              "    </tr>\n",
              "    <tr>\n",
              "      <th>6</th>\n",
              "      <td>RBF + ExpQuad</td>\n",
              "      <td>0.321307</td>\n",
              "      <td>0.416040</td>\n",
              "    </tr>\n",
              "    <tr>\n",
              "      <th>7</th>\n",
              "      <td>RBF x Matern32</td>\n",
              "      <td>0.281626</td>\n",
              "      <td>0.396358</td>\n",
              "    </tr>\n",
              "    <tr>\n",
              "      <th>8</th>\n",
              "      <td>RBF x Linear</td>\n",
              "      <td>0.424739</td>\n",
              "      <td>0.472751</td>\n",
              "    </tr>\n",
              "    <tr>\n",
              "      <th>9</th>\n",
              "      <td>RBF x ExpQuad</td>\n",
              "      <td>0.464881</td>\n",
              "      <td>0.492575</td>\n",
              "    </tr>\n",
              "  </tbody>\n",
              "</table>\n",
              "</div>"
            ],
            "text/plain": [
              "           Models         MSE        MAE\n",
              "0             RBF    3.358964   1.220274\n",
              "1        Matern32    0.299490   0.404503\n",
              "2          Linear  605.193587  24.346979\n",
              "3         ExpQuad    3.378337   1.225102\n",
              "4  RBF + Matern32    0.176133   0.251196\n",
              "5    RBF + Linear    3.466191   1.247059\n",
              "6   RBF + ExpQuad    0.321307   0.416040\n",
              "7  RBF x Matern32    0.281626   0.396358\n",
              "8    RBF x Linear    0.424739   0.472751\n",
              "9   RBF x ExpQuad    0.464881   0.492575"
            ]
          },
          "metadata": {
            "tags": []
          },
          "execution_count": 37
        }
      ]
    },
    {
      "cell_type": "markdown",
      "metadata": {
        "id": "67riDVBtY8wu",
        "colab_type": "text"
      },
      "source": [
        "# Part 3 - Sparse GP implementation \n",
        "\n",
        "Try to implement an sparse version of the GP regressor, optimized to find a set of **inducing points** that the GP relies on to do the prediction. Measure the test error prediction for 20, 40, and 100 inducing points. "
      ]
    },
    {
      "cell_type": "markdown",
      "metadata": {
        "id": "rkDUWE91NdHB",
        "colab_type": "text"
      },
      "source": [
        ""
      ]
    },
    {
      "cell_type": "code",
      "metadata": {
        "id": "85EmmINeY8wu",
        "colab_type": "code",
        "colab": {}
      },
      "source": [
        "#Your code here"
      ],
      "execution_count": 0,
      "outputs": []
    },
    {
      "cell_type": "markdown",
      "metadata": {
        "id": "Qoqs7YY-Ng7T",
        "colab_type": "text"
      },
      "source": [
        "# Comments\n",
        "\n",
        "ARD: estimating the lengthscale parameters\n",
        "`l1, `l2, ··· , `lD implicitly determines the relevance of each dimension. Take into account\n",
        "that input dimensions with relatively large lengthscales imply relatively little variation\n",
        "along those dimensions in the function being modeled.\n"
      ]
    },
    {
      "cell_type": "markdown",
      "metadata": {
        "id": "W5cB3-Mj6kSP",
        "colab_type": "text"
      },
      "source": [
        "https://nbviewer.jupyter.org/github/SheffieldML/notebook/blob/master/GPy/multiple%20outputs.ipynb"
      ]
    },
    {
      "cell_type": "markdown",
      "metadata": {
        "id": "QlfRdlBNFC7z",
        "colab_type": "text"
      },
      "source": [
        "https://nbviewer.jupyter.org/url/gpss.cc/gpss18/labs/GPSS_Lab1_2018_Answers.ipynb"
      ]
    },
    {
      "cell_type": "markdown",
      "metadata": {
        "id": "YzDgiAw_HGWM",
        "colab_type": "text"
      },
      "source": [
        "https://thegradient.pub/gaussian-process-not-quite-for-dummies/\n",
        "\n",
        "http://gpss.cc/gprs15b/assets/session1.pdf"
      ]
    },
    {
      "cell_type": "markdown",
      "metadata": {
        "id": "joii-_6dGzHY",
        "colab_type": "text"
      },
      "source": [
        "Vertical scale (VARAINCE): describes how much span the function has vertically;\n",
        "Horizontal scale (LENGHTSCALE): describes how quickly the correlation between two points drops as the distance between them increases -- a high l gives you a smooth function, while lower l results in a wiggly function."
      ]
    }
  ]
}