{
  "nbformat": 4,
  "nbformat_minor": 0,
  "metadata": {
    "colab": {
      "name": "KNN.ipynb",
      "provenance": [],
      "collapsed_sections": []
    },
    "language_info": {
      "codemirror_mode": {
        "name": "ipython",
        "version": 3
      },
      "file_extension": ".py",
      "mimetype": "text/x-python",
      "name": "python",
      "nbconvert_exporter": "python",
      "pygments_lexer": "ipython3",
      "version": "3.6.4"
    },
    "kernelspec": {
      "display_name": "Python 3",
      "language": "python",
      "name": "python3"
    }
  },
  "cells": [
    {
      "cell_type": "markdown",
      "metadata": {
        "id": "8rh_Zt6M8h4W",
        "colab_type": "text"
      },
      "source": [
        "# Week 2: Introduction to regression problems \n",
        "\n",
        "----------------------------------------------------\n",
        "Machine Learning     Year 2019/2020\n",
        "\n",
        "*Vanessa Gómez Verdejo vanessa@tsc.uc3m.es* and *Pablo M. Olmos olmos@tsc.uc3m.es*\n",
        "\n",
        "----------------------------------------------------\n",
        "\n",
        "To begin to understand what is a method or algorithm of machine learning, let's start working with a real problem: house sale-value prediction. For this purpose, we will start by loading **Boston housing dataset** and analyzing what it is made of.... "
      ]
    },
    {
      "cell_type": "code",
      "metadata": {
        "id": "4gMLwGPw8q_E",
        "colab_type": "code",
        "colab": {}
      },
      "source": [
        "import numpy as np\n",
        "import matplotlib.pyplot as plt\n",
        "%matplotlib inline\n"
      ],
      "execution_count": 0,
      "outputs": []
    },
    {
      "cell_type": "markdown",
      "metadata": {
        "id": "nDlA2VI56WDI",
        "colab_type": "text"
      },
      "source": [
        "### Boston housing database\n",
        "\n",
        "To goal of this problem or dataset is to predict the value of houses in the suburbs of Boston during the 80's using different features. The data was drawn from the Boston Standard Metropolitan Statistical Area (SMSA) in 1970.\n",
        "\n",
        "We can load this dataset from the sklearn repository as follows:\n"
      ]
    },
    {
      "cell_type": "code",
      "metadata": {
        "id": "WcutpdFI41ks",
        "colab_type": "code",
        "colab": {}
      },
      "source": [
        "from sklearn.datasets import load_boston\n",
        "boston = load_boston()\n"
      ],
      "execution_count": 0,
      "outputs": []
    },
    {
      "cell_type": "markdown",
      "metadata": {
        "id": "G7GtzX5rtJQ3",
        "colab_type": "text"
      },
      "source": [
        "Variable 'boston' is a dictionary from where we can extract the data, the labels or targets, and some information about the feature meaning....  "
      ]
    },
    {
      "cell_type": "code",
      "metadata": {
        "id": "FocO0vomtJ77",
        "colab_type": "code",
        "colab": {}
      },
      "source": [
        "X = boston.data\n",
        "Y = boston.target\n",
        "feature_names = boston.feature_names"
      ],
      "execution_count": 0,
      "outputs": []
    },
    {
      "cell_type": "markdown",
      "metadata": {
        "id": "2hdbftIJsExu",
        "colab_type": "text"
      },
      "source": [
        "Now, for instance, from the input data or observations, we can check their dimensions..."
      ]
    },
    {
      "cell_type": "code",
      "metadata": {
        "id": "nKx630yusCrB",
        "colab_type": "code",
        "outputId": "637f5951-2287-4f38-ba42-df5c4df660c7",
        "colab": {
          "base_uri": "https://localhost:8080/",
          "height": 34
        }
      },
      "source": [
        "print(X.shape)"
      ],
      "execution_count": 0,
      "outputs": [
        {
          "output_type": "stream",
          "text": [
            "(506, 13)\n"
          ],
          "name": "stdout"
        }
      ]
    },
    {
      "cell_type": "markdown",
      "metadata": {
        "id": "nwGpd-HFshl8",
        "colab_type": "text"
      },
      "source": [
        "Each record (a single each datum) is usually placed in a row; whereas columns are used for features or variables. In this dataset, we have 506 records or observations, and each one has 13 features.\n",
        "\n",
        "Here, each record in the database describes a Boston suburb (or town) and it is characterized by a set of features. If we want to know what the are representing, we can check variable 'feature_names' toghether to the sklearn [User Guide](https://scikit-learn.org/stable/datasets/index.html#boston-dataset).\n"
      ]
    },
    {
      "cell_type": "code",
      "metadata": {
        "id": "yw3JrFHfuutJ",
        "colab_type": "code",
        "outputId": "b01252ed-b61e-406e-c58d-e1cb875394fd",
        "colab": {
          "base_uri": "https://localhost:8080/",
          "height": 52
        }
      },
      "source": [
        "print(feature_names)"
      ],
      "execution_count": 0,
      "outputs": [
        {
          "output_type": "stream",
          "text": [
            "['CRIM' 'ZN' 'INDUS' 'CHAS' 'NOX' 'RM' 'AGE' 'DIS' 'RAD' 'TAX' 'PTRATIO'\n",
            " 'B' 'LSTAT']\n"
          ],
          "name": "stdout"
        }
      ]
    },
    {
      "cell_type": "markdown",
      "metadata": {
        "id": "cBrqILoCv_4y",
        "colab_type": "text"
      },
      "source": [
        "Besides, we can acces to the target information. "
      ]
    },
    {
      "cell_type": "code",
      "metadata": {
        "id": "iA2EZOk641ki",
        "colab_type": "code",
        "outputId": "6e462491-f455-4d69-acea-e5d19c3743b1",
        "colab": {
          "base_uri": "https://localhost:8080/",
          "height": 52
        }
      },
      "source": [
        "print(Y.shape)\n",
        "print(Y[:10])"
      ],
      "execution_count": 0,
      "outputs": [
        {
          "output_type": "stream",
          "text": [
            "(506,)\n",
            "[24.  21.6 34.7 33.4 36.2 28.7 22.9 27.1 16.5 18.9]\n"
          ],
          "name": "stdout"
        }
      ]
    },
    {
      "cell_type": "markdown",
      "metadata": {
        "id": "ZBUJoVR7xmrG",
        "colab_type": "text"
      },
      "source": [
        "It's a numpy array with a single column with as many elements as records in X. Each element of Y is associated to a row of X."
      ]
    },
    {
      "cell_type": "markdown",
      "metadata": {
        "id": "GmU-lClFx6E3",
        "colab_type": "text"
      },
      "source": [
        "Finally, we can try to analyze the relationship between each input feature and the target variable by plotting Y vs. each feature...."
      ]
    },
    {
      "cell_type": "code",
      "metadata": {
        "id": "YiyHcvoC_5FG",
        "colab_type": "code",
        "outputId": "45de5bdf-cde4-4b6c-e1d3-d309c499da35",
        "colab": {
          "base_uri": "https://localhost:8080/",
          "height": 356
        }
      },
      "source": [
        "import matplotlib.pyplot as plt\n",
        "#%matplotlib inline\n",
        "\n",
        "D = X.shape[1]\n",
        "\n",
        "plt.figure( figsize=(20,5))\n",
        "for d in range (D):\n",
        "  plt.subplot(2,7,d+1)\n",
        "  plt.plot(X[:,d],Y,'.',)\n",
        "  plt.title(feature_names[d])\n"
      ],
      "execution_count": 0,
      "outputs": [
        {
          "output_type": "display_data",
          "data": {
            "image/png": "[encoded data removed]",
            "text/plain": [
              "<Figure size 1440x360 with 13 Axes>"
            ]
          },
          "metadata": {
            "tags": []
          }
        }
      ]
    },
    {
      "cell_type": "markdown",
      "metadata": {
        "id": "aRxHMNzo85r6",
        "colab_type": "text"
      },
      "source": [
        "Which variables are most useful to predict the house sale prize?\n",
        "\n"
      ]
    },
    {
      "cell_type": "markdown",
      "metadata": {
        "id": "ZCk2X5ypCZL3",
        "colab_type": "text"
      },
      "source": [
        "# Machine Learning Pipeline\n",
        "\n",
        "When we have to design a regressor (or classifier) to solve a data analysis problem, we usually follow these steps:\n",
        "\n",
        "<img src=\"http://www.tsc.uc3m.es/~vanessa/Figs_notebooks/ML/Regression/MLPipeline.png\" width=\"100%\" > \n",
        "\n",
        "\n",
        "In the **preprocessing** step we can find several tasks:\n",
        "* Imputation of missing values\n",
        "* Dimensionality reduction: feature extraction or feature selection\n",
        "* Data normalization\n",
        "\n",
        "Along this course, we will review all these techniques. But for now, let's start with the data normalization."
      ]
    },
    {
      "cell_type": "markdown",
      "metadata": {
        "id": "u9nBKjvaGudY",
        "colab_type": "text"
      },
      "source": [
        "# Preparing the dataset\n",
        "\n",
        "Folowing the ML pipeline, before desinging any ML regressor to predict the house sale-prize, we need:\n",
        "1. Generate the train and test partitions.  \n",
        "2. Normalize the data variables (preprocessing).\n",
        "3. Any additional preprocessing (in this case, feature selection).\n"
      ]
    },
    {
      "cell_type": "markdown",
      "metadata": {
        "id": "c__oJXr7ppKu",
        "colab_type": "text"
      },
      "source": [
        "## Generating training/test partitions\n",
        "This task consist in dividing the overall datasets into two independt subsets:\n",
        "* The **training subset**: used to train the ML model. We will later see that this subset can be divided into diferent (validation) subsets if hiperparameters of the ML model have to be adjusted.\n",
        "* The **test subset**: exclusively used for performance evaluation.\n",
        "\n",
        "This division usually depends on the avaliable number of data, but 60/40\\%, 70/30\\% or 80/20\\% train/test divisions are quite common.\n",
        "\n",
        "For this task, we can use some preprocessing tools from sklearn; for instance, we can use the function [train_test_split](https://scikit-learn.org/stable/modules/generated/sklearn.model_selection.train_test_split.html).\n",
        "\n"
      ]
    },
    {
      "cell_type": "code",
      "metadata": {
        "id": "H4CHRqkeGuKO",
        "colab_type": "code",
        "colab": {}
      },
      "source": [
        "from sklearn.model_selection import train_test_split\n",
        "\n",
        "# Parameter test_size lest you select the percentage of data into the test partition (in this case 40%)\n",
        "X_train, X_test, Y_train, Y_test = train_test_split(X, Y, test_size=0.4, random_state=0)\n",
        "\n",
        "# Note that we have to divide both observations and labels!!!"
      ],
      "execution_count": 0,
      "outputs": []
    },
    {
      "cell_type": "markdown",
      "metadata": {
        "id": "kmoYaX6G6M6E",
        "colab_type": "text"
      },
      "source": [
        "## Normalizing our input data\n",
        "\n",
        "Next step implies data normalization. In general, features are defined in different ranges. I.e., if $x_1$ for instance can take values in the $[-1,1]$ set and $x_2$ in the $[-10^6,10^6]$ range. To improve numerical robustness of ML methods, we usually apply a linear normalization preprocessing stage to use as input to ML model features with (sample) mean 0 and (sample) variance equal to 1. \n",
        "\n"
      ]
    },
    {
      "cell_type": "markdown",
      "metadata": {
        "id": "uhsAMKv12JS2",
        "colab_type": "text"
      },
      "source": [
        "Let's check the mean and standard deviation of our training data"
      ]
    },
    {
      "cell_type": "code",
      "metadata": {
        "id": "t3hartcCj_ls",
        "colab_type": "code",
        "outputId": "f170557f-9474-4919-c4ac-3df5a5d33bb4",
        "colab": {
          "base_uri": "https://localhost:8080/",
          "height": 191
        }
      },
      "source": [
        "# Analyze mean and std of each feature\n",
        "print('Mean values')\n",
        "print(np.mean(X_train, axis=0))\n",
        "\n",
        "print('Std values')\n",
        "print(np.std(X_train, axis=0))"
      ],
      "execution_count": 0,
      "outputs": [
        {
          "output_type": "stream",
          "text": [
            "Mean values\n",
            "[3.40540868e+00 1.20775578e+01 1.11100000e+01 6.93069307e-02\n",
            " 5.56296700e-01 6.30460396e+00 6.93155116e+01 3.75517327e+00\n",
            " 9.33663366e+00 4.03498350e+02 1.84610561e+01 3.61424488e+02\n",
            " 1.24990099e+01]\n",
            "Std values\n",
            "[8.60663336e+00 2.44061770e+01 7.02660005e+00 2.53975353e-01\n",
            " 1.17627933e-01 7.12938382e-01 2.84517980e+01 2.08860343e+00\n",
            " 8.67066359e+00 1.70369234e+02 2.20521469e+00 8.37407634e+01\n",
            " 7.11658749e+00]\n"
          ],
          "name": "stdout"
        }
      ]
    },
    {
      "cell_type": "markdown",
      "metadata": {
        "id": "oNU3O1X1eQUM",
        "colab_type": "text"
      },
      "source": [
        "**Normalization process**\n",
        "\n",
        "Given the unnormalized feature matrix $\\mathbf{X}_{N\\times D}$, we compute the sample mean per feature column , $\\mu_j$, and the sample variance per  feature column, $\\sigma^2_j$ for $j=1,\\ldots,D$. Then, each row of the normalized feature matrix $\\overline{\\mathbf{X}}_{N\\times D}$ is obtained as follows:\n",
        "\n",
        "$$\\overline{\\mathbf{x}}^{(i)}= \\left[\\frac{x_1^{(i)}-\\mu_1}{\\sqrt{\\sigma^2_1}}, ~~ \\frac{x_2^{(i)}-\\mu_2}{\\sqrt{\\sigma^2_2}}, \\ldots, \\frac{x_D^{(D)}-\\mu_D}{\\sqrt{\\sigma^2_D}}\\right]$$\n",
        "\n",
        "One last thing, in general we will not normalize the output variable $y$. We can do it and but typically it leads to mistakes in the evaluation of the cost function. \n",
        "\n",
        "To carry out this proccess we can also use other of the sklearn preprocessing tools: the object [StandardScaler](https://scikit-learn.org/stable/modules/generated/sklearn.preprocessing.StandardScaler.html#sklearn.preprocessing.StandardScaler)\n"
      ]
    },
    {
      "cell_type": "code",
      "metadata": {
        "id": "3KzhM5GZ6pDR",
        "colab_type": "code",
        "colab": {}
      },
      "source": [
        "# Data normalization\n",
        "\n",
        "from sklearn.preprocessing import StandardScaler\n",
        "\n",
        "# Define the object\n",
        "transformer = StandardScaler()\n",
        "transformer.fit(X_train)  # fit does nothing, just learns mean and std from data\n",
        "X_train_norm = transformer.transform(X_train)\n",
        "X_test_norm =  transformer.transform(X_test)\n"
      ],
      "execution_count": 0,
      "outputs": []
    },
    {
      "cell_type": "markdown",
      "metadata": {
        "id": "FzoV0CIvfBoW",
        "colab_type": "text"
      },
      "source": [
        "One important thing, we normalize the test data using the sample means and variances computed from the **training** set. This is important to **make sure that all datapoints are equally normalized**."
      ]
    },
    {
      "cell_type": "markdown",
      "metadata": {
        "id": "2o5dTpFpe8_5",
        "colab_type": "text"
      },
      "source": [
        "Check mean and std of the normalized data"
      ]
    },
    {
      "cell_type": "code",
      "metadata": {
        "id": "PpQqypxB6pGR",
        "colab_type": "code",
        "outputId": "336a87aa-6325-4a93-da46-64563691bd74",
        "colab": {
          "base_uri": "https://localhost:8080/",
          "height": 139
        }
      },
      "source": [
        "print('Mean values')\n",
        "print(np.mean(X_train_norm, axis=0))\n",
        "\n",
        "print('Std values')\n",
        "print(np.std(X_train_norm, axis=0))"
      ],
      "execution_count": 0,
      "outputs": [
        {
          "output_type": "stream",
          "text": [
            "Mean values\n",
            "[-1.57922813e-16  1.42899993e-17  3.12987626e-15  4.25035877e-17\n",
            "  2.03339362e-15  3.74471264e-16  1.15932200e-15 -5.78928178e-17\n",
            " -4.25035877e-17 -8.86712779e-17  1.18412797e-14  5.16968206e-15\n",
            "  4.27967159e-16]\n",
            "Std values\n",
            "[1. 1. 1. 1. 1. 1. 1. 1. 1. 1. 1. 1. 1.]\n"
          ],
          "name": "stdout"
        }
      ]
    },
    {
      "cell_type": "markdown",
      "metadata": {
        "id": "B8dvbBcDk8ty",
        "colab_type": "text"
      },
      "source": [
        "### Exercise 1\n",
        "\n",
        "Desing your own normalization proccess"
      ]
    },
    {
      "cell_type": "markdown",
      "metadata": {
        "id": "ZHCz5ymZEW7u",
        "colab_type": "text"
      },
      "source": [
        "#### SOLUTION"
      ]
    },
    {
      "cell_type": "code",
      "metadata": {
        "id": "fz7PrTtHk7iT",
        "colab_type": "code",
        "outputId": "104d00b3-d092-42cf-e9e0-014789529a00",
        "colab": {
          "base_uri": "https://localhost:8080/",
          "height": 139
        }
      },
      "source": [
        "# <SOL>\n",
        "m = np.mean(X_train, axis=0)\n",
        "s = np.std(X_train, axis=0)\n",
        "\n",
        "X_train_norm2 = (X_train-m)/s\n",
        "X_test_norm2 = (X_test-m)/s\n",
        "\n",
        "print('Mean values')\n",
        "print(np.mean(X_train_norm2, axis=0))\n",
        "\n",
        "print('Std values')\n",
        "print(np.std(X_train_norm2, axis=0))\n",
        "# </SOL>"
      ],
      "execution_count": 0,
      "outputs": [
        {
          "output_type": "stream",
          "text": [
            "Mean values\n",
            "[-1.57922813e-16  1.42899993e-17  3.12987626e-15  4.25035877e-17\n",
            "  2.03339362e-15  3.74471264e-16  1.15932200e-15 -5.78928178e-17\n",
            " -4.25035877e-17 -8.86712779e-17  1.18412797e-14  5.16968206e-15\n",
            "  4.27967159e-16]\n",
            "Std values\n",
            "[1. 1. 1. 1. 1. 1. 1. 1. 1. 1. 1. 1. 1.]\n"
          ],
          "name": "stdout"
        }
      ]
    },
    {
      "cell_type": "markdown",
      "metadata": {
        "id": "IjthBS3xReKP",
        "colab_type": "text"
      },
      "source": [
        "## Other preprocesing tools: Feature selection\n",
        "Other possible preprocessing step can be a feature selection. This consists in selecting a subset of the original features which seem to be more usefull to solve the predicition task. \n",
        "\n",
        "There are many sophisticated methods to carry out this task (we wiil review some of them along this course), but now, simply from the above display (variables vs. target values), let's select the variables:\n",
        "* Feature 0: CRIM\n",
        "* Feature 5: RM\n",
        "* Feature 12: LSTAT \n"
      ]
    },
    {
      "cell_type": "code",
      "metadata": {
        "id": "0cVnw68ISmfS",
        "colab_type": "code",
        "colab": {}
      },
      "source": [
        "sel_feat = [0, 5, 12]\n",
        "X_train_sel = X_train_norm[:,sel_feat]\n",
        "X_test_sel = X_test_norm[:,sel_feat]"
      ],
      "execution_count": 0,
      "outputs": []
    },
    {
      "cell_type": "markdown",
      "metadata": {
        "id": "qhGMAbbWSwYf",
        "colab_type": "text"
      },
      "source": [
        "Note that the feature selection is not affecting to the target vectors."
      ]
    },
    {
      "cell_type": "markdown",
      "metadata": {
        "id": "DdjDEnGcfYEs",
        "colab_type": "text"
      },
      "source": [
        "For the sake of simplicity, from now on, let's consider that train and test data are the preprocessed versions."
      ]
    },
    {
      "cell_type": "code",
      "metadata": {
        "id": "Q_YsFz6JtFci",
        "colab_type": "code",
        "colab": {}
      },
      "source": [
        "X_train = X_train_sel\n",
        "X_test = X_test_sel"
      ],
      "execution_count": 0,
      "outputs": []
    },
    {
      "cell_type": "markdown",
      "metadata": {
        "id": "jX35YyX-lNZd",
        "colab_type": "text"
      },
      "source": [
        "# The ML model\n",
        "\n",
        "Consider we have a **training** database of $N$ entries of the form $(\\mathbf{x}^{(i)},y^{(i)})$, where $\\mathbf{x}\\in\\mathbb{R}^{D}$ is an observation  and $y \\in\\mathbb{R}$  is its target value. Our goal is to design a  function $f(\\mathbf{x}^*)$  able to estimate the associated target value for a new point $\\mathbf{x}^*$ as follows\n",
        "\n",
        "\\begin{align}\n",
        "y^* \\approx f(\\mathbf{x}^*)\n",
        "\\end{align}\n",
        "\n",
        "Note that in the above equation we are using the $\\approx$ because we consider that the estimation is not goint to be perfect, i.e.,  the designed function will have an estimation error. As we will see later, a good design will try to minimize this error."
      ]
    },
    {
      "cell_type": "markdown",
      "metadata": {
        "id": "2QWJnRQ_lSaT",
        "colab_type": "text"
      },
      "source": [
        "## My first estimation model:  K-NN (Nearest Neighbours) \n",
        "\n",
        "K-NN is a *non-parametric* method, since there are not parameters to be learned. To estimate the output a new sample $\\mathbf{x}^*$, you only have to:\n",
        "* Select the value of K.\n",
        "* Search, among the training data, the K nearest neighbours of $\\mathbf{x}^*$\n",
        "* Compute the estimated target  $\\mathbf{x}^*$ as the average value of the targets associated to the K-nearest neighbours of $x^*$. \n",
        "That is,\n",
        "\n",
        "\\begin{align}\n",
        "f(\\mathbf{x}^*) =\\frac{1}{K}\\sum_{k\\in \\mathcal{S}_{K}(\\mathbf{x}^*)} y^{(k)},\n",
        "\\end{align}\n",
        "where $\\mathcal{S}_{K}$ is the set of the **$K$ training points that are closest to $\\mathbf{x}^*$ according to a given distance metric $d(\\mathbf{x}^{(i)},\\mathbf{x}^*)$**. For instance, in real spaces the most common choice is the **euclidean distance**:\n",
        "\n",
        "\\begin{align}\n",
        "d(\\mathbf{x}^{(i)},\\mathbf{x}^*) = \\left|\\left|\\mathbf{x}^{(i)}-\\mathbf{x}^*\\right|\\right|^2\n",
        "\\end{align}\n",
        "\n",
        "\n",
        "**Some comments on K-NN**\n",
        "\n",
        "1. There are many variants of the above expression. For instance, we can **weight differently the regression values according to the distance**. In this way, the closest points has a bigger influence in the regression value:\n",
        "\n",
        "\\begin{align}\n",
        "f(\\mathbf{x}^*) =\\frac{1}{K}\\sum_{k\\in \\mathcal{S}_{K}(\\mathbf{x}^*)}  \\frac{d(\\mathbf{x}^{(k)},\\mathbf{x}^*)}{\\sum_{q\\in \\mathcal{S}_{K}} d(\\mathbf{x}^{(q)},\\mathbf{x}^*) } y^{(k)}\n",
        "\\end{align}\n",
        "\n",
        "\n",
        "2. The K-NN complexity is determined by the [**search of the set of closest neighbors**](https://en.wikipedia.org/wiki/Nearest_neighbor_search). This complexity grows as $\\mathcal{O}(DN)$, where $D$ is the dimension and $N$ is the number of points. Researches in computer science have developed many approximate lower-complexity algorithms to perform this task in high dimension spaces. The most common ones are [**k-d trees**](https://en.wikipedia.org/wiki/K-d_tree) and [**Local Sensitive Hashing**](https://en.wikipedia.org/wiki/Locality-sensitive_hashing).\n"
      ]
    },
    {
      "cell_type": "markdown",
      "metadata": {
        "id": "G5WDIslnMB7Z",
        "colab_type": "text"
      },
      "source": [
        "## Model evaluation\n",
        "\n",
        "In regression problems, it is quit common using the Mean Square Error (MSE) as performance measurement of our model. In fact, we can consider the following two metrics to diagnose how well our model is performing:\n",
        "\n",
        "- **Training MSE**: Considering $f({\\bf x}^*)$ is the regressor output for the data ${\\bf x}^*$, the MSE over the training data is defined as:\n",
        "$$MSE_{train} = \\frac{1}{N} \\sum_{i=1}^{N} \\left(y^{(i)}-f({\\bf x}^{(i)})\\right)^2$$\n",
        "\n",
        "- **Test MSE**: evaluating the same measurement over the test data, we have that\n",
        "\\begin{align}\n",
        "MSE_{test} =  \\frac{1}{N_{test}}\\sum_{i=1}^{N_{test}} \\left(y^{(i)}-f({\\bf x}^{(i)})\\right)^2\n",
        "\\end{align}\n",
        "\n",
        "Note that we are interested in evaluating how well our data **generalizes to data we have never seen!** This is the real point of Machine Learning! Learn from data to adapt! To emulate this effect, we have a test-database **which is never used for model training!** and is only used to evaluate generalization. So, the test error informs about the generalization capability of our regressor.\n"
      ]
    },
    {
      "cell_type": "markdown",
      "metadata": {
        "id": "nMg9hJZFlmLd",
        "colab_type": "text"
      },
      "source": [
        "### Exercise 2 \n",
        "Implement your own K-NN regressor (with $K=5$) to predict the house sale-prize. Obtain the predictions over the test data set and evaluate the regression performance computing the MSE over the test data.\n",
        "\n",
        "You can use the function [euclidean_distances](https://scikit-learn.org/stable/modules/generated/sklearn.metrics.pairwise.euclidean_distances.html) to compute the euclidean distances of each test point to the training data. And the functions [np.sort](https://docs.scipy.org/doc/numpy/reference/generated/numpy.sort.html) and [np.argsort](https://docs.scipy.org/doc/numpy/reference/generated/numpy.argsort.html) to sort the distances values."
      ]
    },
    {
      "cell_type": "markdown",
      "metadata": {
        "id": "EItEZlu1qdaK",
        "colab_type": "text"
      },
      "source": [
        "#### SOLUTION"
      ]
    },
    {
      "cell_type": "code",
      "metadata": {
        "id": "19K5SWtXk7fI",
        "colab_type": "code",
        "outputId": "ef21d29c-5a57-467a-a707-bc9098c79359",
        "colab": {
          "base_uri": "https://localhost:8080/",
          "height": 121
        }
      },
      "source": [
        "# <SOL>\n",
        "from sklearn.metrics.pairwise import euclidean_distances\n",
        "\n",
        "# compute distance from each test data to all training data\n",
        "dist = euclidean_distances(X_test, X_train)\n",
        "\n",
        "# sort the distances (row-wise) in increasing order\n",
        "dist_sort = np.sort(dist, axis =1)\n",
        "\n",
        "# For each test data, select the labels of its 5 nearest neigbours\n",
        "K =5\n",
        "index_sort = np.argsort(dist, axis =1)\n",
        "labels_NN = Y_train[index_sort[:,:K]]\n",
        "\n",
        "# Make the test predictions\n",
        "f_test = np.mean(labels_NN, axis=1)\n",
        "\n",
        "# Print a sample of predicted and real values\n",
        "print('Predicted values')\n",
        "print(f_test[:5])\n",
        "\n",
        "print('Predicted values')\n",
        "print(Y_test[:5])\n",
        "\n",
        "# Compute MSE\n",
        "MSE_KNN = np.mean((Y_test-f_test)**2)\n",
        "print('The MSE is:')\n",
        "print(MSE_KNN)\n",
        "\n",
        "# </SOL>\n"
      ],
      "execution_count": 0,
      "outputs": [
        {
          "output_type": "stream",
          "text": [
            "Predicted values\n",
            "[22.5  20.32 22.44 13.   22.54]\n",
            "Predicted values\n",
            "[22.6 50.  23.   8.3 21.2]\n",
            "The MSE is:\n",
            "20.23293793103448\n"
          ],
          "name": "stdout"
        }
      ]
    },
    {
      "cell_type": "markdown",
      "metadata": {
        "id": "aKzg4gkkLHfv",
        "colab_type": "text"
      },
      "source": [
        "### Exercise 3\n",
        "Use the sklearn [K-NN regression](https://scikit-learn.org/stable/modules/generated/sklearn.neighbors.KNeighborsRegressor.html) function to train and obtain the test predictions and check that you obtain the same MSE. Of couse, set $K=5$."
      ]
    },
    {
      "cell_type": "markdown",
      "metadata": {
        "id": "UzkNugFm_AjK",
        "colab_type": "text"
      },
      "source": [
        "#### SOLUTION"
      ]
    },
    {
      "cell_type": "code",
      "metadata": {
        "id": "QCGBLDjTk7c6",
        "colab_type": "code",
        "outputId": "edace0c9-fc67-4b53-e426-4803fd944eb5",
        "colab": {
          "base_uri": "https://localhost:8080/",
          "height": 52
        }
      },
      "source": [
        "# <SOL>\n",
        "\n",
        "from sklearn.neighbors import KNeighborsRegressor\n",
        "\n",
        "neigh = KNeighborsRegressor(n_neighbors=K)\n",
        "neigh.fit(X_train, Y_train) \n",
        "f_test2=neigh.predict(X_test)\n",
        "MSE_KNN2 = np.mean((Y_test-f_test2)**2)\n",
        "\n",
        "print('The MSE is:')\n",
        "print(MSE_KNN2)\n",
        "\n",
        "# </SOL>"
      ],
      "execution_count": 0,
      "outputs": [
        {
          "output_type": "stream",
          "text": [
            "The MSE is:\n",
            "20.23293793103448\n"
          ],
          "name": "stdout"
        }
      ]
    },
    {
      "cell_type": "markdown",
      "metadata": {
        "id": "AEpQORM-7eh_",
        "colab_type": "text"
      },
      "source": [
        "## Analyzing prediction curve\n",
        "\n",
        "The K-NN model is learning a function to map from an observation to a predicted value (an estimation of the house sale-prize). In case, we are working with unidimensional observations, we can plot this prediction function. \n",
        "\n",
        "Next cell analizes the prediction function ${y^*}=f({\\bf x}^*)$ when we select a single input variable (feature 12: LSTAT, after the previous feature selection, this is feature #2). "
      ]
    },
    {
      "cell_type": "code",
      "metadata": {
        "id": "HJ1MSVlkrSZA",
        "colab_type": "code",
        "outputId": "02d865a4-4b54-4cca-bada-76b7777a5bf0",
        "colab": {
          "base_uri": "https://localhost:8080/",
          "height": 304
        }
      },
      "source": [
        "# Analize the regresion function\n",
        "\n",
        "# We select a single feature \n",
        "\n",
        "Id_feat = 2 #LSTAT\n",
        "\n",
        "# We train and evaluate the model with the unidimensional observation\n",
        "neigh.fit(X_train[:,Id_feat][:,np.newaxis], Y_train) \n",
        "f_test=neigh.predict(X_test[:,Id_feat][:,np.newaxis])\n",
        "MSE_KNN = np.mean((Y_test-f_test)**2)\n",
        "print('MSE using a single input feature:')\n",
        "print(MSE_KNN)\n",
        "\n",
        "# Plot the training data\n",
        "plt.figure()\n",
        "plt.plot(X_train[:,Id_feat][:,np.newaxis], Y_train, '.')\n",
        "# Plot the regression function\n",
        "## Define a range of equispaced values of x\n",
        "X_plot = np.arange (-2,4,0.01)\n",
        "## Obtain the output of the prediction funcion for these values\n",
        "f_plot=neigh.predict(X_plot[:,np.newaxis])\n",
        "## Plot them\n",
        "plt.plot(X_plot,f_plot, 'r')\n",
        "plt.show()"
      ],
      "execution_count": 0,
      "outputs": [
        {
          "output_type": "stream",
          "text": [
            "MSE using a single input feature:\n",
            "33.09466403940887\n"
          ],
          "name": "stdout"
        },
        {
          "output_type": "display_data",
          "data": {
            "image/png": "[encoded data removed]",
            "text/plain": [
              "<Figure size 432x288 with 1 Axes>"
            ]
          },
          "metadata": {
            "tags": []
          }
        }
      ]
    },
    {
      "cell_type": "markdown",
      "metadata": {
        "id": "CaDByUT_pn0A",
        "colab_type": "text"
      },
      "source": [
        "# Analyzing the influece of parameter K\n",
        "\n",
        "For now, we have prefixed a value for the K parameter ($K=5$) and we have analyzed the K-NN for this value. But, can another K value provide a different performance? \n"
      ]
    },
    {
      "cell_type": "markdown",
      "metadata": {
        "id": "bT0Qqyy7-gq7",
        "colab_type": "text"
      },
      "source": [
        "### Exercise 4\n",
        "\n",
        "Analyze the performance of the K-NN regressor for a range of values of K from 1 to 40. Analyze this performance over the train and test MSE."
      ]
    },
    {
      "cell_type": "markdown",
      "metadata": {
        "id": "LP_ntG-e_CvU",
        "colab_type": "text"
      },
      "source": [
        "#### SOLUTION"
      ]
    },
    {
      "cell_type": "code",
      "metadata": {
        "id": "ChyMlxGTk7ay",
        "colab_type": "code",
        "outputId": "27986e7c-cdff-4488-8db3-e75b67b6f682",
        "colab": {
          "base_uri": "https://localhost:8080/",
          "height": 269
        }
      },
      "source": [
        "# <SOL>\n",
        "MSE_K_train = []\n",
        "MSE_K_test = []\n",
        "K_values = range(1,40)\n",
        "for K in K_values:\n",
        "  neigh = KNeighborsRegressor(n_neighbors=K)\n",
        "  neigh.fit(X_train, Y_train) \n",
        "\n",
        "  f_train=neigh.predict(X_train)\n",
        "  MSE_K_train.append(np.mean((Y_train-f_train)**2))\n",
        "\n",
        "  f_test=neigh.predict(X_test)\n",
        "  MSE_K_test.append(np.mean((Y_test-f_test)**2))\n",
        "  \n",
        "  \n",
        "plt.figure()\n",
        "plt.plot(K_values,MSE_K_train)\n",
        "plt.plot(K_values,MSE_K_test,'r')\n",
        "plt.show()\n",
        "# </SOL>"
      ],
      "execution_count": 0,
      "outputs": [
        {
          "output_type": "display_data",
          "data": {
            "image/png": "[encoded data removed]",
            "text/plain": [
              "<Figure size 432x288 with 1 Axes>"
            ]
          },
          "metadata": {
            "tags": []
          }
        }
      ]
    },
    {
      "cell_type": "markdown",
      "metadata": {
        "id": "N6yY9bG_qmSm",
        "colab_type": "text"
      },
      "source": [
        "How can I select the optimum K value?\n",
        "Can I use the training MSE? \n"
      ]
    },
    {
      "cell_type": "markdown",
      "metadata": {
        "id": "kbJamNJwq3BZ",
        "colab_type": "text"
      },
      "source": [
        "# Parameter selection: Cross Validation\n",
        "\n",
        "In order to fit $K$, we will split the training set once more, to create the **validation set**:\n",
        "\n",
        "<img src=\"http://www.tsc.uc3m.es/~vanessa/Figs_notebooks/ML/Regression/validation_set.png\" width=\"70%\" > \n",
        "\n",
        "\n",
        "The validation set will be used to choose the best $K$ among the same model with different $K$ values, all trained using the training set. This process is known as **cross validation**.\n",
        "\n",
        "-----\n",
        "\n",
        "**Cross Validation Steps**:\n",
        "\n",
        "1) Select a ML model, for instance a K-NN regressor, and construct the normalized feature matrix for both the training, validation and test sets. \n",
        "\n",
        "2) Set a grid of $K$ values to test (i.e. $1, 2,3,4,5,6,7,8,....20$)\n",
        "\n",
        "3) Train the ML model for each $K$ value **using only the training set**. For each, $K$ value we get a model $f_{K}()$.\n",
        "\n",
        "4) Compute the validation MSE (or other performance measurement) for each model:\n",
        "\n",
        "$$MSE_{val}(K) = \\frac{1}{N_{val}} \\sum_{i=1}^{N_{val}} \\left(y^{(i)}-{f_K}({\\bf x}^{(i)})\\right)^2$$\n",
        "\n",
        "Recall, both the validation and test sets are normalized using the train set statistics.\n",
        "\n",
        "5) Select $K^*$ that minimizes the validation error \n",
        "\n",
        "6) Retrain the model for $K^*$ using **both the training and validation sets**. So, you get a new model $f_{K^*}()$\n",
        "\n",
        "7) Compute the final test MSE:\n",
        "\n",
        "$$MSE_{test}(K^*) = \\frac{1}{N_{test}} \\sum_{i=1}^{N_{test}} \\left(y^{(i)}-{f_{K^*}}({\\bf x}^{(i)})\\right)^2$$\n",
        "\n",
        "--- \n",
        "\n",
        "Unless the dataset is large enough (and so does the validation set), the robustnetss of the above procedure is improved by averaging the validation MSE (step 4) over multiple random partitions of the validation/training set (**Repeated random sub-sampling validation**) or splits the training set in K-folds and averages the results using one of the folds as validation set at a time (**K-fold cross validation**). See the [Wikipedia entry](https://en.wikipedia.org/wiki/Cross-validation) about CV for more details. \n",
        "\n"
      ]
    },
    {
      "cell_type": "markdown",
      "metadata": {
        "id": "83v1Gthe2gS3",
        "colab_type": "text"
      },
      "source": [
        "### Exercise 5.1\n",
        "\n",
        "Now, apply a 10 fold cross validation (CV) process to select the optimum value of K from a range of values from 1 to 40. You can use the [GridSearchCV( )](http://scikit-learn.org/stable/modules/generated/sklearn.grid_search.GridSearchCV.html) function to implement it. \n",
        "\n",
        "Note: Define the scoring parameter of GridSerch as 'neg_mean_squared_error' (to minimize the MSE during the CV)"
      ]
    },
    {
      "cell_type": "markdown",
      "metadata": {
        "id": "mmRw22Yb9ZdT",
        "colab_type": "text"
      },
      "source": [
        "#### SOLUTION"
      ]
    },
    {
      "cell_type": "code",
      "metadata": {
        "id": "vMhUUIHp9Xmf",
        "colab_type": "code",
        "outputId": "0543a611-a667-4070-cfd9-5feb49742993",
        "colab": {
          "base_uri": "https://localhost:8080/",
          "height": 34
        }
      },
      "source": [
        "# <SOL>\n",
        "\n",
        "from sklearn.neighbors import KNeighborsRegressor\n",
        "from sklearn.model_selection import GridSearchCV\n",
        "\n",
        "# Parameters\n",
        "K_max = 40\n",
        "rang_K = np.arange(1, K_max+1)\n",
        "nfold = 10\n",
        "# Define a dictionary with the name of the parameters to explore as a key and the ranges to explores as value\n",
        "tuned_parameters = [{'n_neighbors': rang_K}]\n",
        "\n",
        "# Cross validation proccess <FILL IN>\n",
        "clf_base = KNeighborsRegressor( )\n",
        "# Define the estimator with the CV process (use GridSearchCV here!!!)\n",
        "## Define the scoring parameter as 'neg_mean_squared_error' (to minimize the MSE during the CV)\n",
        "## Check sklearn.metrics.SCORERS.keys()\n",
        "clf = GridSearchCV(clf_base, tuned_parameters, cv=nfold, iid= False, scoring='neg_mean_squared_error')\n",
        "# Train it (this executes the CV)\n",
        "clf.fit(X_train, Y_train)\n",
        "\n",
        "print('CV process sucessfully finished')\n",
        "\n",
        "# </SOL>"
      ],
      "execution_count": 0,
      "outputs": [
        {
          "output_type": "stream",
          "text": [
            "CV process sucessfully finished\n"
          ],
          "name": "stdout"
        }
      ]
    },
    {
      "cell_type": "markdown",
      "metadata": {
        "id": "VRMpVjR_2rM1",
        "colab_type": "text"
      },
      "source": [
        "### Analyzing CV output\n",
        "After running the CV process, the estimator object contains the information of the CV process (next cell explore the parameter \".grid\\_scores\\_\" to obtain this information)."
      ]
    },
    {
      "cell_type": "code",
      "metadata": {
        "id": "9iXui8O0tsLK",
        "colab_type": "code",
        "outputId": "de9d3032-7eee-4637-a188-0e957d21b807",
        "colab": {
          "base_uri": "https://localhost:8080/",
          "height": 1000
        }
      },
      "source": [
        "# Printing results\n",
        "print(\"Cross validation results:\")\n",
        "\n",
        "paramsFolds = clf.cv_results_['params']\n",
        "meanScoreFolds = clf.cv_results_['mean_test_score']\n",
        "stdScoreFolds = clf.cv_results_['std_test_score']\n",
        "\n",
        "for i, K in enumerate(rang_K):\n",
        "    params = paramsFolds[i]\n",
        "    mean_score = meanScoreFolds[i]\n",
        "    std_score = stdScoreFolds[i]\n",
        "    print(\"For K = %d, validation neg-MSE is %2.2f (+/-%1.3f)%%\" \n",
        "          % (params['n_neighbors'], mean_score, std_score / 2))\n",
        "\n",
        "# Selecting validation error (mean values)\n",
        "vect_val=meanScoreFolds\n",
        "\n",
        "# Ploting results\n",
        "plt.figure()\n",
        "plt.plot(rang_K,vect_val,'g', label='Validation neg-MSE')\n",
        "plt.legend()\n",
        "plt.xlabel('K value')\n",
        "plt.ylabel('neg-MSE')\n",
        "plt.title('Evolution of K-NN neg-MSE (including validation result)')\n",
        "plt.show()"
      ],
      "execution_count": 0,
      "outputs": [
        {
          "output_type": "stream",
          "text": [
            "Cross validation results:\n",
            "For K = 1, validation accuracy is -3064.55 (+/-907.157)%\n",
            "For K = 2, validation accuracy is -2221.61 (+/-735.835)%\n",
            "For K = 3, validation accuracy is -1977.77 (+/-730.051)%\n",
            "For K = 4, validation accuracy is -1909.67 (+/-684.254)%\n",
            "For K = 5, validation accuracy is -1790.75 (+/-610.220)%\n",
            "For K = 6, validation accuracy is -1859.54 (+/-598.219)%\n",
            "For K = 7, validation accuracy is -1816.88 (+/-605.965)%\n",
            "For K = 8, validation accuracy is -1798.52 (+/-616.931)%\n",
            "For K = 9, validation accuracy is -1808.19 (+/-612.525)%\n",
            "For K = 10, validation accuracy is -1818.32 (+/-597.852)%\n",
            "For K = 11, validation accuracy is -1827.13 (+/-591.698)%\n",
            "For K = 12, validation accuracy is -1814.77 (+/-567.520)%\n",
            "For K = 13, validation accuracy is -1809.38 (+/-554.549)%\n",
            "For K = 14, validation accuracy is -1797.20 (+/-554.249)%\n",
            "For K = 15, validation accuracy is -1804.67 (+/-536.843)%\n",
            "For K = 16, validation accuracy is -1820.28 (+/-535.317)%\n",
            "For K = 17, validation accuracy is -1833.23 (+/-529.443)%\n",
            "For K = 18, validation accuracy is -1834.10 (+/-515.548)%\n",
            "For K = 19, validation accuracy is -1826.18 (+/-505.551)%\n",
            "For K = 20, validation accuracy is -1834.46 (+/-506.375)%\n",
            "For K = 21, validation accuracy is -1859.37 (+/-499.952)%\n",
            "For K = 22, validation accuracy is -1856.89 (+/-489.222)%\n",
            "For K = 23, validation accuracy is -1877.57 (+/-493.973)%\n",
            "For K = 24, validation accuracy is -1889.39 (+/-494.090)%\n",
            "For K = 25, validation accuracy is -1897.67 (+/-489.545)%\n",
            "For K = 26, validation accuracy is -1897.54 (+/-486.677)%\n",
            "For K = 27, validation accuracy is -1904.19 (+/-484.515)%\n",
            "For K = 28, validation accuracy is -1912.07 (+/-483.949)%\n",
            "For K = 29, validation accuracy is -1934.74 (+/-481.428)%\n",
            "For K = 30, validation accuracy is -1958.29 (+/-483.592)%\n",
            "For K = 31, validation accuracy is -1979.49 (+/-484.402)%\n",
            "For K = 32, validation accuracy is -1998.35 (+/-480.105)%\n",
            "For K = 33, validation accuracy is -2036.18 (+/-480.660)%\n",
            "For K = 34, validation accuracy is -2065.65 (+/-482.294)%\n",
            "For K = 35, validation accuracy is -2077.92 (+/-479.265)%\n",
            "For K = 36, validation accuracy is -2091.76 (+/-481.307)%\n",
            "For K = 37, validation accuracy is -2102.32 (+/-479.311)%\n",
            "For K = 38, validation accuracy is -2116.19 (+/-479.479)%\n",
            "For K = 39, validation accuracy is -2131.57 (+/-478.552)%\n",
            "For K = 40, validation accuracy is -2146.98 (+/-481.605)%\n"
          ],
          "name": "stdout"
        },
        {
          "output_type": "display_data",
          "data": {
            "image/png": "[encoded data removed]",
            "text/plain": [
              "<Figure size 432x288 with 1 Axes>"
            ]
          },
          "metadata": {
            "tags": []
          }
        }
      ]
    },
    {
      "cell_type": "markdown",
      "metadata": {
        "id": "t_35yn_B227F",
        "colab_type": "text"
      },
      "source": [
        "## Exercise 5.2\n",
        "\n",
        "Examine the fields \".best\\_estimator\\_\" and \".best\\_params\\_\" of the estimator generated by the CV process:\n",
        "* \".best\\_estimator\\_\" contains  the final estimator trained with this select value.\n",
        "* \".best\\_params\\_\" is a dictionary with the selected parameters. In our example, \"best\\_params\\_['n\\_neighbors']\" would provide the selected value of K.\n",
        "\n",
        "Save the selected value of K in variable denoted \"K_opt\" and compute the test error of the final estimator."
      ]
    },
    {
      "cell_type": "markdown",
      "metadata": {
        "id": "K81z8ni5UUDx",
        "colab_type": "text"
      },
      "source": [
        "### SOLUTION"
      ]
    },
    {
      "cell_type": "code",
      "metadata": {
        "id": "HbObZbomtsAv",
        "colab_type": "code",
        "outputId": "8db5e90c-35af-4f8f-9ad6-6154ef02c9ae",
        "colab": {
          "base_uri": "https://localhost:8080/",
          "height": 52
        }
      },
      "source": [
        "# <SOL>\n",
        "\n",
        "# Assign to K_opt the value of K selected by CV\n",
        "K_opt = clf.best_params_['n_neighbors']\n",
        "print(\"The value optimum of K is %d\" %(K_opt))\n",
        "\n",
        "# Select the final estimator  and compute its test MSE\n",
        "f_test = clf.best_estimator_.predict(X_test)\n",
        "MSE_test = np.mean((Y_test-f_test)**2) \n",
        "print(\"The test accuracy is %2.2f\" %(MSE_test ))\n",
        "\n",
        "# </SOL>"
      ],
      "execution_count": 0,
      "outputs": [
        {
          "output_type": "stream",
          "text": [
            "The value optimum of K is 5\n",
            "The test accuracy is 20.23\n"
          ],
          "name": "stdout"
        }
      ]
    },
    {
      "cell_type": "markdown",
      "metadata": {
        "id": "0-0nTSS22_x5",
        "colab_type": "text"
      },
      "source": [
        "Note that you can also compute the KNN output directly over the estimator object returned by the CV process:"
      ]
    },
    {
      "cell_type": "code",
      "metadata": {
        "id": "do1dv4oLtr1X",
        "colab_type": "code",
        "colab": {}
      },
      "source": [
        "f_test = clf.predict(X_test)\n",
        "MSE_test = np.mean((Y_test-f_test)**2) \n",
        "print(\"The test accuracy is %2.2f\" %(MSE_test ))"
      ],
      "execution_count": 0,
      "outputs": []
    },
    {
      "cell_type": "markdown",
      "metadata": {
        "id": "V_SmeuQK3HRv",
        "colab_type": "text"
      },
      "source": [
        "## Exercise 5.3  Advanced work\n",
        "\n",
        "Complete the following code to implement the CV process without using GridSearchCV().\n",
        "\n",
        "You can use the sklearn [Kfold](https://scikit-learn.org/stable/modules/generated/sklearn.model_selection.KFold.html#sklearn.model_selection.KFold) function to generate the different validation folds (some code lines are included to show how Kfold works).\n"
      ]
    },
    {
      "cell_type": "code",
      "metadata": {
        "id": "_pxuPp-ngO-n",
        "colab_type": "code",
        "colab": {}
      },
      "source": [
        "nfold = 5 # For example, we use 5-fold CV\n",
        "\n",
        "# Create data partitions \n",
        "skf = KFold(n_splits=nfold)\n",
        "\n",
        "# Use different partitions of the training data\n",
        "for f, (train, val) in enumerate(skf.split(X_train, Y_train)):\n",
        "    # f is an index with the number of fold\n",
        "    # train has the training data positions for fold f\n",
        "    # val has the validation data positions for fold f\n",
        "    \n",
        "    # Create training and validation partitions for fold f\n",
        "    X_tr_f = X_train[train, :]\n",
        "    Y_tr_f = Y_train[train]\n",
        "    X_val_f = X_train[val, :]\n",
        "    Y_val_f = Y_train[val]\n",
        "\n"
      ],
      "execution_count": 0,
      "outputs": []
    },
    {
      "cell_type": "markdown",
      "metadata": {
        "id": "Q1nZ932ZW8o4",
        "colab_type": "text"
      },
      "source": [
        "### SOLUTION"
      ]
    },
    {
      "cell_type": "code",
      "metadata": {
        "id": "vrXdbuWw3MOr",
        "colab_type": "code",
        "colab": {}
      },
      "source": [
        "# <SOL>\n",
        "from sklearn import neighbors\n",
        "from sklearn.model_selection import KFold\n",
        "\n",
        "# Parameters\n",
        "K_max = 40\n",
        "rang_K = np.arange(1, K_max+1)\n",
        "nfold = 5\n",
        "N_tr, N_dim = X_train.shape\n",
        "\n",
        "# Create data partitions (check the structure of folds)\n",
        "skf = KFold(n_splits=nfold)\n",
        "\n",
        "# Create variable (MSE_val) to save the validation results\n",
        "MSE_val = np.zeros([nfold, K_max])\n",
        "\n",
        "for f, (train, val) in enumerate(skf.split(X_train, Y_train)):\n",
        "    # f is an index with the number of fold\n",
        "    # train has the training data positions for fold f\n",
        "    # val has the validation data positions for fold f\n",
        "    \n",
        "    # Create training and validation partitions for fold f\n",
        "    X_tr_f = X_train[train, :]\n",
        "    Y_tr_f = Y_train[train]\n",
        "    X_val_f = X_train[val, :]\n",
        "    Y_val_f = Y_train[val]\n",
        "\n",
        "    # Explore the values of K\n",
        "    for K, n_neighbors in enumerate(rang_K):\n",
        "        # Train a K-NN with the training data of this fold data using n_neighbors\n",
        "        clf = neighbors.KNeighborsRegressor(n_neighbors)\n",
        "        clf.fit(X_tr_f, Y_tr_f)\n",
        "        # Evaluate its MSE over the validation data of this fold and save it into MSE_val\n",
        "        f_val_f =clf.predict(X_val_f)\n",
        "        MSE_val[f, K] = np.mean(((Y_val_f-f_val_f)**2))\n",
        "\n",
        "# Compute the average validation error (average over the different folds)\n",
        "MSE_val_med = np.mean(MSE_val, axis=0, dtype=np.float64)\n",
        "# Select the optimum value of K as the value which achieves the maximum average validation error\n",
        "K_opt = rang_K[np.argmin(MSE_val_med)]\n",
        "\n",
        "# Train the final K-NN estimator (with K_opt) and obtain its test error\n",
        "clf = neighbors.KNeighborsRegressor(K_opt)\n",
        "clf.fit(X_train, Y_train)\n",
        "f_test = clf.predict(X_test)\n",
        "MSE_test = np.mean((Y_test-f_test)**2) \n",
        "\n",
        "print(\"K_NN with optimum K = \" + str(K_opt) )\n",
        "print(\" MSE Test  = \" + str(MSE_test))\n",
        "\n",
        "# </SOL>"
      ],
      "execution_count": 0,
      "outputs": []
    },
    {
      "cell_type": "markdown",
      "metadata": {
        "id": "MiTUb8ub3YWq",
        "colab_type": "text"
      },
      "source": [
        "# Performance evaluation\n",
        "\n",
        "The last step of the ML pipeline is the performance evaluation. So far, we have used the MSE as performance measurement, but we can find other metrics. In fact, sklearn models include a wide variety of [metrics for regression problems](https://scikit-learn.org/stable/modules/model_evaluation.html#regression-metrics). The most frequent are:\n",
        "* Mean Square Error (MSE)\n",
        "$$MSE = \\frac{1}{N} \\sum_{i=1}^{N} \\left(y^{(i)}-f({\\bf x}^{(i)})\\right)^2$$\n",
        "\n",
        "* Mean Absolute Error (MAE)\n",
        "$$MAE = \\frac{1}{N} \\sum_{i=1}^{N} \\left|y^{(i)}-f({\\bf x}^{(i)})\\right|$$\n",
        "\n",
        "* R2-score (R2)\n",
        "$$R2 =  1- \\frac{ \\sum_{i=1}^{N} \\left(y^{(i)}-f({\\bf x}^{(i)})\\right)^2}{\\sum_{i=1}^{N} \\left(y^{(i)}-\\bar{y}\\right)^2}$$\n",
        "\n",
        "where $\\bar{y} = \\frac{1}{N} \\sum_{i=1}^{N} y^{(i)}$ (mean value of the targets).\n",
        "\n",
        "The R2 score is the default measurement used by sklearn regression methods. It has the advantage of being more interpretable, since the best possible score is 1.0, a constant model that always predicts the expected value of $y$ would get a score of 0.0, and models working even worse that this constant model can provide negative values. \n"
      ]
    },
    {
      "cell_type": "markdown",
      "metadata": {
        "id": "RiddH6vDycMA",
        "colab_type": "text"
      },
      "source": [
        "## Exercise 6\n",
        "\n",
        "Use the [regression metrics](https://scikit-learn.org/stable/modules/classes.html#regression-metrics) of sklearn to obtain the MSE, MAE and R2  scorings of the K-NN regressor. \n",
        "\n",
        "Note that you can also use the .score() method of the K-NN model to evaluate the regressor performance, but this method only returns the R2-score. "
      ]
    },
    {
      "cell_type": "code",
      "metadata": {
        "id": "8Bjhp4bEEmOj",
        "colab_type": "code",
        "colab": {}
      },
      "source": [
        "# <SOL>\n",
        "from sklearn import metrics\n",
        "\n",
        "# Retrain the KNN model and compute the test output\n",
        "## (this is not neeeded since it is already done in the previous cell)\n",
        "clf = neighbors.KNeighborsRegressor(K_opt)\n",
        "clf.fit(X_train, Y_train)\n",
        "f_test = clf.predict(X_test)\n",
        "\n",
        "# Compute the performance metrics\n",
        "MAE = metrics.mean_absolute_error(Y_test, f_test) \n",
        "MSE = metrics.mean_squared_error(Y_test, f_test) \n",
        "R2score = metrics.r2_score(Y_test, f_test) \n",
        "# </SOL>"
      ],
      "execution_count": 0,
      "outputs": []
    }
  ]
}