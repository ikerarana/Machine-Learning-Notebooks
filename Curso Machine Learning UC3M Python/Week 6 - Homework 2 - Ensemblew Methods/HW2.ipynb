{
  "nbformat": 4,
  "nbformat_minor": 0,
  "metadata": {
    "colab": {
      "name": "HW2.ipynb",
      "provenance": [],
      "collapsed_sections": []
    },
    "kernelspec": {
      "name": "python3",
      "display_name": "Python 3"
    }
  },
  "cells": [
    {
      "cell_type": "markdown",
      "metadata": {
        "id": "6eAsdbmD4uOX",
        "colab_type": "text"
      },
      "source": [
        "# Week 6: Homework 2 \n",
        "\n",
        "----------------------------------------------------\n",
        "Machine Learning                      \n",
        "\n",
        "Year 2019/2020\n",
        "\n",
        "*Vanessa Gómez Verdejo vanessa@tsc.uc3m.es* \n",
        "\n",
        "----------------------------------------------------"
      ]
    },
    {
      "cell_type": "markdown",
      "metadata": {
        "id": "xGWmrlvljmmv",
        "colab_type": "text"
      },
      "source": [
        "#1. Introduction to ensembles\n",
        "\n",
        "The goal of ensemble learning is to combine a set of base learners to build an improved prediction model. The key idea  behind ensembles lies in exploiting the diversity among the base learners; the way of generating this diversity let us classify these methods into two main types:\n",
        "\n",
        "* **Bagging**: the diversity  among classifiers is generated using different partitions of the training data.\n",
        "* **Boosting**: it sequentially train a set of weak classifiers using modified versions of the data.\n",
        "\n",
        "We have already seen a kind of these methods: *Random Forests (RF)*. Remember that RF train a set of trees, each tree use a different subset of samples and features, and later combine their outputs. So, we can say that RF is a Bagging method. \n"
      ]
    },
    {
      "cell_type": "markdown",
      "metadata": {
        "id": "QLCRyCKjH0r6",
        "colab_type": "text"
      },
      "source": [
        "# 2. Bagging: Boostrap Aggregating\n",
        "\n",
        "A bagging ensemble combines a set of classiffiers where each base learner is trained with a bagged subset of the training samples. This bagging subsampling consist in randomly, and with replacement,  choosing multiple random samples from the original training data. \n",
        "\n",
        "Once the set of base learners is trained, the final ensemble output is obtained by averaging all learner's outputs. In the classification case, usually a majority vote is applied.\n",
        "\n",
        "<img src=\"http://www.tsc.uc3m.es/~vanessa/Figs_notebooks/ML/Ensembles/Bagging.png\" width=\"48%\" > \n",
        "\n",
        "\n",
        "(*) Figure from https://medium.com/@rrfd/boosting-bagging-and-stacking-ensemble-methods-with-sklearn-and-mlens-a455c0c982de\n",
        "\n",
        "\n",
        "**References**\n",
        "\n",
        "L. Breiman, “Bagging predictors”, Machine Learning, 24(2), 123-140, 1996.\n"
      ]
    },
    {
      "cell_type": "markdown",
      "metadata": {
        "id": "blmHK6yPH3Wn",
        "colab_type": "text"
      },
      "source": [
        "\n",
        "\n",
        "# 3. Boosting: Real Adaboost\n",
        "\n",
        "Boosting methods train a sequence of weak classifiers with weighted or emphasized versions of the training data. Each one of these classifiers is weak since its error rate can be only slightly better than random guessing. Finally, to obtain the final ensemble output, the predictions from all of them are then combined through a weighted combination of all learners' outputs.\n",
        "\n",
        "\n",
        "The most popular boosting algorithm is called **AdaBoost** (Adaptive Boosting). This boosting method trains this sequence of weak classifiers in such way that each new classifier pay more attention to samples missclassified by the previous learners. Versions of this algorithm are:\n",
        "* AdaBoost.M1 or  “Discrete AdaBoost” where base learners outputs are discrete estimations of the output class.\n",
        "* “Real AdaBoost”, in this case, base classifier return a real-valued prediction (e.g., a probability mapped to the interval [−1,1]).\n",
        "\n",
        "Let's now go deeper in the working principles of the **Real AdaBoost** algorithm.\n",
        "\n",
        "**References**\n",
        "\n",
        "* Schapire, R.E. The strength of weak learnability. Machine Learning, 5(2): 1651-1686, 1990.\n",
        "\n",
        "* Freund, Y. and Schapire, R.E. Experiments with a new boosting algorithm. Proc. of the 13th International Conference on Machine Learning. pp. 148-156, 1996.\n"
      ]
    },
    {
      "cell_type": "markdown",
      "metadata": {
        "id": "y9xauQN8CSOp",
        "colab_type": "text"
      },
      "source": [
        "## Real Adaboost\n",
        "Consider we have a binary classification problem given by training dataset $S$ consisting  of $N$ pairs $(\\mathbf{x}^{(i)},y^{(i)})$, where $\\mathbf{x}^{(i)}\\in\\mathbb{R}^L$ is the $i$-th observation and $y^{(i)}\\in\\{-1,1\\}$  is its associated label.\n",
        "\n",
        "Real Adaboost (RA) sequentially trains a set of $T$ learners where each learner implements a prediction function $o_t(x) \\in [-1,1]$. To learn this prediction function each learner observes the overall training dataset $S$, but an emphasis function $D_t(\\mathbf{x})$ is used during its training to make the learner pay more attention to most erroneous samples.\n",
        "Finally, the ensemble output is obtained as an averaged weighted sum of all learner output:\n",
        "\n",
        "$$ f_T({\\bf x}) = \\displaystyle \\sum_{t=1}^T \\alpha_t o_t({\\bf x})$$\n",
        "\n",
        "<img src=\"http://www.tsc.uc3m.es/~vanessa/Figs_notebooks/ML/Ensembles/boosting.jpg\" width=\"30%\" > \n",
        "\n",
        "\n",
        "\n",
        "* **Emphasis function**:\n",
        "To force diversity among the base learners, by means of an emphasis function RA applies weights  to each of the training observations. Initially all weights are equal:\n",
        "$$ D_{1}({\\bf x}^{(i)}) = \\frac{1}{N}   $$\n",
        "\n",
        "  so that the first learner is trained in the usual manner. For next iterations,  $t = 2,3,\\ldots,T$, the emphasis function updated with the following rule:\n",
        "\n",
        "$$ D_{t+1}({\\bf x}^{(i)}) = \\frac{D_{t}({\\bf x}^{(i)}) \\exp \\left( - \\alpha_t o_t({\\bf x}^{(i)}) {y}^{(i)} \\right)}{Z_t}   $$\n",
        "\n",
        "  where $Z_t$ is a normalization constant making $\\sum_{i=1}^N D_{t+1}({\\bf x}^{(i)})  = 1$. Note that this update rule increase the emphasis weight for those observations that were misclassified by the previous classifiers, whereas the weights are decreased for those that were  correctly classified. Thus, as new learners are added to the ensemble, most erroneous samples will receive an increased attention.\n",
        "\n",
        "* **Output weights ($\\alpha_t$)**\n",
        "\n",
        "To obtain the output weights, RA minimizes the exponential loss function:\n",
        "$${\\bf \\alpha}^* =\\displaystyle \\underset{{\\bf \\alpha}}{\\operatorname{min}} \\sum_{i=1}^N \\exp \\left( - \\sum_{t=1}^T \\alpha_t o_t({\\bf x}^{(i)}) {y}^{(i)} \\right) = \\displaystyle \\underset{{\\bf \\alpha}}{\\operatorname{min}} \\sum_{i=1}^N \\exp \\left( - f_T({\\bf x}^{(i)}) {y}^{(i)} \\right)$$\n",
        "\n",
        "which solution can be analytically computed as\n",
        "\n",
        "$$\\alpha_t = \\frac{1}{2} \\ln \\left( \\frac{1+\\gamma_t}{1-\\gamma_t}\\right)$$\n",
        "\n",
        "where $\\gamma_t = \\sum_{i=1}^N   D_{t}({\\bf x}^{(i)}) o_t({\\bf x}^{(i)}) {y}^{(i)} $. The effect of these weights is to give higher influence to the more accurate classifiers in the ensemble. \n"
      ]
    },
    {
      "cell_type": "markdown",
      "metadata": {
        "id": "MiLPEEKbbCEW",
        "colab_type": "text"
      },
      "source": [
        "**Exponential loss**\n",
        "\n",
        "This cost function, quite similar to the binomial deviance, is un upper bound of the classification error.\n"
      ]
    },
    {
      "cell_type": "code",
      "metadata": {
        "id": "d6a-vbVEb_fr",
        "colab_type": "code",
        "colab": {}
      },
      "source": [
        "%matplotlib inline\n",
        "import numpy as np\n",
        "import matplotlib.pyplot as plt"
      ],
      "execution_count": 0,
      "outputs": []
    },
    {
      "cell_type": "code",
      "metadata": {
        "id": "DPzqAQDVjoiZ",
        "colab_type": "code",
        "outputId": "fb5bfcb1-dc86-4f4b-8bf9-02d77bdc6376",
        "colab": {
          "base_uri": "https://localhost:8080/",
          "height": 279
        }
      },
      "source": [
        "# Plot the exponential loss function (un upper bound of the classfication error)\n",
        "f = np.arange(-2,2,0.01)\n",
        "y = 1\n",
        "\n",
        "l_alpha = np.exp(-y*f)\n",
        "plt.figure()\n",
        "plt.plot(y*f,l_alpha, label='Exponential loss')\n",
        "\n",
        "\n",
        "# Compare with binomial deviance\n",
        "l_w = np.log(1+ np.exp(f))-y*f\n",
        "plt.plot(y*f,l_w, label='Binomial deviance')\n",
        "\n",
        "# Classification error\n",
        "e_class = np.zeros(f.shape)\n",
        "e_class[y*f<0] =1\n",
        "plt.plot(y*f,e_class, label='Classification error')\n",
        "\n",
        "plt.legend()\n",
        "plt.xlabel('y*f')\n",
        "plt.ylabel('Loss function')\n",
        "\n",
        "plt.show()"
      ],
      "execution_count": 117,
      "outputs": [
        {
          "output_type": "display_data",
          "data": {
            "image/png": "[encoded data removed]",
            "text/plain": [
              "<Figure size 432x288 with 1 Axes>"
            ]
          },
          "metadata": {
            "tags": []
          }
        }
      ]
    },
    {
      "cell_type": "markdown",
      "metadata": {
        "id": "lgDm0Z5bcazI",
        "colab_type": "text"
      },
      "source": [
        "# 4. Let's work\n",
        "\n",
        "The aim of this second HW is to implement and analyse the performance of these enseble methods. To do this, we will work with the Breast Cancer database (described in the next section) and you will have to complete the following exercises."
      ]
    },
    {
      "cell_type": "markdown",
      "metadata": {
        "id": "CpjaOvF7Ldhq",
        "colab_type": "text"
      },
      "source": [
        "### Exercise 1. Load and prepare the data\n",
        "\n",
        "For this lab session, let's work over the  [Breast cancer data set](https://scikit-learn.org/stable/modules/generated/sklearn.datasets.load_breast_cancer.html) a binary classification problem aimed to detect breast cancer from a  digitized image of breast mass. For this prupose, the images have been preprocesed and characterized with 30 input features describing the mass.\n",
        "\n",
        "Complete next cell code, so that you can:\n",
        "* Load the dataset\n",
        "* Create training and testing partitions with the 60% and 40% of the original data\n",
        "* Normalize the data to zero mean and unitary standard deviation "
      ]
    },
    {
      "cell_type": "markdown",
      "metadata": {
        "id": "xih7-6ia7-_H",
        "colab_type": "text"
      },
      "source": [
        "## CARGA Y NORMALIZACION DE DATOS"
      ]
    },
    {
      "cell_type": "code",
      "metadata": {
        "id": "7Mz8tfb9jr6x",
        "colab_type": "code",
        "outputId": "f325d9f3-9b6a-4e18-9c53-d43af48baae0",
        "colab": {
          "base_uri": "https://localhost:8080/",
          "height": 1000
        }
      },
      "source": [
        "# <SOL>\n",
        "\n",
        "import numpy as np\n",
        "from sklearn.datasets import load_breast_cancer\n",
        "\n",
        "from sklearn.model_selection import train_test_split\n",
        "from sklearn.preprocessing import StandardScaler\n",
        "from sklearn import preprocessing\n",
        "%matplotlib inline\n",
        "\n",
        "# Initialize the random generator seed to compare results\n",
        " # si los resultados estan ordenados, como en el caso del irish dataset, los desordenamos usando una semilla aleatoria, para que el modelo entrene con todas las\n",
        "# diferentes caracteristicas posibles\n",
        "np.random.seed(0)\n",
        "\n",
        "\n",
        "# Cargamos los datos\n",
        "cancer = load_breast_cancer()\n",
        "\n",
        "X_train, X_test, Y_train, Y_test = train_test_split(cancer.data,cancer.target,test_size=0.4)\n",
        "X = cancer.data\n",
        "Y = cancer.target\n",
        "\n",
        "\n",
        "# Normalize the data\n",
        "scaler = StandardScaler()\n",
        "X_train = scaler.fit_transform(X_train)\n",
        "X_test = scaler.transform(X_test)\n",
        "print(f\"\\n Transformador de datos con media 0 y varianza 1: \\n{scaler}\")\n",
        "\n",
        "#X_train = preprocessing.scale(X_train)\n",
        "print(f\"\\n Datos normalizados media: \\n {X_train.mean(axis=0)}\")\n",
        "print(f\"\\n Datos normalizados varianza: \\n {X_train.std(axis=0)}\")\n",
        "\n",
        "#X_test=X_test.preprocessing.scale(X_train)\n",
        "\n",
        "print(f\"\\nVariables de salida \\n{cancer.target_names}\")\n",
        "print(f\"\\nLista de caracteristicas del dataset \\n{cancer.feature_names}\")\n",
        "print(f\"\\nTamaño del conjunto de datos \\n{cancer.data.shape,cancer.target.shape}\")\n",
        "print(f\"\\nTamaño del conjunto de datos de entrenamiento \\n{X_train.shape,Y_train.shape}\")\n",
        "print(f\"\\nTamaño del conjunto de datos de test \\n{X_test.shape,Y_test.shape}\")\n",
        "print(f\"\\nDatos de entrenamiento normalizados \\n{X_train}\")\n",
        "print(f\"\\nDatos de test normalizados \\n{X_test}\")\n",
        "\n",
        "\n",
        "# </SOL>"
      ],
      "execution_count": 118,
      "outputs": [
        {
          "output_type": "stream",
          "text": [
            "\n",
            " Transformador de datos con media 0 y varianza 1: \n",
            "StandardScaler(copy=True, with_mean=True, with_std=True)\n",
            "\n",
            " Datos normalizados media: \n",
            " [ 2.33439856e-16  2.10323775e-16 -1.57352137e-15 -3.77345597e-16\n",
            " -8.63922814e-16  9.36893118e-16 -2.67137241e-16  2.03486625e-18\n",
            " -2.88918449e-15  4.79235420e-15 -2.47114157e-16  9.01201564e-16\n",
            " -1.10631608e-15 -6.72645387e-16  3.20206553e-16 -2.10323775e-16\n",
            "  3.65299189e-16 -5.56902195e-16 -1.60152113e-15  8.23062700e-16\n",
            " -1.58068410e-15 -1.75161287e-16 -1.07766516e-16  1.05096772e-15\n",
            "  3.82400205e-15  4.13159243e-16 -6.33250376e-17  1.77961263e-15\n",
            " -8.84922634e-16 -9.62003367e-16]\n",
            "\n",
            " Datos normalizados varianza: \n",
            " [1. 1. 1. 1. 1. 1. 1. 1. 1. 1. 1. 1. 1. 1. 1. 1. 1. 1. 1. 1. 1. 1. 1. 1.\n",
            " 1. 1. 1. 1. 1. 1.]\n",
            "\n",
            "Variables de salida \n",
            "['malignant' 'benign']\n",
            "\n",
            "Lista de caracteristicas del dataset \n",
            "['mean radius' 'mean texture' 'mean perimeter' 'mean area'\n",
            " 'mean smoothness' 'mean compactness' 'mean concavity'\n",
            " 'mean concave points' 'mean symmetry' 'mean fractal dimension'\n",
            " 'radius error' 'texture error' 'perimeter error' 'area error'\n",
            " 'smoothness error' 'compactness error' 'concavity error'\n",
            " 'concave points error' 'symmetry error' 'fractal dimension error'\n",
            " 'worst radius' 'worst texture' 'worst perimeter' 'worst area'\n",
            " 'worst smoothness' 'worst compactness' 'worst concavity'\n",
            " 'worst concave points' 'worst symmetry' 'worst fractal dimension']\n",
            "\n",
            "Tamaño del conjunto de datos \n",
            "((569, 30), (569,))\n",
            "\n",
            "Tamaño del conjunto de datos de entrenamiento \n",
            "((341, 30), (341,))\n",
            "\n",
            "Tamaño del conjunto de datos de test \n",
            "((228, 30), (228,))\n",
            "\n",
            "Datos de entrenamiento normalizados \n",
            "[[-0.84952106  2.37711987 -0.89596908 ... -1.79184446 -2.03197496\n",
            "  -1.36800648]\n",
            " [ 1.56737211  0.66649792  1.52471723 ...  1.88619234 -0.18519113\n",
            "  -0.42361718]\n",
            " [ 0.58208813 -0.86168928  0.49246772 ...  0.29822921 -0.90423841\n",
            "  -0.63624284]\n",
            " ...\n",
            " [-1.34468942 -0.24093727 -1.33865316 ... -1.01372713 -0.66762883\n",
            "  -0.13588219]\n",
            " [-1.26496844 -0.26463009 -1.30152482 ... -1.79184446 -1.5049809\n",
            "  -1.00681899]\n",
            " [-0.76250168  1.0882302  -0.73888763 ... -0.30507356 -1.19308646\n",
            "   0.19327338]]\n",
            "\n",
            "Datos de test normalizados \n",
            "[[-0.23196415  0.28030488 -0.16278632 ...  1.3671394   1.07006877\n",
            "   1.49553653]\n",
            " [-0.28529861  1.40097549 -0.34802003 ... -0.8669445  -0.68299309\n",
            "  -0.88034814]\n",
            " [-0.05792539 -0.87116641 -0.12402596 ... -0.52640265 -1.15621224\n",
            "  -0.92342555]\n",
            " ...\n",
            " [-0.60811245 -1.56299689 -0.64423076 ... -0.70984243 -0.57544328\n",
            "  -0.26732351]\n",
            " [-0.65583276  0.43430824 -0.66259093 ... -0.51916364  0.2864916\n",
            "  -0.56941763]\n",
            " [ 0.53436783 -0.3451857   0.58630858 ...  1.07911894  2.12252045\n",
            "   2.18035685]]\n"
          ],
          "name": "stdout"
        }
      ]
    },
    {
      "cell_type": "markdown",
      "metadata": {
        "id": "WppwIxX68EbY",
        "colab_type": "text"
      },
      "source": [
        "### VISUALIZACION DE DATOS"
      ]
    },
    {
      "cell_type": "code",
      "metadata": {
        "id": "GcEt6I5B79Rn",
        "colab_type": "code",
        "outputId": "23a32b3d-d41f-4a0f-cd9a-ce225df38872",
        "colab": {
          "base_uri": "https://localhost:8080/",
          "height": 1000
        }
      },
      "source": [
        "import matplotlib.pyplot as plt\n",
        "import numpy as np\n",
        "\n",
        "# cargamos los nombres de las caracteristicas\n",
        "feature_names = cancer.feature_names\n",
        "names = cancer[\"feature_names\"]\n",
        "\n",
        "# pintamos el numero de evidencias que hay en los datos\n",
        "\n",
        "D = X.shape[1] # cogemos la segunda posicion de la dimension de la matriz 442\n",
        "\n",
        "plt.figure( figsize=(20,30))\n",
        "\n",
        "for d in range (D):\n",
        "  plt.subplot(6,5,d+1)\n",
        "  plt.plot(cancer.data [:,d],cancer.target,'.',)\n",
        "  plt.title(feature_names[d])"
      ],
      "execution_count": 119,
      "outputs": [
        {
          "output_type": "display_data",
          "data": {
            "image/png": "[encoded data removed]",
            "text/plain": [
              "<Figure size 1440x2160 with 30 Axes>"
            ]
          },
          "metadata": {
            "tags": []
          }
        }
      ]
    },
    {
      "cell_type": "markdown",
      "metadata": {
        "id": "2szGWImcK10A",
        "colab_type": "text"
      },
      "source": [
        "### Exercise 2. Bagging methods\n"
      ]
    },
    {
      "cell_type": "markdown",
      "metadata": {
        "id": "JaGO7gugMxJK",
        "colab_type": "text"
      },
      "source": [
        "### Exercise 2.1\n",
        "Complete the following code to desing a function able to train and test a bagged ensemble of $T$ decision trees where each tree have to use a subset of *nperc* of the total number of training samples. Adjust the decision tree parameters so that the maximum depth is fixed to 2 (weak learner).\n"
      ]
    },
    {
      "cell_type": "code",
      "metadata": {
        "id": "AFdoX1ZyLhRC",
        "colab_type": "code",
        "colab": {}
      },
      "source": [
        "import matplotlib.pyplot as plt\n",
        "from sklearn import tree\n",
        "from sklearn.metrics import accuracy_score\n",
        "from scipy import stats\n",
        "from sklearn.tree import DecisionTreeClassifier\n",
        "from sklearn.ensemble import RandomForestClassifier\n",
        "from sklearn.ensemble import BaggingClassifier\n",
        "from sklearn import datasets\n",
        "from sklearn.model_selection import train_test_split\n",
        "from numpy import array\n",
        "from sklearn.metrics import classification_report, confusion_matrix\n",
        "\n"
      ],
      "execution_count": 0,
      "outputs": []
    },
    {
      "cell_type": "code",
      "metadata": {
        "id": "1VW2XVy5Guqp",
        "colab_type": "code",
        "colab": {}
      },
      "source": [
        "\"\"\"\n",
        "Funcion para ver cual es el voto por mayoria\n",
        "\"\"\"\n",
        "def prediccionesYMayoria(Y_pred):\n",
        "  \"\"\"\n",
        "  Y_pred: lista que en cada posicion contiene un vector con las predicciones de cada clasificador\n",
        "\n",
        "  \"\"\"\n",
        "  Y_prediccion_mayoria = []\n",
        "  numeroPredicciones=Y_pred[1].shape\n",
        "\n",
        "  \n",
        "  for i in range(numeroPredicciones[0]):\n",
        "    prediccionUno=0\n",
        "    prediccionCero=0\n",
        "\n",
        "    for pos in range(len(Y_pred)):\n",
        "     \n",
        "      #cogemos las predicciones del clasificador\n",
        "      Y_pred_aux=Y_pred[pos]\n",
        "\n",
        "      if Y_pred_aux[i]==0:\n",
        "        prediccionUno=prediccionUno+1\n",
        "      elif Y_pred_aux[i]==1:\n",
        "        prediccionCero=prediccionCero+1\n",
        "      else:\n",
        "        print(\"Prediccion erronea\")\n",
        "    if prediccionCero>prediccionUno:\n",
        "      Y_prediccion_mayoria.append(0)\n",
        "    else:\n",
        "      Y_prediccion_mayoria.append(1)\n",
        "\n",
        "  Y_prediccion_mayoria = array(Y_prediccion_mayoria)\n",
        "\n",
        "  return Y_prediccion_mayoria"
      ],
      "execution_count": 0,
      "outputs": []
    },
    {
      "cell_type": "code",
      "metadata": {
        "id": "iOewK-s1jr4E",
        "colab_type": "code",
        "colab": {}
      },
      "source": [
        "\n",
        "\"\"\"\n",
        "Funcion que crea un numero de clasificadores T y entrena cada uno de ellos con\n",
        "un subconjunto de datos nperc\n",
        "\"\"\"\n",
        "def BaggEnsemble(X_train, Y_train, X_test, Y_test, T, nperc):\n",
        "  '''\n",
        "  Train and evaluate a bagged ensemble of decission trees\n",
        "\n",
        "    Args:\n",
        "        X_train(numpy dnarray): training (number training data x number dimensions). \n",
        "        Y_train (numpy dnarray): labels of the training data (number training data x 1).\n",
        "        X_test(numpy dnarray): test data to evaluate the ensemble performance (number test data x number dimensions).\n",
        "        Y_test (numpy dnarray): labels of the test data (number test data x 1).\n",
        "        T: number of learners in the ensemble  \n",
        "        nperc: subsampling rate for the bagging process. Value from 0 (none sample is used) to 1 (all samples are used)                                       \n",
        "   Returns:\n",
        "        acc_tree_train (numpy dnarray): accuracy over the training data for different number of learners. \n",
        "                It's a vector length T, where the t-th element is the ensemble accuracy when only t trees are used.\n",
        "        acc_tree_test (numpy dnarray): accuracy over the test data for different number of learners. \n",
        "                It's a vector length T, where the t-th element is the ensemble accuracy when only t trees are used.\n",
        "        Y_pred_train (numpy dnarray): predicted outputs over the training data. It's a matrix of dimensions T x number of training samples, \n",
        "          where the t-th row has the predicted outputs when t trees are used.\n",
        "        Y_pred_test (numpy dnarray): predicted outputs over the test data. It's a matrix of dimensions T x number of test samples, \n",
        "          where the t-th row has the predicted outputs when t trees are used.\n",
        "\n",
        "  '''\n",
        "  # inicializacion variables\n",
        "  acc_tree_train = []\n",
        "  acc_tree_test = []\n",
        "  Y_pred_train_tree = []\n",
        "  Y_pred_test_tree = []\n",
        "  confusion_matrix_train = []\n",
        "  confusion_matrix_test = []\n",
        "  classification_report_train = []\n",
        "  classification_report_test = []\n",
        "\n",
        "  # particion de los datos\n",
        "  nperc=1-nperc\n",
        "  max_depth=2\n",
        "  \n",
        "  # iteramos clasificadores\n",
        "  for i in range(1,T+1):\n",
        "\n",
        "    X_train_split, X_test_split, Y_train_split, Y_test_split = train_test_split(X_train,Y_train,test_size=nperc)\n",
        "\n",
        "    clf = tree.DecisionTreeClassifier(max_depth=max_depth)\n",
        "    clf = clf.fit(X_train_split, Y_train_split)\n",
        "    y_pred_class = clf.predict(X_test)\n",
        "    y_pred_class_train = clf.predict(X_train)\n",
        "\n",
        "    # salida de cada arbol/clasificador para los datos de train  \n",
        "    Y_pred_train_tree.append(clf.predict(X_train))\n",
        "\n",
        "    # salida de cada arbol/clasificador para los datos de test  \n",
        "    Y_pred_test_tree.append(clf.predict(X_test))\n",
        "\n",
        "    #confusion_matrix_train.append(confusion_matrix(Y_train, y_pred_class_train))\n",
        "    #confusion_matrix_test.append(confusion_matrix(Y_test, y_pred_class))\n",
        "    #classification_report_train.append(classification_report(Y_train, y_pred_class_train))\n",
        "    #classification_report_test.append(classification_report(Y_test, y_pred_class))\n",
        "\n",
        "  # calculamos el voto por mayoria para ambos conjuntos de datos\n",
        "  Y_test_voto_mayoria = prediccionesYMayoria(Y_pred_test_tree)\n",
        "  Y_train_voto_mayoria = prediccionesYMayoria(Y_pred_train_tree)\n",
        "\n",
        "  # estas accuracy las calculamos en funcion al voto que ha dado la mayoria  \n",
        "  acc_tree_test.append(accuracy_score(Y_test_voto_mayoria, Y_test))\n",
        "  acc_tree_train.append(accuracy_score(Y_train_voto_mayoria, Y_train))\n",
        "\n",
        "  return acc_tree_train, acc_tree_test, Y_pred_test_tree, Y_pred_train_tree\n",
        "  #return acc_tree_train, acc_tree_test, Y_pred_test_tree, Y_pred_train_tree, \n",
        "  #confusion_matrix_train, confusion_matrix_test, classification_report_train, classification_report_test "
      ],
      "execution_count": 0,
      "outputs": []
    },
    {
      "cell_type": "markdown",
      "metadata": {
        "id": "i0TL6ZABd9ES",
        "colab_type": "text"
      },
      "source": [
        "### Exercise 2.2\n",
        "\n",
        "Train an ensemble of 40 trees with a subsamplig rate of 50% (T=40 and nperc = 0.5)."
      ]
    },
    {
      "cell_type": "code",
      "metadata": {
        "id": "z_x-TDOgjr1R",
        "colab_type": "code",
        "outputId": "f04d084f-e26d-4ef7-d4f6-478ed44d22fd",
        "colab": {
          "base_uri": "https://localhost:8080/",
          "height": 121
        }
      },
      "source": [
        "# <SOL>\n",
        "\n",
        "# inicilizamos variables\n",
        "T=40\n",
        "nperc=0.5\n",
        "\n",
        "# llamada a la funcion\n",
        "#acc_tree_train, acc_tree_test, Y_pred_test_tree, Y_pred_train_tree, confusion_matrix_train, confusion_matrix_test, classification_report_train, classification_report_test = BaggEnsemble(X_train, Y_train, X_test, Y_test, T, nperc)\n",
        "acc_tree_train, acc_tree_test, Y_pred_train_tree, Y_pred_test_tree = BaggEnsemble(X_train, Y_train, X_test, Y_test, T, nperc)\n",
        "print(f\"\\n Precission del clasificador con datos de entrenamiento: \\n{acc_tree_train}\")\n",
        "print(f\"\\n Precission del clasificador con datos de test: \\n{acc_tree_test}\")\n",
        "\n",
        "# </SOL>"
      ],
      "execution_count": 155,
      "outputs": [
        {
          "output_type": "stream",
          "text": [
            "\n",
            " Precission del clasificador con datos de entrenamiento: \n",
            "[0.04105571847507331]\n",
            "\n",
            " Precission del clasificador con datos de test: \n",
            "[0.07456140350877193]\n"
          ],
          "name": "stdout"
        }
      ]
    },
    {
      "cell_type": "markdown",
      "metadata": {
        "id": "Dsjf6ZcWaHNB",
        "colab_type": "text"
      },
      "source": [
        "### **Resultados**\n",
        "\n",
        "\n",
        "Como se puede observar, debido a algun error en el codigo que no se puede observar, la precision del clasificador es muy baja:\n",
        "\n",
        "\n",
        "*   Datos de entrenamiento: $0.03225806451612903$ \n",
        "*   Datos de test: $0.07017543859649122$\n",
        "\n",
        "\n"
      ]
    },
    {
      "cell_type": "markdown",
      "metadata": {
        "id": "8qHKAOerp18u",
        "colab_type": "text"
      },
      "source": [
        "### Exercise 2.3\n",
        "\n",
        "Analyze the **diversity** among the base learner' outputs for different *nperc* rates. You can analyze this diversity by measuring the correlation among the learner's soft-outputs. Firstly, obtain the matrix with all pairwaise correlation values (over the training learners' outputs) and, then, compute the ensemble diversity as one minus the averaged value of all pairwise correlation values. Finally, analyze the results.\n",
        "\n",
        "Some useful functions: [np.corrcoef](https://docs.scipy.org/doc/numpy/reference/generated/numpy.corrcoef.html)\n",
        "\n",
        "Note: You can find other ensemble diversity measurements in https://lucykuncheva.co.uk/papers/lkml.pdf"
      ]
    },
    {
      "cell_type": "code",
      "metadata": {
        "id": "wmM7a2qukkMw",
        "colab_type": "code",
        "colab": {}
      },
      "source": [
        "# convertimos las listas en matrices\n",
        "import numpy as np\n",
        "\n",
        "def convertirListaMatriz(Y_pred_train_tree): \n",
        "  dim=Y_pred_train_tree[0].shape\n",
        "\n",
        "  # matriz 40 x 228\n",
        "  Y_pred_train_tree_matrix = np.zeros(shape=(len(Y_pred_train_tree),dim[0]))\n",
        "\n",
        "  for i,prediccionActual in enumerate(Y_pred_train_tree):\n",
        "\n",
        "    # guardo el array\n",
        "    prediccionActual=array(prediccionActual)\n",
        "\n",
        "    for i2,valorPrediccion in enumerate(prediccionActual):\n",
        "\n",
        "      # guardo el valor de la prediccion actual\n",
        "      Y_pred_train_tree_matrix[i,i2] = valorPrediccion\n",
        "\n",
        "\n",
        "  return Y_pred_train_tree_matrix"
      ],
      "execution_count": 0,
      "outputs": []
    },
    {
      "cell_type": "code",
      "metadata": {
        "id": "2GabCBZFjrwD",
        "colab_type": "code",
        "outputId": "8293c841-d81d-4777-f3cb-bf505dc75dcc",
        "colab": {
          "base_uri": "https://localhost:8080/",
          "height": 726
        }
      },
      "source": [
        "# <SOL>\n",
        "\n",
        "import pandas as pd\n",
        "\n",
        "\n",
        "# convertimos a matriz\n",
        "Y_pred_train_tree_matrix = convertirListaMatriz(Y_pred_train_tree)\n",
        "Y_pred_test_tree_matrix = convertirListaMatriz(Y_pred_test_tree)\n",
        "\n",
        "# calculamos coeficientes\n",
        "coeficientesCorrelacionTrain = np.corrcoef(Y_pred_train_tree_matrix)\n",
        "coeficientesCorrelacionTest = np.corrcoef(Y_pred_test_tree_matrix)\n",
        "\n",
        "triangularSuperiorTrain = np.triu(coeficientesCorrelacionTrain)\n",
        "triangularSuperiorTest = np.triu(coeficientesCorrelacionTest)\n",
        "\n",
        "\n",
        "print(f\"\\n Matriz triangular superior con los coeficientes de correlacion de Pearson para los datos de entrenamiento: \\n{triangularSuperiorTrain}\")\n",
        "print(f\"\\n Matriz triangular superior con los coeficientes de correlacion de Pearson para los datos de test: \\n{triangularSuperiorTest}\")\n",
        "\n",
        "print(f\"\\n Coeficientes de correlacion de la primera fila\\n {coeficientesCorrelacionTest[0,:]}\")\n",
        "\n",
        "df = pd.DataFrame(data=Y_pred_test_tree_matrix) \n",
        "\n",
        "plt.matshow(df.corr())\n",
        "plt.xticks(range(len(df.columns)), df.columns)\n",
        "plt.yticks(range(len(df.columns)), df.columns)\n",
        "plt.colorbar()\n",
        "plt.show()\n",
        "\n"
      ],
      "execution_count": 182,
      "outputs": [
        {
          "output_type": "stream",
          "text": [
            "\n",
            " Matriz triangular superior con los coeficientes de correlacion de Pearson para los datos de entrenamiento: \n",
            "[[1.         0.84106036 0.85958744 ... 0.81214717 0.75544971 0.87895969]\n",
            " [0.         1.         0.88325461 ... 0.95285406 0.85188669 0.81363418]\n",
            " [0.         0.         1.         ... 0.83716094 0.81419568 0.83210993]\n",
            " ...\n",
            " [0.         0.         0.         ... 1.         0.80784559 0.80355801]\n",
            " [0.         0.         0.         ... 0.         1.         0.74749552]\n",
            " [0.         0.         0.         ... 0.         0.         1.        ]]\n",
            "\n",
            " Matriz triangular superior con los coeficientes de correlacion de Pearson para los datos de test: \n",
            "[[1.         0.89141701 0.86858698 ... 0.8665728  0.73641954 0.90290155]\n",
            " [0.         1.         0.88774386 ... 0.96288884 0.80097153 0.865044  ]\n",
            " [0.         0.         1.         ... 0.8510645  0.78236202 0.89073667]\n",
            " ...\n",
            " [0.         0.         0.         ... 1.         0.80307305 0.85275574]\n",
            " [0.         0.         0.         ... 0.         1.         0.75659885]\n",
            " [0.         0.         0.         ... 0.         0.         1.        ]]\n",
            "\n",
            " Coeficientes de correlacion de la primera fila\n",
            " [1.         0.89141701 0.86858698 0.90576386 0.88861851 0.88097927\n",
            " 0.87520478 0.86475872 0.84837648 0.81901782 0.89839682 0.88188151\n",
            " 0.874398   0.91596463 0.83974534 0.86370022 0.81257777 0.90369082\n",
            " 0.89076693 0.94561073 0.90369082 0.88508816 0.79373678 0.90423548\n",
            " 0.89839682 0.87961324 0.85472954 0.92238347 0.84548668 0.86812992\n",
            " 0.90291213 0.89105003 0.82404588 0.85123075 0.86858698 0.84776058\n",
            " 0.82684549 0.8665728  0.73641954 0.90290155]\n"
          ],
          "name": "stdout"
        },
        {
          "output_type": "display_data",
          "data": {
            "image/png": "[encoded data removed]",
            "text/plain": [
              "<Figure size 288x288 with 2 Axes>"
            ]
          },
          "metadata": {
            "tags": []
          }
        }
      ]
    },
    {
      "cell_type": "markdown",
      "metadata": {
        "id": "TQYK5e8lcznG",
        "colab_type": "text"
      },
      "source": [
        " Como podemos observar en la celda superior la matriz de correlacion nos da unos indices de correlacion altos para todas las caracteristicas. La siguiente fila es un ejemplo de ello:\n",
        " \n",
        " $[1,         0.89141701, 0.86858698, 0.90576386, 0.88861851 0.88097927,\n",
        " ,0.87520478 ,0.86475872 ,0.84837648 ,0.81901782, 0.89839682, 0.88188151,\n",
        " 0.874398,   0.91596463, 0.83974534, 0.86370022, 0.81257777, 0.90369082,\n",
        " 0.89076693, 0.94561073, 0.90369082, 0.88508816, 0.79373678, 0.90423548,\n",
        " 0.89839682, 0.87961324, 0.85472954, 0.92238347, 0.84548668, 0.86812992,\n",
        " 0.90291213, 0.89105003, 0.82404588, 0.85123075, 0.86858698, 0.84776058,\n",
        " 0.82684549, 0.8665728,  0.73641954, 0.90290155,]$\n",
        "\n",
        " Los indices de correlacion positiva se mantiene en todas las filas\n",
        "\n"
      ]
    },
    {
      "cell_type": "markdown",
      "metadata": {
        "id": "ILkeQIyk1sm3",
        "colab_type": "text"
      },
      "source": [
        "### Exercise 2.4\n",
        "\n",
        "Compare the performace of the bagged ensemble trained in Exercise 2.1 with that of a Random Forest with the same number of learners, and using trees with a maximum depth of 2. Which differences are between both methods? \n",
        "\n",
        "Analyze the feature importances provided by the method RandomForestClassifier().\n"
      ]
    },
    {
      "cell_type": "code",
      "metadata": {
        "id": "I6KrlfF82coF",
        "colab_type": "code",
        "colab": {}
      },
      "source": [
        "from sklearn.ensemble import RandomForestClassifier\n",
        "\"\"\"\n",
        "Funcion que crea un numero de clasificadores T y entrena cada uno de ellos con\n",
        "un subconjunto de datos nperc\n",
        "\"\"\"\n",
        "def BaggEnsembleRandomForest(X_train, Y_train, X_test, Y_test, T, nperc):\n",
        "  '''\n",
        "  Train and evaluate a bagged ensemble of decission trees\n",
        "\n",
        "    Args:\n",
        "        X_train(numpy dnarray): training (number training data x number dimensions). \n",
        "        Y_train (numpy dnarray): labels of the training data (number training data x 1).\n",
        "        X_test(numpy dnarray): test data to evaluate the ensemble performance (number test data x number dimensions).\n",
        "        Y_test (numpy dnarray): labels of the test data (number test data x 1).\n",
        "        T: number of learners in the ensemble  \n",
        "        nperc: subsampling rate for the bagging process. Value from 0 (none sample is used) to 1 (all samples are used)                                       \n",
        "   Returns:\n",
        "        acc_tree_train (numpy dnarray): accuracy over the training data for different number of learners. \n",
        "                It's a vector length T, where the t-th element is the ensemble accuracy when only t trees are used.\n",
        "        acc_tree_test (numpy dnarray): accuracy over the test data for different number of learners. \n",
        "                It's a vector length T, where the t-th element is the ensemble accuracy when only t trees are used.\n",
        "        Y_pred_train (numpy dnarray): predicted outputs over the training data. It's a matrix of dimensions T x number of training samples, \n",
        "          where the t-th row has the predicted outputs when t trees are used.\n",
        "        Y_pred_test (numpy dnarray): predicted outputs over the test data. It's a matrix of dimensions T x number of test samples, \n",
        "          where the t-th row has the predicted outputs when t trees are used.\n",
        "\n",
        "  '''\n",
        "  # inicializacion variables\n",
        "  acc_tree_train = []\n",
        "  acc_tree_test = []\n",
        "  Y_pred_train_tree = []\n",
        "  Y_pred_test_tree = []\n",
        "  featureImportance = []\n",
        "\n",
        "  # particion de los datos\n",
        "  nperc=1-nperc\n",
        "  max_depth=2\n",
        "  \n",
        "  # iteramos clasificadores\n",
        "  for i in range(1,T+1):\n",
        "\n",
        "    X_train_split, X_test_split, Y_train_split, Y_test_split = train_test_split(X_train,Y_train,test_size=nperc)\n",
        "\n",
        "    clf = RandomForestClassifier(n_estimators=100, max_depth=max_depth, random_state=0)\n",
        "    clf = clf.fit(X_train_split, Y_train_split)\n",
        "    y_pred_class = clf.predict(X_test)\n",
        "\n",
        "    # salida de cada arbol/clasificador para los datos de train  \n",
        "    Y_pred_train_tree.append(clf.predict(X_train))\n",
        "\n",
        "    # salida de cada arbol/clasificador para los datos de test  \n",
        "    Y_pred_test_tree.append(clf.predict(X_test))\n",
        "\n",
        "    #print(f\"\\n Caracteristicas para el clasificador {i} ordenadas por importancia en funcion de su puntuacion:\")\n",
        "    feat = sorted(zip(map(lambda x: round(x, 4), clf.feature_importances_), names), reverse=True)\n",
        "    featureImportance.append(feat)\n",
        "  #featureImportance = clf.featureImportance\n",
        "  # calculamos el voto por mayoria para ambos conjuntos de datos\n",
        "  Y_test_voto_mayoria = prediccionesYMayoria(Y_pred_test_tree)\n",
        "  Y_train_voto_mayoria = prediccionesYMayoria(Y_pred_train_tree)\n",
        "\n",
        "  # estas accuracy las calculamos en funcion al voto que ha dado la mayoria  \n",
        "  acc_tree_test.append(accuracy_score(Y_test_voto_mayoria, Y_test))\n",
        "  acc_tree_train.append(accuracy_score(Y_train_voto_mayoria, Y_train))\n",
        "\n",
        "  return acc_tree_train, acc_tree_test, Y_pred_test_tree, Y_pred_train_tree, featureImportance"
      ],
      "execution_count": 0,
      "outputs": []
    },
    {
      "cell_type": "code",
      "metadata": {
        "id": "k5AQphHj5gW3",
        "colab_type": "code",
        "colab": {
          "base_uri": "https://localhost:8080/",
          "height": 225
        },
        "outputId": "d356f2c4-7cfc-4880-93f6-573e5e90da99"
      },
      "source": [
        "# <SOL>\n",
        "\n",
        "# inicilizamos variables\n",
        "T=40\n",
        "nperc=0.5\n",
        "\n",
        "# llamada a la funcion\n",
        "acc_tree_train, acc_tree_test, Y_pred_train_tree, Y_pred_test_tree = BaggEnsemble(X_train, Y_train, X_test, Y_test, T, nperc)\n",
        "print(f\"\\n Precission del clasificador Decision Tree con datos de entrenamiento: \\n{acc_tree_train}\")\n",
        "print(f\"\\n Precission del clasificador Decision Tree con datos de test: \\n{acc_tree_test}\")\n",
        "\n",
        "# llamada a la funcion\n",
        "acc_tree_trainRF, acc_tree_testRF, Y_pred_train_treeRF, Y_pred_test_treeRF, featureImportance = BaggEnsembleRandomForest(X_train, Y_train, X_test, Y_test, T, nperc)\n",
        "print(f\"\\n Precission del clasificador Random Forest con datos de entrenamiento: \\n{acc_tree_trainRF}\")\n",
        "print(f\"\\n Precission del clasificador Random Forest con datos de test: \\n{acc_tree_testRF}\")\n",
        "\n",
        "\n",
        "# </SOL>"
      ],
      "execution_count": 127,
      "outputs": [
        {
          "output_type": "stream",
          "text": [
            "\n",
            " Precission del clasificador Decision Tree con datos de entrenamiento: \n",
            "[0.03812316715542522]\n",
            "\n",
            " Precission del clasificador Decision Tree con datos de test: \n",
            "[0.07456140350877193]\n",
            "\n",
            " Precission del clasificador Random Forest con datos de entrenamiento: \n",
            "[0.03812316715542522]\n",
            "\n",
            " Precission del clasificador Random Forest con datos de test: \n",
            "[0.07017543859649122]\n"
          ],
          "name": "stdout"
        }
      ]
    },
    {
      "cell_type": "markdown",
      "metadata": {
        "id": "1_A24oSlBosp",
        "colab_type": "text"
      },
      "source": [
        "### **Precision**\n",
        "Debido a la salida de los clasificadores, entiendo que he cometido algun error en el codigo, visto el valor tan bajo de la precision.\n",
        "\n",
        "No obstante, el clasificador $Random$ $Forest$ es el que mejor precision tiene de ambos. El meta clasificiador basado en el metodo de **Bagging** basa su precision en el voto de un numero de clasificadores $T$. El caso del Random Forest es una modificación sustancial de bagging que construye una larga colección de árboles no correlados y luego los promedia.\n",
        "\n",
        "\n",
        "Por definicion, un algoritmo de Random forest es esencialmente una coleccion de arboles de decisio. Generalmente los Arboles de decision se contruyen usando todo el dataset mientras que el random forest, selecciona unos samples y caracteristicas especificas para crear el clasificador, basado en multiples arboles de decision y promediar los resultados. Es decir, el RF en se puede definir como un algoritmo de Bagging, ya que cuando un numero $T$ de arboles es construido, cada arbol vota o elige la clase de salida, y la clase con mas votos es la clase ganadora o clase de salida. Aunque hay diferencias mas especificas en esencia ese es el concepto de ambos.\n",
        "\n",
        "Por tanto, haciendo un algoritmo de bagging con un clasificador Random Forest, lo que estamos haciendo es un meta clasificador de clasifciadores.\n"
      ]
    },
    {
      "cell_type": "code",
      "metadata": {
        "id": "RxNvv-DGAWsD",
        "colab_type": "code",
        "colab": {}
      },
      "source": [
        "def contarAparicionesCaracteristica(featureList,feature):\n",
        "  count = featureList.count(feature)\n",
        "  return (feature,count)"
      ],
      "execution_count": 0,
      "outputs": []
    },
    {
      "cell_type": "code",
      "metadata": {
        "id": "qOv7Rrjg4eeF",
        "colab_type": "code",
        "colab": {}
      },
      "source": [
        "feat_ = []\n",
        "featureList = []\n",
        "for feat in featureImportance:\n",
        "  featureTuple = feat[0]\n",
        "  featureList.append(featureTuple[1])\n",
        "  feat_.append(featureTuple[1])\n",
        "#print(featureList)\n",
        "#print(featureList.count('worst perimeter'))\n"
      ],
      "execution_count": 0,
      "outputs": []
    },
    {
      "cell_type": "code",
      "metadata": {
        "id": "CkTCgsU7AaPV",
        "colab_type": "code",
        "colab": {
          "base_uri": "https://localhost:8080/",
          "height": 104
        },
        "outputId": "b10a385c-3363-4507-d143-3781ee9283e9"
      },
      "source": [
        "features = list(set(feat_))\n",
        "print(features)\n",
        "\n",
        "for f in features:\n",
        "  count = contarAparicionesCaracteristica(featureList,f)\n",
        "  print(count)"
      ],
      "execution_count": 130,
      "outputs": [
        {
          "output_type": "stream",
          "text": [
            "['worst perimeter', 'mean concave points', 'worst concave points', 'mean concavity']\n",
            "('worst perimeter', 23)\n",
            "('mean concave points', 5)\n",
            "('worst concave points', 10)\n",
            "('mean concavity', 2)\n"
          ],
          "name": "stdout"
        }
      ]
    },
    {
      "cell_type": "markdown",
      "metadata": {
        "id": "i47-2wXa4P5Y",
        "colab_type": "text"
      },
      "source": [
        "### **Importancia de las caracteristicas**.\n",
        "\n",
        "Como se puede observar en la celda superior en orden de aparicion segun los diferentes clasificadores:\n",
        "\n",
        "1.   $worst$ $perimeter$: 22 veces\n",
        "2.   $mean$  $ worst$  $ concave$  $ points$ : 8 veces\n",
        "3.  $concave$ $points$: 8 veces\n",
        "4. $mean$ $concavity$: 2 veces\n",
        "\n",
        "Con lo que se deduce que la caracterisitca mas importante es el $worst$ $perimeter$\n",
        "\n"
      ]
    },
    {
      "cell_type": "markdown",
      "metadata": {
        "id": "WQtVXIQyOAEP",
        "colab_type": "text"
      },
      "source": [
        "### Exercise 3.Boosting methods"
      ]
    },
    {
      "cell_type": "markdown",
      "metadata": {
        "id": "_uE7XRoCt1Np",
        "colab_type": "text"
      },
      "source": [
        "### Exercise 3.1\n",
        "\n",
        "Complete the following cell code to desing a funtion able to train a boosting ensemble of $T$ decision trees. Again, fix the maximum depth of the tree to 2.\n",
        "\n"
      ]
    },
    {
      "cell_type": "code",
      "metadata": {
        "id": "BpjHqOeluE6I",
        "colab_type": "code",
        "colab": {}
      },
      "source": [
        "def RAEnsemble(X_train, Y_train, X_test, Y_test, T):\n",
        "  '''\n",
        "  Train and evaluate a bagged ensemble of decission trees\n",
        "\n",
        "    Args:\n",
        "        X_train(numpy dnarray): training (number training data x number dimensions). \n",
        "        Y_train (numpy dnarray): labels of the training data (number training data x 1).\n",
        "        X_test(numpy dnarray): test data to evaluate the ensemble performance (number test data x number dimensions).\n",
        "        Y_test (numpy dnarray): labels of the test data (number test data x 1).\n",
        "        T: number of learners in the ensemble                                        \n",
        "   Returns:\n",
        "        acc_tree_train (numpy dnarray): accuracy over the training data for different number of learners. \n",
        "                It's a vector length T, where the t-th element is the ensemble accuracy when only t trees are used.\n",
        "        acc_tree_test (numpy dnarray): accuracy over the test data for different number of learners. \n",
        "                It's a vector length T, where the t-th element is the ensemble accuracy when only t trees are used.\n",
        "        Y_pred_train (numpy dnarray): predicted outputs over the training data. It's a matrix of dimensions T x number of training samples, \n",
        "          where the t-th row has the predicted outputs when t trees are used.\n",
        "        Y_pred_test (numpy dnarray): predicted outputs over the test data. It's a matrix of dimensions T x number of test samples, \n",
        "          where the t-th row has the predicted outputs when t trees are used.\n",
        "        alpha (numpy dnarray): weight vector of length T with the ouput weights assigned to combine the learner's outputs.\n",
        "        Dt_all (numpy dnarray): emphasis function used to train each learner. It's a matrix of dimensions T x number of training samples, \n",
        "          where the t-th row has the emphasis function used by the t-th learner.\n",
        "\n",
        "  '''\n",
        "  \n",
        "  # <SOL>\n",
        "  # </SOL>\n",
        "  return Y_pred_train, Y_pred_test, acc_tree_train, acc_tree_test,  alpha, Dt_all"
      ],
      "execution_count": 0,
      "outputs": []
    },
    {
      "cell_type": "markdown",
      "metadata": {
        "id": "YDWzOfnquFfV",
        "colab_type": "text"
      },
      "source": [
        "### Exercise 3.2\n",
        "\n",
        "Train a Real Adaboost ensemble of 40 trees and analyze the accuracy results over train and test data. Discuss the results. \n",
        "\n",
        "Remember that RA learners' output have to provide outputs between $[-1,1]$, so convert the data labels to values $-1$ and $1$ to make this work."
      ]
    },
    {
      "cell_type": "code",
      "metadata": {
        "id": "QqBEwjdAlsm9",
        "colab_type": "code",
        "colab": {}
      },
      "source": [
        "from numpy import *\n",
        "\n",
        "# inicializar variables\n",
        "alpha_ = []\n",
        "D_=[]\n",
        "errorRate_=[]\n",
        "\n",
        "# Building weak stump function\n",
        "def buildWeakStump(d,l,D):\n",
        "    dataMatrix = mat(d)\n",
        "    labelmatrix = mat(l).T\n",
        "    m,n = shape(dataMatrix)\n",
        "    numstep = 10.0\n",
        "    bestStump = {}\n",
        "    bestClass = mat(zeros((5,1)))\n",
        "    minErr = inf\n",
        "    for i in range(n):\n",
        "        datamin = dataMatrix[:,i].min()\n",
        "        datamax = dataMatrix[:,i].max()\n",
        "        stepSize = (datamax - datamin) / numstep\n",
        "        for j in range(-1,int(numstep)+1):\n",
        "            for inequal in ['lt','gt']:\n",
        "                threshold = datamin + float(j) * stepSize\n",
        "                predict = stumpClassify(dataMatrix,i,threshold,inequal)\n",
        "                err = mat(ones((m,1)))\n",
        "                err[predict == labelmatrix] = 0\n",
        "                weighted_err = D.T * err;\n",
        "                if weighted_err < minErr:\n",
        "                    minErr = weighted_err\n",
        "                    bestClass = predict.copy()\n",
        "                    bestStump['dim'] = i\n",
        "                    bestStump['threshold'] = threshold\n",
        "                    bestStump['ineq'] = inequal\n",
        "    return bestStump, minErr, bestClass\n",
        "\n",
        "# Use the weak stump to classify training data\n",
        "def stumpClassify(datamat,dim,threshold,inequal):\n",
        "    res = ones((shape(datamat)[0],1))\n",
        "    if inequal == 'lt':\n",
        "        res[datamat[:,dim] <= threshold] = -1.0\n",
        "    else:\n",
        "        res[datamat[:,dim] > threshold] = -1.0\n",
        "    return res\n",
        "\n",
        "# Training\n",
        "def train(data,label,numIt = 1000):\n",
        "    weakClassifiers = []\n",
        "    m = shape(data)[0]\n",
        "    D = mat(ones((m,1))/m)\n",
        "    EnsembleClassEstimate = mat(zeros((m,1)))\n",
        "    for i in range(numIt):\n",
        "        bestStump, error, classEstimate = buildWeakStump(data,label,D)\n",
        "        alpha = float(0.5*log((1.0-error) / (error+1e-15)))\n",
        "        alpha_.append(alpha)\n",
        "        bestStump['alpha'] = alpha\n",
        "        weakClassifiers.append(bestStump)\n",
        "        weightD = multiply((-1*alpha*mat(label)).T,classEstimate)\n",
        "        D = multiply(D,exp(weightD))\n",
        "        D = D/D.sum()\n",
        "        D_.append(D)\n",
        "        EnsembleClassEstimate += classEstimate*alpha\n",
        "        EnsembleErrors = multiply(sign(EnsembleClassEstimate)!=mat(label).T,\\\n",
        "                                  ones((m,1)))  #Converte to float\n",
        "        errorRate = EnsembleErrors.sum()/m\n",
        "        errorRate_.append(errorRate)\n",
        "\n",
        "        print(f\"total error {i}:  {errorRate}\")\n",
        "        if errorRate == 0.0:\n",
        "            break\n",
        "    return weakClassifiers\n",
        "\n",
        "# Applying adaboost classifier for a single data sample\n",
        "def adaboostClassify(dataTest,classifier):\n",
        "    dataMatrix = mat(dataTest)\n",
        "    m = shape(dataMatrix)[0]\n",
        "    EnsembleClassEstimate = mat(zeros((m,1)))\n",
        "    for i in range(len(classifier)):\n",
        "        classEstimate = stumpClassify(dataMatrix,classifier[i]['dim'],classifier[i]['threshold'],classifier[i]['ineq'])\n",
        "        EnsembleClassEstimate += classifier[i]['alpha']*classEstimate\n",
        "        #print EnsembleClassEstimate\n",
        "    return sign(EnsembleClassEstimate)\n",
        "\n",
        "# Testing\n",
        "def test(dataSet,classifier):\n",
        "    label = []\n",
        "    print('\\n\\n\\nResults: ')\n",
        "    for i in range(shape(dataSet)[0]):\n",
        "        label.append(adaboostClassify(dataSet[i,:],classifier))\n",
        "        print('%s' %(label[0]))\n",
        "    return label\n",
        "\n"
      ],
      "execution_count": 0,
      "outputs": []
    },
    {
      "cell_type": "code",
      "metadata": {
        "id": "qP-U2g0dqm2G",
        "colab_type": "code",
        "outputId": "a3842776-065a-4940-93da-412602116dd9",
        "colab": {
          "base_uri": "https://localhost:8080/",
          "height": 711
        }
      },
      "source": [
        "# creamos y entrenamoes el clasificador\n",
        "classifier = train(X_test,Y_test,40)"
      ],
      "execution_count": 133,
      "outputs": [
        {
          "output_type": "stream",
          "text": [
            "total error 0:  0.36403508771929827\n",
            "total error 1:  0.36403508771929827\n",
            "total error 2:  0.36403508771929827\n",
            "total error 3:  0.36403508771929827\n",
            "total error 4:  0.36403508771929827\n",
            "total error 5:  0.36403508771929827\n",
            "total error 6:  0.36403508771929827\n",
            "total error 7:  0.36403508771929827\n",
            "total error 8:  0.36403508771929827\n",
            "total error 9:  0.36403508771929827\n",
            "total error 10:  0.36403508771929827\n",
            "total error 11:  0.36403508771929827\n",
            "total error 12:  0.36403508771929827\n",
            "total error 13:  0.36403508771929827\n",
            "total error 14:  0.36403508771929827\n",
            "total error 15:  0.36403508771929827\n",
            "total error 16:  0.36403508771929827\n",
            "total error 17:  0.36403508771929827\n",
            "total error 18:  0.36403508771929827\n",
            "total error 19:  0.36403508771929827\n",
            "total error 20:  0.36403508771929827\n",
            "total error 21:  0.36403508771929827\n",
            "total error 22:  0.36403508771929827\n",
            "total error 23:  0.36403508771929827\n",
            "total error 24:  0.36403508771929827\n",
            "total error 25:  0.36403508771929827\n",
            "total error 26:  0.36403508771929827\n",
            "total error 27:  0.36403508771929827\n",
            "total error 28:  0.36403508771929827\n",
            "total error 29:  0.36403508771929827\n",
            "total error 30:  0.36403508771929827\n",
            "total error 31:  0.36403508771929827\n",
            "total error 32:  0.36403508771929827\n",
            "total error 33:  0.36403508771929827\n",
            "total error 34:  0.36403508771929827\n",
            "total error 35:  0.36403508771929827\n",
            "total error 36:  0.36403508771929827\n",
            "total error 37:  0.36403508771929827\n",
            "total error 38:  0.36403508771929827\n",
            "total error 39:  0.36403508771929827\n"
          ],
          "name": "stdout"
        }
      ]
    },
    {
      "cell_type": "code",
      "metadata": {
        "id": "H9z_0S8q9vwO",
        "colab_type": "code",
        "outputId": "40385361-216f-4e2c-8d11-11d9aafe0430",
        "colab": {
          "base_uri": "https://localhost:8080/",
          "height": 357
        }
      },
      "source": [
        "# testeamos\n",
        "test(Y_test,classifier)"
      ],
      "execution_count": 183,
      "outputs": [
        {
          "output_type": "stream",
          "text": [
            "\n",
            "\n",
            "\n",
            "Results: \n"
          ],
          "name": "stdout"
        },
        {
          "output_type": "error",
          "ename": "IndexError",
          "evalue": "ignored",
          "traceback": [
            "\u001b[0;31m---------------------------------------------------------------------------\u001b[0m",
            "\u001b[0;31mIndexError\u001b[0m                                Traceback (most recent call last)",
            "\u001b[0;32m<ipython-input-183-4e2cf6063d77>\u001b[0m in \u001b[0;36m<module>\u001b[0;34m()\u001b[0m\n\u001b[0;32m----> 1\u001b[0;31m \u001b[0mtest\u001b[0m\u001b[0;34m(\u001b[0m\u001b[0mY_test\u001b[0m\u001b[0;34m,\u001b[0m\u001b[0mclassifier\u001b[0m\u001b[0;34m)\u001b[0m\u001b[0;34m\u001b[0m\u001b[0;34m\u001b[0m\u001b[0m\n\u001b[0m",
            "\u001b[0;32m<ipython-input-132-3370b12a9d7e>\u001b[0m in \u001b[0;36mtest\u001b[0;34m(dataSet, classifier)\u001b[0m\n\u001b[1;32m     85\u001b[0m     \u001b[0mprint\u001b[0m\u001b[0;34m(\u001b[0m\u001b[0;34m'\\n\\n\\nResults: '\u001b[0m\u001b[0;34m)\u001b[0m\u001b[0;34m\u001b[0m\u001b[0;34m\u001b[0m\u001b[0m\n\u001b[1;32m     86\u001b[0m     \u001b[0;32mfor\u001b[0m \u001b[0mi\u001b[0m \u001b[0;32min\u001b[0m \u001b[0mrange\u001b[0m\u001b[0;34m(\u001b[0m\u001b[0mshape\u001b[0m\u001b[0;34m(\u001b[0m\u001b[0mdataSet\u001b[0m\u001b[0;34m)\u001b[0m\u001b[0;34m[\u001b[0m\u001b[0;36m0\u001b[0m\u001b[0;34m]\u001b[0m\u001b[0;34m)\u001b[0m\u001b[0;34m:\u001b[0m\u001b[0;34m\u001b[0m\u001b[0;34m\u001b[0m\u001b[0m\n\u001b[0;32m---> 87\u001b[0;31m         \u001b[0mlabel\u001b[0m\u001b[0;34m.\u001b[0m\u001b[0mappend\u001b[0m\u001b[0;34m(\u001b[0m\u001b[0madaboostClassify\u001b[0m\u001b[0;34m(\u001b[0m\u001b[0mdataSet\u001b[0m\u001b[0;34m[\u001b[0m\u001b[0mi\u001b[0m\u001b[0;34m,\u001b[0m\u001b[0;34m:\u001b[0m\u001b[0;34m]\u001b[0m\u001b[0;34m,\u001b[0m\u001b[0mclassifier\u001b[0m\u001b[0;34m)\u001b[0m\u001b[0;34m)\u001b[0m\u001b[0;34m\u001b[0m\u001b[0;34m\u001b[0m\u001b[0m\n\u001b[0m\u001b[1;32m     88\u001b[0m         \u001b[0mprint\u001b[0m\u001b[0;34m(\u001b[0m\u001b[0;34m'%s'\u001b[0m \u001b[0;34m%\u001b[0m\u001b[0;34m(\u001b[0m\u001b[0mlabel\u001b[0m\u001b[0;34m[\u001b[0m\u001b[0;36m0\u001b[0m\u001b[0;34m]\u001b[0m\u001b[0;34m)\u001b[0m\u001b[0;34m)\u001b[0m\u001b[0;34m\u001b[0m\u001b[0;34m\u001b[0m\u001b[0m\n\u001b[1;32m     89\u001b[0m     \u001b[0;32mreturn\u001b[0m \u001b[0mlabel\u001b[0m\u001b[0;34m\u001b[0m\u001b[0;34m\u001b[0m\u001b[0m\n",
            "\u001b[0;31mIndexError\u001b[0m: too many indices for array"
          ]
        }
      ]
    },
    {
      "cell_type": "markdown",
      "metadata": {
        "id": "zkI1jEzuLGqC",
        "colab_type": "text"
      },
      "source": [
        "Debido a errores en el codigo, se implementa de forma alternativa el mismo algoritmo usando la libreria de SK-Learn, para comparar.\n"
      ]
    },
    {
      "cell_type": "code",
      "metadata": {
        "id": "iQpUFxQ5LGAn",
        "colab_type": "code",
        "colab": {
          "base_uri": "https://localhost:8080/",
          "height": 191
        },
        "outputId": "f1c97df8-d0a6-4606-bdcd-e0dcd4c3212a"
      },
      "source": [
        "# <SOL>\n",
        " # AdaBoost usando Scikit Learn\n",
        "from sklearn.ensemble import AdaBoostClassifier\n",
        "from sklearn.model_selection import train_test_split\n",
        "from sklearn import metrics\n",
        "from sklearn.model_selection import cross_val_score\n",
        "\n",
        "# Creamos ADABoost, por defecto usa DecisionTrees\n",
        "abc = AdaBoostClassifier(n_estimators=40,\n",
        "                         learning_rate=1)\n",
        "# Train Adaboost Classifer\n",
        "model = abc.fit(X_train, Y_train)\n",
        "\n",
        "#Predict the response for test dataset\n",
        "y_pred = model.predict(X_test)\n",
        "\n",
        "print(f\"\\n Precision AdaBoost 40 trees: \\n {metrics.accuracy_score(Y_test, y_pred)*100}\")\n",
        "\n",
        "clf = DecisionTreeClassifier(random_state=0)\n",
        "# Train Decision Tree Classifer\n",
        "clf = clf.fit(X_train,Y_train)\n",
        "#Predict the response for test dataset\n",
        "y_pred = clf.predict(X_test)\n",
        "# Model Accuracy, how often is the classifier correct?\n",
        "print(f\"\\n Precisison arbol de decision : \\n {metrics.accuracy_score(Y_test, y_pred)}\")\n",
        "\n",
        "print(f\"\\n Resultados para cross validation: \\n{cross_val_score(clf, X, Y, cv=10)}\")\n",
        " # </SOL>"
      ],
      "execution_count": 191,
      "outputs": [
        {
          "output_type": "stream",
          "text": [
            "\n",
            "Precision AdaBoost 40 trees: \n",
            " 97.36842105263158\n",
            "\n",
            " Precisison arbol de decision : \n",
            " 0.8947368421052632\n",
            "\n",
            " Resultados para cross validation: \n",
            "[0.9137931  0.93103448 0.92982456 0.9122807  0.94736842 0.94736842\n",
            " 0.92982456 0.92857143 0.89285714 1.        ]\n"
          ],
          "name": "stdout"
        }
      ]
    },
    {
      "cell_type": "markdown",
      "metadata": {
        "id": "Cy3Cet1WLYNI",
        "colab_type": "text"
      },
      "source": [
        "## **Comparacion del Clasificador**\n",
        "\n",
        "Si comparamos sustancialmente los clasificadores realizados en la celda superior, observamos lo siguiente en cuanto a valores absolutos de precision en las predicciones:\n",
        "\n",
        "\n",
        "*   AdaBoost 40 trees: $97,36%$\n",
        "*   Arbol de decsion: $89,47%$\n",
        "* Arbol de decision CV=10: $0.9137931,  0.93103448, 0.92982456, 0.9122807,  0.94736842, 0.94736842,\n",
        " 0.92982456, 0.92857143, 0.89285714, 1.$\n",
        "\n",
        "\n",
        " Las clasficaciones del metodo AdaBoost predicien con un 97.36% de acierto en sus predicciones. Con lo que se puede deducir que el metodo mejora y generaliza bien respecto a un clasificador aislado. Los valores usando CV tambien mejoran respecto al clasificador aislado, pero los valores de precision se aproximan mas a los de este que a los del metodo de boosting."
      ]
    },
    {
      "cell_type": "markdown",
      "metadata": {
        "id": "YC3gSJ9cuJgU",
        "colab_type": "text"
      },
      "source": [
        "### Exercise 3.3. \n",
        "Finally,  plot the evolution of the emphasis function and the alpha values. Analyze the results."
      ]
    },
    {
      "cell_type": "code",
      "metadata": {
        "id": "MmrpDd_p2hcF",
        "colab_type": "code",
        "outputId": "0aa4d47d-c74c-4905-9e5f-e71c3ef2a8a9",
        "colab": {
          "base_uri": "https://localhost:8080/",
          "height": 593
        }
      },
      "source": [
        " # <SOL>\n",
        "from matplotlib import pyplot as plt\n",
        "plt.plot(alpha_,'r',label='alpha')\n",
        "plt.plot(errorRate_,'b',label='Error Rate')\n",
        "#plt.plot(minErr_)\n",
        "plt.xlabel(\"Num. Clasificadores\")\n",
        "plt.ylabel(\"Valor\")\n",
        "plt.show()\n",
        "\n",
        "D=np.array(D_)\n",
        "tamanio = D.shape\n",
        "print(f\"\\n La matriz D tiene dimensiones \\n {D.shape}\")\n",
        "for i in range(0,tamanio[0]): \n",
        "  plt.plot(D[i,:,0],label='w'+str(i))\n",
        "  plt.xlabel(\"Num. Caracteristica\")\n",
        "  plt.ylabel(\"Valor del peso W\")\n",
        "  \n",
        "plt.show()\n",
        "\n"
      ],
      "execution_count": 136,
      "outputs": [
        {
          "output_type": "display_data",
          "data": {
            "image/png": "[encoded data removed]",
            "text/plain": [
              "<Figure size 432x288 with 1 Axes>"
            ]
          },
          "metadata": {
            "tags": []
          }
        },
        {
          "output_type": "stream",
          "text": [
            "\n",
            " La matriz D tiene dimensiones \n",
            " (40, 228, 1)\n"
          ],
          "name": "stdout"
        },
        {
          "output_type": "display_data",
          "data": {
            "image/png": "[encoded data removed]",
            "text/plain": [
              "<Figure size 432x288 with 1 Axes>"
            ]
          },
          "metadata": {
            "tags": []
          }
        }
      ]
    },
    {
      "cell_type": "markdown",
      "metadata": {
        "id": "G5OlZYs5jsxc",
        "colab_type": "text"
      },
      "source": [
        "# 5. Bias and variance trade-off\n",
        "\n",
        "Consider that the real model behind our dasaset is given by:\n",
        "\n",
        "$$Y = f(X) + \\epsilon$$\n",
        "\n",
        "so an observation $x$ is generated from the r.v.  $X$ and, then, it is transformed by a function $f(\\cdot)$ and contaminated by an additive gaussian noise $\\epsilon$ of zero mean and variance $\\sigma_{\\epsilon}^2$, to finally generate the target or label value $y$.\n",
        "\n",
        "When a classifier or estimator is designed from a set of observations and labels, we design a function $\\hat{f}(\\cdot)$ trying to approximate as well as possible the original funtion $f(\\cdot)$. In this case, **the expected squared prediction error** is:\n",
        "\n",
        "$$ \\mathbb{E} \\left[ \\left(Y−\\hat{f}(X)\\right)^2\\right] = \\mathbb{E} \\left[ \\left({f}(X) + \\epsilon −\\hat{f}(X)\\right)^2\\right] =  \\left(\\mathbb{E} \\left[ {f}(X) \\right]−\\mathbb{E} \\left[\\hat{f}(X)\\right]\\right)^2 + \\mathbb{E} \\left[ \\left(\\hat{f}(X) − \\mathbb{E}\\left[ \\hat{f}(X)\\right]\\right)^2\\right] +  \\sigma_{\\epsilon}^2$$\n",
        "\n",
        "Thus, this error can be decomposed into:\n",
        "* A squared **bias** term ($\\left(\\mathbb{E} \\left[ {f}(X) \\right]−\\mathbb{E} \\left[\\hat{f}(X)\\right]\\right)^2$): This terms represents the expected  difference between the prediction of the designed model and the value given by the real model. \n",
        "* A **variance** term ($\\mathbb{E} \\left[ \\left(\\hat{f}(X) − \\mathbb{E}\\left[ \\hat{f}(X)\\right]\\right)^2\\right]$): This term measures the variability of a model prediction.\n",
        "* The **noise** term. This is the noise term presenting in the generation data model.\n",
        "\n",
        "Usually, we have a single dataset and we train a unique model, so talking about expected or average prediction values might sounds quite strange. However, to undertand what these expectations are representing, consider that we can generate different training data sets from the distribution of $X$ and, for each data set, we can create a new model. Due to randomness in the underlying data sets, the resulting models will have a range of predictions. So, the bias term measures how far these models' predictions are from the correct value; whereas, the variance measures these predictions (for a given sample) vary between different realizations of the model.\n",
        "\n",
        "\n",
        "\n",
        "<img src=\"http://www.tsc.uc3m.es/~vanessa/Figs_notebooks/ML/Ensembles/Bias_Var.png\" width=\"40%\" > \n",
        "\n",
        "\n",
        "\n",
        "These  error terms are related to complexity of the model and to the concepts of under-fitting and over-fitting that we reviewed in the previous notebooks:\n",
        "* Imagine that we have a **complex model**, able to be adjusted to the training data. In this case, different runs of the training data will generate quite different models, presenting a high variability or **high-variance** among them. These models usually present a high risk of **overfitting** and a bad generalizaztion capability.\n",
        "* Now consider a **simpler model**, that don't tend to overfit, but may **underfit** their training data since it is not able to capture data distribution. Different realizations of this model will present similar predictions, but all of them will be far from the real value to be predicted, presenting a **high bias**.\n",
        "\n",
        "In an ideal scenario, we would have infinite data to learn our model and we should be able to reduce both the bias and variance terms to 0. However, in a real world, there is a tradeoff between minimizing the bias and minimizing the variance and we can control this with the model complexity. As we increase the model complexity (more parameters are added), we can get to reduce the bias, but the variance is increased.\n",
        "\n",
        "\n",
        "<img src=\"http://www.tsc.uc3m.es/~vanessa/Figs_notebooks/ML/Ensembles/Bias_Var_ModelComplexity.png\" width=\"40%\" > \n",
        "\n",
        "\n",
        "\n"
      ]
    },
    {
      "cell_type": "markdown",
      "metadata": {
        "id": "uw4bMmw5wygO",
        "colab_type": "text"
      },
      "source": [
        "Check the next cell code where the bias and variance term are computed for a decission tree classifier.\n",
        "\n",
        "Note that, in this example, we are modeling a noise free problem ($\\sigma_{\\epsilon}^2=0$). That is, we are considering $Y = f(X)$.\n"
      ]
    },
    {
      "cell_type": "code",
      "metadata": {
        "id": "eVNkGdb4jtfk",
        "colab_type": "code",
        "colab": {
          "base_uri": "https://localhost:8080/",
          "height": 401
        },
        "outputId": "98f738f4-d526-468a-cbdf-21a66f6fe98c"
      },
      "source": [
        "nperc=0.4\n",
        "niter=100\n",
        "\n",
        "# Use all data together (we don not nedd test data anymore)\n",
        "X = np.vstack((X_train,X_test))\n",
        "Y = np.hstack((Y_train,Y_test))\n",
        "\n",
        "N = X.shape[0]\n",
        "Nsub = np.int(nperc*N)\n",
        "\n",
        "all_f_pred = np.zeros((niter,N))\n",
        "\n",
        "rang_depth =  np.arange(2,10)\n",
        "\n",
        "Bias2 = np.zeros((rang_depth.shape[0],N))\n",
        "Var = np.zeros((rang_depth.shape[0],N))\n",
        "MSE = np.zeros((rang_depth.shape[0],N))\n",
        "\n",
        "for d, depth in enumerate(rang_depth):\n",
        "\n",
        "  clf_tree = tree.DecisionTreeClassifier(max_depth=depth) \n",
        "  for i in range(niter):\n",
        "    # Select some random samples\n",
        "    samplesid = np.random.choice(N, Nsub, replace=False)\n",
        "    X_train_sub  = X[samplesid,:]\n",
        "    Y_train_sub  = Y[samplesid]\n",
        "\n",
        "    # Train a tree with randomized dataset\n",
        "    clf_tree.fit(X_train_sub, Y_train_sub)\n",
        "\n",
        "    # Compute predicted output (overall available data)\n",
        "    f_pred = clf_tree.predict(X)\n",
        "    all_f_pred[i,:] = f_pred\n",
        "\n",
        "  # Mean value of the predicted outputs for each data\n",
        "  avg_f = np.mean(all_f_pred,axis =0)\n",
        "\n",
        "  # Obtain the bias^2 of each data\n",
        "  Bias2[d, :] = (Y - avg_f)**2\n",
        "  # Obtain the var of each data\n",
        "  Var[d, :] = np.mean((all_f_pred - avg_f)**2,axis=0)\n",
        "  # Obtain MSE\n",
        "  MSE[d,:] = np.mean((Y-all_f_pred)**2,axis=0)\n",
        "\n",
        "\n",
        "# Print the results averaged over all data\n",
        "Bias2mean = np.mean(Bias2,axis=1)\n",
        "Varmean = np.mean(Var,axis=1)\n",
        "MSEmean = np.mean(MSE,axis=1)\n",
        "\n",
        "print(\"The squared Bias term is: \", Bias2mean)\n",
        "print(\"The Variance term is: \",Varmean)\n",
        "print(\"The MSE is: \",MSEmean)\n",
        "print(\"We can check that MSE = Bias^2 + Variance\")\n",
        "\n",
        "plt.figure()\n",
        "plt.plot(rang_depth, Bias2mean, label='Bias^2')\n",
        "plt.plot(rang_depth, Varmean, label='Variance')\n",
        "plt.plot(rang_depth, MSEmean, label='MSE')\n",
        "\n",
        "\n",
        "plt.legend()\n",
        "plt.xlabel('depth')\n",
        "plt.ylabel('MSE')\n",
        "\n",
        "plt.show()"
      ],
      "execution_count": 137,
      "outputs": [
        {
          "output_type": "stream",
          "text": [
            "The squared Bias term is:  [0.02831318 0.01997381 0.01493111 0.01354587 0.01318295 0.0130754\n",
            " 0.01252882 0.01174464]\n",
            "The Variance term is:  [0.03087838 0.03382232 0.03417258 0.03517118 0.03600861 0.03601072\n",
            " 0.03669789 0.03505677]\n",
            "The MSE is:  [0.05919156 0.05379613 0.04910369 0.04871705 0.04919156 0.04908612\n",
            " 0.04922671 0.04680141]\n",
            "We can check that MSE = Bias^2 + Variance\n"
          ],
          "name": "stdout"
        },
        {
          "output_type": "display_data",
          "data": {
            "image/png": "[encoded data removed]",
            "text/plain": [
              "<Figure size 432x288 with 1 Axes>"
            ]
          },
          "metadata": {
            "tags": []
          }
        }
      ]
    },
    {
      "cell_type": "markdown",
      "metadata": {
        "id": "F1EPdITNv3Ae",
        "colab_type": "text"
      },
      "source": [
        "### Exercise 4. Advanced work: Bias and variance trade off for ensemble methods\n",
        "\n",
        "Analyze the bias and variance terms evolution with the number of base learners in:\n",
        "* the bagged ensemble designed in exercise 2.1. \n",
        "* the RA ensemble designed in exercise 3.1.\n",
        "\n",
        "Generate 100 random partitions of training data and you can run the ensemble with only 20 learners. Analyze and discuss the results. \n",
        "\n"
      ]
    },
    {
      "cell_type": "code",
      "metadata": {
        "id": "M4pujFdFv2BY",
        "colab_type": "code",
        "colab": {}
      },
      "source": [
        " # <SOL>\n",
        " # </SOL>"
      ],
      "execution_count": 0,
      "outputs": []
    },
    {
      "cell_type": "code",
      "metadata": {
        "id": "e90ZXU6O34V7",
        "colab_type": "code",
        "colab": {}
      },
      "source": [
        " # <SOL>\n",
        " # </SOL>"
      ],
      "execution_count": 0,
      "outputs": []
    },
    {
      "cell_type": "code",
      "metadata": {
        "id": "aRFblMMJ6RU4",
        "colab_type": "code",
        "colab": {}
      },
      "source": [
        " # <SOL>\n",
        " # </SOL>"
      ],
      "execution_count": 0,
      "outputs": []
    },
    {
      "cell_type": "code",
      "metadata": {
        "id": "9LKcXHMO5dBx",
        "colab_type": "code",
        "colab": {}
      },
      "source": [
        " # <SOL>\n",
        " # </SOL>"
      ],
      "execution_count": 0,
      "outputs": []
    }
  ]
}