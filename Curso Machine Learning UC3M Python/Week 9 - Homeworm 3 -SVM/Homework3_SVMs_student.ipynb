{
  "nbformat": 4,
  "nbformat_minor": 0,
  "metadata": {
    "colab": {
      "name": "Homework3_SVMs_student.ipynb",
      "provenance": [],
      "collapsed_sections": [
        "MgyKSyVUqTyF"
      ]
    },
    "kernelspec": {
      "name": "python3",
      "display_name": "Python 3"
    }
  },
  "cells": [
    {
      "cell_type": "markdown",
      "metadata": {
        "id": "6eAsdbmD4uOX",
        "colab_type": "text"
      },
      "source": [
        "# Week 9: Homework 3\n",
        "\n",
        "----------------------------------------------------\n",
        "Machine Learning                      \n",
        "\n",
        "Year 2019/2020\n",
        "\n",
        "*Vanessa Gómez Verdejo vanessa@tsc.uc3m.es* \n",
        "\n",
        "----------------------------------------------------"
      ]
    },
    {
      "cell_type": "markdown",
      "metadata": {
        "id": "lgDm0Z5bcazI",
        "colab_type": "text"
      },
      "source": [
        "The aim of this HW is to analyse the performance of SVMs with different cofigurations (different kernels and parameters), as well as different approaches to combine the SMV training with a feature selection stage. As in the previous homework, we will work with the Breast Cancer database.\n",
        "\n",
        "Let's start loading and preparing the data and, next, complete the given exercises."
      ]
    },
    {
      "cell_type": "markdown",
      "metadata": {
        "id": "CpjaOvF7Ldhq",
        "colab_type": "text"
      },
      "source": [
        "### Exercise 1. Load and prepare the data\n",
        "\n",
        "As you already know, the  [Breast cancer data set](https://scikit-learn.org/stable/modules/generated/sklearn.datasets.load_breast_cancer.html) is a binary classification problem aimed to detect breast cancer from a  digitized image of breast mass characterized with 30 input features describing the mass.\n",
        "\n",
        "Complete next cell code, so that you can:\n",
        "* Load the dataset\n",
        "* Create training and testing partitions with the 60% and 40% of the original data\n",
        "* Normalize the data to zero mean and unitary standard deviation "
      ]
    },
    {
      "cell_type": "markdown",
      "metadata": {
        "id": "vVLGP9TtgWzs",
        "colab_type": "text"
      },
      "source": [
        "### Solution"
      ]
    },
    {
      "cell_type": "code",
      "metadata": {
        "colab_type": "code",
        "outputId": "8e26c719-9a4a-4b82-b80f-fa078c681b97",
        "id": "pSJXB2zAoNWl",
        "colab": {
          "base_uri": "https://localhost:8080/",
          "height": 1000
        }
      },
      "source": [
        "# <SOL>\n",
        "\n",
        "import numpy as np\n",
        "from sklearn.datasets import load_breast_cancer\n",
        "\n",
        "from sklearn.model_selection import train_test_split\n",
        "from sklearn.preprocessing import StandardScaler\n",
        "from sklearn import preprocessing\n",
        "%matplotlib inline\n",
        "\n",
        "# Initialize the random generator seed to compare results\n",
        " # si los resultados estan ordenados, como en el caso del irish dataset, los desordenamos usando una semilla aleatoria, para que el modelo entrene con todas las\n",
        "# diferentes caracteristicas posibles\n",
        "np.random.seed(0)\n",
        "\n",
        "\n",
        "# Cargamos los datos\n",
        "cancer = load_breast_cancer()\n",
        "\n",
        "X_train, X_test, y_train, y_test = train_test_split(cancer.data,cancer.target,test_size=0.4,random_state=109)\n",
        "X = cancer.data\n",
        "Y = cancer.target\n",
        "\n",
        "\n",
        "# Normalize the data\n",
        "scaler = StandardScaler()\n",
        "X_train = scaler.fit_transform(X_train)\n",
        "X_test = scaler.transform(X_test)\n",
        "print(f\"\\n Transformador de datos con media 0 y varianza 1: \\n{scaler}\")\n",
        "\n",
        "#X_train = preprocessing.scale(X_train)\n",
        "print(f\"\\n Datos normalizados media: \\n {X_train.mean(axis=0)}\")\n",
        "print(f\"\\n Datos normalizados varianza: \\n {X_train.std(axis=0)}\")\n",
        "\n",
        "#X_test=X_test.preprocessing.scale(X_train)\n",
        "\n",
        "print(f\"\\nVariables de salida \\n{cancer.target_names}\")\n",
        "print(f\"\\nLista de caracteristicas del dataset \\n{cancer.feature_names}\")\n",
        "print(f\"\\nTamaño del conjunto de datos \\n{cancer.data.shape,cancer.target.shape}\")\n",
        "print(f\"\\nTamaño del conjunto de datos de entrenamiento \\n{X_train.shape,y_train.shape}\")\n",
        "print(f\"\\nTamaño del conjunto de datos de test \\n{X_test.shape,y_test.shape}\")\n",
        "print(f\"\\nDatos de entrenamiento normalizados \\n{X_train}\")\n",
        "print(f\"\\nDatos de test normalizados \\n{X_test}\")\n",
        "\n",
        "\n",
        "# </SOL>"
      ],
      "execution_count": 2,
      "outputs": [
        {
          "output_type": "stream",
          "text": [
            "\n",
            " Transformador de datos con media 0 y varianza 1: \n",
            "StandardScaler(copy=True, with_mean=True, with_std=True)\n",
            "\n",
            " Datos normalizados media: \n",
            " [-4.00852372e-15  1.51068470e-15 -1.00180535e-15 -7.20831020e-16\n",
            "  5.32809378e-16 -1.02492143e-15 -7.15703157e-16 -8.53015931e-17\n",
            "  4.91558570e-15  2.24974812e-15  9.50689511e-16  5.66506763e-17\n",
            " -6.81761588e-16  4.98135257e-17 -6.12698227e-16  9.41573310e-16\n",
            "  5.06437512e-16 -1.24826835e-15 -9.52642982e-16  3.87438534e-17\n",
            " -2.82374319e-15  2.95511416e-15 -8.99248092e-16 -1.14961804e-15\n",
            "  7.18356622e-15 -1.79572877e-15 -3.33473881e-16 -8.20458071e-17\n",
            "  2.60137301e-16  1.71579922e-15]\n",
            "\n",
            " Datos normalizados varianza: \n",
            " [1. 1. 1. 1. 1. 1. 1. 1. 1. 1. 1. 1. 1. 1. 1. 1. 1. 1. 1. 1. 1. 1. 1. 1.\n",
            " 1. 1. 1. 1. 1. 1.]\n",
            "\n",
            "Variables de salida \n",
            "['malignant' 'benign']\n",
            "\n",
            "Lista de caracteristicas del dataset \n",
            "['mean radius' 'mean texture' 'mean perimeter' 'mean area'\n",
            " 'mean smoothness' 'mean compactness' 'mean concavity'\n",
            " 'mean concave points' 'mean symmetry' 'mean fractal dimension'\n",
            " 'radius error' 'texture error' 'perimeter error' 'area error'\n",
            " 'smoothness error' 'compactness error' 'concavity error'\n",
            " 'concave points error' 'symmetry error' 'fractal dimension error'\n",
            " 'worst radius' 'worst texture' 'worst perimeter' 'worst area'\n",
            " 'worst smoothness' 'worst compactness' 'worst concavity'\n",
            " 'worst concave points' 'worst symmetry' 'worst fractal dimension']\n",
            "\n",
            "Tamaño del conjunto de datos \n",
            "((569, 30), (569,))\n",
            "\n",
            "Tamaño del conjunto de datos de entrenamiento \n",
            "((341, 30), (341,))\n",
            "\n",
            "Tamaño del conjunto de datos de test \n",
            "((228, 30), (228,))\n",
            "\n",
            "Datos de entrenamiento normalizados \n",
            "[[-0.52476489  2.52607465 -0.59244412 ... -1.70465605 -0.7792124\n",
            "  -0.8789586 ]\n",
            " [-0.129526   -0.69020179 -0.17149749 ... -0.37602253 -0.13234388\n",
            "  -0.28186617]\n",
            " [-0.12111666 -0.13607792 -0.13200829 ...  0.25532263 -0.06228003\n",
            "   0.43590904]\n",
            " ...\n",
            " [ 0.55163038 -0.28463027  0.5344227  ...  0.15152313 -0.15515536\n",
            "  -0.06578653]\n",
            " [-1.02652207  0.14216301 -1.02804654 ... -0.67643048 -0.00688072\n",
            "  -0.30140529]\n",
            " [ 0.88239768  0.67742309  0.91303041 ...  0.62777963  0.29292736\n",
            "  -0.45312079]]\n",
            "\n",
            "Datos de test normalizados \n",
            "[[-0.69295165  0.17989059 -0.68241434 ... -0.46516798  0.51941281\n",
            "   0.38935997]\n",
            " [-0.61726761 -0.23982877 -0.66205909 ... -0.74359485 -0.16656111\n",
            "  -0.49679646]\n",
            " [ 1.40657976  1.73143744  1.39341438 ...  1.15288295  0.60414118\n",
            "   0.8318635 ]\n",
            " ...\n",
            " [-0.89757888 -0.15729968 -0.87863898 ... -0.50073457 -1.03665629\n",
            "  -0.31060017]\n",
            " [-0.47430886 -0.83875415 -0.38278501 ...  0.95291628  1.78870897\n",
            "   2.39499286]\n",
            " [ 0.8852008  -0.51335374  0.8560357  ...  1.12998601  0.40861418\n",
            "  -0.09164712]]\n"
          ],
          "name": "stdout"
        }
      ]
    },
    {
      "cell_type": "code",
      "metadata": {
        "id": "hlBgYIGMoU9o",
        "colab_type": "code",
        "outputId": "ded2df2c-b2b5-489b-d1ab-31f6cb08c742",
        "colab": {
          "base_uri": "https://localhost:8080/",
          "height": 1000
        }
      },
      "source": [
        "import matplotlib.pyplot as plt\n",
        "import numpy as np\n",
        "\n",
        "# cargamos los nombres de las caracteristicas\n",
        "feature_names = cancer.feature_names\n",
        "names = cancer[\"feature_names\"]\n",
        "\n",
        "# pintamos el numero de evidencias que hay en los datos\n",
        "\n",
        "D = X.shape[1] # cogemos la segunda posicion de la dimension de la matriz 442\n",
        "\n",
        "plt.figure( figsize=(20,30))\n",
        "\n",
        "for d in range (D):\n",
        "  plt.subplot(6,5,d+1)\n",
        "  plt.plot(cancer.data [:,d],cancer.target,'.',)\n",
        "  plt.title(feature_names[d])"
      ],
      "execution_count": 3,
      "outputs": [
        {
          "output_type": "display_data",
          "data": {
            "image/png": "[encoded data removed]",
            "text/plain": [
              "<Figure size 1440x2160 with 30 Axes>"
            ]
          },
          "metadata": {
            "tags": []
          }
        }
      ]
    },
    {
      "cell_type": "code",
      "metadata": {
        "id": "v2SJVmjU1__X",
        "colab_type": "code",
        "outputId": "b2cac6ba-72af-461b-eeee-ac9869a45aba",
        "colab": {
          "base_uri": "https://localhost:8080/",
          "height": 221
        }
      },
      "source": [
        "\n",
        "print(\"Caracteristicas: \\n \", cancer.feature_names)\n",
        "\n",
        "print(\"Objetivo: \\n\", cancer.target_names)\n",
        "#cancer.data.shape"
      ],
      "execution_count": 4,
      "outputs": [
        {
          "output_type": "stream",
          "text": [
            "Caracteristicas: \n",
            "  ['mean radius' 'mean texture' 'mean perimeter' 'mean area'\n",
            " 'mean smoothness' 'mean compactness' 'mean concavity'\n",
            " 'mean concave points' 'mean symmetry' 'mean fractal dimension'\n",
            " 'radius error' 'texture error' 'perimeter error' 'area error'\n",
            " 'smoothness error' 'compactness error' 'concavity error'\n",
            " 'concave points error' 'symmetry error' 'fractal dimension error'\n",
            " 'worst radius' 'worst texture' 'worst perimeter' 'worst area'\n",
            " 'worst smoothness' 'worst compactness' 'worst concavity'\n",
            " 'worst concave points' 'worst symmetry' 'worst fractal dimension']\n",
            "Objetivo: \n",
            " ['malignant' 'benign']\n"
          ],
          "name": "stdout"
        }
      ]
    },
    {
      "cell_type": "markdown",
      "metadata": {
        "id": "2szGWImcK10A",
        "colab_type": "text"
      },
      "source": [
        "### Exercise 2. Analysis of SVM performance\n",
        "\n",
        "The goal of Exercise 2 is to design the best possible SVM. So, please, check different configurations (kernels, parameters, ...) and select the configuration with better generalization capabilities. \n",
        "\n",
        "Be careful with the kind of analysis that you carry out. In case you only want to compare different configurations (either different kernels or different multiclass approaches), you can get the final test performance, for each configuration, and compare them. But, in case you want to select the best possible configuration (for example, either I should use a linear kernel or a RBF one), you have to use an accuracy score over a validation partition (or a cross-validation) process. "
      ]
    },
    {
      "cell_type": "markdown",
      "metadata": {
        "id": "5C4S1x9ZqRAu",
        "colab_type": "text"
      },
      "source": [
        "### Solution"
      ]
    },
    {
      "cell_type": "markdown",
      "metadata": {
        "id": "Z9cvMF9dGYBO",
        "colab_type": "text"
      },
      "source": [
        "## Creacion y evaluacion de los clasificadores\n",
        "Se hara de dos maneras:\n",
        "\n",
        "1.    Creando clasificadores independientes con diferentes parametros de C, gamma y kernel, traves de un objeto GridSearchCV(), donde se evaluara todo a la vez y el propio objeto nos dara los mejores resultados.\n",
        "\n",
        "2.   Creando clasificadores simples con diferentes configuraciondes de kernel y valores de C y gamma\n",
        "\n",
        "\n",
        "\n",
        "En ambos se usara la validacion cruzada"
      ]
    },
    {
      "cell_type": "markdown",
      "metadata": {
        "id": "WHVnSJK_ErIm",
        "colab_type": "text"
      },
      "source": [
        "### 1. GridSearchCV()\n",
        "En primer lugar se usara el enfoque del objeto GridSearchCV(). Se crean 3 objetos, uno para cada tipo de Kernel $Linear$,$Poly$ y $RBF$ a dichos objetos se le pasara como parametro un diccionario con los diferentes rangos de los valores C y Gamma.\n",
        "\n",
        "Cada uno de los clasificadores nos devuelve la configuracion optima para el cual se consigue la mayor precision a traves del uso de la herramienta $Cross$ $Validation$ con un valor de $5$."
      ]
    },
    {
      "cell_type": "code",
      "metadata": {
        "id": "PQmjG1yu6bOf",
        "colab_type": "code",
        "colab": {}
      },
      "source": [
        "import numpy as np\n",
        "import matplotlib.pyplot as plt\n",
        "from matplotlib.colors import Normalize\n",
        "\n",
        "from sklearn.svm import SVC\n",
        "from sklearn.preprocessing import StandardScaler\n",
        "from sklearn.model_selection import StratifiedShuffleSplit\n",
        "from sklearn.model_selection import GridSearchCV"
      ],
      "execution_count": 0,
      "outputs": []
    },
    {
      "cell_type": "code",
      "metadata": {
        "id": "2sA7b04j6nzH",
        "colab_type": "code",
        "outputId": "ab03b09d-483e-4321-d218-d6a7672fc11e",
        "colab": {
          "base_uri": "https://localhost:8080/",
          "height": 221
        }
      },
      "source": [
        "# TODO: definir bien los parametros gamma y degree\n",
        "\n",
        "C_range = np.logspace(-3,3, num=30)\n",
        "gamma_range = np.logspace(-3,3, num=30)\n",
        "param_grid = dict(gamma=gamma_range, C=C_range)\n",
        "cv = StratifiedShuffleSplit(n_splits=5, test_size=0.4, random_state=42)\n",
        "\n",
        "grid = GridSearchCV(SVC(kernel='linear'), param_grid=param_grid, cv=cv)\n",
        "grid.fit(X_train, y_train)\n",
        "print(\"Los mejores parametros para un kernel lineal (linear) son: \\n %s \\n con un valore de precision de  %0.2f \\n\" % (grid.best_params_, grid.best_score_))\n",
        "\n",
        "grid = GridSearchCV(SVC(kernel='poly'), param_grid=param_grid, cv=cv)\n",
        "grid.fit(X_train, y_train)\n",
        "print(\"Los mejores parametros para un kernel polykernel (poly) son: \\n %s \\n con un valore de precision de %0.2f \\n\" % (grid.best_params_, grid.best_score_))\n",
        "\n",
        "grid = GridSearchCV(SVC(kernel='rbf'), param_grid=param_grid, cv=cv)\n",
        "grid.fit(X_train, y_train)\n",
        "print(\"Los mejores parametros para un kernel Radial Basis Function (RBF) son: \\n %s \\n con un valore de precision de %0.2f \\n\" % (grid.best_params_, grid.best_score_))\n"
      ],
      "execution_count": 6,
      "outputs": [
        {
          "output_type": "stream",
          "text": [
            "Los mejores parametros para un kernel lineal (linear) son: \n",
            " {'C': 0.18873918221350977, 'gamma': 0.001} \n",
            " con un valore de precision de  0.96 \n",
            "\n",
            "Los mejores parametros para un kernel polykernel (poly) son: \n",
            " {'C': 0.001, 'gamma': 1.2689610031679222} \n",
            " con un valore de precision de 0.94 \n",
            "\n",
            "Los mejores parametros para un kernel Radial Basis Function (RBF) son: \n",
            " {'C': 5.298316906283707, 'gamma': 0.02807216203941177} \n",
            " con un valore de precision de 0.96 \n",
            "\n"
          ],
          "name": "stdout"
        }
      ]
    },
    {
      "cell_type": "code",
      "metadata": {
        "id": "PenuZ6qDJQwt",
        "colab_type": "code",
        "colab": {
          "base_uri": "https://localhost:8080/",
          "height": 279
        },
        "outputId": "a54e846a-3887-42ed-9355-00b447167660"
      },
      "source": [
        "%matplotlib inline\n",
        "import matplotlib.pyplot as plt\n",
        "\n",
        "C_list = []\n",
        "Gamma_list = []\n",
        "\n",
        "plt.figure()\n",
        "plt.scatter(0.18873918221350977,0.001,s=50, label='Linear-Precision=96%')\n",
        "plt.scatter(0.001,1.2689610031679222,s=50, label='Poly-Precision=94%')\n",
        "plt.scatter(5.298316906283707,0.02807216203941177,s=50, label='RBF-Precision=96%')\n",
        "\n",
        "plt.legend()\n",
        "plt.xlabel('C')\n",
        "plt.ylabel('Gamma')\n",
        "\n",
        "plt.show()"
      ],
      "execution_count": 32,
      "outputs": [
        {
          "output_type": "display_data",
          "data": {
            "image/png": "[encoded data removed]",
            "text/plain": [
              "<Figure size 432x288 with 1 Axes>"
            ]
          },
          "metadata": {
            "tags": []
          }
        }
      ]
    },
    {
      "cell_type": "code",
      "metadata": {
        "id": "vl_dSwxPLK7n",
        "colab_type": "code",
        "colab": {
          "base_uri": "https://localhost:8080/",
          "height": 248
        },
        "outputId": "c90c0198-aa91-4c6f-8295-5198ae2420ac"
      },
      "source": [
        "# This import registers the 3D projection, but is otherwise unused.\n",
        "from mpl_toolkits.mplot3d import Axes3D  # noqa: F401 unused import\n",
        "\n",
        "import matplotlib.pyplot as plt\n",
        "import numpy as np\n",
        "\n",
        "\n",
        "fig = plt.figure()\n",
        "ax = fig.add_subplot(111, projection='3d')\n",
        "\n",
        "ax.scatter(0.18873918221350977,0.001, 96, marker=m, s=70)\n",
        "ax.scatter(0.001,1.2689610031679222, 94, marker=m, s=70)\n",
        "ax.scatter(5.298316906283707,0.02807216203941177, 96, marker=m, s=70)\n",
        "\n",
        "#plt.scatter(0.18873918221350977,0.001,s=50, label='Linear')\n",
        "#plt.scatter(0.001,1.2689610031679222,s=50, label='Poly')\n",
        "#plt.scatter(5.298316906283707,0.02807216203941177,s=50, label='RBF')\n",
        "\n",
        "ax.set_xlabel('C')\n",
        "ax.set_ylabel('Gamma')\n",
        "ax.set_zlabel('Precision')\n",
        "\n",
        "plt.show()"
      ],
      "execution_count": 30,
      "outputs": [
        {
          "output_type": "display_data",
          "data": {
            "image/png": "[encoded data removed]",
            "text/plain": [
              "<Figure size 432x288 with 1 Axes>"
            ]
          },
          "metadata": {
            "tags": []
          }
        }
      ]
    },
    {
      "cell_type": "markdown",
      "metadata": {
        "id": "RWVHDBeLFnVY",
        "colab_type": "text"
      },
      "source": [
        "### Resultados GridSeachCV\n",
        "En este caso obtenemos los siguientes resultados para los diferentes Kernels segun la busqueda que realiza el clasificador:\n",
        "\n",
        "\n",
        "*   Para el kernel $Linear$, se obtiene un valor de $Precision=96$% y los parametros optimos son $C=0.18873918221350977$ y $\\gamma=0.001$\n",
        "*   Para el kernel $Poly$, se obtiene un valor de $Precision=94$% y los parametros optimos son $C=0.001$ y $\\gamma=1.2689610031679222$\n",
        "* Para el kernel $RBF$, se obtiene un valor de $Precision=96$% y los parametros optimos son $C=0.5.298316906283707$ y $\\gamma=0.02807216203941177$\n",
        "\n",
        "Teniendo en cuenta que se han definido los parametros tanto $C$ como $\\gamma$ en un rango de ($10e-3$ , $10e-3$). Podemos concluir que los clasificadores que usan kernels lineal y RBF obtienen el mejor de los resultados para este caso $96$%. \n",
        "\n",
        "No obstante, el clasificador con el Kernel $RBF$ es el mas fiable de los dos debido a que sus parametros no se quedan en los limites ni inferior ni superior de los valores definidos para estos. Es decir, con ambos Kernels se obtiene el mismo valor de precision, pero el kernel $lineal$, obtiene su mejor resultado  para un valor de $\\gamma=0.001$, el cual coincide con el valor minimo definido para este parametro. Asi que se puede intuir que  si el parametro $\\gamma$ tomase valores inferiores a $0.001$, la precision cambiaria. \n",
        "\n",
        "Basandonos en esta premisa, el clasificador optimo es el $RBF$, ya que obtiene su mejor valor de precision con unos valoores para los parametros que estan mas centrados en el rango de $C$ y $\\gamma$ que recibe.\n",
        "\n",
        "\n"
      ]
    },
    {
      "cell_type": "markdown",
      "metadata": {
        "id": "ksUeOwu_MZwH",
        "colab_type": "text"
      },
      "source": [
        "### 2. Clasificadores Aislados\n",
        "En las siguientes celdas de codigo se realizara el mismo analisis que en las celdas anteriores, con los mismos valores de $C$,$\\gamma$ y los mismos $kernels$ pero esta vez, crearemos clasificadores individuales para cada uno de los diferentes valores.\n",
        "\n",
        "Finalmente, buscaremos entre los clasificadores el que mayor precision obtenga y analizaremos los valores de $C$ y $\\gamma$. \n",
        "\n",
        "Una vez realizado este analisis, se cogeran los valores optimos de $C$ y $\\gamma$ y se crearan 3 clasificadores aislados nuevos, con estos parametros predefinidos y usando Cross Validation para ver si el resultado es similar."
      ]
    },
    {
      "cell_type": "code",
      "metadata": {
        "id": "jFIXKLxRAhh1",
        "colab_type": "code",
        "colab": {}
      },
      "source": [
        "from sklearn import metrics\n",
        "\n",
        "C_range = np.logspace(-3,3, num=30)\n",
        "gamma_range = np.logspace(-3,3, num=30)\n",
        "\n",
        "kernels =['linear', 'poly', 'rbf']\n",
        "classifiers = []\n",
        "\n",
        "for kernel in kernels:\n",
        "  for C in C_range:\n",
        "    for gamma in gamma_range:\n",
        "        clf = SVC(kernel = kernel, C=C, gamma=gamma)\n",
        "        clf.fit(X_train, y_train)\n",
        "        classifiers.append((C, gamma, clf))\n",
        "\n"
      ],
      "execution_count": 0,
      "outputs": []
    },
    {
      "cell_type": "code",
      "metadata": {
        "id": "mNC0F8zX7Eqp",
        "colab_type": "code",
        "colab": {}
      },
      "source": [
        "contador = 1\n",
        "precision = []\n",
        "for classifier in classifiers:\n",
        "  #print(f\" \\nParametros del clasificador {contador} \\n {classifier}\")\n",
        "  clf = classifier[2]\n",
        "  y_pred = clf.predict(X_test)\n",
        "  #print(f\"\\n Accuracy: \\n {metrics.accuracy_score(y_test, y_pred)*100}%\")\n",
        "  precision.append(metrics.accuracy_score(y_test, y_pred)*100)\n",
        "  #print(f\"\\n Matriz de confusion: \\n {confusion_matrix(y_test,y_pred)}\")\n",
        "  #print(f\"\\n Reporte: \\n {classification_report(y_test,y_pred)}\")\n",
        "\n",
        "  contador=contador+1\n",
        "\n"
      ],
      "execution_count": 0,
      "outputs": []
    },
    {
      "cell_type": "code",
      "metadata": {
        "id": "4Q_7AL6BIx_v",
        "colab_type": "code",
        "outputId": "a805d449-6df7-4ec0-bd28-d7e230017ade",
        "colab": {
          "base_uri": "https://localhost:8080/",
          "height": 102
        }
      },
      "source": [
        "# cogemos el clasificador conmayor precision\n",
        "index = precision.index(max(precision))\n",
        "\n",
        "# el mejor clasificador \n",
        "clf = classifiers[0]\n",
        "clf=clf[2]\n",
        "print(clf)\n",
        "print(precision[index])"
      ],
      "execution_count": 9,
      "outputs": [
        {
          "output_type": "stream",
          "text": [
            "SVC(C=0.001, cache_size=200, class_weight=None, coef0=0.0,\n",
            "    decision_function_shape='ovr', degree=3, gamma=0.001, kernel='linear',\n",
            "    max_iter=-1, probability=False, random_state=None, shrinking=True,\n",
            "    tol=0.001, verbose=False)\n",
            "97.80701754385966\n"
          ],
          "name": "stdout"
        }
      ]
    },
    {
      "cell_type": "code",
      "metadata": {
        "id": "dUVPRLQjQpr2",
        "colab_type": "code",
        "colab": {
          "base_uri": "https://localhost:8080/",
          "height": 281
        },
        "outputId": "f335088b-562f-4907-db63-c716a71447a7"
      },
      "source": [
        "plt.figure()\n",
        "plt.plot(range(1,len(precision)+1),precision)\n",
        "plt.scatter(index,precision[index],c='r',s=50, label='Max. Precision =97,80%')\n",
        "#plt.scatter(5.298316906283707,0.02807216203941177,s=50, label='RBF-Precision=96%')\n",
        "\n",
        "plt.legend()\n",
        "plt.xlabel('Num. Clasificador')\n",
        "plt.ylabel('Precision')\n",
        "\n",
        "plt.show()"
      ],
      "execution_count": 51,
      "outputs": [
        {
          "output_type": "display_data",
          "data": {
            "image/png": "[encoded data removed]",
            "text/plain": [
              "<Figure size 432x288 with 1 Axes>"
            ]
          },
          "metadata": {
            "tags": []
          }
        }
      ]
    },
    {
      "cell_type": "code",
      "metadata": {
        "id": "CHKi8SnmIwuz",
        "colab_type": "code",
        "colab": {}
      },
      "source": [
        "# con cross validation para un clasificador simple\n",
        "from sklearn.model_selection import cross_val_score\n",
        "\n",
        "# si extraemos los valores de C y gamma del ejemplo de arriba\n",
        "C= 0.001\n",
        "gamma= 0.001\n",
        "\n",
        "clf_linear = SVC(kernel='linear', C=C, gamma=gamma)\n",
        "clf_poly = SVC(kernel='poly', C=C, gamma=gamma)\n",
        "clf_rbf = SVC(kernel='rbf', C=C, gamma=gamma)\n",
        "\n",
        "\n",
        "scoresLinear = cross_val_score(clf_linear, X, Y, cv=10)\n",
        "scoresPoly = cross_val_score(clf_poly, X, Y, cv=10)\n",
        "scoresRBF = cross_val_score(clf_rbf, X, Y, cv=10)\n",
        "\n"
      ],
      "execution_count": 0,
      "outputs": []
    },
    {
      "cell_type": "code",
      "metadata": {
        "id": "kk4zuAWIJCdA",
        "colab_type": "code",
        "outputId": "85c683aa-d91d-485b-b23f-41d743927200",
        "colab": {
          "base_uri": "https://localhost:8080/",
          "height": 323
        }
      },
      "source": [
        "print(f\"\\nLos resultados del CV para un SVM con kernel lineal son: \\n {scoresLinear} \")\n",
        "print(\"\\nY una precision de: %0.2f (+/- %0.2f)\" % (scoresLinear.mean(), scoresLinear.std() * 2))\n",
        "\n",
        "print(f\"\\nLos resultados del CV para un SVM con kernel polinomial son: \\n {scoresPoly} \")\n",
        "print(\"\\nY una precision de: %0.2f (+/- %0.2f)\" % (scoresPoly.mean(), scoresPoly.std() * 2))\n",
        "\n",
        "print(f\"\\nLos resultados del CV para un SVM con kernel Radial Basis Function son: \\n {scoresRBF} \")\n",
        "print(\"\\nY una precision de: %0.2f (+/- %0.2f)\" % (scoresRBF.mean(), scoresRBF.std() * 2))\n"
      ],
      "execution_count": 35,
      "outputs": [
        {
          "output_type": "stream",
          "text": [
            "\n",
            "Los resultados del CV para un SVM con kernel lineal son: \n",
            " [0.9137931  0.9137931  0.94736842 0.94736842 1.         0.98245614\n",
            " 0.92982456 0.89285714 0.92857143 0.94642857] \n",
            "\n",
            "Y una precision de: 0.94 (+/- 0.06)\n",
            "\n",
            "Los resultados del CV para un SVM con kernel polinomial son: \n",
            " [0.98275862 0.9137931  0.9122807  0.92982456 0.96491228 0.98245614\n",
            " 0.94736842 0.94642857 0.96428571 0.96428571] \n",
            "\n",
            "Y una precision de: 0.95 (+/- 0.05)\n",
            "\n",
            "Los resultados del CV para un SVM con kernel Radial Basis Function son: \n",
            " [0.62068966 0.62068966 0.63157895 0.63157895 0.63157895 0.63157895\n",
            " 0.63157895 0.625      0.625      0.625     ] \n",
            "\n",
            "Y una precision de: 0.63 (+/- 0.01)\n"
          ],
          "name": "stdout"
        }
      ]
    },
    {
      "cell_type": "markdown",
      "metadata": {
        "id": "w8NxI9xZNwWu",
        "colab_type": "text"
      },
      "source": [
        "### Resultados\n",
        "Para el experimento de los clasificadores simples sin validacion cruzada, se obtiene que el mayor valor de precision, es generado por un clasificador lineal con los siguientes parametros:\n",
        "\n",
        "\n",
        "\n",
        "*   $C = 0.001$\n",
        "*   $\\gamma=0.001$\n",
        "* $Kernel=linear$\n",
        "* $Precision=97.80$\n",
        "\n",
        "Para los clasificadores con validacion cruzada para los valores predefinidos de $C$ y $\\gamma$ variando el tipo de kernel, los resultados de la media de la precision para cada una de las iteraciones de la validacion cruzada son:\n",
        "\n",
        "* $Precision=94$ y $Kernel=linear$\n",
        "* $Precision=96$ y $Kernel=Poly$\n",
        "* $Precision=63$ y $Kernel=RBF$\n",
        "\n",
        "Como vemos, los resultados para el caso del kernel lineal, no mejoran debido a la validacion cruzada.\n",
        "\n"
      ]
    },
    {
      "cell_type": "code",
      "metadata": {
        "id": "ZUKiZbceMpGo",
        "colab_type": "code",
        "colab": {}
      },
      "source": [
        "# con cross validation para un clasificador simple usando los parametros del grid search\n",
        "from sklearn.model_selection import cross_val_score\n",
        "\n",
        "# si extraemos los valores de C y gamma del ejemplo de arriba\n",
        "C_lin=  0.18873918221350977\n",
        "gamma_lin= 0.001\n",
        "C_poly= 0.001\n",
        "gamma_poly= 1.2689610031679222\n",
        "C_rbf= 5.298316906283707\n",
        "gamma_rbf= 0.02807216203941177\n",
        "\n",
        "\n",
        "clf_linear_GS = SVC(kernel='linear', C=C_lin, gamma=gamma_lin)\n",
        "clf_poly_GS = SVC(kernel='poly', C=C_poly, gamma=gamma_poly)\n",
        "clf_rbf_GS = SVC(kernel='rbf', C=C_rbf, gamma=gamma_rbf)\n",
        "\n",
        "\n",
        "scoresLinear_GS = cross_val_score(clf_linear_GS, X, Y, cv=10)\n",
        "scoresPoly_GS = cross_val_score(clf_poly_GS, X, Y, cv=10)\n",
        "scoresRBF_GS = cross_val_score(clf_rbf_GS, X, Y, cv=10)"
      ],
      "execution_count": 0,
      "outputs": []
    },
    {
      "cell_type": "code",
      "metadata": {
        "id": "R58S4PWVMspY",
        "colab_type": "code",
        "colab": {}
      },
      "source": [
        "print(f\"\\nLos resultados del CV para un SVM con kernel lineal son: \\n {scoresLinear_GS} \")\n",
        "print(\"\\nY una precision de: %0.2f (+/- %0.2f)\" % (scoresLinear_GS.mean(), scoresLinear_GS.std() * 2))\n",
        "\n",
        "print(f\"\\nLos resultados del CV para un SVM con kernel polinomial son: \\n {scoresPoly_GS} \")\n",
        "print(\"\\nY una precision de: %0.2f (+/- %0.2f)\" % (scoresPoly_GS.mean(), scoresPoly_GS.std() * 2))\n",
        "\n",
        "print(f\"\\nLos resultados del CV para un SVM con kernel Radial Basis Function son: \\n {scoresRBF_GS} \")\n",
        "print(\"\\nY una precision de: %0.2f (+/- %0.2f)\" % (scoresRBF_GS.mean(), scoresRBF_GS.std() * 2))"
      ],
      "execution_count": 0,
      "outputs": []
    },
    {
      "cell_type": "code",
      "metadata": {
        "id": "-EvKUWBLJSPy",
        "colab_type": "code",
        "colab": {}
      },
      "source": [
        "#contador = 1\n",
        "#precision = []\n",
        "#for classifier in classifiers:\n",
        "  #print(f\" \\nParametros del clasificador {contador} \\n {classifier}\")\n",
        "  #clf = classifier[2]\n",
        "  #y_pred = clf.predict(X_test)\n",
        "  #print(f\"\\n Accuracy: \\n {metrics.accuracy_score(y_test, y_pred)*100}%\")\n",
        "  #precision.append(metrics.accuracy_score(y_test, y_pred)*100)\n",
        "  #print(f\"\\n Matriz de confusion: \\n {confusion_matrix(y_test,y_pred)}\")\n",
        "  #print(f\"\\n Reporte: \\n {classification_report(y_test,y_pred)}\")\n",
        "  \n",
        "  # Cross Validation\n",
        "  #scores = cross_val_score(clf, X, Y, cv=5)\n",
        "  #print(\"Accuracy: %0.2f (+/- %0.2f)\" % (scores.mean(), scores.std() * 2))\n",
        "  #contador=contador+1"
      ],
      "execution_count": 0,
      "outputs": []
    },
    {
      "cell_type": "markdown",
      "metadata": {
        "id": "WQtVXIQyOAEP",
        "colab_type": "text"
      },
      "source": [
        "### Exercise 3. Feature selection with SVM\n",
        "Now, let's analyze two approaches for feature selection with SVMs:\n",
        "\n",
        "#### 1. L1-regularized SVM\n",
        "\n",
        "In this first case, you have to train a linear SVM regularized with a L1 or LASSO penalty. As you know, this constrain is able to provide sparsity over the weight vector; so, those input features associated to the zeros of the weight vector are not used during the classification process and we obtain an automatic feature selection. \n",
        "\n",
        "Note that, if we change the SVM formulation replacing the L2 regularization by a L1, the feature selection is obtained during the SVM training, so both stages (feature selection and classifier training) are completely linked and, therefore, the selection process is guided by the classifier. For this reason this kind of feature selection method is classified as an **embedded feature selector**. \n",
        "\n",
        "The only limitation of this approach, as other L1 based feature selection, relies in having to be applied over linear versions of the method, since the sparsity is forced over the vector weights ${\\bf w}$. \n",
        "\n",
        "#### 2. Recursive Feature Elimination (RFE)\n",
        "\n",
        "The Recursive Feature Elimination (RFE) method iteratively trains a set of SVM classifiers and, in each step, it eliminates a feature (or a subset of features) in such a way that the classification margin is reduced the least. \n",
        "\n",
        "This method is known as a **wrapper approach**, since it iteratively trains a SVM and evaluates its margin to decide which feature can be eliminated.\n",
        "\n",
        "However, unlike L1-SVM,  this method can be applied over the kernelized version of the SVM, providing a feature selection strategy for both linear and non-linear SVMs.\n",
        "\n",
        "**References**\n",
        "\n",
        "[1] Guyon, I., Weston, J., Barnhill, S., & Vapnik, V., “Gene selection for cancer classification using support vector machines”, Mach. Learn., 46(1-3), 389–422, 2002.\n",
        "\n"
      ]
    },
    {
      "cell_type": "markdown",
      "metadata": {
        "id": "_uE7XRoCt1Np",
        "colab_type": "text"
      },
      "source": [
        "### Exercise 3.1 L1-SVM\n",
        "\n",
        "Analyze the properties of the L1-SVM as feature selection approach. For this purpose, use the linear SVM implementation given by the method [LinearSVC](https://scikit-learn.org/stable/modules/generated/sklearn.svm.LinearSVC.html), which directly let's select the regularization type (L1 or L2) to be used.\n",
        "\n",
        "Unlike other feature selection methods, here we cannot obtain a ranking of variables. In this case, we have to sweep the value of the regularization parameter in order to get a higher (or lower) sparsity of the weight vector. According to this, train a linear L1-SVM for different values of the regularization parameter and, for each value of C, analyze the test accuracy, as well as the number of used features. \n",
        "\n",
        "Later, try to plot the accuracy vs. the number of features. Note that different values of C can provide the same number of features with different accuracies, so take care of this for this representation. In case you want to obtain the optimum working point, remember to compute a validation error to select the optimum value of C.\n",
        "\n",
        "Finally, don't forget to analyze the obtained results.\n",
        "\n"
      ]
    },
    {
      "cell_type": "markdown",
      "metadata": {
        "id": "MgyKSyVUqTyF",
        "colab_type": "text"
      },
      "source": [
        "### Solution"
      ]
    },
    {
      "cell_type": "markdown",
      "metadata": {
        "id": "x-25zxWFRtlz",
        "colab_type": "text"
      },
      "source": [
        "## Solucion Clasificadore Simples\n",
        "En este ejercicio de nuevo realizaremos una solucion con clasificadores simples y un rango de $C$ igual al de los anteriores ejercicios. Generando de nuevo un clasificador por cada valor de $C$. Finalmente nos quedaremos con el clasificador que mejor precision obtenga y analizaremos su valor de $C$ y sus caracterisitcas mas relevantes.\n",
        "\n",
        "Esta vez el clasificador usara la regularizacion $L_{1}$."
      ]
    },
    {
      "cell_type": "code",
      "metadata": {
        "id": "BpjHqOeluE6I",
        "colab_type": "code",
        "outputId": "ca2f7853-18e9-45c7-85e4-979291146063",
        "colab": {
          "base_uri": "https://localhost:8080/",
          "height": 207
        }
      },
      "source": [
        "from sklearn.svm import LinearSVC\n",
        "from sklearn.metrics import accuracy_score, classification_report\n",
        "\n",
        "C_range = np.logspace(-3,3, num=30)\n",
        "\n",
        "precision = []\n",
        "modelos = []\n",
        "\n",
        "for C in C_range:\n",
        "  #clf = LinearSVC(penalty='l1', loss='squared_hinge', dual=False,tol=1e-3,C=C)\n",
        "  clf = LinearSVC(penalty='l1',  verbose=1, dual=False, random_state=0, C=C, max_iter=10000)\n",
        "\n",
        "  clf.fit(X_train,y_train)\n",
        "  y2_LSVC_model = clf.predict(X_test)\n",
        "  modelos.append(clf)\n",
        "  precision.append(accuracy_score(y_test, y2_LSVC_model))\n",
        "\n",
        "# cogemos el clasificador conmayor precision\n",
        "index = precision.index(max(precision))\n",
        "clas = modelos[index]\n",
        "print(clas)\n",
        "print(clas.coef_)\n",
        "print(precision[index])\n",
        "\n"
      ],
      "execution_count": 64,
      "outputs": [
        {
          "output_type": "stream",
          "text": [
            "[LibLinear][LibLinear][LibLinear][LibLinear][LibLinear][LibLinear][LibLinear][LibLinear][LibLinear][LibLinear][LibLinear][LibLinear][LibLinear][LibLinear][LibLinear][LibLinear][LibLinear][LibLinear][LibLinear][LibLinear][LibLinear][LibLinear][LibLinear][LibLinear][LibLinear][LibLinear][LibLinear][LibLinear][LibLinear][LibLinear]LinearSVC(C=0.02807216203941177, class_weight=None, dual=False,\n",
            "          fit_intercept=True, intercept_scaling=1, loss='squared_hinge',\n",
            "          max_iter=10000, multi_class='ovr', penalty='l1', random_state=0,\n",
            "          tol=0.0001, verbose=1)\n",
            "[[ 0.         -0.01856714  0.          0.          0.          0.\n",
            "   0.         -0.29088099  0.          0.         -0.10341722  0.\n",
            "   0.          0.          0.          0.          0.          0.\n",
            "   0.          0.         -0.4936119  -0.16589454 -0.05309853  0.\n",
            "  -0.01582267  0.         -0.052548   -0.16016103 -0.06302265  0.        ]]\n",
            "0.9824561403508771\n"
          ],
          "name": "stdout"
        }
      ]
    },
    {
      "cell_type": "code",
      "metadata": {
        "id": "oDM7WgUZT3UV",
        "colab_type": "code",
        "colab": {
          "base_uri": "https://localhost:8080/",
          "height": 289
        },
        "outputId": "1005c254-6ac0-4e17-f9e3-e4a9e48ff6ed"
      },
      "source": [
        "\n",
        "print(\"\\n Vector de Pesos 'w' de las caracteristicas\")\n",
        "print(clas.coef_)\n",
        "print(\"\\nCaracteristicas usadas:\")\n",
        "print(len(clas.coef_[clas.coef_!=0]))\n",
        "print(\"\\nCaracteristicas usadas en orden de relevancia:\")\n",
        "print((-clas.coef_[clas.coef_!=0]).argsort())\n",
        "print(\"\\nCaracteristicas no usadas:\")\n",
        "print(np.transpose(np.argwhere(clas.coef_ == 0))[1,:])"
      ],
      "execution_count": 71,
      "outputs": [
        {
          "output_type": "stream",
          "text": [
            "\n",
            " Vector de Pesos 'w' de las caracteristicas\n",
            "[[ 0.         -0.01856714  0.          0.          0.          0.\n",
            "   0.         -0.29088099  0.          0.         -0.10341722  0.\n",
            "   0.          0.          0.          0.          0.          0.\n",
            "   0.          0.         -0.4936119  -0.16589454 -0.05309853  0.\n",
            "  -0.01582267  0.         -0.052548   -0.16016103 -0.06302265  0.        ]]\n",
            "\n",
            "Caracteristicas usadas:\n",
            "10\n",
            "\n",
            "Caracteristicas usadas en orden de relevancia:\n",
            "[6 0 7 5 9 2 8 4 1 3]\n",
            "\n",
            "Caracteristicas no usadas:\n",
            "[ 0  2  3  4  5  6  8  9 11 12 13 14 15 16 17 18 19 23 25 29]\n"
          ],
          "name": "stdout"
        }
      ]
    },
    {
      "cell_type": "code",
      "metadata": {
        "id": "bXQzO1qmSZQA",
        "colab_type": "code",
        "colab": {
          "base_uri": "https://localhost:8080/",
          "height": 279
        },
        "outputId": "82b431ca-5b2a-4b4e-9b15-5bb8a969d706"
      },
      "source": [
        "plt.figure()\n",
        "plt.plot(range(1,len(precision)+1),precision)\n",
        "plt.scatter(index,precision[index],c='r',s=50, label='Max. Precision =98,24%, C=C=0.028')\n",
        "#plt.scatter(5.298316906283707,0.02807216203941177,s=50, label='RBF-Precision=96%')\n",
        "\n",
        "plt.legend()\n",
        "plt.xlabel('Num. Clasificador')\n",
        "plt.ylabel('Precision')\n",
        "\n",
        "plt.show()"
      ],
      "execution_count": 66,
      "outputs": [
        {
          "output_type": "display_data",
          "data": {
            "image/png": "[encoded data removed]",
            "text/plain": [
              "<Figure size 432x288 with 1 Axes>"
            ]
          },
          "metadata": {
            "tags": []
          }
        }
      ]
    },
    {
      "cell_type": "code",
      "metadata": {
        "id": "tpbsDMjidtuA",
        "colab_type": "code",
        "colab": {}
      },
      "source": [
        "## TODO: variables vs C y accuracy\n",
        "\n",
        "## variabes vs c y accuracy vs C\n",
        "## combinar las graficas accuracy vs variables "
      ],
      "execution_count": 0,
      "outputs": []
    },
    {
      "cell_type": "markdown",
      "metadata": {
        "id": "9FzcGjc7S1Fx",
        "colab_type": "text"
      },
      "source": [
        "### Resultado Clasificadores Simples\n",
        "\n",
        "Para un clasificador con $Kernel=Linear$ y usando la regularizacion $L_{1}$ podemos concluir que los parametros optimos son:\n",
        "* $C=0.0028$\n",
        "* Obteniendo una $Precision=98,24$%\n",
        "\n",
        "La precision es la mayor obtenida hasta ahora despues de todos los clasificadores, como podemos observar con el valor de $C$, al igual que en el ejercicio 1, no se llega a quedar en el limite inferior, aunque si se queda cerca.\n",
        "\n",
        "Por otro lado, analizamos las caracterisitcas. Segun el vector de coeficientes, que se ha mostrado en celdas anteriores, si quitamos los pesos **w** iguales a cero, obtenemos los siguientes resultados:\n",
        "* Numero de caracteristicas usadas: 10\n",
        "\n",
        "* Caracteristicas usadas en orden de relevancia: [6 0 7 5 9 2 8 4 1 3]\n",
        "\n",
        "* Caracteristicas no usadas: [ 0  2  3  4  5  6  8  9 11 12 13 14 15 16 17 18 19 23 25 29] \n",
        "\n",
        "En conclusion, sobre 30 caracteristicas totales, obtenemos un resultado de precision mejor que con los clasificadores creados hasta ahora con un modelo mas simple y con un coste computacional menor, a cambio de usar solo las caracteristicas que son optimas para el modelo, en funcion del vector de pesos **w**\n",
        "\n",
        "  "
      ]
    },
    {
      "cell_type": "markdown",
      "metadata": {
        "id": "f-NKs0KPSZ94",
        "colab_type": "text"
      },
      "source": [
        "### GridSearchCV\n",
        "Realizaremos exactamente el mismo experimento usando el objeto GridSearchCV() para comparar resultados"
      ]
    },
    {
      "cell_type": "code",
      "metadata": {
        "id": "a39DujmwipzV",
        "colab_type": "code",
        "outputId": "9d4ac1ac-b2b8-46e7-8848-36174700c112",
        "colab": {
          "base_uri": "https://localhost:8080/",
          "height": 1000
        }
      },
      "source": [
        "from sklearn import svm, datasets\n",
        "from sklearn.model_selection import GridSearchCV\n",
        "\n",
        "C_range = np.logspace(-3,3, num=30)\n",
        "\n",
        "parameters = {'C':C_range}\n",
        "\n",
        "svc = LinearSVC(penalty='l1',  verbose=1, dual=False, random_state=0, C=C, max_iter=10000)\n",
        "\n",
        "clf = GridSearchCV(svc, parameters, cv=5)\n",
        "clf.fit(cancer.data, cancer.target)\n",
        "y2_pred = clf.predict(X_test)\n",
        "\n",
        "print(\"\\nprecision:\",accuracy_score(y_test, y2_pred))\n"
      ],
      "execution_count": 68,
      "outputs": [
        {
          "output_type": "stream",
          "text": [
            "[LibLinear][LibLinear][LibLinear][LibLinear][LibLinear][LibLinear][LibLinear][LibLinear][LibLinear][LibLinear][LibLinear][LibLinear][LibLinear][LibLinear][LibLinear][LibLinear][LibLinear][LibLinear][LibLinear][LibLinear][LibLinear][LibLinear][LibLinear][LibLinear][LibLinear][LibLinear][LibLinear][LibLinear][LibLinear][LibLinear][LibLinear][LibLinear]"
          ],
          "name": "stdout"
        },
        {
          "output_type": "stream",
          "text": [
            "/usr/local/lib/python3.6/dist-packages/sklearn/svm/base.py:929: ConvergenceWarning: Liblinear failed to converge, increase the number of iterations.\n",
            "  \"the number of iterations.\", ConvergenceWarning)\n"
          ],
          "name": "stderr"
        },
        {
          "output_type": "stream",
          "text": [
            "[LibLinear][LibLinear]"
          ],
          "name": "stdout"
        },
        {
          "output_type": "stream",
          "text": [
            "/usr/local/lib/python3.6/dist-packages/sklearn/svm/base.py:929: ConvergenceWarning: Liblinear failed to converge, increase the number of iterations.\n",
            "  \"the number of iterations.\", ConvergenceWarning)\n"
          ],
          "name": "stderr"
        },
        {
          "output_type": "stream",
          "text": [
            "[LibLinear]"
          ],
          "name": "stdout"
        },
        {
          "output_type": "stream",
          "text": [
            "/usr/local/lib/python3.6/dist-packages/sklearn/svm/base.py:929: ConvergenceWarning: Liblinear failed to converge, increase the number of iterations.\n",
            "  \"the number of iterations.\", ConvergenceWarning)\n"
          ],
          "name": "stderr"
        },
        {
          "output_type": "stream",
          "text": [
            "[LibLinear]"
          ],
          "name": "stdout"
        },
        {
          "output_type": "stream",
          "text": [
            "/usr/local/lib/python3.6/dist-packages/sklearn/svm/base.py:929: ConvergenceWarning: Liblinear failed to converge, increase the number of iterations.\n",
            "  \"the number of iterations.\", ConvergenceWarning)\n"
          ],
          "name": "stderr"
        },
        {
          "output_type": "stream",
          "text": [
            "[LibLinear]"
          ],
          "name": "stdout"
        },
        {
          "output_type": "stream",
          "text": [
            "/usr/local/lib/python3.6/dist-packages/sklearn/svm/base.py:929: ConvergenceWarning: Liblinear failed to converge, increase the number of iterations.\n",
            "  \"the number of iterations.\", ConvergenceWarning)\n"
          ],
          "name": "stderr"
        },
        {
          "output_type": "stream",
          "text": [
            "[LibLinear]"
          ],
          "name": "stdout"
        },
        {
          "output_type": "stream",
          "text": [
            "/usr/local/lib/python3.6/dist-packages/sklearn/svm/base.py:929: ConvergenceWarning: Liblinear failed to converge, increase the number of iterations.\n",
            "  \"the number of iterations.\", ConvergenceWarning)\n"
          ],
          "name": "stderr"
        },
        {
          "output_type": "stream",
          "text": [
            "[LibLinear]"
          ],
          "name": "stdout"
        },
        {
          "output_type": "stream",
          "text": [
            "/usr/local/lib/python3.6/dist-packages/sklearn/svm/base.py:929: ConvergenceWarning: Liblinear failed to converge, increase the number of iterations.\n",
            "  \"the number of iterations.\", ConvergenceWarning)\n"
          ],
          "name": "stderr"
        },
        {
          "output_type": "stream",
          "text": [
            "[LibLinear]"
          ],
          "name": "stdout"
        },
        {
          "output_type": "stream",
          "text": [
            "/usr/local/lib/python3.6/dist-packages/sklearn/svm/base.py:929: ConvergenceWarning: Liblinear failed to converge, increase the number of iterations.\n",
            "  \"the number of iterations.\", ConvergenceWarning)\n"
          ],
          "name": "stderr"
        },
        {
          "output_type": "stream",
          "text": [
            "[LibLinear]"
          ],
          "name": "stdout"
        },
        {
          "output_type": "stream",
          "text": [
            "/usr/local/lib/python3.6/dist-packages/sklearn/svm/base.py:929: ConvergenceWarning: Liblinear failed to converge, increase the number of iterations.\n",
            "  \"the number of iterations.\", ConvergenceWarning)\n"
          ],
          "name": "stderr"
        },
        {
          "output_type": "stream",
          "text": [
            "[LibLinear][LibLinear]"
          ],
          "name": "stdout"
        },
        {
          "output_type": "stream",
          "text": [
            "/usr/local/lib/python3.6/dist-packages/sklearn/svm/base.py:929: ConvergenceWarning: Liblinear failed to converge, increase the number of iterations.\n",
            "  \"the number of iterations.\", ConvergenceWarning)\n"
          ],
          "name": "stderr"
        },
        {
          "output_type": "stream",
          "text": [
            "[LibLinear][LibLinear]"
          ],
          "name": "stdout"
        },
        {
          "output_type": "stream",
          "text": [
            "/usr/local/lib/python3.6/dist-packages/sklearn/svm/base.py:929: ConvergenceWarning: Liblinear failed to converge, increase the number of iterations.\n",
            "  \"the number of iterations.\", ConvergenceWarning)\n"
          ],
          "name": "stderr"
        },
        {
          "output_type": "stream",
          "text": [
            "[LibLinear]"
          ],
          "name": "stdout"
        },
        {
          "output_type": "stream",
          "text": [
            "/usr/local/lib/python3.6/dist-packages/sklearn/svm/base.py:929: ConvergenceWarning: Liblinear failed to converge, increase the number of iterations.\n",
            "  \"the number of iterations.\", ConvergenceWarning)\n"
          ],
          "name": "stderr"
        },
        {
          "output_type": "stream",
          "text": [
            "[LibLinear]"
          ],
          "name": "stdout"
        },
        {
          "output_type": "stream",
          "text": [
            "/usr/local/lib/python3.6/dist-packages/sklearn/svm/base.py:929: ConvergenceWarning: Liblinear failed to converge, increase the number of iterations.\n",
            "  \"the number of iterations.\", ConvergenceWarning)\n"
          ],
          "name": "stderr"
        },
        {
          "output_type": "stream",
          "text": [
            "[LibLinear]"
          ],
          "name": "stdout"
        },
        {
          "output_type": "stream",
          "text": [
            "/usr/local/lib/python3.6/dist-packages/sklearn/svm/base.py:929: ConvergenceWarning: Liblinear failed to converge, increase the number of iterations.\n",
            "  \"the number of iterations.\", ConvergenceWarning)\n"
          ],
          "name": "stderr"
        },
        {
          "output_type": "stream",
          "text": [
            "[LibLinear][LibLinear]"
          ],
          "name": "stdout"
        },
        {
          "output_type": "stream",
          "text": [
            "/usr/local/lib/python3.6/dist-packages/sklearn/svm/base.py:929: ConvergenceWarning: Liblinear failed to converge, increase the number of iterations.\n",
            "  \"the number of iterations.\", ConvergenceWarning)\n"
          ],
          "name": "stderr"
        },
        {
          "output_type": "stream",
          "text": [
            "[LibLinear]"
          ],
          "name": "stdout"
        },
        {
          "output_type": "stream",
          "text": [
            "/usr/local/lib/python3.6/dist-packages/sklearn/svm/base.py:929: ConvergenceWarning: Liblinear failed to converge, increase the number of iterations.\n",
            "  \"the number of iterations.\", ConvergenceWarning)\n"
          ],
          "name": "stderr"
        },
        {
          "output_type": "stream",
          "text": [
            "[LibLinear]"
          ],
          "name": "stdout"
        },
        {
          "output_type": "stream",
          "text": [
            "/usr/local/lib/python3.6/dist-packages/sklearn/svm/base.py:929: ConvergenceWarning: Liblinear failed to converge, increase the number of iterations.\n",
            "  \"the number of iterations.\", ConvergenceWarning)\n"
          ],
          "name": "stderr"
        },
        {
          "output_type": "stream",
          "text": [
            "[LibLinear]"
          ],
          "name": "stdout"
        },
        {
          "output_type": "stream",
          "text": [
            "/usr/local/lib/python3.6/dist-packages/sklearn/svm/base.py:929: ConvergenceWarning: Liblinear failed to converge, increase the number of iterations.\n",
            "  \"the number of iterations.\", ConvergenceWarning)\n"
          ],
          "name": "stderr"
        },
        {
          "output_type": "stream",
          "text": [
            "[LibLinear][LibLinear]"
          ],
          "name": "stdout"
        },
        {
          "output_type": "stream",
          "text": [
            "/usr/local/lib/python3.6/dist-packages/sklearn/svm/base.py:929: ConvergenceWarning: Liblinear failed to converge, increase the number of iterations.\n",
            "  \"the number of iterations.\", ConvergenceWarning)\n"
          ],
          "name": "stderr"
        },
        {
          "output_type": "stream",
          "text": [
            "[LibLinear]"
          ],
          "name": "stdout"
        },
        {
          "output_type": "stream",
          "text": [
            "/usr/local/lib/python3.6/dist-packages/sklearn/svm/base.py:929: ConvergenceWarning: Liblinear failed to converge, increase the number of iterations.\n",
            "  \"the number of iterations.\", ConvergenceWarning)\n"
          ],
          "name": "stderr"
        },
        {
          "output_type": "stream",
          "text": [
            "[LibLinear]"
          ],
          "name": "stdout"
        },
        {
          "output_type": "stream",
          "text": [
            "/usr/local/lib/python3.6/dist-packages/sklearn/svm/base.py:929: ConvergenceWarning: Liblinear failed to converge, increase the number of iterations.\n",
            "  \"the number of iterations.\", ConvergenceWarning)\n"
          ],
          "name": "stderr"
        },
        {
          "output_type": "stream",
          "text": [
            "[LibLinear]"
          ],
          "name": "stdout"
        },
        {
          "output_type": "stream",
          "text": [
            "/usr/local/lib/python3.6/dist-packages/sklearn/svm/base.py:929: ConvergenceWarning: Liblinear failed to converge, increase the number of iterations.\n",
            "  \"the number of iterations.\", ConvergenceWarning)\n"
          ],
          "name": "stderr"
        },
        {
          "output_type": "stream",
          "text": [
            "[LibLinear]"
          ],
          "name": "stdout"
        },
        {
          "output_type": "stream",
          "text": [
            "/usr/local/lib/python3.6/dist-packages/sklearn/svm/base.py:929: ConvergenceWarning: Liblinear failed to converge, increase the number of iterations.\n",
            "  \"the number of iterations.\", ConvergenceWarning)\n"
          ],
          "name": "stderr"
        },
        {
          "output_type": "stream",
          "text": [
            "[LibLinear]"
          ],
          "name": "stdout"
        },
        {
          "output_type": "stream",
          "text": [
            "/usr/local/lib/python3.6/dist-packages/sklearn/svm/base.py:929: ConvergenceWarning: Liblinear failed to converge, increase the number of iterations.\n",
            "  \"the number of iterations.\", ConvergenceWarning)\n"
          ],
          "name": "stderr"
        },
        {
          "output_type": "stream",
          "text": [
            "[LibLinear]"
          ],
          "name": "stdout"
        },
        {
          "output_type": "stream",
          "text": [
            "/usr/local/lib/python3.6/dist-packages/sklearn/svm/base.py:929: ConvergenceWarning: Liblinear failed to converge, increase the number of iterations.\n",
            "  \"the number of iterations.\", ConvergenceWarning)\n"
          ],
          "name": "stderr"
        },
        {
          "output_type": "stream",
          "text": [
            "[LibLinear]"
          ],
          "name": "stdout"
        },
        {
          "output_type": "stream",
          "text": [
            "/usr/local/lib/python3.6/dist-packages/sklearn/svm/base.py:929: ConvergenceWarning: Liblinear failed to converge, increase the number of iterations.\n",
            "  \"the number of iterations.\", ConvergenceWarning)\n"
          ],
          "name": "stderr"
        },
        {
          "output_type": "stream",
          "text": [
            "[LibLinear]"
          ],
          "name": "stdout"
        },
        {
          "output_type": "stream",
          "text": [
            "/usr/local/lib/python3.6/dist-packages/sklearn/svm/base.py:929: ConvergenceWarning: Liblinear failed to converge, increase the number of iterations.\n",
            "  \"the number of iterations.\", ConvergenceWarning)\n"
          ],
          "name": "stderr"
        },
        {
          "output_type": "stream",
          "text": [
            "[LibLinear]"
          ],
          "name": "stdout"
        },
        {
          "output_type": "stream",
          "text": [
            "/usr/local/lib/python3.6/dist-packages/sklearn/svm/base.py:929: ConvergenceWarning: Liblinear failed to converge, increase the number of iterations.\n",
            "  \"the number of iterations.\", ConvergenceWarning)\n"
          ],
          "name": "stderr"
        },
        {
          "output_type": "stream",
          "text": [
            "[LibLinear]"
          ],
          "name": "stdout"
        },
        {
          "output_type": "stream",
          "text": [
            "/usr/local/lib/python3.6/dist-packages/sklearn/svm/base.py:929: ConvergenceWarning: Liblinear failed to converge, increase the number of iterations.\n",
            "  \"the number of iterations.\", ConvergenceWarning)\n"
          ],
          "name": "stderr"
        },
        {
          "output_type": "stream",
          "text": [
            "[LibLinear]"
          ],
          "name": "stdout"
        },
        {
          "output_type": "stream",
          "text": [
            "/usr/local/lib/python3.6/dist-packages/sklearn/svm/base.py:929: ConvergenceWarning: Liblinear failed to converge, increase the number of iterations.\n",
            "  \"the number of iterations.\", ConvergenceWarning)\n"
          ],
          "name": "stderr"
        },
        {
          "output_type": "stream",
          "text": [
            "[LibLinear]"
          ],
          "name": "stdout"
        },
        {
          "output_type": "stream",
          "text": [
            "/usr/local/lib/python3.6/dist-packages/sklearn/svm/base.py:929: ConvergenceWarning: Liblinear failed to converge, increase the number of iterations.\n",
            "  \"the number of iterations.\", ConvergenceWarning)\n"
          ],
          "name": "stderr"
        },
        {
          "output_type": "stream",
          "text": [
            "[LibLinear]"
          ],
          "name": "stdout"
        },
        {
          "output_type": "stream",
          "text": [
            "/usr/local/lib/python3.6/dist-packages/sklearn/svm/base.py:929: ConvergenceWarning: Liblinear failed to converge, increase the number of iterations.\n",
            "  \"the number of iterations.\", ConvergenceWarning)\n"
          ],
          "name": "stderr"
        },
        {
          "output_type": "stream",
          "text": [
            "[LibLinear]"
          ],
          "name": "stdout"
        },
        {
          "output_type": "stream",
          "text": [
            "/usr/local/lib/python3.6/dist-packages/sklearn/svm/base.py:929: ConvergenceWarning: Liblinear failed to converge, increase the number of iterations.\n",
            "  \"the number of iterations.\", ConvergenceWarning)\n"
          ],
          "name": "stderr"
        },
        {
          "output_type": "stream",
          "text": [
            "[LibLinear]"
          ],
          "name": "stdout"
        },
        {
          "output_type": "stream",
          "text": [
            "/usr/local/lib/python3.6/dist-packages/sklearn/svm/base.py:929: ConvergenceWarning: Liblinear failed to converge, increase the number of iterations.\n",
            "  \"the number of iterations.\", ConvergenceWarning)\n"
          ],
          "name": "stderr"
        },
        {
          "output_type": "stream",
          "text": [
            "[LibLinear]"
          ],
          "name": "stdout"
        },
        {
          "output_type": "stream",
          "text": [
            "/usr/local/lib/python3.6/dist-packages/sklearn/svm/base.py:929: ConvergenceWarning: Liblinear failed to converge, increase the number of iterations.\n",
            "  \"the number of iterations.\", ConvergenceWarning)\n"
          ],
          "name": "stderr"
        },
        {
          "output_type": "stream",
          "text": [
            "[LibLinear]"
          ],
          "name": "stdout"
        },
        {
          "output_type": "stream",
          "text": [
            "/usr/local/lib/python3.6/dist-packages/sklearn/svm/base.py:929: ConvergenceWarning: Liblinear failed to converge, increase the number of iterations.\n",
            "  \"the number of iterations.\", ConvergenceWarning)\n"
          ],
          "name": "stderr"
        },
        {
          "output_type": "stream",
          "text": [
            "[LibLinear]"
          ],
          "name": "stdout"
        },
        {
          "output_type": "stream",
          "text": [
            "/usr/local/lib/python3.6/dist-packages/sklearn/svm/base.py:929: ConvergenceWarning: Liblinear failed to converge, increase the number of iterations.\n",
            "  \"the number of iterations.\", ConvergenceWarning)\n"
          ],
          "name": "stderr"
        },
        {
          "output_type": "stream",
          "text": [
            "[LibLinear]"
          ],
          "name": "stdout"
        },
        {
          "output_type": "stream",
          "text": [
            "/usr/local/lib/python3.6/dist-packages/sklearn/svm/base.py:929: ConvergenceWarning: Liblinear failed to converge, increase the number of iterations.\n",
            "  \"the number of iterations.\", ConvergenceWarning)\n"
          ],
          "name": "stderr"
        },
        {
          "output_type": "stream",
          "text": [
            "[LibLinear]"
          ],
          "name": "stdout"
        },
        {
          "output_type": "stream",
          "text": [
            "/usr/local/lib/python3.6/dist-packages/sklearn/svm/base.py:929: ConvergenceWarning: Liblinear failed to converge, increase the number of iterations.\n",
            "  \"the number of iterations.\", ConvergenceWarning)\n"
          ],
          "name": "stderr"
        },
        {
          "output_type": "stream",
          "text": [
            "[LibLinear][LibLinear]"
          ],
          "name": "stdout"
        },
        {
          "output_type": "stream",
          "text": [
            "/usr/local/lib/python3.6/dist-packages/sklearn/svm/base.py:929: ConvergenceWarning: Liblinear failed to converge, increase the number of iterations.\n",
            "  \"the number of iterations.\", ConvergenceWarning)\n"
          ],
          "name": "stderr"
        },
        {
          "output_type": "stream",
          "text": [
            "[LibLinear]"
          ],
          "name": "stdout"
        },
        {
          "output_type": "stream",
          "text": [
            "/usr/local/lib/python3.6/dist-packages/sklearn/svm/base.py:929: ConvergenceWarning: Liblinear failed to converge, increase the number of iterations.\n",
            "  \"the number of iterations.\", ConvergenceWarning)\n"
          ],
          "name": "stderr"
        },
        {
          "output_type": "stream",
          "text": [
            "[LibLinear]"
          ],
          "name": "stdout"
        },
        {
          "output_type": "stream",
          "text": [
            "/usr/local/lib/python3.6/dist-packages/sklearn/svm/base.py:929: ConvergenceWarning: Liblinear failed to converge, increase the number of iterations.\n",
            "  \"the number of iterations.\", ConvergenceWarning)\n"
          ],
          "name": "stderr"
        },
        {
          "output_type": "stream",
          "text": [
            "[LibLinear]"
          ],
          "name": "stdout"
        },
        {
          "output_type": "stream",
          "text": [
            "/usr/local/lib/python3.6/dist-packages/sklearn/svm/base.py:929: ConvergenceWarning: Liblinear failed to converge, increase the number of iterations.\n",
            "  \"the number of iterations.\", ConvergenceWarning)\n"
          ],
          "name": "stderr"
        },
        {
          "output_type": "stream",
          "text": [
            "[LibLinear][LibLinear][LibLinear]"
          ],
          "name": "stdout"
        },
        {
          "output_type": "stream",
          "text": [
            "/usr/local/lib/python3.6/dist-packages/sklearn/svm/base.py:929: ConvergenceWarning: Liblinear failed to converge, increase the number of iterations.\n",
            "  \"the number of iterations.\", ConvergenceWarning)\n"
          ],
          "name": "stderr"
        },
        {
          "output_type": "stream",
          "text": [
            "[LibLinear]"
          ],
          "name": "stdout"
        },
        {
          "output_type": "stream",
          "text": [
            "/usr/local/lib/python3.6/dist-packages/sklearn/svm/base.py:929: ConvergenceWarning: Liblinear failed to converge, increase the number of iterations.\n",
            "  \"the number of iterations.\", ConvergenceWarning)\n"
          ],
          "name": "stderr"
        },
        {
          "output_type": "stream",
          "text": [
            "[LibLinear][LibLinear][LibLinear][LibLinear]"
          ],
          "name": "stdout"
        },
        {
          "output_type": "stream",
          "text": [
            "/usr/local/lib/python3.6/dist-packages/sklearn/svm/base.py:929: ConvergenceWarning: Liblinear failed to converge, increase the number of iterations.\n",
            "  \"the number of iterations.\", ConvergenceWarning)\n"
          ],
          "name": "stderr"
        },
        {
          "output_type": "stream",
          "text": [
            "[LibLinear][LibLinear]"
          ],
          "name": "stdout"
        },
        {
          "output_type": "stream",
          "text": [
            "/usr/local/lib/python3.6/dist-packages/sklearn/svm/base.py:929: ConvergenceWarning: Liblinear failed to converge, increase the number of iterations.\n",
            "  \"the number of iterations.\", ConvergenceWarning)\n"
          ],
          "name": "stderr"
        },
        {
          "output_type": "stream",
          "text": [
            "[LibLinear][LibLinear]"
          ],
          "name": "stdout"
        },
        {
          "output_type": "stream",
          "text": [
            "/usr/local/lib/python3.6/dist-packages/sklearn/svm/base.py:929: ConvergenceWarning: Liblinear failed to converge, increase the number of iterations.\n",
            "  \"the number of iterations.\", ConvergenceWarning)\n"
          ],
          "name": "stderr"
        },
        {
          "output_type": "stream",
          "text": [
            "[LibLinear]"
          ],
          "name": "stdout"
        },
        {
          "output_type": "stream",
          "text": [
            "/usr/local/lib/python3.6/dist-packages/sklearn/svm/base.py:929: ConvergenceWarning: Liblinear failed to converge, increase the number of iterations.\n",
            "  \"the number of iterations.\", ConvergenceWarning)\n"
          ],
          "name": "stderr"
        },
        {
          "output_type": "stream",
          "text": [
            "[LibLinear][LibLinear]"
          ],
          "name": "stdout"
        },
        {
          "output_type": "stream",
          "text": [
            "/usr/local/lib/python3.6/dist-packages/sklearn/svm/base.py:929: ConvergenceWarning: Liblinear failed to converge, increase the number of iterations.\n",
            "  \"the number of iterations.\", ConvergenceWarning)\n"
          ],
          "name": "stderr"
        },
        {
          "output_type": "stream",
          "text": [
            "[LibLinear][LibLinear]"
          ],
          "name": "stdout"
        },
        {
          "output_type": "stream",
          "text": [
            "/usr/local/lib/python3.6/dist-packages/sklearn/svm/base.py:929: ConvergenceWarning: Liblinear failed to converge, increase the number of iterations.\n",
            "  \"the number of iterations.\", ConvergenceWarning)\n"
          ],
          "name": "stderr"
        },
        {
          "output_type": "stream",
          "text": [
            "[LibLinear]"
          ],
          "name": "stdout"
        },
        {
          "output_type": "stream",
          "text": [
            "/usr/local/lib/python3.6/dist-packages/sklearn/svm/base.py:929: ConvergenceWarning: Liblinear failed to converge, increase the number of iterations.\n",
            "  \"the number of iterations.\", ConvergenceWarning)\n"
          ],
          "name": "stderr"
        },
        {
          "output_type": "stream",
          "text": [
            "[LibLinear]"
          ],
          "name": "stdout"
        },
        {
          "output_type": "stream",
          "text": [
            "/usr/local/lib/python3.6/dist-packages/sklearn/svm/base.py:929: ConvergenceWarning: Liblinear failed to converge, increase the number of iterations.\n",
            "  \"the number of iterations.\", ConvergenceWarning)\n"
          ],
          "name": "stderr"
        },
        {
          "output_type": "stream",
          "text": [
            "[LibLinear]"
          ],
          "name": "stdout"
        },
        {
          "output_type": "stream",
          "text": [
            "/usr/local/lib/python3.6/dist-packages/sklearn/svm/base.py:929: ConvergenceWarning: Liblinear failed to converge, increase the number of iterations.\n",
            "  \"the number of iterations.\", ConvergenceWarning)\n"
          ],
          "name": "stderr"
        },
        {
          "output_type": "stream",
          "text": [
            "[LibLinear]"
          ],
          "name": "stdout"
        },
        {
          "output_type": "stream",
          "text": [
            "/usr/local/lib/python3.6/dist-packages/sklearn/svm/base.py:929: ConvergenceWarning: Liblinear failed to converge, increase the number of iterations.\n",
            "  \"the number of iterations.\", ConvergenceWarning)\n"
          ],
          "name": "stderr"
        },
        {
          "output_type": "stream",
          "text": [
            "[LibLinear][LibLinear][LibLinear][LibLinear][LibLinear]"
          ],
          "name": "stdout"
        },
        {
          "output_type": "stream",
          "text": [
            "/usr/local/lib/python3.6/dist-packages/sklearn/svm/base.py:929: ConvergenceWarning: Liblinear failed to converge, increase the number of iterations.\n",
            "  \"the number of iterations.\", ConvergenceWarning)\n"
          ],
          "name": "stderr"
        },
        {
          "output_type": "stream",
          "text": [
            "[LibLinear][LibLinear][LibLinear][LibLinear][LibLinear][LibLinear][LibLinear][LibLinear][LibLinear][LibLinear][LibLinear][LibLinear][LibLinear][LibLinear][LibLinear][LibLinear][LibLinear][LibLinear][LibLinear][LibLinear][LibLinear][LibLinear][LibLinear][LibLinear][LibLinear][LibLinear]"
          ],
          "name": "stdout"
        },
        {
          "output_type": "stream",
          "text": [
            "/usr/local/lib/python3.6/dist-packages/sklearn/svm/base.py:929: ConvergenceWarning: Liblinear failed to converge, increase the number of iterations.\n",
            "  \"the number of iterations.\", ConvergenceWarning)\n"
          ],
          "name": "stderr"
        },
        {
          "output_type": "stream",
          "text": [
            "[LibLinear][LibLinear][LibLinear][LibLinear][LibLinear][LibLinear][LibLinear][LibLinear][LibLinear][LibLinear][LibLinear][LibLinear][LibLinear][LibLinear][LibLinear]"
          ],
          "name": "stdout"
        },
        {
          "output_type": "stream",
          "text": [
            "/usr/local/lib/python3.6/dist-packages/sklearn/svm/base.py:929: ConvergenceWarning: Liblinear failed to converge, increase the number of iterations.\n",
            "  \"the number of iterations.\", ConvergenceWarning)\n"
          ],
          "name": "stderr"
        },
        {
          "output_type": "stream",
          "text": [
            "[LibLinear][LibLinear][LibLinear][LibLinear]\n",
            "precision: 0.9473684210526315\n"
          ],
          "name": "stdout"
        },
        {
          "output_type": "execute_result",
          "data": {
            "text/plain": [
              "['mean_fit_time',\n",
              " 'mean_score_time',\n",
              " 'mean_test_score',\n",
              " 'param_C',\n",
              " 'params',\n",
              " 'rank_test_score',\n",
              " 'split0_test_score',\n",
              " 'split1_test_score',\n",
              " 'split2_test_score',\n",
              " 'split3_test_score',\n",
              " 'split4_test_score',\n",
              " 'std_fit_time',\n",
              " 'std_score_time',\n",
              " 'std_test_score']"
            ]
          },
          "metadata": {
            "tags": []
          },
          "execution_count": 68
        }
      ]
    },
    {
      "cell_type": "code",
      "metadata": {
        "id": "ubcxLld-WIVJ",
        "colab_type": "code",
        "colab": {
          "base_uri": "https://localhost:8080/",
          "height": 289
        },
        "outputId": "0c6f233d-db6b-4fb7-9b90-980bf7dee704"
      },
      "source": [
        "print(\"\\n Vector de Pesos 'w' de las caracteristicas\")\n",
        "print(clas.coef_)\n",
        "print(\"\\nCaracteristicas usadas:\")\n",
        "print(len(clas.coef_[clas.coef_!=0]))\n",
        "print(\"\\nCaracteristicas usadas en orden de relevancia:\")\n",
        "print((-clas.coef_[clas.coef_!=0]).argsort())\n",
        "print(\"\\nCaracteristicas no usadas:\")\n",
        "print(np.transpose(np.argwhere(clas.coef_ == 0))[1,:])"
      ],
      "execution_count": 70,
      "outputs": [
        {
          "output_type": "stream",
          "text": [
            "\n",
            " Vector de Pesos 'w' de las caracteristicas\n",
            "[[ 0.         -0.01856714  0.          0.          0.          0.\n",
            "   0.         -0.29088099  0.          0.         -0.10341722  0.\n",
            "   0.          0.          0.          0.          0.          0.\n",
            "   0.          0.         -0.4936119  -0.16589454 -0.05309853  0.\n",
            "  -0.01582267  0.         -0.052548   -0.16016103 -0.06302265  0.        ]]\n",
            "\n",
            "Caracteristicas usadas:\n",
            "10\n",
            "\n",
            "Caracteristicas usadas en orden de relevancia:\n",
            "[6 0 7 5 9 2 8 4 1 3]\n",
            "\n",
            "Caracteristicas no usadas:\n",
            "[ 0  2  3  4  5  6  8  9 11 12 13 14 15 16 17 18 19 23 25 29]\n"
          ],
          "name": "stdout"
        }
      ]
    },
    {
      "cell_type": "markdown",
      "metadata": {
        "id": "CRQ4DLqiWZs0",
        "colab_type": "text"
      },
      "source": [
        "### Resultado GridSearchCV()\n",
        "En este caso el coste computacional es mayor que con un clasificador simple y por otro lado obtenemos que los pesos de las caracteristicas y las caracteristicas usadas son las mismas, salvo la precision del modelo que disminuye al 94%:\n",
        "\n",
        "* Numero de caracteristicas usadas: 10\n",
        "\n",
        "* Caracteristicas usadas en orden de relevancia: [6 0 7 5 9 2 8 4 1 3]\n",
        "\n",
        "* Caracteristicas no usadas: [ 0  2  3  4  5  6  8  9 11 12 13 14 15 16 17 18 19 23 25 29] "
      ]
    },
    {
      "cell_type": "markdown",
      "metadata": {
        "id": "YDWzOfnquFfV",
        "colab_type": "text"
      },
      "source": [
        "### Exercise 3.2 Recursive Feature Elimination (RFE)\n",
        "\n",
        "To understand the working principles of the RFE method, let's present its pseudocode:\n",
        "* Start with all the variables selected. Let's define $S=\\left\\lbrace 1, \\ldots, D\\right\\rbrace $ the set of indexes with the selected features (we start with all of them).\n",
        "\n",
        "* For $d = 1, \\ldots, D$\n",
        "  * Train a SVM with using the features in $S$\n",
        "  * Compute $ \\displaystyle \\Vert {\\bf w} \\Vert_2^2$ with the training data and using the features in $S$. That is, if ${\\bf x}_S$ is the data ${\\bf x}$, but limited to the features in $S$, we have to compute:\n",
        "$$  \\Vert {\\bf w}_S \\Vert_2^2 = \\sum_{i=1}^N  \\sum_{j=1}^N \\alpha^{(i)} \\alpha^{(j)} K({\\bf x}^{(i)}_S,{\\bf x}^{(j)}_S)$$ \n",
        "\n",
        "  * For each variable $d' \\in S$, built ${\\bf x}_{S-d'}= {\\bf x}_S \\setminus x_{d'}$ and compute $ \\displaystyle \\Vert {\\bf w} \\Vert_2^2$ with the data in ${\\bf x}_{S-d'}$\n",
        "$$  \\Vert {\\bf w}_{S-d'} \\Vert_2^2 = \\sum_{l=1}^L  \\sum_{l'=1}^L \\alpha^{(l)} \\alpha^{(l')} K({\\bf x}^{(l)}_{S-d'},{\\bf x}^{(l')}_{S-d'})$$  \n",
        "  * Remove the feature $d^*$, where \n",
        "  $$d^{*} = \\underset{d'}{\\operatorname{argmin}} \\left\\lbrace \\Vert {\\bf w}_S \\Vert_2^2 -\\Vert {\\bf w}_{S-d'} \\Vert_2^2 \\right\\rbrace $$\n",
        "  * Define $S = S \\setminus d^*$\n",
        "  * Stop when any criteria is reached (a given number of features or a degradation in the SVM performance)\n",
        "\n",
        "<br>\n",
        "\n",
        "Starting from this pseudocode, implement the RFE method for a kernelized SVM. Then,  analyze the curve test accuracy vs. number of selected features when a linear kernel and a RBF kernel are used (you can use the default values of $C$ and $\\gamma$ ). Finally, don't forget to analyze the obtained results. \n",
        "\n",
        "\n",
        "Note: Scikit-Learn provides a function with a full implementation of the RFE method and extend this implementation for any classifier. In fact, this function, [RFE( )](http://scikit-learn.org/stable/modules/generated/sklearn.feature_selection.RFE.html), let user select the classifier to consider, the number of selected features (parameter n\\_features\\_to\\_select) and the number of features removed in each step (parameter step).  As result, in parameter .ranking returns the ranking position of the each feature (i.e., .ranking\\_[i] corresponds to the ranking position of the i-th feature). However, this implementation is only thought for linear methods (it is quite similar to the pruning scheme for ridge regression used in the first HW). Here, I want you to work with the original version of this method [1] which is specifically proposed for no-linear SMVs; so, you have to implement the given method. Anyway, in case you have time, you can try to compare the proposed RFE method with that of Scikit-Learn."
      ]
    },
    {
      "cell_type": "markdown",
      "metadata": {
        "id": "Cx1YFJPwqVnP",
        "colab_type": "text"
      },
      "source": [
        "### Solution"
      ]
    },
    {
      "cell_type": "code",
      "metadata": {
        "id": "gWkqy7wDzigZ",
        "colab_type": "code",
        "colab": {}
      },
      "source": [
        "def RFE():\n",
        "  pass"
      ],
      "execution_count": 0,
      "outputs": []
    }
  ]
}