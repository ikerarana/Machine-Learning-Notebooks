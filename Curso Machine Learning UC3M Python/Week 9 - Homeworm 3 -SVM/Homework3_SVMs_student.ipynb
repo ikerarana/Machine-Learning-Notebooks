{
  "nbformat": 4,
  "nbformat_minor": 0,
  "metadata": {
    "colab": {
      "name": "Homework3_SVMs_student.ipynb",
      "provenance": [],
      "collapsed_sections": []
    },
    "kernelspec": {
      "name": "python3",
      "display_name": "Python 3"
    }
  },
  "cells": [
    {
      "cell_type": "markdown",
      "metadata": {
        "id": "6eAsdbmD4uOX",
        "colab_type": "text"
      },
      "source": [
        "# Week 9: Homework 3\n",
        "\n",
        "----------------------------------------------------\n",
        "Machine Learning                      \n",
        "\n",
        "Year 2019/2020\n",
        "\n",
        "*Vanessa Gómez Verdejo vanessa@tsc.uc3m.es* \n",
        "\n",
        "----------------------------------------------------"
      ]
    },
    {
      "cell_type": "markdown",
      "metadata": {
        "id": "lgDm0Z5bcazI",
        "colab_type": "text"
      },
      "source": [
        "The aim of this HW is to analyse the performance of SVMs with different cofigurations (different kernels and parameters), as well as different approaches to combine the SMV training with a feature selection stage. As in the previous homework, we will work with the Breast Cancer database.\n",
        "\n",
        "Let's start loading and preparing the data and, next, complete the given exercises."
      ]
    },
    {
      "cell_type": "markdown",
      "metadata": {
        "id": "CpjaOvF7Ldhq",
        "colab_type": "text"
      },
      "source": [
        "### Exercise 1. Load and prepare the data\n",
        "\n",
        "As you already know, the  [Breast cancer data set](https://scikit-learn.org/stable/modules/generated/sklearn.datasets.load_breast_cancer.html) is a binary classification problem aimed to detect breast cancer from a  digitized image of breast mass characterized with 30 input features describing the mass.\n",
        "\n",
        "Complete next cell code, so that you can:\n",
        "* Load the dataset\n",
        "* Create training and testing partitions with the 60% and 40% of the original data\n",
        "* Normalize the data to zero mean and unitary standard deviation "
      ]
    },
    {
      "cell_type": "markdown",
      "metadata": {
        "id": "vVLGP9TtgWzs",
        "colab_type": "text"
      },
      "source": [
        "### Solution"
      ]
    },
    {
      "cell_type": "code",
      "metadata": {
        "colab_type": "code",
        "outputId": "d19ab377-1583-4934-a7c8-8ada9bf85200",
        "id": "pSJXB2zAoNWl",
        "colab": {
          "base_uri": "https://localhost:8080/",
          "height": 1000
        }
      },
      "source": [
        "# <SOL>\n",
        "\n",
        "import numpy as np\n",
        "from sklearn.datasets import load_breast_cancer\n",
        "\n",
        "from sklearn.model_selection import train_test_split\n",
        "from sklearn.preprocessing import StandardScaler\n",
        "from sklearn import preprocessing\n",
        "%matplotlib inline\n",
        "\n",
        "# Initialize the random generator seed to compare results\n",
        " # si los resultados estan ordenados, como en el caso del irish dataset, los desordenamos usando una semilla aleatoria, para que el modelo entrene con todas las\n",
        "# diferentes caracteristicas posibles\n",
        "np.random.seed(0)\n",
        "\n",
        "\n",
        "# Cargamos los datos\n",
        "cancer = load_breast_cancer()\n",
        "\n",
        "X_train, X_test, y_train, y_test = train_test_split(cancer.data,cancer.target,test_size=0.4,random_state=109)\n",
        "X = cancer.data\n",
        "Y = cancer.target\n",
        "\n",
        "\n",
        "# Normalize the data\n",
        "scaler = StandardScaler()\n",
        "X_train = scaler.fit_transform(X_train)\n",
        "X_test = scaler.transform(X_test)\n",
        "print(f\"\\n Transformador de datos con media 0 y varianza 1: \\n{scaler}\")\n",
        "\n",
        "#X_train = preprocessing.scale(X_train)\n",
        "print(f\"\\n Datos normalizados media: \\n {X_train.mean(axis=0)}\")\n",
        "print(f\"\\n Datos normalizados varianza: \\n {X_train.std(axis=0)}\")\n",
        "\n",
        "#X_test=X_test.preprocessing.scale(X_train)\n",
        "\n",
        "print(f\"\\nVariables de salida \\n{cancer.target_names}\")\n",
        "print(f\"\\nLista de caracteristicas del dataset \\n{cancer.feature_names}\")\n",
        "print(f\"\\nTamaño del conjunto de datos \\n{cancer.data.shape,cancer.target.shape}\")\n",
        "print(f\"\\nTamaño del conjunto de datos de entrenamiento \\n{X_train.shape,y_train.shape}\")\n",
        "print(f\"\\nTamaño del conjunto de datos de test \\n{X_test.shape,y_test.shape}\")\n",
        "print(f\"\\nDatos de entrenamiento normalizados \\n{X_train}\")\n",
        "print(f\"\\nDatos de test normalizados \\n{X_test}\")\n",
        "\n",
        "\n",
        "# </SOL>"
      ],
      "execution_count": 48,
      "outputs": [
        {
          "output_type": "stream",
          "text": [
            "\n",
            " Transformador de datos con media 0 y varianza 1: \n",
            "StandardScaler(copy=True, with_mean=True, with_std=True)\n",
            "\n",
            " Datos normalizados media: \n",
            " [-4.00852372e-15  1.51068470e-15 -1.00180535e-15 -7.20831020e-16\n",
            "  5.32809378e-16 -1.02492143e-15 -7.15703157e-16 -8.53015931e-17\n",
            "  4.91558570e-15  2.24974812e-15  9.50689511e-16  5.66506763e-17\n",
            " -6.81761588e-16  4.98135257e-17 -6.12698227e-16  9.41573310e-16\n",
            "  5.06437512e-16 -1.24826835e-15 -9.52642982e-16  3.87438534e-17\n",
            " -2.82374319e-15  2.95511416e-15 -8.99248092e-16 -1.14961804e-15\n",
            "  7.18356622e-15 -1.79572877e-15 -3.33473881e-16 -8.20458071e-17\n",
            "  2.60137301e-16  1.71579922e-15]\n",
            "\n",
            " Datos normalizados varianza: \n",
            " [1. 1. 1. 1. 1. 1. 1. 1. 1. 1. 1. 1. 1. 1. 1. 1. 1. 1. 1. 1. 1. 1. 1. 1.\n",
            " 1. 1. 1. 1. 1. 1.]\n",
            "\n",
            "Variables de salida \n",
            "['malignant' 'benign']\n",
            "\n",
            "Lista de caracteristicas del dataset \n",
            "['mean radius' 'mean texture' 'mean perimeter' 'mean area'\n",
            " 'mean smoothness' 'mean compactness' 'mean concavity'\n",
            " 'mean concave points' 'mean symmetry' 'mean fractal dimension'\n",
            " 'radius error' 'texture error' 'perimeter error' 'area error'\n",
            " 'smoothness error' 'compactness error' 'concavity error'\n",
            " 'concave points error' 'symmetry error' 'fractal dimension error'\n",
            " 'worst radius' 'worst texture' 'worst perimeter' 'worst area'\n",
            " 'worst smoothness' 'worst compactness' 'worst concavity'\n",
            " 'worst concave points' 'worst symmetry' 'worst fractal dimension']\n",
            "\n",
            "Tamaño del conjunto de datos \n",
            "((569, 30), (569,))\n",
            "\n",
            "Tamaño del conjunto de datos de entrenamiento \n",
            "((341, 30), (341,))\n",
            "\n",
            "Tamaño del conjunto de datos de test \n",
            "((228, 30), (228,))\n",
            "\n",
            "Datos de entrenamiento normalizados \n",
            "[[-0.52476489  2.52607465 -0.59244412 ... -1.70465605 -0.7792124\n",
            "  -0.8789586 ]\n",
            " [-0.129526   -0.69020179 -0.17149749 ... -0.37602253 -0.13234388\n",
            "  -0.28186617]\n",
            " [-0.12111666 -0.13607792 -0.13200829 ...  0.25532263 -0.06228003\n",
            "   0.43590904]\n",
            " ...\n",
            " [ 0.55163038 -0.28463027  0.5344227  ...  0.15152313 -0.15515536\n",
            "  -0.06578653]\n",
            " [-1.02652207  0.14216301 -1.02804654 ... -0.67643048 -0.00688072\n",
            "  -0.30140529]\n",
            " [ 0.88239768  0.67742309  0.91303041 ...  0.62777963  0.29292736\n",
            "  -0.45312079]]\n",
            "\n",
            "Datos de test normalizados \n",
            "[[-0.69295165  0.17989059 -0.68241434 ... -0.46516798  0.51941281\n",
            "   0.38935997]\n",
            " [-0.61726761 -0.23982877 -0.66205909 ... -0.74359485 -0.16656111\n",
            "  -0.49679646]\n",
            " [ 1.40657976  1.73143744  1.39341438 ...  1.15288295  0.60414118\n",
            "   0.8318635 ]\n",
            " ...\n",
            " [-0.89757888 -0.15729968 -0.87863898 ... -0.50073457 -1.03665629\n",
            "  -0.31060017]\n",
            " [-0.47430886 -0.83875415 -0.38278501 ...  0.95291628  1.78870897\n",
            "   2.39499286]\n",
            " [ 0.8852008  -0.51335374  0.8560357  ...  1.12998601  0.40861418\n",
            "  -0.09164712]]\n"
          ],
          "name": "stdout"
        }
      ]
    },
    {
      "cell_type": "code",
      "metadata": {
        "id": "hlBgYIGMoU9o",
        "colab_type": "code",
        "outputId": "ca07abe4-e11e-4d9c-9a93-69c4267be510",
        "colab": {
          "base_uri": "https://localhost:8080/",
          "height": 1000
        }
      },
      "source": [
        "import matplotlib.pyplot as plt\n",
        "import numpy as np\n",
        "\n",
        "# cargamos los nombres de las caracteristicas\n",
        "feature_names = cancer.feature_names\n",
        "names = cancer[\"feature_names\"]\n",
        "\n",
        "# pintamos el numero de evidencias que hay en los datos\n",
        "\n",
        "D = X.shape[1] # cogemos la segunda posicion de la dimension de la matriz 442\n",
        "\n",
        "plt.figure( figsize=(20,30))\n",
        "\n",
        "for d in range (D):\n",
        "  plt.subplot(6,5,d+1)\n",
        "  plt.plot(cancer.data [:,d],cancer.target,'.',)\n",
        "  plt.title(feature_names[d])"
      ],
      "execution_count": 2,
      "outputs": [
        {
          "output_type": "display_data",
          "data": {
            "image/png": "[encoded data removed]",
            "text/plain": [
              "<Figure size 1440x2160 with 30 Axes>"
            ]
          },
          "metadata": {
            "tags": []
          }
        }
      ]
    },
    {
      "cell_type": "code",
      "metadata": {
        "id": "v2SJVmjU1__X",
        "colab_type": "code",
        "outputId": "acbbed8f-b0b7-488b-9e86-cafa1b07534f",
        "colab": {
          "base_uri": "https://localhost:8080/",
          "height": 221
        }
      },
      "source": [
        "\n",
        "print(\"Caracteristicas: \\n \", cancer.feature_names)\n",
        "\n",
        "print(\"Objetivo: \\n\", cancer.target_names)\n",
        "#cancer.data.shape"
      ],
      "execution_count": 5,
      "outputs": [
        {
          "output_type": "stream",
          "text": [
            "Caracteristicas: \n",
            "  ['mean radius' 'mean texture' 'mean perimeter' 'mean area'\n",
            " 'mean smoothness' 'mean compactness' 'mean concavity'\n",
            " 'mean concave points' 'mean symmetry' 'mean fractal dimension'\n",
            " 'radius error' 'texture error' 'perimeter error' 'area error'\n",
            " 'smoothness error' 'compactness error' 'concavity error'\n",
            " 'concave points error' 'symmetry error' 'fractal dimension error'\n",
            " 'worst radius' 'worst texture' 'worst perimeter' 'worst area'\n",
            " 'worst smoothness' 'worst compactness' 'worst concavity'\n",
            " 'worst concave points' 'worst symmetry' 'worst fractal dimension']\n",
            "Objetivo: \n",
            " ['malignant' 'benign']\n"
          ],
          "name": "stdout"
        }
      ]
    },
    {
      "cell_type": "markdown",
      "metadata": {
        "id": "2szGWImcK10A",
        "colab_type": "text"
      },
      "source": [
        "### Exercise 2. Analysis of SVM performance\n",
        "\n",
        "The goal of Exercise 2 is to design the best possible SVM. So, please, check different configurations (kernels, parameters, ...) and select the configuration with better generalization capabilities. \n",
        "\n",
        "Be careful with the kind of analysis that you carry out. In case you only want to compare different configurations (either different kernels or different multiclass approaches), you can get the final test performance, for each configuration, and compare them. But, in case you want to select the best possible configuration (for example, either I should use a linear kernel or a RBF one), you have to use an accuracy score over a validation partition (or a cross-validation) process. "
      ]
    },
    {
      "cell_type": "markdown",
      "metadata": {
        "id": "5C4S1x9ZqRAu",
        "colab_type": "text"
      },
      "source": [
        "### Solution"
      ]
    },
    {
      "cell_type": "markdown",
      "metadata": {
        "id": "Z9cvMF9dGYBO",
        "colab_type": "text"
      },
      "source": [
        "## Creacion y evaluacion de los clasificadores\n",
        "Se hara de dos maneras, creando clasificadores independientes con diferentes parametros de C, gamma y kernel. A traves de un objeto GridSearchCV(), donde se evaluara todo a la vez y el propio obejto nos dara los mejores resultados.\n",
        "\n",
        "En ambos se usara la validacion cruzada"
      ]
    },
    {
      "cell_type": "code",
      "metadata": {
        "id": "PQmjG1yu6bOf",
        "colab_type": "code",
        "colab": {}
      },
      "source": [
        "import numpy as np\n",
        "import matplotlib.pyplot as plt\n",
        "from matplotlib.colors import Normalize\n",
        "\n",
        "from sklearn.svm import SVC\n",
        "from sklearn.preprocessing import StandardScaler\n",
        "from sklearn.model_selection import StratifiedShuffleSplit\n",
        "from sklearn.model_selection import GridSearchCV"
      ],
      "execution_count": 0,
      "outputs": []
    },
    {
      "cell_type": "code",
      "metadata": {
        "id": "2sA7b04j6nzH",
        "colab_type": "code",
        "outputId": "74a306b2-a7f1-4f6c-bfbf-c399223720c7",
        "colab": {
          "base_uri": "https://localhost:8080/",
          "height": 221
        }
      },
      "source": [
        "\n",
        "C_range = np.logspace(-3,3, num=30)\n",
        "gamma_range = np.logspace(-3,3, num=30)\n",
        "param_grid = dict(gamma=gamma_range, C=C_range)\n",
        "cv = StratifiedShuffleSplit(n_splits=5, test_size=0.4, random_state=42)\n",
        "\n",
        "grid = GridSearchCV(SVC(kernel='linear'), param_grid=param_grid, cv=cv)\n",
        "grid.fit(X_train, y_train)\n",
        "print(\"Los mejores parametros para un kernel lineal (linear) son: \\n %s \\n con un valore de precision de  %0.2f \\n\" % (grid.best_params_, grid.best_score_))\n",
        "\n",
        "grid = GridSearchCV(SVC(kernel='poly'), param_grid=param_grid, cv=cv)\n",
        "grid.fit(X_train, y_train)\n",
        "print(\"Los mejores parametros para un kernel polykernel (poly) son: \\n %s \\n con un valore de precision de %0.2f \\n\" % (grid.best_params_, grid.best_score_))\n",
        "\n",
        "grid = GridSearchCV(SVC(kernel='rbf'), param_grid=param_grid, cv=cv)\n",
        "grid.fit(X_train, y_train)\n",
        "print(\"Los mejores parametros para un kernel Radial Basis Function (RBF) son: \\n %s \\n con un valore de precision de %0.2f \\n\" % (grid.best_params_, grid.best_score_))\n"
      ],
      "execution_count": 7,
      "outputs": [
        {
          "output_type": "stream",
          "text": [
            "Los mejores parametros para un kernel lineal (linear) son: \n",
            " {'C': 0.18873918221350977, 'gamma': 0.001} \n",
            " con un valore de precision de  0.96 \n",
            "\n",
            "Los mejores parametros para un kernel polykernel (poly) son: \n",
            " {'C': 0.001, 'gamma': 1.2689610031679222} \n",
            " con un valore de precision de 0.94 \n",
            "\n",
            "Los mejores parametros para un kernel Radial Basis Function (RBF) son: \n",
            " {'C': 5.298316906283707, 'gamma': 0.02807216203941177} \n",
            " con un valore de precision de 0.96 \n",
            "\n"
          ],
          "name": "stdout"
        }
      ]
    },
    {
      "cell_type": "code",
      "metadata": {
        "id": "jFIXKLxRAhh1",
        "colab_type": "code",
        "colab": {}
      },
      "source": [
        "from sklearn import metrics\n",
        "\n",
        "C_range = np.logspace(-3,3, num=30)\n",
        "gamma_range = np.logspace(-3,3, num=30)\n",
        "\n",
        "kernels =['linear', 'poly', 'rbf']\n",
        "classifiers = []\n",
        "\n",
        "for kernel in kernels:\n",
        "  for C in C_range:\n",
        "    for gamma in gamma_range:\n",
        "        clf = SVC(kernel = kernel, C=C, gamma=gamma)\n",
        "        clf.fit(X_train, y_train)\n",
        "        classifiers.append((C, gamma, clf))\n",
        "\n"
      ],
      "execution_count": 0,
      "outputs": []
    },
    {
      "cell_type": "code",
      "metadata": {
        "id": "mNC0F8zX7Eqp",
        "colab_type": "code",
        "colab": {}
      },
      "source": [
        "contador = 1\n",
        "precision = []\n",
        "for classifier in classifiers:\n",
        "  #print(f\" \\nParametros del clasificador {contador} \\n {classifier}\")\n",
        "  clf = classifier[2]\n",
        "  y_pred = clf.predict(X_test)\n",
        "  #print(f\"\\n Accuracy: \\n {metrics.accuracy_score(y_test, y_pred)*100}%\")\n",
        "  precision.append(metrics.accuracy_score(y_test, y_pred)*100)\n",
        "  #print(f\"\\n Matriz de confusion: \\n {confusion_matrix(y_test,y_pred)}\")\n",
        "  #print(f\"\\n Reporte: \\n {classification_report(y_test,y_pred)}\")\n",
        "\n",
        "  contador=contador+1\n",
        "\n"
      ],
      "execution_count": 0,
      "outputs": []
    },
    {
      "cell_type": "code",
      "metadata": {
        "id": "4Q_7AL6BIx_v",
        "colab_type": "code",
        "colab": {
          "base_uri": "https://localhost:8080/",
          "height": 102
        },
        "outputId": "43c147ae-54b6-4316-998f-4cb671f17fc8"
      },
      "source": [
        "# cogemos el clasificador conmayor precision\n",
        "index = precision.index(max(precision))\n",
        "\n",
        "# el mejor clasificador \n",
        "clf = classifiers[0]\n",
        "clf=clf[2]\n",
        "print(clf)\n",
        "print(precision[index])"
      ],
      "execution_count": 10,
      "outputs": [
        {
          "output_type": "stream",
          "text": [
            "SVC(C=0.001, cache_size=200, class_weight=None, coef0=0.0,\n",
            "    decision_function_shape='ovr', degree=3, gamma=0.001, kernel='linear',\n",
            "    max_iter=-1, probability=False, random_state=None, shrinking=True,\n",
            "    tol=0.001, verbose=False)\n",
            "97.80701754385966\n"
          ],
          "name": "stdout"
        }
      ]
    },
    {
      "cell_type": "code",
      "metadata": {
        "id": "CHKi8SnmIwuz",
        "colab_type": "code",
        "colab": {}
      },
      "source": [
        "# con cross validation para un clasificador simple\n",
        "from sklearn.model_selection import cross_val_score\n",
        "\n",
        "# si extraemos los valores de C y gamma del ejemplo de arriba\n",
        "C= 0.001\n",
        "gamma= 0.001\n",
        "\n",
        "clf_linear = SVC(kernel='linear', C=C, gamma=gamma)\n",
        "clf_poly = SVC(kernel='poly', C=C, gamma=gamma)\n",
        "clf_rbf = SVC(kernel='rbf', C=C, gamma=gamma)\n",
        "\n",
        "\n",
        "scoresLinear = cross_val_score(clf_linear, X, Y, cv=10)\n",
        "scoresPoly = cross_val_score(clf_poly, X, Y, cv=10)\n",
        "scoresRBF = cross_val_score(clf_rbf, X, Y, cv=10)\n",
        "\n"
      ],
      "execution_count": 0,
      "outputs": []
    },
    {
      "cell_type": "code",
      "metadata": {
        "id": "kk4zuAWIJCdA",
        "colab_type": "code",
        "outputId": "a69752e2-1eae-48c7-d0df-802e20a680d5",
        "colab": {
          "base_uri": "https://localhost:8080/",
          "height": 323
        }
      },
      "source": [
        "print(f\"\\nLos resultados del CV para un SVM con kernel lineal son: \\n {scoresLinear} \")\n",
        "print(\"\\nY una precision de: %0.2f (+/- %0.2f)\" % (scoresLinear.mean(), scoresLinear.std() * 2))\n",
        "\n",
        "print(f\"\\nLos resultados del CV para un SVM con kernel polinomial son: \\n {scoresPoly} \")\n",
        "print(\"\\nY una precision de: %0.2f (+/- %0.2f)\" % (scoresPoly.mean(), scoresPoly.std() * 2))\n",
        "\n",
        "print(f\"\\nLos resultados del CV para un SVM con kernel Radial Basis Function son: \\n {scoresRBF} \")\n",
        "print(\"\\nY una precision de: %0.2f (+/- %0.2f)\" % (scoresRBF.mean(), scoresRBF.std() * 2))\n"
      ],
      "execution_count": 12,
      "outputs": [
        {
          "output_type": "stream",
          "text": [
            "\n",
            "Los resultados del CV para un SVM con kernel lineal son: \n",
            " [0.9137931  0.9137931  0.94736842 0.94736842 1.         0.98245614\n",
            " 0.92982456 0.89285714 0.92857143 0.94642857] \n",
            "\n",
            "Y una precision de: 0.94 (+/- 0.06)\n",
            "\n",
            "Los resultados del CV para un SVM con kernel polinomial son: \n",
            " [0.98275862 0.9137931  0.9122807  0.92982456 0.96491228 0.98245614\n",
            " 0.94736842 0.94642857 0.96428571 0.96428571] \n",
            "\n",
            "Y una precision de: 0.95 (+/- 0.05)\n",
            "\n",
            "Los resultados del CV para un SVM con kernel Radial Basis Function son: \n",
            " [0.62068966 0.62068966 0.63157895 0.63157895 0.63157895 0.63157895\n",
            " 0.63157895 0.625      0.625      0.625     ] \n",
            "\n",
            "Y una precision de: 0.63 (+/- 0.01)\n"
          ],
          "name": "stdout"
        }
      ]
    },
    {
      "cell_type": "code",
      "metadata": {
        "id": "ZUKiZbceMpGo",
        "colab_type": "code",
        "colab": {}
      },
      "source": [
        "# con cross validation para un clasificador simple usando los parametros del grid search\n",
        "from sklearn.model_selection import cross_val_score\n",
        "\n",
        "# si extraemos los valores de C y gamma del ejemplo de arriba\n",
        "C_lin=  0.18873918221350977\n",
        "gamma_lin= 0.001\n",
        "C_poly= 0.001\n",
        "gamma_poly= 1.2689610031679222\n",
        "C_rbf= 5.298316906283707\n",
        "gamma_rbf= 0.02807216203941177\n",
        "\n",
        "\n",
        "clf_linear_GS = SVC(kernel='linear', C=C_lin, gamma=gamma_lin)\n",
        "clf_poly_GS = SVC(kernel='poly', C=C_poly, gamma=gamma_poly)\n",
        "clf_rbf_GS = SVC(kernel='rbf', C=C_rbf, gamma=gamma_rbf)\n",
        "\n",
        "\n",
        "scoresLinear_GS = cross_val_score(clf_linear_GS, X, Y, cv=10)\n",
        "scoresPoly_GS = cross_val_score(clf_poly_GS, X, Y, cv=10)\n",
        "scoresRBF_GS = cross_val_score(clf_rbf_GS, X, Y, cv=10)"
      ],
      "execution_count": 0,
      "outputs": []
    },
    {
      "cell_type": "code",
      "metadata": {
        "id": "R58S4PWVMspY",
        "colab_type": "code",
        "colab": {}
      },
      "source": [
        "print(f\"\\nLos resultados del CV para un SVM con kernel lineal son: \\n {scoresLinear_GS} \")\n",
        "print(\"\\nY una precision de: %0.2f (+/- %0.2f)\" % (scoresLinear_GS.mean(), scoresLinear_GS.std() * 2))\n",
        "\n",
        "print(f\"\\nLos resultados del CV para un SVM con kernel polinomial son: \\n {scoresPoly_GS} \")\n",
        "print(\"\\nY una precision de: %0.2f (+/- %0.2f)\" % (scoresPoly_GS.mean(), scoresPoly_GS.std() * 2))\n",
        "\n",
        "print(f\"\\nLos resultados del CV para un SVM con kernel Radial Basis Function son: \\n {scoresRBF_GS} \")\n",
        "print(\"\\nY una precision de: %0.2f (+/- %0.2f)\" % (scoresRBF_GS.mean(), scoresRBF_GS.std() * 2))"
      ],
      "execution_count": 0,
      "outputs": []
    },
    {
      "cell_type": "code",
      "metadata": {
        "id": "-EvKUWBLJSPy",
        "colab_type": "code",
        "colab": {}
      },
      "source": [
        "#contador = 1\n",
        "#precision = []\n",
        "#for classifier in classifiers:\n",
        "  #print(f\" \\nParametros del clasificador {contador} \\n {classifier}\")\n",
        "  #clf = classifier[2]\n",
        "  #y_pred = clf.predict(X_test)\n",
        "  #print(f\"\\n Accuracy: \\n {metrics.accuracy_score(y_test, y_pred)*100}%\")\n",
        "  #precision.append(metrics.accuracy_score(y_test, y_pred)*100)\n",
        "  #print(f\"\\n Matriz de confusion: \\n {confusion_matrix(y_test,y_pred)}\")\n",
        "  #print(f\"\\n Reporte: \\n {classification_report(y_test,y_pred)}\")\n",
        "  \n",
        "  # Cross Validation\n",
        "  #scores = cross_val_score(clf, X, Y, cv=5)\n",
        "  #print(\"Accuracy: %0.2f (+/- %0.2f)\" % (scores.mean(), scores.std() * 2))\n",
        "  #contador=contador+1"
      ],
      "execution_count": 0,
      "outputs": []
    },
    {
      "cell_type": "markdown",
      "metadata": {
        "id": "WQtVXIQyOAEP",
        "colab_type": "text"
      },
      "source": [
        "### Exercise 3. Feature selection with SVM\n",
        "Now, let's analyze two approaches for feature selection with SVMs:\n",
        "\n",
        "#### 1. L1-regularized SVM\n",
        "\n",
        "In this first case, you have to train a linear SVM regularized with a L1 or LASSO penalty. As you know, this constrain is able to provide sparsity over the weight vector; so, those input features associated to the zeros of the weight vector are not used during the classification process and we obtain an automatic feature selection. \n",
        "\n",
        "Note that, if we change the SVM formulation replacing the L2 regularization by a L1, the feature selection is obtained during the SVM training, so both stages (feature selection and classifier training) are completely linked and, therefore, the selection process is guided by the classifier. For this reason this kind of feature selection method is classified as an **embedded feature selector**. \n",
        "\n",
        "The only limitation of this approach, as other L1 based feature selection, relies in having to be applied over linear versions of the method, since the sparsity is forced over the vector weights ${\\bf w}$. \n",
        "\n",
        "#### 2. Recursive Feature Elimination (RFE)\n",
        "\n",
        "The Recursive Feature Elimination (RFE) method iteratively trains a set of SVM classifiers and, in each step, it eliminates a feature (or a subset of features) in such a way that the classification margin is reduced the least. \n",
        "\n",
        "This method is known as a **wrapper approach**, since it iteratively trains a SVM and evaluates its margin to decide which feature can be eliminated.\n",
        "\n",
        "However, unlike L1-SVM,  this method can be applied over the kernelized version of the SVM, providing a feature selection strategy for both linear and non-linear SVMs.\n",
        "\n",
        "**References**\n",
        "\n",
        "[1] Guyon, I., Weston, J., Barnhill, S., & Vapnik, V., “Gene selection for cancer classification using support vector machines”, Mach. Learn., 46(1-3), 389–422, 2002.\n",
        "\n"
      ]
    },
    {
      "cell_type": "markdown",
      "metadata": {
        "id": "_uE7XRoCt1Np",
        "colab_type": "text"
      },
      "source": [
        "### Exercise 3.1 L1-SVM\n",
        "\n",
        "Analyze the properties of the L1-SVM as feature selection approach. For this purpose, use the linear SVM implementation given by the method [LinearSVC](https://scikit-learn.org/stable/modules/generated/sklearn.svm.LinearSVC.html), which directly let's select the regularization type (L1 or L2) to be used.\n",
        "\n",
        "Unlike other feature selection methods, here we cannot obtain a ranking of variables. In this case, we have to sweep the value of the regularization parameter in order to get a higher (or lower) sparsity of the weight vector. According to this, train a linear L1-SVM for different values of the regularization parameter and, for each value of C, analyze the test accuracy, as well as the number of used features. \n",
        "\n",
        "Later, try to plot the accuracy vs. the number of features. Note that different values of C can provide the same number of features with different accuracies, so take care of this for this representation. In case you want to obtain the optimum working point, remember to compute a validation error to select the optimum value of C.\n",
        "\n",
        "Finally, don't forget to analyze the obtained results.\n",
        "\n"
      ]
    },
    {
      "cell_type": "markdown",
      "metadata": {
        "id": "MgyKSyVUqTyF",
        "colab_type": "text"
      },
      "source": [
        "### Solution"
      ]
    },
    {
      "cell_type": "code",
      "metadata": {
        "id": "BpjHqOeluE6I",
        "colab_type": "code",
        "colab": {
          "base_uri": "https://localhost:8080/",
          "height": 187
        },
        "outputId": "90d3cf15-6096-40c5-b7fb-21bfecf0ea4d"
      },
      "source": [
        "from sklearn.svm import LinearSVC\n",
        "from sklearn.metrics import accuracy_score, classification_report\n",
        "\n",
        "C_range = np.logspace(-3,3, num=30)\n",
        "\n",
        "precision = []\n",
        "modelos = []\n",
        "\n",
        "for C in C_range:\n",
        "  clf = LinearSVC(penalty='l1', loss='squared_hinge', dual=False,tol=1e-3,C=C)\n",
        "  clf.fit(X_train,y_train)\n",
        "  y2_LSVC_model = clf.predict(X_test)\n",
        "  modelos.append(clf)\n",
        "  precision.append(accuracy_score(y_test, y2_LSVC_model))\n",
        "  #print(\"LSVC Accuracy :\", accuracy_score(y_test, y2_LSVC_model))\n",
        "\n",
        "# cogemos el clasificador conmayor precision\n",
        "index = precision.index(max(precision))\n",
        "clas = modelos[index]\n",
        "print(clas)\n",
        "print(clas.coef_)\n",
        "print(precision[index])\n",
        "\n"
      ],
      "execution_count": 37,
      "outputs": [
        {
          "output_type": "stream",
          "text": [
            "LinearSVC(C=0.02807216203941177, class_weight=None, dual=False,\n",
            "          fit_intercept=True, intercept_scaling=1, loss='squared_hinge',\n",
            "          max_iter=1000, multi_class='ovr', penalty='l1', random_state=None,\n",
            "          tol=0.001, verbose=0)\n",
            "[[ 0.         -0.01905036  0.          0.          0.          0.\n",
            "   0.         -0.29461022  0.          0.         -0.1021694   0.\n",
            "   0.          0.          0.          0.          0.          0.\n",
            "   0.          0.         -0.50645909 -0.16559424 -0.0399667   0.\n",
            "  -0.01611437  0.         -0.05376307 -0.15647789 -0.06334831  0.        ]]\n",
            "0.9824561403508771\n"
          ],
          "name": "stdout"
        }
      ]
    },
    {
      "cell_type": "code",
      "metadata": {
        "id": "a39DujmwipzV",
        "colab_type": "code",
        "colab": {
          "base_uri": "https://localhost:8080/",
          "height": 1000
        },
        "outputId": "573b6eb8-6f03-47dc-b41b-fc9b8c8b926c"
      },
      "source": [
        "from sklearn import svm, datasets\n",
        "from sklearn.model_selection import GridSearchCV\n",
        "\n",
        "C_range = np.logspace(-3,3, num=30)\n",
        "\n",
        "parameters = {'C':C_range}\n",
        "\n",
        "svc = LinearSVC(penalty='l1', loss='squared_hinge', dual=False,tol=1e-3)\n",
        "\n",
        "clf = GridSearchCV(svc, parameters, cv=5)\n",
        "clf.fit(cancer.data, cancer.target)\n",
        "y2_pred = clf.predict(X_test)\n",
        "\n",
        "print(\"\\nprecision:\",accuracy_score(y_test, y2_pred))\n",
        "\n",
        "\n",
        "sorted(clf.cv_results_.keys())"
      ],
      "execution_count": 55,
      "outputs": [
        {
          "output_type": "stream",
          "text": [
            "/usr/local/lib/python3.6/dist-packages/sklearn/svm/base.py:929: ConvergenceWarning: Liblinear failed to converge, increase the number of iterations.\n",
            "  \"the number of iterations.\", ConvergenceWarning)\n",
            "/usr/local/lib/python3.6/dist-packages/sklearn/svm/base.py:929: ConvergenceWarning: Liblinear failed to converge, increase the number of iterations.\n",
            "  \"the number of iterations.\", ConvergenceWarning)\n",
            "/usr/local/lib/python3.6/dist-packages/sklearn/svm/base.py:929: ConvergenceWarning: Liblinear failed to converge, increase the number of iterations.\n",
            "  \"the number of iterations.\", ConvergenceWarning)\n",
            "/usr/local/lib/python3.6/dist-packages/sklearn/svm/base.py:929: ConvergenceWarning: Liblinear failed to converge, increase the number of iterations.\n",
            "  \"the number of iterations.\", ConvergenceWarning)\n",
            "/usr/local/lib/python3.6/dist-packages/sklearn/svm/base.py:929: ConvergenceWarning: Liblinear failed to converge, increase the number of iterations.\n",
            "  \"the number of iterations.\", ConvergenceWarning)\n",
            "/usr/local/lib/python3.6/dist-packages/sklearn/svm/base.py:929: ConvergenceWarning: Liblinear failed to converge, increase the number of iterations.\n",
            "  \"the number of iterations.\", ConvergenceWarning)\n",
            "/usr/local/lib/python3.6/dist-packages/sklearn/svm/base.py:929: ConvergenceWarning: Liblinear failed to converge, increase the number of iterations.\n",
            "  \"the number of iterations.\", ConvergenceWarning)\n",
            "/usr/local/lib/python3.6/dist-packages/sklearn/svm/base.py:929: ConvergenceWarning: Liblinear failed to converge, increase the number of iterations.\n",
            "  \"the number of iterations.\", ConvergenceWarning)\n",
            "/usr/local/lib/python3.6/dist-packages/sklearn/svm/base.py:929: ConvergenceWarning: Liblinear failed to converge, increase the number of iterations.\n",
            "  \"the number of iterations.\", ConvergenceWarning)\n",
            "/usr/local/lib/python3.6/dist-packages/sklearn/svm/base.py:929: ConvergenceWarning: Liblinear failed to converge, increase the number of iterations.\n",
            "  \"the number of iterations.\", ConvergenceWarning)\n",
            "/usr/local/lib/python3.6/dist-packages/sklearn/svm/base.py:929: ConvergenceWarning: Liblinear failed to converge, increase the number of iterations.\n",
            "  \"the number of iterations.\", ConvergenceWarning)\n",
            "/usr/local/lib/python3.6/dist-packages/sklearn/svm/base.py:929: ConvergenceWarning: Liblinear failed to converge, increase the number of iterations.\n",
            "  \"the number of iterations.\", ConvergenceWarning)\n",
            "/usr/local/lib/python3.6/dist-packages/sklearn/svm/base.py:929: ConvergenceWarning: Liblinear failed to converge, increase the number of iterations.\n",
            "  \"the number of iterations.\", ConvergenceWarning)\n",
            "/usr/local/lib/python3.6/dist-packages/sklearn/svm/base.py:929: ConvergenceWarning: Liblinear failed to converge, increase the number of iterations.\n",
            "  \"the number of iterations.\", ConvergenceWarning)\n",
            "/usr/local/lib/python3.6/dist-packages/sklearn/svm/base.py:929: ConvergenceWarning: Liblinear failed to converge, increase the number of iterations.\n",
            "  \"the number of iterations.\", ConvergenceWarning)\n",
            "/usr/local/lib/python3.6/dist-packages/sklearn/svm/base.py:929: ConvergenceWarning: Liblinear failed to converge, increase the number of iterations.\n",
            "  \"the number of iterations.\", ConvergenceWarning)\n",
            "/usr/local/lib/python3.6/dist-packages/sklearn/svm/base.py:929: ConvergenceWarning: Liblinear failed to converge, increase the number of iterations.\n",
            "  \"the number of iterations.\", ConvergenceWarning)\n",
            "/usr/local/lib/python3.6/dist-packages/sklearn/svm/base.py:929: ConvergenceWarning: Liblinear failed to converge, increase the number of iterations.\n",
            "  \"the number of iterations.\", ConvergenceWarning)\n",
            "/usr/local/lib/python3.6/dist-packages/sklearn/svm/base.py:929: ConvergenceWarning: Liblinear failed to converge, increase the number of iterations.\n",
            "  \"the number of iterations.\", ConvergenceWarning)\n",
            "/usr/local/lib/python3.6/dist-packages/sklearn/svm/base.py:929: ConvergenceWarning: Liblinear failed to converge, increase the number of iterations.\n",
            "  \"the number of iterations.\", ConvergenceWarning)\n",
            "/usr/local/lib/python3.6/dist-packages/sklearn/svm/base.py:929: ConvergenceWarning: Liblinear failed to converge, increase the number of iterations.\n",
            "  \"the number of iterations.\", ConvergenceWarning)\n",
            "/usr/local/lib/python3.6/dist-packages/sklearn/svm/base.py:929: ConvergenceWarning: Liblinear failed to converge, increase the number of iterations.\n",
            "  \"the number of iterations.\", ConvergenceWarning)\n",
            "/usr/local/lib/python3.6/dist-packages/sklearn/svm/base.py:929: ConvergenceWarning: Liblinear failed to converge, increase the number of iterations.\n",
            "  \"the number of iterations.\", ConvergenceWarning)\n",
            "/usr/local/lib/python3.6/dist-packages/sklearn/svm/base.py:929: ConvergenceWarning: Liblinear failed to converge, increase the number of iterations.\n",
            "  \"the number of iterations.\", ConvergenceWarning)\n",
            "/usr/local/lib/python3.6/dist-packages/sklearn/svm/base.py:929: ConvergenceWarning: Liblinear failed to converge, increase the number of iterations.\n",
            "  \"the number of iterations.\", ConvergenceWarning)\n",
            "/usr/local/lib/python3.6/dist-packages/sklearn/svm/base.py:929: ConvergenceWarning: Liblinear failed to converge, increase the number of iterations.\n",
            "  \"the number of iterations.\", ConvergenceWarning)\n",
            "/usr/local/lib/python3.6/dist-packages/sklearn/svm/base.py:929: ConvergenceWarning: Liblinear failed to converge, increase the number of iterations.\n",
            "  \"the number of iterations.\", ConvergenceWarning)\n",
            "/usr/local/lib/python3.6/dist-packages/sklearn/svm/base.py:929: ConvergenceWarning: Liblinear failed to converge, increase the number of iterations.\n",
            "  \"the number of iterations.\", ConvergenceWarning)\n",
            "/usr/local/lib/python3.6/dist-packages/sklearn/svm/base.py:929: ConvergenceWarning: Liblinear failed to converge, increase the number of iterations.\n",
            "  \"the number of iterations.\", ConvergenceWarning)\n",
            "/usr/local/lib/python3.6/dist-packages/sklearn/svm/base.py:929: ConvergenceWarning: Liblinear failed to converge, increase the number of iterations.\n",
            "  \"the number of iterations.\", ConvergenceWarning)\n",
            "/usr/local/lib/python3.6/dist-packages/sklearn/svm/base.py:929: ConvergenceWarning: Liblinear failed to converge, increase the number of iterations.\n",
            "  \"the number of iterations.\", ConvergenceWarning)\n",
            "/usr/local/lib/python3.6/dist-packages/sklearn/svm/base.py:929: ConvergenceWarning: Liblinear failed to converge, increase the number of iterations.\n",
            "  \"the number of iterations.\", ConvergenceWarning)\n",
            "/usr/local/lib/python3.6/dist-packages/sklearn/svm/base.py:929: ConvergenceWarning: Liblinear failed to converge, increase the number of iterations.\n",
            "  \"the number of iterations.\", ConvergenceWarning)\n",
            "/usr/local/lib/python3.6/dist-packages/sklearn/svm/base.py:929: ConvergenceWarning: Liblinear failed to converge, increase the number of iterations.\n",
            "  \"the number of iterations.\", ConvergenceWarning)\n",
            "/usr/local/lib/python3.6/dist-packages/sklearn/svm/base.py:929: ConvergenceWarning: Liblinear failed to converge, increase the number of iterations.\n",
            "  \"the number of iterations.\", ConvergenceWarning)\n",
            "/usr/local/lib/python3.6/dist-packages/sklearn/svm/base.py:929: ConvergenceWarning: Liblinear failed to converge, increase the number of iterations.\n",
            "  \"the number of iterations.\", ConvergenceWarning)\n",
            "/usr/local/lib/python3.6/dist-packages/sklearn/svm/base.py:929: ConvergenceWarning: Liblinear failed to converge, increase the number of iterations.\n",
            "  \"the number of iterations.\", ConvergenceWarning)\n",
            "/usr/local/lib/python3.6/dist-packages/sklearn/svm/base.py:929: ConvergenceWarning: Liblinear failed to converge, increase the number of iterations.\n",
            "  \"the number of iterations.\", ConvergenceWarning)\n",
            "/usr/local/lib/python3.6/dist-packages/sklearn/svm/base.py:929: ConvergenceWarning: Liblinear failed to converge, increase the number of iterations.\n",
            "  \"the number of iterations.\", ConvergenceWarning)\n",
            "/usr/local/lib/python3.6/dist-packages/sklearn/svm/base.py:929: ConvergenceWarning: Liblinear failed to converge, increase the number of iterations.\n",
            "  \"the number of iterations.\", ConvergenceWarning)\n",
            "/usr/local/lib/python3.6/dist-packages/sklearn/svm/base.py:929: ConvergenceWarning: Liblinear failed to converge, increase the number of iterations.\n",
            "  \"the number of iterations.\", ConvergenceWarning)\n",
            "/usr/local/lib/python3.6/dist-packages/sklearn/svm/base.py:929: ConvergenceWarning: Liblinear failed to converge, increase the number of iterations.\n",
            "  \"the number of iterations.\", ConvergenceWarning)\n",
            "/usr/local/lib/python3.6/dist-packages/sklearn/svm/base.py:929: ConvergenceWarning: Liblinear failed to converge, increase the number of iterations.\n",
            "  \"the number of iterations.\", ConvergenceWarning)\n",
            "/usr/local/lib/python3.6/dist-packages/sklearn/svm/base.py:929: ConvergenceWarning: Liblinear failed to converge, increase the number of iterations.\n",
            "  \"the number of iterations.\", ConvergenceWarning)\n",
            "/usr/local/lib/python3.6/dist-packages/sklearn/svm/base.py:929: ConvergenceWarning: Liblinear failed to converge, increase the number of iterations.\n",
            "  \"the number of iterations.\", ConvergenceWarning)\n",
            "/usr/local/lib/python3.6/dist-packages/sklearn/svm/base.py:929: ConvergenceWarning: Liblinear failed to converge, increase the number of iterations.\n",
            "  \"the number of iterations.\", ConvergenceWarning)\n",
            "/usr/local/lib/python3.6/dist-packages/sklearn/svm/base.py:929: ConvergenceWarning: Liblinear failed to converge, increase the number of iterations.\n",
            "  \"the number of iterations.\", ConvergenceWarning)\n",
            "/usr/local/lib/python3.6/dist-packages/sklearn/svm/base.py:929: ConvergenceWarning: Liblinear failed to converge, increase the number of iterations.\n",
            "  \"the number of iterations.\", ConvergenceWarning)\n",
            "/usr/local/lib/python3.6/dist-packages/sklearn/svm/base.py:929: ConvergenceWarning: Liblinear failed to converge, increase the number of iterations.\n",
            "  \"the number of iterations.\", ConvergenceWarning)\n",
            "/usr/local/lib/python3.6/dist-packages/sklearn/svm/base.py:929: ConvergenceWarning: Liblinear failed to converge, increase the number of iterations.\n",
            "  \"the number of iterations.\", ConvergenceWarning)\n",
            "/usr/local/lib/python3.6/dist-packages/sklearn/svm/base.py:929: ConvergenceWarning: Liblinear failed to converge, increase the number of iterations.\n",
            "  \"the number of iterations.\", ConvergenceWarning)\n",
            "/usr/local/lib/python3.6/dist-packages/sklearn/svm/base.py:929: ConvergenceWarning: Liblinear failed to converge, increase the number of iterations.\n",
            "  \"the number of iterations.\", ConvergenceWarning)\n",
            "/usr/local/lib/python3.6/dist-packages/sklearn/svm/base.py:929: ConvergenceWarning: Liblinear failed to converge, increase the number of iterations.\n",
            "  \"the number of iterations.\", ConvergenceWarning)\n",
            "/usr/local/lib/python3.6/dist-packages/sklearn/svm/base.py:929: ConvergenceWarning: Liblinear failed to converge, increase the number of iterations.\n",
            "  \"the number of iterations.\", ConvergenceWarning)\n",
            "/usr/local/lib/python3.6/dist-packages/sklearn/svm/base.py:929: ConvergenceWarning: Liblinear failed to converge, increase the number of iterations.\n",
            "  \"the number of iterations.\", ConvergenceWarning)\n",
            "/usr/local/lib/python3.6/dist-packages/sklearn/svm/base.py:929: ConvergenceWarning: Liblinear failed to converge, increase the number of iterations.\n",
            "  \"the number of iterations.\", ConvergenceWarning)\n",
            "/usr/local/lib/python3.6/dist-packages/sklearn/svm/base.py:929: ConvergenceWarning: Liblinear failed to converge, increase the number of iterations.\n",
            "  \"the number of iterations.\", ConvergenceWarning)\n",
            "/usr/local/lib/python3.6/dist-packages/sklearn/svm/base.py:929: ConvergenceWarning: Liblinear failed to converge, increase the number of iterations.\n",
            "  \"the number of iterations.\", ConvergenceWarning)\n",
            "/usr/local/lib/python3.6/dist-packages/sklearn/svm/base.py:929: ConvergenceWarning: Liblinear failed to converge, increase the number of iterations.\n",
            "  \"the number of iterations.\", ConvergenceWarning)\n",
            "/usr/local/lib/python3.6/dist-packages/sklearn/svm/base.py:929: ConvergenceWarning: Liblinear failed to converge, increase the number of iterations.\n",
            "  \"the number of iterations.\", ConvergenceWarning)\n",
            "/usr/local/lib/python3.6/dist-packages/sklearn/svm/base.py:929: ConvergenceWarning: Liblinear failed to converge, increase the number of iterations.\n",
            "  \"the number of iterations.\", ConvergenceWarning)\n",
            "/usr/local/lib/python3.6/dist-packages/sklearn/svm/base.py:929: ConvergenceWarning: Liblinear failed to converge, increase the number of iterations.\n",
            "  \"the number of iterations.\", ConvergenceWarning)\n",
            "/usr/local/lib/python3.6/dist-packages/sklearn/svm/base.py:929: ConvergenceWarning: Liblinear failed to converge, increase the number of iterations.\n",
            "  \"the number of iterations.\", ConvergenceWarning)\n",
            "/usr/local/lib/python3.6/dist-packages/sklearn/svm/base.py:929: ConvergenceWarning: Liblinear failed to converge, increase the number of iterations.\n",
            "  \"the number of iterations.\", ConvergenceWarning)\n",
            "/usr/local/lib/python3.6/dist-packages/sklearn/svm/base.py:929: ConvergenceWarning: Liblinear failed to converge, increase the number of iterations.\n",
            "  \"the number of iterations.\", ConvergenceWarning)\n",
            "/usr/local/lib/python3.6/dist-packages/sklearn/svm/base.py:929: ConvergenceWarning: Liblinear failed to converge, increase the number of iterations.\n",
            "  \"the number of iterations.\", ConvergenceWarning)\n",
            "/usr/local/lib/python3.6/dist-packages/sklearn/svm/base.py:929: ConvergenceWarning: Liblinear failed to converge, increase the number of iterations.\n",
            "  \"the number of iterations.\", ConvergenceWarning)\n",
            "/usr/local/lib/python3.6/dist-packages/sklearn/svm/base.py:929: ConvergenceWarning: Liblinear failed to converge, increase the number of iterations.\n",
            "  \"the number of iterations.\", ConvergenceWarning)\n",
            "/usr/local/lib/python3.6/dist-packages/sklearn/svm/base.py:929: ConvergenceWarning: Liblinear failed to converge, increase the number of iterations.\n",
            "  \"the number of iterations.\", ConvergenceWarning)\n",
            "/usr/local/lib/python3.6/dist-packages/sklearn/svm/base.py:929: ConvergenceWarning: Liblinear failed to converge, increase the number of iterations.\n",
            "  \"the number of iterations.\", ConvergenceWarning)\n",
            "/usr/local/lib/python3.6/dist-packages/sklearn/svm/base.py:929: ConvergenceWarning: Liblinear failed to converge, increase the number of iterations.\n",
            "  \"the number of iterations.\", ConvergenceWarning)\n",
            "/usr/local/lib/python3.6/dist-packages/sklearn/svm/base.py:929: ConvergenceWarning: Liblinear failed to converge, increase the number of iterations.\n",
            "  \"the number of iterations.\", ConvergenceWarning)\n",
            "/usr/local/lib/python3.6/dist-packages/sklearn/svm/base.py:929: ConvergenceWarning: Liblinear failed to converge, increase the number of iterations.\n",
            "  \"the number of iterations.\", ConvergenceWarning)\n",
            "/usr/local/lib/python3.6/dist-packages/sklearn/svm/base.py:929: ConvergenceWarning: Liblinear failed to converge, increase the number of iterations.\n",
            "  \"the number of iterations.\", ConvergenceWarning)\n",
            "/usr/local/lib/python3.6/dist-packages/sklearn/svm/base.py:929: ConvergenceWarning: Liblinear failed to converge, increase the number of iterations.\n",
            "  \"the number of iterations.\", ConvergenceWarning)\n",
            "/usr/local/lib/python3.6/dist-packages/sklearn/svm/base.py:929: ConvergenceWarning: Liblinear failed to converge, increase the number of iterations.\n",
            "  \"the number of iterations.\", ConvergenceWarning)\n"
          ],
          "name": "stderr"
        },
        {
          "output_type": "stream",
          "text": [
            "\n",
            "precision: 0.9429824561403509\n"
          ],
          "name": "stdout"
        },
        {
          "output_type": "stream",
          "text": [
            "/usr/local/lib/python3.6/dist-packages/sklearn/svm/base.py:929: ConvergenceWarning: Liblinear failed to converge, increase the number of iterations.\n",
            "  \"the number of iterations.\", ConvergenceWarning)\n"
          ],
          "name": "stderr"
        },
        {
          "output_type": "execute_result",
          "data": {
            "text/plain": [
              "['mean_fit_time',\n",
              " 'mean_score_time',\n",
              " 'mean_test_score',\n",
              " 'param_C',\n",
              " 'params',\n",
              " 'rank_test_score',\n",
              " 'split0_test_score',\n",
              " 'split1_test_score',\n",
              " 'split2_test_score',\n",
              " 'split3_test_score',\n",
              " 'split4_test_score',\n",
              " 'std_fit_time',\n",
              " 'std_score_time',\n",
              " 'std_test_score']"
            ]
          },
          "metadata": {
            "tags": []
          },
          "execution_count": 55
        }
      ]
    },
    {
      "cell_type": "markdown",
      "metadata": {
        "id": "YDWzOfnquFfV",
        "colab_type": "text"
      },
      "source": [
        "### Exercise 3.2 Recursive Feature Elimination (RFE)\n",
        "\n",
        "To understand the working principles of the RFE method, let's present its pseudocode:\n",
        "* Start with all the variables selected. Let's define $S=\\left\\lbrace 1, \\ldots, D\\right\\rbrace $ the set of indexes with the selected features (we start with all of them).\n",
        "\n",
        "* For $d = 1, \\ldots, D$\n",
        "  * Train a SVM with using the features in $S$\n",
        "  * Compute $ \\displaystyle \\Vert {\\bf w} \\Vert_2^2$ with the training data and using the features in $S$. That is, if ${\\bf x}_S$ is the data ${\\bf x}$, but limited to the features in $S$, we have to compute:\n",
        "$$  \\Vert {\\bf w}_S \\Vert_2^2 = \\sum_{i=1}^N  \\sum_{j=1}^N \\alpha^{(i)} \\alpha^{(j)} K({\\bf x}^{(i)}_S,{\\bf x}^{(j)}_S)$$ \n",
        "\n",
        "  * For each variable $d' \\in S$, built ${\\bf x}_{S-d'}= {\\bf x}_S \\setminus x_{d'}$ and compute $ \\displaystyle \\Vert {\\bf w} \\Vert_2^2$ with the data in ${\\bf x}_{S-d'}$\n",
        "$$  \\Vert {\\bf w}_{S-d'} \\Vert_2^2 = \\sum_{l=1}^L  \\sum_{l'=1}^L \\alpha^{(l)} \\alpha^{(l')} K({\\bf x}^{(l)}_{S-d'},{\\bf x}^{(l')}_{S-d'})$$  \n",
        "  * Remove the feature $d^*$, where \n",
        "  $$d^{*} = \\underset{d'}{\\operatorname{argmin}} \\left\\lbrace \\Vert {\\bf w}_S \\Vert_2^2 -\\Vert {\\bf w}_{S-d'} \\Vert_2^2 \\right\\rbrace $$\n",
        "  * Define $S = S \\setminus d^*$\n",
        "  * Stop when any criteria is reached (a given number of features or a degradation in the SVM performance)\n",
        "\n",
        "<br>\n",
        "\n",
        "Starting from this pseudocode, implement the RFE method for a kernelized SVM. Then,  analyze the curve test accuracy vs. number of selected features when a linear kernel and a RBF kernel are used (you can use the default values of $C$ and $\\gamma$ ). Finally, don't forget to analyze the obtained results. \n",
        "\n",
        "\n",
        "Note: Scikit-Learn provides a function with a full implementation of the RFE method and extend this implementation for any classifier. In fact, this function, [RFE( )](http://scikit-learn.org/stable/modules/generated/sklearn.feature_selection.RFE.html), let user select the classifier to consider, the number of selected features (parameter n\\_features\\_to\\_select) and the number of features removed in each step (parameter step).  As result, in parameter .ranking returns the ranking position of the each feature (i.e., .ranking\\_[i] corresponds to the ranking position of the i-th feature). However, this implementation is only thought for linear methods (it is quite similar to the pruning scheme for ridge regression used in the first HW). Here, I want you to work with the original version of this method [1] which is specifically proposed for no-linear SMVs; so, you have to implement the given method. Anyway, in case you have time, you can try to compare the proposed RFE method with that of Scikit-Learn."
      ]
    },
    {
      "cell_type": "markdown",
      "metadata": {
        "id": "Cx1YFJPwqVnP",
        "colab_type": "text"
      },
      "source": [
        "### Solution"
      ]
    },
    {
      "cell_type": "code",
      "metadata": {
        "id": "gWkqy7wDzigZ",
        "colab_type": "code",
        "colab": {}
      },
      "source": [
        ""
      ],
      "execution_count": 0,
      "outputs": []
    }
  ]
}