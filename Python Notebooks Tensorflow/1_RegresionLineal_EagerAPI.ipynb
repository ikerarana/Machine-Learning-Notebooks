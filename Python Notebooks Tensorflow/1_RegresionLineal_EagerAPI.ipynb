{
  "nbformat": 4,
  "nbformat_minor": 0,
  "metadata": {
    "colab": {
      "name": "1_RegresionLineal_EagerAPI.ipynb",
      "version": "0.3.2",
      "provenance": [],
      "collapsed_sections": [],
      "include_colab_link": true
    },
    "kernelspec": {
      "name": "python3",
      "display_name": "Python 3"
    }
  },
  "cells": [
    {
      "cell_type": "markdown",
      "metadata": {
        "id": "view-in-github",
        "colab_type": "text"
      },
      "source": [
        "<a href=\"https://colab.research.google.com/github/ikerarana/Machine-Learning-Notebooks/blob/master/1_RegresionLineal_EagerAPI.ipynb\" target=\"_parent\"><img src=\"https://colab.research.google.com/assets/colab-badge.svg\" alt=\"Open In Colab\"/></a>"
      ]
    },
    {
      "cell_type": "markdown",
      "metadata": {
        "id": "SfZSauCB-NNA",
        "colab_type": "text"
      },
      "source": [
        "**1- Importamos las librerias que vamos a usar en el proyecto**"
      ]
    },
    {
      "cell_type": "code",
      "metadata": {
        "id": "p4nN4MgZ-B7A",
        "colab_type": "code",
        "colab": {}
      },
      "source": [
        "from __future__ import absolute_import, division, print_function\n",
        "\n",
        "import matplotlib.pyplot as plt\n",
        "import numpy as np\n",
        "import tensorflow as tf\n",
        "from sklearn import datasets\n",
        "from sklearn import preprocessing"
      ],
      "execution_count": 0,
      "outputs": []
    },
    {
      "cell_type": "markdown",
      "metadata": {
        "id": "udhBC6Zp-f41",
        "colab_type": "text"
      },
      "source": [
        "**2- Indicamos que vamos a trabajar en modo EAGER**\n",
        "\n",
        "\n",
        "EAGER, es el modo de ejecutar las operaciones secuencialmente, como en cualquier otro entorno de programacion, es decir, sin grafos.\n"
      ]
    },
    {
      "cell_type": "code",
      "metadata": {
        "id": "5iGtuan4-Wfl",
        "colab_type": "code",
        "outputId": "682ee4b6-7fa6-49a7-8406-bc03b6cecd0d",
        "colab": {
          "base_uri": "https://localhost:8080/",
          "height": 35
        }
      },
      "source": [
        "tf.enable_eager_execution()\n",
        "tfe = tf.contrib.eager\n",
        "print(\"Modo Eager API seleccionado con exito\")"
      ],
      "execution_count": 0,
      "outputs": [
        {
          "output_type": "stream",
          "text": [
            "Modo Eager API seleccionado con exito\n"
          ],
          "name": "stdout"
        }
      ]
    },
    {
      "cell_type": "markdown",
      "metadata": {
        "id": "Gp8q6H6h_jJs",
        "colab_type": "text"
      },
      "source": [
        "**3- Datos del modelo**\n",
        "\n",
        "Usamos los datos del modelo de Boston Dataset que trae la libreria Scikit-Learn. En estos datos, se presentan las diferentes variables que afectan en el precio de la vivienda de las casas de Bostos, por ejemplo:\n",
        "\n",
        "\n",
        "*   Distancia a la parada de metro mas cercana\n",
        "*   Habitaciones por vivienda\n",
        "*   Ratio de criminalidad del barrio\n",
        "*   ...\n",
        "\n",
        "En este caso haremos un modelo bidimensional, por lo que cogeremos solo 2 variables: El numero de habitaciones por vivienda, y el precio final de estas\n",
        "\n"
      ]
    },
    {
      "cell_type": "code",
      "metadata": {
        "id": "gZ1tk-Cr_H5b",
        "colab_type": "code",
        "colab": {}
      },
      "source": [
        "# datos del dataset\n",
        "boston = datasets.load_boston()\n",
        "\n",
        "# recogemos la variable de la columna 5, numero medio de habitaciones por vivienda\n",
        "X = boston.data[:,5]\n",
        "\n",
        "# recogemos la variable a predecir\n",
        "Y= boston.target\n",
        "\n",
        "# las convertimos a array de numpy\n",
        "entrenamiento_X = np.asarray(X)\n",
        "entrenamiento_Y = np.asarray(Y)\n",
        "\n",
        "# escalamos las variables\n",
        "entrenamiento_X = preprocessing.scale(entrenamiento_X)\n",
        "entrenamiento_Y = preprocessing.scale(entrenamiento_Y)\n",
        "\n",
        "# sacamos el numero de muestras de la variable X\n",
        "numMuestras = len(entrenamiento_X)\n"
      ],
      "execution_count": 0,
      "outputs": []
    },
    {
      "cell_type": "markdown",
      "metadata": {
        "id": "ls4uOEBY5g_j",
        "colab_type": "text"
      },
      "source": [
        "**4- Creamos los parametros constantes del modelo**\n",
        "\n",
        "El ratio de aprendizaje se corresponde con el tamaño de los pasos que dara el descenso del gradiente en cada iteracion."
      ]
    },
    {
      "cell_type": "code",
      "metadata": {
        "id": "xVFer_fv5cwC",
        "colab_type": "code",
        "colab": {}
      },
      "source": [
        "# Parametros\n",
        "ratioAprendizaje = 0.01\n",
        "muestrasParaPintar = 100\n",
        "iteraciones = 1000"
      ],
      "execution_count": 0,
      "outputs": []
    },
    {
      "cell_type": "markdown",
      "metadata": {
        "id": "oUSXv5BLBGE4",
        "colab_type": "text"
      },
      "source": [
        "**5- Ajuste del modelo**\n",
        "\n",
        "Para ajustar el modelo usaremos la ecuacion de la recta, dado que nuestro modelo es bidimensional:\n",
        "$$y=wx+b$$\n",
        "\n",
        "En caso de ser multidimensional, tendriamos que extrapolar esa ecuacion a n dimensiones:\n",
        "$$y= b+w_{1}x_{1}+w_{2}x_{2}+...+w_{n}x_{n}$$"
      ]
    },
    {
      "cell_type": "code",
      "metadata": {
        "id": "H68EkWLLA-V1",
        "colab_type": "code",
        "colab": {}
      },
      "source": [
        "# Inicializamos aleatoriamente las variables Weight y Bias, que hacen referencia a los parametros de la ecuacion de la recta\n",
        "W = tfe.Variable(np.random.randn())\n",
        "b = tfe.Variable(np.random.randn())\n",
        "\n",
        "# definimos la funcion regresion lineal\n",
        "def regresion_lineal(x):\n",
        "    return x * W + b\n",
        "\n"
      ],
      "execution_count": 0,
      "outputs": []
    },
    {
      "cell_type": "markdown",
      "metadata": {
        "id": "5pORhqWv6eM6",
        "colab_type": "text"
      },
      "source": [
        "**6- Definimos la funcion de coste que usaremos en el modelo, en este caso, usaremos el Error Cuadratico Medio (ECM)**\n",
        "\n",
        "En nuestro modelo, necesitamos una funcion de coste: $$J(\\theta)$$\n",
        "La intuicion del modelo, es minimizar la funcion de coste de la siguiente manera:\n",
        "$$\\min_{\\theta} J(\\theta)$$\n",
        "En este caso, la funcion que usaremos, sera la funcion ECM que se define de la siguiente forma:\n",
        "\n",
        "$$ECM=\\frac{1}{2n}\\sum_{i=1}^N( f_{\\theta} (x_i)- y_i)^2$$\n",
        "\n",
        "Donde la funcion es el valor que se ha predicho de la variable  \"y\"\n",
        "$$f_{\\theta} (x_i)=\\hat{y_{i}}$$\n",
        "\n",
        "\n",
        "Lo que hacemos con esta funcion es mirar la diferencia entre el valor que se ha predecido y el valor que tiene la variable de salida real. Este resultado se eleva al cuadrado para penalizar mas los errores mas grandes. Finalmente hacemos la media, sumandolos todos y dividiendo entre el numero de muestras\n",
        "\n",
        "Por lo tanto, lo que estamos buscando es minimizar la funcion de coste J, que se define como:\n",
        "\n",
        "$$\\min_{\\theta_{0}\\theta_{1}} \\frac{1}{2n}\\sum_{i=1}^N( f_{\\theta} (x_i)- y_i)^2 $$\n",
        "\n",
        "$$J(\\theta_{0}\\theta_{1})=\\frac{1}{2n}\\sum_{i=1}^N( f_{\\theta} (x_i)- y_i)^2$$\n",
        "\n",
        "$$\\min_{\\theta_{0}\\theta_{1}}J(\\theta_{0}\\theta_{1})$$"
      ]
    },
    {
      "cell_type": "code",
      "metadata": {
        "id": "RoJHe1MA81Ix",
        "colab_type": "code",
        "colab": {}
      },
      "source": [
        "# Error cuadratico medio\n",
        "def error_cuadratico_medio(model_fn, inputs, labels):\n",
        "    return tf.reduce_sum(tf.pow(model_fn(inputs) - labels, 2)) / (2 * numMuestras)"
      ],
      "execution_count": 0,
      "outputs": []
    },
    {
      "cell_type": "markdown",
      "metadata": {
        "id": "hsrY6FRq-lvg",
        "colab_type": "text"
      },
      "source": [
        "**7- Implementamos el Descenso del Gradiente**\n",
        "\n",
        "El descenso del gradiente, se define como la funcion:\n",
        "\n",
        "$$\\theta_{j} := \\theta_{j-1}-\\alpha\\frac{\\partial J(\\theta_{0}\\theta_{1})}{\\partial \\theta_{j}}$$\n",
        "\n",
        "Donde en funcion al valor de alpha (ratio de aprendizaje), vamos actualizando el valor de los parametros theta en cada iteracion. Lo que hacemos es calcular la derivada, le ponemos simbolo negativo, para que en vez de un ascenso sea un descenso. Lo multiplicamos por el valor que tiene alpha, para que el salto sea mas grande o mas pequeño, y finalmente se lo restamos al valor de theta. De forma que la nueva theta, va a ser, la antigua theta, menos el valor de la derivada. Convergiendo asi en un punto.\n"
      ]
    },
    {
      "cell_type": "code",
      "metadata": {
        "id": "zPX6Tr-oHD9f",
        "colab_type": "code",
        "colab": {}
      },
      "source": [
        "# optimizador\n",
        "optimizer = tf.train.GradientDescentOptimizer(learning_rate=ratioAprendizaje)\n",
        "\n",
        "# calculamos el gradiente en base a la funcion de coste\n",
        "grad = tfe.implicit_gradients(error_cuadratico_medio)\n",
        "\n"
      ],
      "execution_count": 0,
      "outputs": []
    },
    {
      "cell_type": "markdown",
      "metadata": {
        "id": "o0i9PYNVHxyO",
        "colab_type": "text"
      },
      "source": [
        "**8- Ajustamos la linea a los datos**"
      ]
    },
    {
      "cell_type": "code",
      "metadata": {
        "id": "eU-qeC_OH8ck",
        "colab_type": "code",
        "outputId": "b3f132dd-937f-4b60-f7d3-63dffbfc2f6f",
        "colab": {
          "base_uri": "https://localhost:8080/",
          "height": 555
        }
      },
      "source": [
        "# Coste inicial de la funcion de coste\n",
        "print(\"Coste inicial= {:.9f}\".format(\n",
        "    error_cuadratico_medio(regresion_lineal, entrenamiento_X, entrenamiento_Y)),\n",
        "    \"W=\", W.numpy(), \"b=\", b.numpy())\n",
        "\n",
        "# Iteramos para ajustar la linea\n",
        "for step in range(iteraciones):\n",
        "    \n",
        "    \n",
        "    optimizer.apply_gradients(grad(regresion_lineal, entrenamiento_X, entrenamiento_Y))\n",
        "\n",
        "    if (step + 1) % muestrasParaPintar == 0 or step == 0:\n",
        "        print(\"Iteracion:\", '%04d' % (step + 1), \"Valor de la funcion de coste=\",\n",
        "              \"{:.9f}\".format(error_cuadratico_medio(regresion_lineal, entrenamiento_X, entrenamiento_Y)),\n",
        "              \"W=\", W.numpy(), \"b=\", b.numpy())\n",
        "\n",
        "# Graphic display\n",
        "plt.plot(entrenamiento_X, entrenamiento_Y, 'ro', label='Original data')\n",
        "plt.plot(entrenamiento_X, np.array(W * entrenamiento_X + b), label='Fitted line')\n",
        "plt.legend()\n",
        "plt.show()"
      ],
      "execution_count": 0,
      "outputs": [
        {
          "output_type": "stream",
          "text": [
            "Initial cost= 0.957091868 W= 0.12386669 b= -1.0349418\n",
            "Iteracion: 0001 Valor de la funcion de coste= 0.943184674 W= 0.12958163 b= -1.0245924\n",
            "Iteracion: 0100 Valor de la funcion de coste= 0.351869524 W= 0.486175 b= -0.3788221\n",
            "Iteracion: 0200 Valor de la funcion de coste= 0.270782083 W= 0.6187916 b= -0.13866113\n",
            "Iteracion: 0300 Valor de la funcion de coste= 0.259918004 W= 0.6673334 b= -0.050754476\n",
            "Iteracion: 0400 Valor de la funcion de coste= 0.258462489 W= 0.68510133 b= -0.018577771\n",
            "Iteracion: 0500 Valor de la funcion de coste= 0.258267432 W= 0.69160503 b= -0.0068000676\n",
            "Iteracion: 0600 Valor de la funcion de coste= 0.258241326 W= 0.69398546 b= -0.0024890439\n",
            "Iteracion: 0700 Valor de la funcion de coste= 0.258237779 W= 0.6948567 b= -0.00091107056\n",
            "Iteracion: 0800 Valor de la funcion de coste= 0.258237332 W= 0.69517577 b= -0.0003334815\n",
            "Iteracion: 0900 Valor de la funcion de coste= 0.258237273 W= 0.6952926 b= -0.00012206397\n",
            "Iteracion: 1000 Valor de la funcion de coste= 0.258237243 W= 0.6953352 b= -4.4680455e-05\n"
          ],
          "name": "stdout"
        },
        {
          "output_type": "display_data",
          "data": {
            "image/png": "[encoded data removed]",
            "text/plain": [
              "<Figure size 576x396 with 1 Axes>"
            ]
          },
          "metadata": {
            "tags": []
          }
        }
      ]
    }
  ]
}